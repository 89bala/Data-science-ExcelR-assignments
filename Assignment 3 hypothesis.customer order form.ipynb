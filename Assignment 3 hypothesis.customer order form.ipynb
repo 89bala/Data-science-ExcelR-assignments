{
 "cells": [
  {
   "cell_type": "code",
   "execution_count": 1,
   "id": "99fc361a",
   "metadata": {
    "ExecuteTime": {
     "end_time": "2022-07-09T15:23:34.676809Z",
     "start_time": "2022-07-09T15:23:33.389119Z"
    }
   },
   "outputs": [],
   "source": [
    "import pandas as pd\n",
    "import numpy as np\n",
    "from scipy import stats"
   ]
  },
  {
   "cell_type": "markdown",
   "id": "e07a29cd",
   "metadata": {},
   "source": [
    "TeleCall uses 4 centers around the globe to process customer order forms. They audit a certain % of the customer order forms. Any error in order form renders it defective and has to be reworked before processing. The manager wants to check whether the defective % varies by centre. Please analyze the data at 5% significance level and help the manager draw appropriate inferences"
   ]
  },
  {
   "cell_type": "markdown",
   "id": "22d69762",
   "metadata": {},
   "source": [
    "### business problem"
   ]
  },
  {
   "cell_type": "markdown",
   "id": "21ae19ca",
   "metadata": {},
   "source": [
    "Does the defective % varies significantly by centre ?"
   ]
  },
  {
   "cell_type": "markdown",
   "id": "2f4e45a4",
   "metadata": {},
   "source": [
    "α == 0.05 (95% Confidence)\n",
    "\n",
    "Y == Discrete\n",
    "X == Discrete\n",
    "\n",
    "Since there are more than 2 variable we will perform Chi-Square test"
   ]
  },
  {
   "cell_type": "code",
   "execution_count": 2,
   "id": "46205566",
   "metadata": {
    "ExecuteTime": {
     "end_time": "2022-07-09T15:23:34.708044Z",
     "start_time": "2022-07-09T15:23:34.676809Z"
    }
   },
   "outputs": [],
   "source": [
    "data = pd.read_csv(\"Costomer+OrderForm.csv\")"
   ]
  },
  {
   "cell_type": "markdown",
   "id": "e3b83faa",
   "metadata": {},
   "source": [
    "H0 == The defective % does not varies by centre\n",
    "\n",
    "H1 == The defective % does varies by centre"
   ]
  },
  {
   "cell_type": "code",
   "execution_count": 3,
   "id": "047b0331",
   "metadata": {
    "ExecuteTime": {
     "end_time": "2022-07-09T15:23:34.745808Z",
     "start_time": "2022-07-09T15:23:34.708044Z"
    }
   },
   "outputs": [
    {
     "data": {
      "text/plain": [
       "(3.8589606858203545,\n",
       " 0.2771020991233144,\n",
       " 3,\n",
       " array([[271.75,  28.25],\n",
       "        [271.75,  28.25],\n",
       "        [271.75,  28.25],\n",
       "        [271.75,  28.25]]))"
      ]
     },
     "execution_count": 3,
     "metadata": {},
     "output_type": "execute_result"
    }
   ],
   "source": [
    "stats.chi2_contingency([data['Phillippines'].value_counts(), data['Indonesia'].value_counts(), data['Malta'].value_counts(), data['India'].value_counts()])"
   ]
  },
  {
   "cell_type": "markdown",
   "id": "dba051d4",
   "metadata": {},
   "source": [
    "### P value of Chi-Square test == 0.277 > α"
   ]
  },
  {
   "cell_type": "markdown",
   "id": "48287af6",
   "metadata": {},
   "source": [
    "## HO is accepted."
   ]
  },
  {
   "cell_type": "markdown",
   "id": "2fbc5553",
   "metadata": {},
   "source": [
    "## The defective % does not varies significantly by centres"
   ]
  },
  {
   "cell_type": "code",
   "execution_count": null,
   "id": "697c4f18",
   "metadata": {},
   "outputs": [],
   "source": []
  }
 ],
 "metadata": {
  "kernelspec": {
   "display_name": "Python 3 (ipykernel)",
   "language": "python",
   "name": "python3"
  },
  "language_info": {
   "codemirror_mode": {
    "name": "ipython",
    "version": 3
   },
   "file_extension": ".py",
   "mimetype": "text/x-python",
   "name": "python",
   "nbconvert_exporter": "python",
   "pygments_lexer": "ipython3",
   "version": "3.9.7"
  },
  "toc": {
   "base_numbering": 1,
   "nav_menu": {},
   "number_sections": true,
   "sideBar": true,
   "skip_h1_title": false,
   "title_cell": "Table of Contents",
   "title_sidebar": "Contents",
   "toc_cell": false,
   "toc_position": {},
   "toc_section_display": true,
   "toc_window_display": false
  }
 },
 "nbformat": 4,
 "nbformat_minor": 5
}
