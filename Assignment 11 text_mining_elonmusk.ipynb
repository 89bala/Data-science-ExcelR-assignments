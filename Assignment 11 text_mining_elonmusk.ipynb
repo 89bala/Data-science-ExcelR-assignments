{
 "cells": [
  {
   "cell_type": "code",
   "execution_count": 8,
   "id": "abdb4ef2",
   "metadata": {
    "ExecuteTime": {
     "end_time": "2022-07-09T16:40:38.004384Z",
     "start_time": "2022-07-09T16:40:32.784841Z"
    },
    "scrolled": true
   },
   "outputs": [
    {
     "name": "stdout",
     "output_type": "stream",
     "text": [
      "Requirement already satisfied: spacy in c:\\users\\89bal\\anaconda3.9\\lib\\site-packages (3.3.1)\n",
      "Requirement already satisfied: packaging>=20.0 in c:\\users\\89bal\\anaconda3.9\\lib\\site-packages (from spacy) (21.0)\n",
      "Requirement already satisfied: requests<3.0.0,>=2.13.0 in c:\\users\\89bal\\anaconda3.9\\lib\\site-packages (from spacy) (2.26.0)\n",
      "Requirement already satisfied: murmurhash<1.1.0,>=0.28.0 in c:\\users\\89bal\\anaconda3.9\\lib\\site-packages (from spacy) (1.0.7)\n",
      "Requirement already satisfied: pathy>=0.3.5 in c:\\users\\89bal\\anaconda3.9\\lib\\site-packages (from spacy) (0.6.2)\n",
      "Requirement already satisfied: wasabi<1.1.0,>=0.9.1 in c:\\users\\89bal\\anaconda3.9\\lib\\site-packages (from spacy) (0.9.1)\n",
      "Requirement already satisfied: catalogue<2.1.0,>=2.0.6 in c:\\users\\89bal\\anaconda3.9\\lib\\site-packages (from spacy) (2.0.7)\n",
      "Requirement already satisfied: cymem<2.1.0,>=2.0.2 in c:\\users\\89bal\\anaconda3.9\\lib\\site-packages (from spacy) (2.0.6)\n",
      "Requirement already satisfied: spacy-legacy<3.1.0,>=3.0.9 in c:\\users\\89bal\\anaconda3.9\\lib\\site-packages (from spacy) (3.0.9)\n",
      "Requirement already satisfied: jinja2 in c:\\users\\89bal\\anaconda3.9\\lib\\site-packages (from spacy) (2.11.3)\n",
      "Requirement already satisfied: numpy>=1.15.0 in c:\\users\\89bal\\anaconda3.9\\lib\\site-packages (from spacy) (1.20.3)\n",
      "Requirement already satisfied: setuptools in c:\\users\\89bal\\anaconda3.9\\lib\\site-packages (from spacy) (58.0.4)\n",
      "Requirement already satisfied: pydantic!=1.8,!=1.8.1,<1.9.0,>=1.7.4 in c:\\users\\89bal\\anaconda3.9\\lib\\site-packages (from spacy) (1.8.2)\n",
      "Requirement already satisfied: thinc<8.1.0,>=8.0.14 in c:\\users\\89bal\\anaconda3.9\\lib\\site-packages (from spacy) (8.0.17)\n",
      "Requirement already satisfied: tqdm<5.0.0,>=4.38.0 in c:\\users\\89bal\\anaconda3.9\\lib\\site-packages (from spacy) (4.62.3)\n",
      "Requirement already satisfied: spacy-loggers<2.0.0,>=1.0.0 in c:\\users\\89bal\\anaconda3.9\\lib\\site-packages (from spacy) (1.0.2)\n",
      "Requirement already satisfied: preshed<3.1.0,>=3.0.2 in c:\\users\\89bal\\anaconda3.9\\lib\\site-packages (from spacy) (3.0.6)\n",
      "Requirement already satisfied: blis<0.8.0,>=0.4.0 in c:\\users\\89bal\\anaconda3.9\\lib\\site-packages (from spacy) (0.7.8)\n",
      "Requirement already satisfied: langcodes<4.0.0,>=3.2.0 in c:\\users\\89bal\\anaconda3.9\\lib\\site-packages (from spacy) (3.3.0)\n",
      "Note: you may need to restart the kernel to use updated packages.Requirement already satisfied: srsly<3.0.0,>=2.4.3 in c:\\users\\89bal\\anaconda3.9\\lib\\site-packages (from spacy) (2.4.3)\n",
      "Requirement already satisfied: typer<0.5.0,>=0.3.0 in c:\\users\\89bal\\anaconda3.9\\lib\\site-packages (from spacy) (0.4.2)\n",
      "Requirement already satisfied: pyparsing>=2.0.2 in c:\\users\\89bal\\anaconda3.9\\lib\\site-packages (from packaging>=20.0->spacy) (3.0.4)\n",
      "Requirement already satisfied: smart-open<6.0.0,>=5.2.1 in c:\\users\\89bal\\anaconda3.9\\lib\\site-packages (from pathy>=0.3.5->spacy) (5.2.1)\n",
      "Requirement already satisfied: typing-extensions>=3.7.4.3 in c:\\users\\89bal\\anaconda3.9\\lib\\site-packages (from pydantic!=1.8,!=1.8.1,<1.9.0,>=1.7.4->spacy) (3.10.0.2)\n",
      "Requirement already satisfied: urllib3<1.27,>=1.21.1 in c:\\users\\89bal\\anaconda3.9\\lib\\site-packages (from requests<3.0.0,>=2.13.0->spacy) (1.26.7)\n",
      "Requirement already satisfied: certifi>=2017.4.17 in c:\\users\\89bal\\anaconda3.9\\lib\\site-packages (from requests<3.0.0,>=2.13.0->spacy) (2022.5.18.1)\n",
      "Requirement already satisfied: idna<4,>=2.5 in c:\\users\\89bal\\anaconda3.9\\lib\\site-packages (from requests<3.0.0,>=2.13.0->spacy) (3.2)\n",
      "Requirement already satisfied: charset-normalizer~=2.0.0 in c:\\users\\89bal\\anaconda3.9\\lib\\site-packages (from requests<3.0.0,>=2.13.0->spacy) (2.0.4)\n",
      "Requirement already satisfied: colorama in c:\\users\\89bal\\anaconda3.9\\lib\\site-packages (from tqdm<5.0.0,>=4.38.0->spacy) (0.4.4)\n",
      "Requirement already satisfied: click<9.0.0,>=7.1.1 in c:\\users\\89bal\\anaconda3.9\\lib\\site-packages (from typer<0.5.0,>=0.3.0->spacy) (8.0.3)\n",
      "Requirement already satisfied: MarkupSafe>=0.23 in c:\\users\\89bal\\anaconda3.9\\lib\\site-packages (from jinja2->spacy) (2.1.1)\n",
      "\n"
     ]
    }
   ],
   "source": [
    "pip install spacy\n"
   ]
  },
  {
   "cell_type": "code",
   "execution_count": 9,
   "id": "e08956c2",
   "metadata": {
    "ExecuteTime": {
     "end_time": "2022-07-09T16:41:22.987642Z",
     "start_time": "2022-07-09T16:40:38.010500Z"
    }
   },
   "outputs": [
    {
     "name": "stderr",
     "output_type": "stream",
     "text": [
      "[nltk_data] Downloading package punkt to\n",
      "[nltk_data]     C:\\Users\\89bal\\AppData\\Roaming\\nltk_data...\n",
      "[nltk_data]   Package punkt is already up-to-date!\n"
     ]
    }
   ],
   "source": [
    "import pandas as pd\n",
    "import seaborn as sns\n",
    "import numpy as np\n",
    "import matplotlib.pyplot as plt\n",
    "import string\n",
    "import nltk\n",
    "nltk.download('punkt')\n",
    "import spacy \n"
   ]
  },
  {
   "cell_type": "code",
   "execution_count": 10,
   "id": "4a4f8e77",
   "metadata": {
    "ExecuteTime": {
     "end_time": "2022-07-09T16:41:25.697342Z",
     "start_time": "2022-07-09T16:41:23.000340Z"
    }
   },
   "outputs": [
    {
     "ename": "UnicodeDecodeError",
     "evalue": "'utf-8' codec can't decode byte 0x92 in position 20: invalid start byte",
     "output_type": "error",
     "traceback": [
      "\u001b[1;31m---------------------------------------------------------------------------\u001b[0m",
      "\u001b[1;31mUnicodeDecodeError\u001b[0m                        Traceback (most recent call last)",
      "\u001b[1;32m~\\AppData\\Local\\Temp/ipykernel_12068/1403234626.py\u001b[0m in \u001b[0;36m<module>\u001b[1;34m\u001b[0m\n\u001b[1;32m----> 1\u001b[1;33m \u001b[0mtweets\u001b[0m \u001b[1;33m=\u001b[0m \u001b[0mpd\u001b[0m\u001b[1;33m.\u001b[0m\u001b[0mread_csv\u001b[0m\u001b[1;33m(\u001b[0m\u001b[1;34m\"Elon_musk.csv\"\u001b[0m\u001b[1;33m)\u001b[0m\u001b[1;33m\u001b[0m\u001b[1;33m\u001b[0m\u001b[0m\n\u001b[0m\u001b[0;32m      2\u001b[0m \u001b[0mtweets\u001b[0m\u001b[1;33m.\u001b[0m\u001b[0mhead\u001b[0m\u001b[1;33m(\u001b[0m\u001b[1;33m)\u001b[0m\u001b[1;33m\u001b[0m\u001b[1;33m\u001b[0m\u001b[0m\n",
      "\u001b[1;32m~\\anaconda3.9\\lib\\site-packages\\pandas\\util\\_decorators.py\u001b[0m in \u001b[0;36mwrapper\u001b[1;34m(*args, **kwargs)\u001b[0m\n\u001b[0;32m    309\u001b[0m                     \u001b[0mstacklevel\u001b[0m\u001b[1;33m=\u001b[0m\u001b[0mstacklevel\u001b[0m\u001b[1;33m,\u001b[0m\u001b[1;33m\u001b[0m\u001b[1;33m\u001b[0m\u001b[0m\n\u001b[0;32m    310\u001b[0m                 )\n\u001b[1;32m--> 311\u001b[1;33m             \u001b[1;32mreturn\u001b[0m \u001b[0mfunc\u001b[0m\u001b[1;33m(\u001b[0m\u001b[1;33m*\u001b[0m\u001b[0margs\u001b[0m\u001b[1;33m,\u001b[0m \u001b[1;33m**\u001b[0m\u001b[0mkwargs\u001b[0m\u001b[1;33m)\u001b[0m\u001b[1;33m\u001b[0m\u001b[1;33m\u001b[0m\u001b[0m\n\u001b[0m\u001b[0;32m    312\u001b[0m \u001b[1;33m\u001b[0m\u001b[0m\n\u001b[0;32m    313\u001b[0m         \u001b[1;32mreturn\u001b[0m \u001b[0mwrapper\u001b[0m\u001b[1;33m\u001b[0m\u001b[1;33m\u001b[0m\u001b[0m\n",
      "\u001b[1;32m~\\anaconda3.9\\lib\\site-packages\\pandas\\io\\parsers\\readers.py\u001b[0m in \u001b[0;36mread_csv\u001b[1;34m(filepath_or_buffer, sep, delimiter, header, names, index_col, usecols, squeeze, prefix, mangle_dupe_cols, dtype, engine, converters, true_values, false_values, skipinitialspace, skiprows, skipfooter, nrows, na_values, keep_default_na, na_filter, verbose, skip_blank_lines, parse_dates, infer_datetime_format, keep_date_col, date_parser, dayfirst, cache_dates, iterator, chunksize, compression, thousands, decimal, lineterminator, quotechar, quoting, doublequote, escapechar, comment, encoding, encoding_errors, dialect, error_bad_lines, warn_bad_lines, on_bad_lines, delim_whitespace, low_memory, memory_map, float_precision, storage_options)\u001b[0m\n\u001b[0;32m    584\u001b[0m     \u001b[0mkwds\u001b[0m\u001b[1;33m.\u001b[0m\u001b[0mupdate\u001b[0m\u001b[1;33m(\u001b[0m\u001b[0mkwds_defaults\u001b[0m\u001b[1;33m)\u001b[0m\u001b[1;33m\u001b[0m\u001b[1;33m\u001b[0m\u001b[0m\n\u001b[0;32m    585\u001b[0m \u001b[1;33m\u001b[0m\u001b[0m\n\u001b[1;32m--> 586\u001b[1;33m     \u001b[1;32mreturn\u001b[0m \u001b[0m_read\u001b[0m\u001b[1;33m(\u001b[0m\u001b[0mfilepath_or_buffer\u001b[0m\u001b[1;33m,\u001b[0m \u001b[0mkwds\u001b[0m\u001b[1;33m)\u001b[0m\u001b[1;33m\u001b[0m\u001b[1;33m\u001b[0m\u001b[0m\n\u001b[0m\u001b[0;32m    587\u001b[0m \u001b[1;33m\u001b[0m\u001b[0m\n\u001b[0;32m    588\u001b[0m \u001b[1;33m\u001b[0m\u001b[0m\n",
      "\u001b[1;32m~\\anaconda3.9\\lib\\site-packages\\pandas\\io\\parsers\\readers.py\u001b[0m in \u001b[0;36m_read\u001b[1;34m(filepath_or_buffer, kwds)\u001b[0m\n\u001b[0;32m    480\u001b[0m \u001b[1;33m\u001b[0m\u001b[0m\n\u001b[0;32m    481\u001b[0m     \u001b[1;31m# Create the parser.\u001b[0m\u001b[1;33m\u001b[0m\u001b[1;33m\u001b[0m\u001b[0m\n\u001b[1;32m--> 482\u001b[1;33m     \u001b[0mparser\u001b[0m \u001b[1;33m=\u001b[0m \u001b[0mTextFileReader\u001b[0m\u001b[1;33m(\u001b[0m\u001b[0mfilepath_or_buffer\u001b[0m\u001b[1;33m,\u001b[0m \u001b[1;33m**\u001b[0m\u001b[0mkwds\u001b[0m\u001b[1;33m)\u001b[0m\u001b[1;33m\u001b[0m\u001b[1;33m\u001b[0m\u001b[0m\n\u001b[0m\u001b[0;32m    483\u001b[0m \u001b[1;33m\u001b[0m\u001b[0m\n\u001b[0;32m    484\u001b[0m     \u001b[1;32mif\u001b[0m \u001b[0mchunksize\u001b[0m \u001b[1;32mor\u001b[0m \u001b[0miterator\u001b[0m\u001b[1;33m:\u001b[0m\u001b[1;33m\u001b[0m\u001b[1;33m\u001b[0m\u001b[0m\n",
      "\u001b[1;32m~\\anaconda3.9\\lib\\site-packages\\pandas\\io\\parsers\\readers.py\u001b[0m in \u001b[0;36m__init__\u001b[1;34m(self, f, engine, **kwds)\u001b[0m\n\u001b[0;32m    809\u001b[0m             \u001b[0mself\u001b[0m\u001b[1;33m.\u001b[0m\u001b[0moptions\u001b[0m\u001b[1;33m[\u001b[0m\u001b[1;34m\"has_index_names\"\u001b[0m\u001b[1;33m]\u001b[0m \u001b[1;33m=\u001b[0m \u001b[0mkwds\u001b[0m\u001b[1;33m[\u001b[0m\u001b[1;34m\"has_index_names\"\u001b[0m\u001b[1;33m]\u001b[0m\u001b[1;33m\u001b[0m\u001b[1;33m\u001b[0m\u001b[0m\n\u001b[0;32m    810\u001b[0m \u001b[1;33m\u001b[0m\u001b[0m\n\u001b[1;32m--> 811\u001b[1;33m         \u001b[0mself\u001b[0m\u001b[1;33m.\u001b[0m\u001b[0m_engine\u001b[0m \u001b[1;33m=\u001b[0m \u001b[0mself\u001b[0m\u001b[1;33m.\u001b[0m\u001b[0m_make_engine\u001b[0m\u001b[1;33m(\u001b[0m\u001b[0mself\u001b[0m\u001b[1;33m.\u001b[0m\u001b[0mengine\u001b[0m\u001b[1;33m)\u001b[0m\u001b[1;33m\u001b[0m\u001b[1;33m\u001b[0m\u001b[0m\n\u001b[0m\u001b[0;32m    812\u001b[0m \u001b[1;33m\u001b[0m\u001b[0m\n\u001b[0;32m    813\u001b[0m     \u001b[1;32mdef\u001b[0m \u001b[0mclose\u001b[0m\u001b[1;33m(\u001b[0m\u001b[0mself\u001b[0m\u001b[1;33m)\u001b[0m\u001b[1;33m:\u001b[0m\u001b[1;33m\u001b[0m\u001b[1;33m\u001b[0m\u001b[0m\n",
      "\u001b[1;32m~\\anaconda3.9\\lib\\site-packages\\pandas\\io\\parsers\\readers.py\u001b[0m in \u001b[0;36m_make_engine\u001b[1;34m(self, engine)\u001b[0m\n\u001b[0;32m   1038\u001b[0m             )\n\u001b[0;32m   1039\u001b[0m         \u001b[1;31m# error: Too many arguments for \"ParserBase\"\u001b[0m\u001b[1;33m\u001b[0m\u001b[1;33m\u001b[0m\u001b[0m\n\u001b[1;32m-> 1040\u001b[1;33m         \u001b[1;32mreturn\u001b[0m \u001b[0mmapping\u001b[0m\u001b[1;33m[\u001b[0m\u001b[0mengine\u001b[0m\u001b[1;33m]\u001b[0m\u001b[1;33m(\u001b[0m\u001b[0mself\u001b[0m\u001b[1;33m.\u001b[0m\u001b[0mf\u001b[0m\u001b[1;33m,\u001b[0m \u001b[1;33m**\u001b[0m\u001b[0mself\u001b[0m\u001b[1;33m.\u001b[0m\u001b[0moptions\u001b[0m\u001b[1;33m)\u001b[0m  \u001b[1;31m# type: ignore[call-arg]\u001b[0m\u001b[1;33m\u001b[0m\u001b[1;33m\u001b[0m\u001b[0m\n\u001b[0m\u001b[0;32m   1041\u001b[0m \u001b[1;33m\u001b[0m\u001b[0m\n\u001b[0;32m   1042\u001b[0m     \u001b[1;32mdef\u001b[0m \u001b[0m_failover_to_python\u001b[0m\u001b[1;33m(\u001b[0m\u001b[0mself\u001b[0m\u001b[1;33m)\u001b[0m\u001b[1;33m:\u001b[0m\u001b[1;33m\u001b[0m\u001b[1;33m\u001b[0m\u001b[0m\n",
      "\u001b[1;32m~\\anaconda3.9\\lib\\site-packages\\pandas\\io\\parsers\\c_parser_wrapper.py\u001b[0m in \u001b[0;36m__init__\u001b[1;34m(self, src, **kwds)\u001b[0m\n\u001b[0;32m     67\u001b[0m         \u001b[0mkwds\u001b[0m\u001b[1;33m[\u001b[0m\u001b[1;34m\"dtype\"\u001b[0m\u001b[1;33m]\u001b[0m \u001b[1;33m=\u001b[0m \u001b[0mensure_dtype_objs\u001b[0m\u001b[1;33m(\u001b[0m\u001b[0mkwds\u001b[0m\u001b[1;33m.\u001b[0m\u001b[0mget\u001b[0m\u001b[1;33m(\u001b[0m\u001b[1;34m\"dtype\"\u001b[0m\u001b[1;33m,\u001b[0m \u001b[1;32mNone\u001b[0m\u001b[1;33m)\u001b[0m\u001b[1;33m)\u001b[0m\u001b[1;33m\u001b[0m\u001b[1;33m\u001b[0m\u001b[0m\n\u001b[0;32m     68\u001b[0m         \u001b[1;32mtry\u001b[0m\u001b[1;33m:\u001b[0m\u001b[1;33m\u001b[0m\u001b[1;33m\u001b[0m\u001b[0m\n\u001b[1;32m---> 69\u001b[1;33m             \u001b[0mself\u001b[0m\u001b[1;33m.\u001b[0m\u001b[0m_reader\u001b[0m \u001b[1;33m=\u001b[0m \u001b[0mparsers\u001b[0m\u001b[1;33m.\u001b[0m\u001b[0mTextReader\u001b[0m\u001b[1;33m(\u001b[0m\u001b[0mself\u001b[0m\u001b[1;33m.\u001b[0m\u001b[0mhandles\u001b[0m\u001b[1;33m.\u001b[0m\u001b[0mhandle\u001b[0m\u001b[1;33m,\u001b[0m \u001b[1;33m**\u001b[0m\u001b[0mkwds\u001b[0m\u001b[1;33m)\u001b[0m\u001b[1;33m\u001b[0m\u001b[1;33m\u001b[0m\u001b[0m\n\u001b[0m\u001b[0;32m     70\u001b[0m         \u001b[1;32mexcept\u001b[0m \u001b[0mException\u001b[0m\u001b[1;33m:\u001b[0m\u001b[1;33m\u001b[0m\u001b[1;33m\u001b[0m\u001b[0m\n\u001b[0;32m     71\u001b[0m             \u001b[0mself\u001b[0m\u001b[1;33m.\u001b[0m\u001b[0mhandles\u001b[0m\u001b[1;33m.\u001b[0m\u001b[0mclose\u001b[0m\u001b[1;33m(\u001b[0m\u001b[1;33m)\u001b[0m\u001b[1;33m\u001b[0m\u001b[1;33m\u001b[0m\u001b[0m\n",
      "\u001b[1;32m~\\anaconda3.9\\lib\\site-packages\\pandas\\_libs\\parsers.pyx\u001b[0m in \u001b[0;36mpandas._libs.parsers.TextReader.__cinit__\u001b[1;34m()\u001b[0m\n",
      "\u001b[1;32m~\\anaconda3.9\\lib\\site-packages\\pandas\\_libs\\parsers.pyx\u001b[0m in \u001b[0;36mpandas._libs.parsers.TextReader._get_header\u001b[1;34m()\u001b[0m\n",
      "\u001b[1;32m~\\anaconda3.9\\lib\\site-packages\\pandas\\_libs\\parsers.pyx\u001b[0m in \u001b[0;36mpandas._libs.parsers.TextReader._tokenize_rows\u001b[1;34m()\u001b[0m\n",
      "\u001b[1;32m~\\anaconda3.9\\lib\\site-packages\\pandas\\_libs\\parsers.pyx\u001b[0m in \u001b[0;36mpandas._libs.parsers.raise_parser_error\u001b[1;34m()\u001b[0m\n",
      "\u001b[1;31mUnicodeDecodeError\u001b[0m: 'utf-8' codec can't decode byte 0x92 in position 20: invalid start byte"
     ]
    }
   ],
   "source": [
    "tweets = pd.read_csv(\"Elon_musk.csv\")\n",
    "tweets.head()"
   ]
  },
  {
   "cell_type": "code",
   "execution_count": null,
   "id": "d324b6a0",
   "metadata": {
    "ExecuteTime": {
     "end_time": "2022-07-09T16:41:25.709911Z",
     "start_time": "2022-07-09T16:41:25.709911Z"
    }
   },
   "outputs": [],
   "source": [
    "tweets.shape"
   ]
  },
  {
   "cell_type": "code",
   "execution_count": null,
   "id": "cac5cd4f",
   "metadata": {
    "ExecuteTime": {
     "end_time": "2022-07-09T16:41:25.712903Z",
     "start_time": "2022-07-09T16:41:25.712903Z"
    }
   },
   "outputs": [],
   "source": [
    "tweets = tweets.drop(labels='Unnamed: 0',axis=1)\n",
    "tweets"
   ]
  },
  {
   "cell_type": "code",
   "execution_count": null,
   "id": "92130fa9",
   "metadata": {
    "ExecuteTime": {
     "end_time": "2022-07-09T16:41:25.715772Z",
     "start_time": "2022-07-09T16:41:25.715772Z"
    }
   },
   "outputs": [],
   "source": [
    "tweets = [Text.strip() for Text in tweets.Text]\n",
    "tweets = [Text for Text in tweets if Text]"
   ]
  },
  {
   "cell_type": "code",
   "execution_count": null,
   "id": "2ae412c0",
   "metadata": {
    "ExecuteTime": {
     "end_time": "2022-07-09T16:41:25.719009Z",
     "start_time": "2022-07-09T16:41:25.719009Z"
    }
   },
   "outputs": [],
   "source": [
    "tweets[:7]"
   ]
  },
  {
   "cell_type": "code",
   "execution_count": null,
   "id": "0f7b15dc",
   "metadata": {
    "ExecuteTime": {
     "end_time": "2022-07-09T16:41:25.726136Z",
     "start_time": "2022-07-09T16:41:25.726136Z"
    }
   },
   "outputs": [],
   "source": [
    "tweets_text = \" \".join(tweets)\n",
    "tweets_text"
   ]
  },
  {
   "cell_type": "code",
   "execution_count": null,
   "id": "929407d6",
   "metadata": {
    "ExecuteTime": {
     "end_time": "2022-07-09T16:41:25.731537Z",
     "start_time": "2022-07-09T16:41:25.731537Z"
    }
   },
   "outputs": [],
   "source": [
    "from nltk.tokenize import TweetTokenizer"
   ]
  },
  {
   "cell_type": "code",
   "execution_count": null,
   "id": "1d7ef6a5",
   "metadata": {
    "ExecuteTime": {
     "end_time": "2022-07-09T16:41:25.734424Z",
     "start_time": "2022-07-09T16:41:25.734424Z"
    }
   },
   "outputs": [],
   "source": [
    "toknzr = TweetTokenizer(strip_handles=True)\n",
    "tweet_tokenz = toknzr.tokenize(tweets_text)"
   ]
  },
  {
   "cell_type": "code",
   "execution_count": null,
   "id": "eb98672d",
   "metadata": {
    "ExecuteTime": {
     "end_time": "2022-07-09T16:41:25.738259Z",
     "start_time": "2022-07-09T16:41:25.738259Z"
    }
   },
   "outputs": [],
   "source": [
    "print(tweet_tokenz)"
   ]
  },
  {
   "cell_type": "code",
   "execution_count": null,
   "id": "6ecb6a40",
   "metadata": {
    "ExecuteTime": {
     "end_time": "2022-07-09T16:41:25.745532Z",
     "start_time": "2022-07-09T16:41:25.745532Z"
    }
   },
   "outputs": [],
   "source": [
    "tweet_tokenz_text = ' '.join(tweet_tokenz)"
   ]
  },
  {
   "cell_type": "code",
   "execution_count": null,
   "id": "9c6dae17",
   "metadata": {
    "ExecuteTime": {
     "end_time": "2022-07-09T16:41:25.747528Z",
     "start_time": "2022-07-09T16:41:25.747528Z"
    }
   },
   "outputs": [],
   "source": [
    "tweet_tokenz_text"
   ]
  },
  {
   "cell_type": "code",
   "execution_count": null,
   "id": "25781557",
   "metadata": {
    "ExecuteTime": {
     "end_time": "2022-07-09T16:41:25.751365Z",
     "start_time": "2022-07-09T16:41:25.751365Z"
    }
   },
   "outputs": [],
   "source": [
    "no_punc_text = tweet_tokenz_text.translate(str.maketrans('','',string.punctuation))\n",
    "no_punc_text"
   ]
  },
  {
   "cell_type": "code",
   "execution_count": null,
   "id": "1280b071",
   "metadata": {
    "ExecuteTime": {
     "end_time": "2022-07-09T16:41:25.756144Z",
     "start_time": "2022-07-09T16:41:25.756144Z"
    }
   },
   "outputs": [],
   "source": [
    "import re\n",
    "no_url_text = re.sub(r'http\\S+','',no_punc_text)\n",
    "no_url_text"
   ]
  },
  {
   "cell_type": "code",
   "execution_count": null,
   "id": "6d40ba36",
   "metadata": {
    "ExecuteTime": {
     "end_time": "2022-07-09T16:41:25.762846Z",
     "start_time": "2022-07-09T16:41:25.762846Z"
    }
   },
   "outputs": [],
   "source": [
    "from nltk.tokenize import word_tokenize\n",
    "text_tokens = word_tokenize(no_url_text)\n",
    "print(text_tokens)"
   ]
  },
  {
   "cell_type": "code",
   "execution_count": null,
   "id": "3b5ff2ba",
   "metadata": {
    "ExecuteTime": {
     "end_time": "2022-07-09T16:41:25.768766Z",
     "start_time": "2022-07-09T16:41:25.768766Z"
    }
   },
   "outputs": [],
   "source": [
    "nltk.download('stopwords')"
   ]
  },
  {
   "cell_type": "code",
   "execution_count": null,
   "id": "8a5ac727",
   "metadata": {
    "ExecuteTime": {
     "end_time": "2022-07-09T16:41:25.774554Z",
     "start_time": "2022-07-09T16:41:25.774554Z"
    }
   },
   "outputs": [],
   "source": [
    "from nltk.corpus import stopwords\n",
    "my_stopwords = stopwords.words('english')\n",
    "ex  = ['’','rt','ye','yeah','haha','Yes','U0001F923','I','…']\n",
    "my_stopwords.extend(ex)"
   ]
  },
  {
   "cell_type": "code",
   "execution_count": null,
   "id": "51c15190",
   "metadata": {
    "ExecuteTime": {
     "end_time": "2022-07-09T16:41:25.779677Z",
     "start_time": "2022-07-09T16:41:25.779677Z"
    }
   },
   "outputs": [],
   "source": [
    "no_stop_token = [i for i in text_tokens if not i in my_stopwords] \n",
    "print(no_stop_token)"
   ]
  },
  {
   "cell_type": "code",
   "execution_count": null,
   "id": "425c2ab6",
   "metadata": {
    "ExecuteTime": {
     "end_time": "2022-07-09T16:41:25.782934Z",
     "start_time": "2022-07-09T16:41:25.782934Z"
    }
   },
   "outputs": [],
   "source": [
    "lower_words = [i.lower() for i in no_stop_token]\n",
    "print(lower_words[:100])"
   ]
  },
  {
   "cell_type": "code",
   "execution_count": null,
   "id": "ddf3c6e8",
   "metadata": {
    "ExecuteTime": {
     "end_time": "2022-07-09T16:41:25.787511Z",
     "start_time": "2022-07-09T16:41:25.787511Z"
    },
    "scrolled": false
   },
   "outputs": [],
   "source": [
    "!pip3 install en_core_web_sm\n",
    "!python -m spacy download en"
   ]
  },
  {
   "cell_type": "code",
   "execution_count": null,
   "id": "f9b4fd44",
   "metadata": {
    "ExecuteTime": {
     "end_time": "2022-07-09T16:41:25.790505Z",
     "start_time": "2022-07-09T16:41:25.790505Z"
    }
   },
   "outputs": [],
   "source": [
    "import spacy\n",
    "from spacy.lang.en.examples import sentences \n",
    "\n",
    "nlp = spacy.load(\"en_core_web_sm\")\n",
    "doc = nlp(' '.join(lower_words))\n",
    "print(doc)"
   ]
  },
  {
   "cell_type": "code",
   "execution_count": null,
   "id": "b0ed310a",
   "metadata": {
    "ExecuteTime": {
     "end_time": "2022-07-09T16:41:25.793798Z",
     "start_time": "2022-07-09T16:41:25.793798Z"
    }
   },
   "outputs": [],
   "source": [
    "lemmas = [token.lemma_ for token in doc]\n",
    "print(lemmas)"
   ]
  },
  {
   "cell_type": "code",
   "execution_count": null,
   "id": "5776920b",
   "metadata": {
    "ExecuteTime": {
     "end_time": "2022-07-09T16:41:25.802741Z",
     "start_time": "2022-07-09T16:41:25.802741Z"
    }
   },
   "outputs": [],
   "source": [
    "tweets_clean = ' '.join(lemmas)\n",
    "tweets_clean"
   ]
  },
  {
   "cell_type": "code",
   "execution_count": null,
   "id": "351fa2d6",
   "metadata": {
    "ExecuteTime": {
     "end_time": "2022-07-09T16:41:25.808609Z",
     "start_time": "2022-07-09T16:41:25.808609Z"
    }
   },
   "outputs": [],
   "source": [
    "from sklearn.feature_extraction.text import TfidfVectorizer\n",
    "tfidfv = TfidfVectorizer(ngram_range=(1, 3),max_features=500)\n",
    "tfidfv_matrix = tfidfv.fit_transform(lemmas)"
   ]
  },
  {
   "cell_type": "code",
   "execution_count": null,
   "id": "be0ea940",
   "metadata": {
    "ExecuteTime": {
     "end_time": "2022-07-09T16:41:25.812875Z",
     "start_time": "2022-07-09T16:41:25.812875Z"
    },
    "scrolled": true
   },
   "outputs": [],
   "source": [
    "print(tfidfv.get_feature_names())\n",
    "print(tfidfv_matrix.toarray())"
   ]
  },
  {
   "cell_type": "code",
   "execution_count": null,
   "id": "a170b6e1",
   "metadata": {
    "ExecuteTime": {
     "end_time": "2022-07-09T16:41:25.816117Z",
     "start_time": "2022-07-09T16:41:25.816117Z"
    }
   },
   "outputs": [],
   "source": [
    "!pip install wordcloud"
   ]
  },
  {
   "cell_type": "code",
   "execution_count": null,
   "id": "ac6784e3",
   "metadata": {
    "ExecuteTime": {
     "end_time": "2022-07-09T16:41:25.818971Z",
     "start_time": "2022-07-09T16:41:25.818971Z"
    }
   },
   "outputs": [],
   "source": [
    "from wordcloud import WordCloud,STOPWORDS"
   ]
  },
  {
   "cell_type": "code",
   "execution_count": null,
   "id": "e8696ba4",
   "metadata": {
    "ExecuteTime": {
     "end_time": "2022-07-09T16:41:25.822960Z",
     "start_time": "2022-07-09T16:41:25.822960Z"
    }
   },
   "outputs": [],
   "source": [
    "def plot_cloud(wordcloud):\n",
    "    plt.figure(figsize=(40,30))\n",
    "    plt.imshow(wordcloud)\n",
    "    plt.axis('off')\n",
    "    \n",
    "STOPWORDS.add('pron')\n",
    "STOPWORDS.add('rt')\n",
    "STOPWORDS.add('yeah')\n",
    "wordcloud=WordCloud(width=3000,height=2000,background_color='black',max_words=50,\n",
    "                   colormap='Set1',stopwords=STOPWORDS).generate(tweets_clean)\n",
    "plot_cloud(wordcloud)"
   ]
  },
  {
   "cell_type": "code",
   "execution_count": null,
   "id": "5335421a",
   "metadata": {
    "ExecuteTime": {
     "end_time": "2022-07-09T16:41:25.828170Z",
     "start_time": "2022-07-09T16:41:25.828170Z"
    }
   },
   "outputs": [],
   "source": [
    "nlp = spacy.load('en_core_web_sm')\n",
    "one_block = tweets_clean\n",
    "doc_block = nlp(one_block)\n",
    "spacy.displacy.render(doc_block,style='ent',jupyter=True)"
   ]
  },
  {
   "cell_type": "markdown",
   "id": "9264f0f8",
   "metadata": {},
   "source": [
    "## SENTIMENT ANALYSIS"
   ]
  },
  {
   "cell_type": "code",
   "execution_count": null,
   "id": "301588e6",
   "metadata": {
    "ExecuteTime": {
     "end_time": "2022-07-09T16:41:25.830189Z",
     "start_time": "2022-07-09T16:41:25.830189Z"
    }
   },
   "outputs": [],
   "source": [
    "tweets"
   ]
  },
  {
   "cell_type": "code",
   "execution_count": null,
   "id": "9beaf13e",
   "metadata": {
    "ExecuteTime": {
     "end_time": "2022-07-09T16:41:25.834351Z",
     "start_time": "2022-07-09T16:41:25.834351Z"
    }
   },
   "outputs": [],
   "source": [
    "from nltk import tokenize\n",
    "sentnc = tokenize.sent_tokenize(' '.join(tweets))\n",
    "sentnc"
   ]
  },
  {
   "cell_type": "code",
   "execution_count": null,
   "id": "aff005e9",
   "metadata": {
    "ExecuteTime": {
     "end_time": "2022-07-09T16:41:25.838159Z",
     "start_time": "2022-07-09T16:41:25.838159Z"
    }
   },
   "outputs": [],
   "source": [
    "sent_df = pd.DataFrame(sentnc,columns=['sentance'])"
   ]
  },
  {
   "cell_type": "code",
   "execution_count": null,
   "id": "306daf63",
   "metadata": {
    "ExecuteTime": {
     "end_time": "2022-07-09T16:41:25.842195Z",
     "start_time": "2022-07-09T16:41:25.842195Z"
    }
   },
   "outputs": [],
   "source": [
    "sent_df"
   ]
  },
  {
   "cell_type": "code",
   "execution_count": 12,
   "id": "5992afcc",
   "metadata": {
    "ExecuteTime": {
     "end_time": "2022-07-09T16:45:44.769750Z",
     "start_time": "2022-07-09T16:45:44.744696Z"
    }
   },
   "outputs": [],
   "source": [
    "afinn = pd.read_csv(\"Afinn.csv\",encoding='unicode_escape')"
   ]
  },
  {
   "cell_type": "code",
   "execution_count": 13,
   "id": "c8a6e81d",
   "metadata": {
    "ExecuteTime": {
     "end_time": "2022-07-09T16:45:48.351041Z",
     "start_time": "2022-07-09T16:45:48.316398Z"
    }
   },
   "outputs": [
    {
     "data": {
      "text/html": [
       "<div>\n",
       "<style scoped>\n",
       "    .dataframe tbody tr th:only-of-type {\n",
       "        vertical-align: middle;\n",
       "    }\n",
       "\n",
       "    .dataframe tbody tr th {\n",
       "        vertical-align: top;\n",
       "    }\n",
       "\n",
       "    .dataframe thead th {\n",
       "        text-align: right;\n",
       "    }\n",
       "</style>\n",
       "<table border=\"1\" class=\"dataframe\">\n",
       "  <thead>\n",
       "    <tr style=\"text-align: right;\">\n",
       "      <th></th>\n",
       "      <th>word</th>\n",
       "      <th>value</th>\n",
       "    </tr>\n",
       "  </thead>\n",
       "  <tbody>\n",
       "    <tr>\n",
       "      <th>0</th>\n",
       "      <td>abandon</td>\n",
       "      <td>-2</td>\n",
       "    </tr>\n",
       "    <tr>\n",
       "      <th>1</th>\n",
       "      <td>abandoned</td>\n",
       "      <td>-2</td>\n",
       "    </tr>\n",
       "    <tr>\n",
       "      <th>2</th>\n",
       "      <td>abandons</td>\n",
       "      <td>-2</td>\n",
       "    </tr>\n",
       "    <tr>\n",
       "      <th>3</th>\n",
       "      <td>abducted</td>\n",
       "      <td>-2</td>\n",
       "    </tr>\n",
       "    <tr>\n",
       "      <th>4</th>\n",
       "      <td>abduction</td>\n",
       "      <td>-2</td>\n",
       "    </tr>\n",
       "    <tr>\n",
       "      <th>...</th>\n",
       "      <td>...</td>\n",
       "      <td>...</td>\n",
       "    </tr>\n",
       "    <tr>\n",
       "      <th>2472</th>\n",
       "      <td>yucky</td>\n",
       "      <td>-2</td>\n",
       "    </tr>\n",
       "    <tr>\n",
       "      <th>2473</th>\n",
       "      <td>yummy</td>\n",
       "      <td>3</td>\n",
       "    </tr>\n",
       "    <tr>\n",
       "      <th>2474</th>\n",
       "      <td>zealot</td>\n",
       "      <td>-2</td>\n",
       "    </tr>\n",
       "    <tr>\n",
       "      <th>2475</th>\n",
       "      <td>zealots</td>\n",
       "      <td>-2</td>\n",
       "    </tr>\n",
       "    <tr>\n",
       "      <th>2476</th>\n",
       "      <td>zealous</td>\n",
       "      <td>2</td>\n",
       "    </tr>\n",
       "  </tbody>\n",
       "</table>\n",
       "<p>2477 rows × 2 columns</p>\n",
       "</div>"
      ],
      "text/plain": [
       "           word  value\n",
       "0       abandon     -2\n",
       "1     abandoned     -2\n",
       "2      abandons     -2\n",
       "3      abducted     -2\n",
       "4     abduction     -2\n",
       "...         ...    ...\n",
       "2472      yucky     -2\n",
       "2473      yummy      3\n",
       "2474     zealot     -2\n",
       "2475    zealots     -2\n",
       "2476    zealous      2\n",
       "\n",
       "[2477 rows x 2 columns]"
      ]
     },
     "execution_count": 13,
     "metadata": {},
     "output_type": "execute_result"
    }
   ],
   "source": [
    "afinn"
   ]
  },
  {
   "cell_type": "code",
   "execution_count": null,
   "id": "d2d5c23c",
   "metadata": {
    "ExecuteTime": {
     "end_time": "2022-07-09T16:41:25.851380Z",
     "start_time": "2022-07-09T16:41:25.851380Z"
    }
   },
   "outputs": [],
   "source": [
    "afinnity_score = afinn.set_index('word')['value'].to_dict()\n",
    "afinnity_score"
   ]
  },
  {
   "cell_type": "code",
   "execution_count": null,
   "id": "b8b73e1f",
   "metadata": {
    "ExecuteTime": {
     "end_time": "2022-07-09T16:41:25.855633Z",
     "start_time": "2022-07-09T16:41:25.855633Z"
    }
   },
   "outputs": [],
   "source": [
    "nlp = spacy.load('en_core_web_sm')\n",
    "sentiment = afinnity_score\n",
    "def sentiment_cal (text:str=None):\n",
    "    sent_score = 0\n",
    "    if text:\n",
    "        sentance = nlp(text)\n",
    "        for word in sentance:\n",
    "            sent_score+=sentiment.get(word.lemma_,0)\n",
    "    return sent_score        "
   ]
  },
  {
   "cell_type": "code",
   "execution_count": null,
   "id": "0d169b8f",
   "metadata": {
    "ExecuteTime": {
     "end_time": "2022-07-09T16:41:25.858642Z",
     "start_time": "2022-07-09T16:41:25.858642Z"
    }
   },
   "outputs": [],
   "source": [
    "sentiment_cal(text='that is awful')"
   ]
  },
  {
   "cell_type": "code",
   "execution_count": null,
   "id": "6f1082b5",
   "metadata": {
    "ExecuteTime": {
     "end_time": "2022-07-09T16:41:25.863361Z",
     "start_time": "2022-07-09T16:41:25.863361Z"
    }
   },
   "outputs": [],
   "source": [
    "sent_df['sentiment_value'] = sent_df['sentance'].apply(sentiment_cal)"
   ]
  },
  {
   "cell_type": "code",
   "execution_count": null,
   "id": "75b2125b",
   "metadata": {
    "ExecuteTime": {
     "end_time": "2022-07-09T16:41:25.866821Z",
     "start_time": "2022-07-09T16:41:25.866821Z"
    }
   },
   "outputs": [],
   "source": [
    "sent_df"
   ]
  },
  {
   "cell_type": "code",
   "execution_count": null,
   "id": "7042c17c",
   "metadata": {
    "ExecuteTime": {
     "end_time": "2022-07-09T16:41:25.873074Z",
     "start_time": "2022-07-09T16:41:25.873074Z"
    }
   },
   "outputs": [],
   "source": [
    "sent_df['word_count'] = sent_df['sentance'].str.split().apply(len)\n",
    "sent_df"
   ]
  },
  {
   "cell_type": "code",
   "execution_count": null,
   "id": "0d9acabe",
   "metadata": {
    "ExecuteTime": {
     "end_time": "2022-07-09T16:41:25.877497Z",
     "start_time": "2022-07-09T16:41:25.877497Z"
    }
   },
   "outputs": [],
   "source": [
    "sent_df[sent_df['sentiment_value']<=0]"
   ]
  },
  {
   "cell_type": "code",
   "execution_count": null,
   "id": "a0458f5e",
   "metadata": {
    "ExecuteTime": {
     "end_time": "2022-07-09T16:41:25.880676Z",
     "start_time": "2022-07-09T16:41:25.880676Z"
    }
   },
   "outputs": [],
   "source": [
    "sent_df[sent_df['sentiment_value']>0]"
   ]
  },
  {
   "cell_type": "code",
   "execution_count": null,
   "id": "9613bfac",
   "metadata": {
    "ExecuteTime": {
     "end_time": "2022-07-09T16:41:25.883344Z",
     "start_time": "2022-07-09T16:41:25.883344Z"
    }
   },
   "outputs": [],
   "source": [
    "sns.distplot(sent_df[\"sentiment_value\"])"
   ]
  },
  {
   "cell_type": "code",
   "execution_count": null,
   "id": "0efc62b0",
   "metadata": {
    "ExecuteTime": {
     "end_time": "2022-07-09T16:41:25.887334Z",
     "start_time": "2022-07-09T16:41:25.887334Z"
    }
   },
   "outputs": [],
   "source": [
    "sent_df.plot.scatter(x='sentiment_value',y='word_count',figsize = (6,6))"
   ]
  },
  {
   "cell_type": "code",
   "execution_count": null,
   "id": "5cd3d7cb",
   "metadata": {},
   "outputs": [],
   "source": []
  }
 ],
 "metadata": {
  "kernelspec": {
   "display_name": "Python 3 (ipykernel)",
   "language": "python",
   "name": "python3"
  },
  "language_info": {
   "codemirror_mode": {
    "name": "ipython",
    "version": 3
   },
   "file_extension": ".py",
   "mimetype": "text/x-python",
   "name": "python",
   "nbconvert_exporter": "python",
   "pygments_lexer": "ipython3",
   "version": "3.9.7"
  },
  "toc": {
   "base_numbering": 1,
   "nav_menu": {},
   "number_sections": true,
   "sideBar": true,
   "skip_h1_title": false,
   "title_cell": "Table of Contents",
   "title_sidebar": "Contents",
   "toc_cell": false,
   "toc_position": {},
   "toc_section_display": true,
   "toc_window_display": false
  }
 },
 "nbformat": 4,
 "nbformat_minor": 5
}
