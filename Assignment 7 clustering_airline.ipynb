{
 "cells": [
  {
   "cell_type": "code",
   "execution_count": 1,
   "id": "fd7f6860",
   "metadata": {
    "ExecuteTime": {
     "end_time": "2022-07-08T09:28:11.349282Z",
     "start_time": "2022-07-08T09:28:08.441903Z"
    }
   },
   "outputs": [],
   "source": [
    "import pandas as pd\n",
    "import matplotlib.pyplot as plt\n",
    "import numpy as np\n",
    "import seaborn as sns\n",
    "from sklearn.preprocessing import StandardScaler\n",
    "import warnings\n",
    "warnings.filterwarnings('ignore')"
   ]
  },
  {
   "cell_type": "code",
   "execution_count": 5,
   "id": "5ded3da2",
   "metadata": {
    "ExecuteTime": {
     "end_time": "2022-07-08T09:28:41.759763Z",
     "start_time": "2022-07-08T09:28:40.916238Z"
    }
   },
   "outputs": [
    {
     "data": {
      "text/html": [
       "<div>\n",
       "<style scoped>\n",
       "    .dataframe tbody tr th:only-of-type {\n",
       "        vertical-align: middle;\n",
       "    }\n",
       "\n",
       "    .dataframe tbody tr th {\n",
       "        vertical-align: top;\n",
       "    }\n",
       "\n",
       "    .dataframe thead th {\n",
       "        text-align: right;\n",
       "    }\n",
       "</style>\n",
       "<table border=\"1\" class=\"dataframe\">\n",
       "  <thead>\n",
       "    <tr style=\"text-align: right;\">\n",
       "      <th></th>\n",
       "      <th>ID#</th>\n",
       "      <th>Balance</th>\n",
       "      <th>Qual_miles</th>\n",
       "      <th>cc1_miles</th>\n",
       "      <th>cc2_miles</th>\n",
       "      <th>cc3_miles</th>\n",
       "      <th>Bonus_miles</th>\n",
       "      <th>Bonus_trans</th>\n",
       "      <th>Flight_miles_12mo</th>\n",
       "      <th>Flight_trans_12</th>\n",
       "      <th>Days_since_enroll</th>\n",
       "      <th>Award?</th>\n",
       "    </tr>\n",
       "  </thead>\n",
       "  <tbody>\n",
       "    <tr>\n",
       "      <th>0</th>\n",
       "      <td>1</td>\n",
       "      <td>28143</td>\n",
       "      <td>0</td>\n",
       "      <td>1</td>\n",
       "      <td>1</td>\n",
       "      <td>1</td>\n",
       "      <td>174</td>\n",
       "      <td>1</td>\n",
       "      <td>0</td>\n",
       "      <td>0</td>\n",
       "      <td>7000</td>\n",
       "      <td>0</td>\n",
       "    </tr>\n",
       "    <tr>\n",
       "      <th>1</th>\n",
       "      <td>2</td>\n",
       "      <td>19244</td>\n",
       "      <td>0</td>\n",
       "      <td>1</td>\n",
       "      <td>1</td>\n",
       "      <td>1</td>\n",
       "      <td>215</td>\n",
       "      <td>2</td>\n",
       "      <td>0</td>\n",
       "      <td>0</td>\n",
       "      <td>6968</td>\n",
       "      <td>0</td>\n",
       "    </tr>\n",
       "    <tr>\n",
       "      <th>2</th>\n",
       "      <td>3</td>\n",
       "      <td>41354</td>\n",
       "      <td>0</td>\n",
       "      <td>1</td>\n",
       "      <td>1</td>\n",
       "      <td>1</td>\n",
       "      <td>4123</td>\n",
       "      <td>4</td>\n",
       "      <td>0</td>\n",
       "      <td>0</td>\n",
       "      <td>7034</td>\n",
       "      <td>0</td>\n",
       "    </tr>\n",
       "    <tr>\n",
       "      <th>3</th>\n",
       "      <td>4</td>\n",
       "      <td>14776</td>\n",
       "      <td>0</td>\n",
       "      <td>1</td>\n",
       "      <td>1</td>\n",
       "      <td>1</td>\n",
       "      <td>500</td>\n",
       "      <td>1</td>\n",
       "      <td>0</td>\n",
       "      <td>0</td>\n",
       "      <td>6952</td>\n",
       "      <td>0</td>\n",
       "    </tr>\n",
       "    <tr>\n",
       "      <th>4</th>\n",
       "      <td>5</td>\n",
       "      <td>97752</td>\n",
       "      <td>0</td>\n",
       "      <td>4</td>\n",
       "      <td>1</td>\n",
       "      <td>1</td>\n",
       "      <td>43300</td>\n",
       "      <td>26</td>\n",
       "      <td>2077</td>\n",
       "      <td>4</td>\n",
       "      <td>6935</td>\n",
       "      <td>1</td>\n",
       "    </tr>\n",
       "  </tbody>\n",
       "</table>\n",
       "</div>"
      ],
      "text/plain": [
       "   ID#  Balance  Qual_miles  cc1_miles  cc2_miles  cc3_miles  Bonus_miles  \\\n",
       "0    1    28143           0          1          1          1          174   \n",
       "1    2    19244           0          1          1          1          215   \n",
       "2    3    41354           0          1          1          1         4123   \n",
       "3    4    14776           0          1          1          1          500   \n",
       "4    5    97752           0          4          1          1        43300   \n",
       "\n",
       "   Bonus_trans  Flight_miles_12mo  Flight_trans_12  Days_since_enroll  Award?  \n",
       "0            1                  0                0               7000       0  \n",
       "1            2                  0                0               6968       0  \n",
       "2            4                  0                0               7034       0  \n",
       "3            1                  0                0               6952       0  \n",
       "4           26               2077                4               6935       1  "
      ]
     },
     "execution_count": 5,
     "metadata": {},
     "output_type": "execute_result"
    }
   ],
   "source": [
    "airlines_data = pd.read_excel(\"EastWestAirlines.xlsx\",1)\n",
    "airlines_data.head()"
   ]
  },
  {
   "cell_type": "code",
   "execution_count": 6,
   "id": "cea5b05d",
   "metadata": {
    "ExecuteTime": {
     "end_time": "2022-07-08T09:28:42.523963Z",
     "start_time": "2022-07-08T09:28:42.513463Z"
    }
   },
   "outputs": [
    {
     "data": {
      "text/plain": [
       "ID#                  int64\n",
       "Balance              int64\n",
       "Qual_miles           int64\n",
       "cc1_miles            int64\n",
       "cc2_miles            int64\n",
       "cc3_miles            int64\n",
       "Bonus_miles          int64\n",
       "Bonus_trans          int64\n",
       "Flight_miles_12mo    int64\n",
       "Flight_trans_12      int64\n",
       "Days_since_enroll    int64\n",
       "Award?               int64\n",
       "dtype: object"
      ]
     },
     "execution_count": 6,
     "metadata": {},
     "output_type": "execute_result"
    }
   ],
   "source": [
    "airlines_data.dtypes"
   ]
  },
  {
   "cell_type": "code",
   "execution_count": 7,
   "id": "93c3a9bf",
   "metadata": {
    "ExecuteTime": {
     "end_time": "2022-07-08T09:28:43.073497Z",
     "start_time": "2022-07-08T09:28:43.052367Z"
    }
   },
   "outputs": [
    {
     "data": {
      "text/plain": [
       "(3999, 12)"
      ]
     },
     "execution_count": 7,
     "metadata": {},
     "output_type": "execute_result"
    }
   ],
   "source": [
    "airlines_data.shape"
   ]
  },
  {
   "cell_type": "code",
   "execution_count": 8,
   "id": "a120157e",
   "metadata": {
    "ExecuteTime": {
     "end_time": "2022-07-08T09:28:45.154071Z",
     "start_time": "2022-07-08T09:28:45.118827Z"
    }
   },
   "outputs": [
    {
     "name": "stdout",
     "output_type": "stream",
     "text": [
      "<class 'pandas.core.frame.DataFrame'>\n",
      "RangeIndex: 3999 entries, 0 to 3998\n",
      "Data columns (total 12 columns):\n",
      " #   Column             Non-Null Count  Dtype\n",
      "---  ------             --------------  -----\n",
      " 0   ID#                3999 non-null   int64\n",
      " 1   Balance            3999 non-null   int64\n",
      " 2   Qual_miles         3999 non-null   int64\n",
      " 3   cc1_miles          3999 non-null   int64\n",
      " 4   cc2_miles          3999 non-null   int64\n",
      " 5   cc3_miles          3999 non-null   int64\n",
      " 6   Bonus_miles        3999 non-null   int64\n",
      " 7   Bonus_trans        3999 non-null   int64\n",
      " 8   Flight_miles_12mo  3999 non-null   int64\n",
      " 9   Flight_trans_12    3999 non-null   int64\n",
      " 10  Days_since_enroll  3999 non-null   int64\n",
      " 11  Award?             3999 non-null   int64\n",
      "dtypes: int64(12)\n",
      "memory usage: 375.0 KB\n"
     ]
    }
   ],
   "source": [
    "airlines_data.info()"
   ]
  },
  {
   "cell_type": "code",
   "execution_count": 9,
   "id": "68dfbaec",
   "metadata": {
    "ExecuteTime": {
     "end_time": "2022-07-08T09:28:45.505801Z",
     "start_time": "2022-07-08T09:28:45.483127Z"
    }
   },
   "outputs": [
    {
     "data": {
      "text/plain": [
       "array([[-1.73512503e+00, -4.51140783e-01, -1.86298687e-01, ...,\n",
       "        -3.62167870e-01,  1.39545434e+00, -7.66919299e-01],\n",
       "       [-1.73426342e+00, -5.39456874e-01, -1.86298687e-01, ...,\n",
       "        -3.62167870e-01,  1.37995704e+00, -7.66919299e-01],\n",
       "       [-1.73340181e+00, -3.20031232e-01, -1.86298687e-01, ...,\n",
       "        -3.62167870e-01,  1.41192021e+00, -7.66919299e-01],\n",
       "       ...,\n",
       "       [ 1.72682006e+00, -4.29480975e-05, -1.86298687e-01, ...,\n",
       "        -3.62167870e-01, -1.31560393e+00,  1.30391816e+00],\n",
       "       [ 1.72768167e+00, -1.85606976e-01, -1.86298687e-01, ...,\n",
       "        -9.85033311e-02, -1.31608822e+00, -7.66919299e-01],\n",
       "       [ 1.72854328e+00, -7.00507951e-01, -1.86298687e-01, ...,\n",
       "        -3.62167870e-01, -1.31754109e+00, -7.66919299e-01]])"
      ]
     },
     "execution_count": 9,
     "metadata": {},
     "output_type": "execute_result"
    }
   ],
   "source": [
    "std_scaler = StandardScaler()\n",
    "scaled_data = std_scaler.fit_transform(airlines_data)\n",
    "scaled_data"
   ]
  },
  {
   "cell_type": "markdown",
   "id": "d21fa4ab",
   "metadata": {},
   "source": [
    "# KMeans clustering"
   ]
  },
  {
   "cell_type": "code",
   "execution_count": 10,
   "id": "12cf4b4a",
   "metadata": {
    "ExecuteTime": {
     "end_time": "2022-07-08T09:28:47.888328Z",
     "start_time": "2022-07-08T09:28:47.193119Z"
    }
   },
   "outputs": [],
   "source": [
    "from sklearn.cluster import KMeans"
   ]
  },
  {
   "cell_type": "code",
   "execution_count": 11,
   "id": "d86011a9",
   "metadata": {
    "ExecuteTime": {
     "end_time": "2022-07-08T09:28:52.184907Z",
     "start_time": "2022-07-08T09:28:48.673694Z"
    }
   },
   "outputs": [],
   "source": [
    "ssc = []\n",
    "for i in range(1,11):\n",
    "    km = KMeans(n_clusters=i,random_state=2)\n",
    "    km.fit(scaled_data)\n",
    "    ssc.append(km.inertia_)"
   ]
  },
  {
   "cell_type": "code",
   "execution_count": 12,
   "id": "a46ef4e7",
   "metadata": {
    "ExecuteTime": {
     "end_time": "2022-07-08T09:28:52.584156Z",
     "start_time": "2022-07-08T09:28:52.189980Z"
    }
   },
   "outputs": [
    {
     "data": {
      "image/png": "[encoded data removed]",
      "text/plain": [
       "<Figure size 432x288 with 1 Axes>"
      ]
     },
     "metadata": {
      "needs_background": "light"
     },
     "output_type": "display_data"
    }
   ],
   "source": [
    "plt.plot(range(1,11),ssc)\n",
    "plt.title('Elbow Method')\n",
    "plt.xlabel('no.of clusters')\n",
    "plt.ylabel('SSE')\n",
    "plt.show()"
   ]
  },
  {
   "cell_type": "code",
   "execution_count": 13,
   "id": "2a96cc7d",
   "metadata": {
    "ExecuteTime": {
     "end_time": "2022-07-08T09:28:52.600003Z",
     "start_time": "2022-07-08T09:28:52.590915Z"
    }
   },
   "outputs": [],
   "source": [
    "cluster_kmean = KMeans(n_clusters=4)"
   ]
  },
  {
   "cell_type": "code",
   "execution_count": 14,
   "id": "ab641d9f",
   "metadata": {
    "ExecuteTime": {
     "end_time": "2022-07-08T09:28:52.868687Z",
     "start_time": "2022-07-08T09:28:52.609727Z"
    }
   },
   "outputs": [
    {
     "data": {
      "text/plain": [
       "KMeans(n_clusters=4)"
      ]
     },
     "execution_count": 14,
     "metadata": {},
     "output_type": "execute_result"
    }
   ],
   "source": [
    "cluster_kmean.fit(scaled_data)"
   ]
  },
  {
   "cell_type": "code",
   "execution_count": 15,
   "id": "b7c30f44",
   "metadata": {
    "ExecuteTime": {
     "end_time": "2022-07-08T09:28:52.884283Z",
     "start_time": "2022-07-08T09:28:52.874075Z"
    }
   },
   "outputs": [
    {
     "data": {
      "text/plain": [
       "array([3, 3, 3, ..., 0, 0, 0])"
      ]
     },
     "execution_count": 15,
     "metadata": {},
     "output_type": "execute_result"
    }
   ],
   "source": [
    "cluster_kmean.labels_"
   ]
  },
  {
   "cell_type": "code",
   "execution_count": 16,
   "id": "3250a32c",
   "metadata": {
    "ExecuteTime": {
     "end_time": "2022-07-08T09:28:52.900293Z",
     "start_time": "2022-07-08T09:28:52.890648Z"
    }
   },
   "outputs": [],
   "source": [
    "cluster_kmean = cluster_kmean.labels_"
   ]
  },
  {
   "cell_type": "code",
   "execution_count": 17,
   "id": "cb611709",
   "metadata": {
    "ExecuteTime": {
     "end_time": "2022-07-08T09:28:52.915655Z",
     "start_time": "2022-07-08T09:28:52.905685Z"
    }
   },
   "outputs": [],
   "source": [
    "airlines_data1 = airlines_data"
   ]
  },
  {
   "cell_type": "code",
   "execution_count": 18,
   "id": "9cf90e1e",
   "metadata": {
    "ExecuteTime": {
     "end_time": "2022-07-08T09:28:52.963227Z",
     "start_time": "2022-07-08T09:28:52.920738Z"
    }
   },
   "outputs": [
    {
     "data": {
      "text/html": [
       "<div>\n",
       "<style scoped>\n",
       "    .dataframe tbody tr th:only-of-type {\n",
       "        vertical-align: middle;\n",
       "    }\n",
       "\n",
       "    .dataframe tbody tr th {\n",
       "        vertical-align: top;\n",
       "    }\n",
       "\n",
       "    .dataframe thead th {\n",
       "        text-align: right;\n",
       "    }\n",
       "</style>\n",
       "<table border=\"1\" class=\"dataframe\">\n",
       "  <thead>\n",
       "    <tr style=\"text-align: right;\">\n",
       "      <th></th>\n",
       "      <th>ID#</th>\n",
       "      <th>Balance</th>\n",
       "      <th>Qual_miles</th>\n",
       "      <th>cc1_miles</th>\n",
       "      <th>cc2_miles</th>\n",
       "      <th>cc3_miles</th>\n",
       "      <th>Bonus_miles</th>\n",
       "      <th>Bonus_trans</th>\n",
       "      <th>Flight_miles_12mo</th>\n",
       "      <th>Flight_trans_12</th>\n",
       "      <th>Days_since_enroll</th>\n",
       "      <th>Award?</th>\n",
       "      <th>cluster</th>\n",
       "    </tr>\n",
       "  </thead>\n",
       "  <tbody>\n",
       "    <tr>\n",
       "      <th>0</th>\n",
       "      <td>1</td>\n",
       "      <td>28143</td>\n",
       "      <td>0</td>\n",
       "      <td>1</td>\n",
       "      <td>1</td>\n",
       "      <td>1</td>\n",
       "      <td>174</td>\n",
       "      <td>1</td>\n",
       "      <td>0</td>\n",
       "      <td>0</td>\n",
       "      <td>7000</td>\n",
       "      <td>0</td>\n",
       "      <td>3</td>\n",
       "    </tr>\n",
       "    <tr>\n",
       "      <th>1</th>\n",
       "      <td>2</td>\n",
       "      <td>19244</td>\n",
       "      <td>0</td>\n",
       "      <td>1</td>\n",
       "      <td>1</td>\n",
       "      <td>1</td>\n",
       "      <td>215</td>\n",
       "      <td>2</td>\n",
       "      <td>0</td>\n",
       "      <td>0</td>\n",
       "      <td>6968</td>\n",
       "      <td>0</td>\n",
       "      <td>3</td>\n",
       "    </tr>\n",
       "    <tr>\n",
       "      <th>2</th>\n",
       "      <td>3</td>\n",
       "      <td>41354</td>\n",
       "      <td>0</td>\n",
       "      <td>1</td>\n",
       "      <td>1</td>\n",
       "      <td>1</td>\n",
       "      <td>4123</td>\n",
       "      <td>4</td>\n",
       "      <td>0</td>\n",
       "      <td>0</td>\n",
       "      <td>7034</td>\n",
       "      <td>0</td>\n",
       "      <td>3</td>\n",
       "    </tr>\n",
       "    <tr>\n",
       "      <th>3</th>\n",
       "      <td>4</td>\n",
       "      <td>14776</td>\n",
       "      <td>0</td>\n",
       "      <td>1</td>\n",
       "      <td>1</td>\n",
       "      <td>1</td>\n",
       "      <td>500</td>\n",
       "      <td>1</td>\n",
       "      <td>0</td>\n",
       "      <td>0</td>\n",
       "      <td>6952</td>\n",
       "      <td>0</td>\n",
       "      <td>3</td>\n",
       "    </tr>\n",
       "    <tr>\n",
       "      <th>4</th>\n",
       "      <td>5</td>\n",
       "      <td>97752</td>\n",
       "      <td>0</td>\n",
       "      <td>4</td>\n",
       "      <td>1</td>\n",
       "      <td>1</td>\n",
       "      <td>43300</td>\n",
       "      <td>26</td>\n",
       "      <td>2077</td>\n",
       "      <td>4</td>\n",
       "      <td>6935</td>\n",
       "      <td>1</td>\n",
       "      <td>2</td>\n",
       "    </tr>\n",
       "  </tbody>\n",
       "</table>\n",
       "</div>"
      ],
      "text/plain": [
       "   ID#  Balance  Qual_miles  cc1_miles  cc2_miles  cc3_miles  Bonus_miles  \\\n",
       "0    1    28143           0          1          1          1          174   \n",
       "1    2    19244           0          1          1          1          215   \n",
       "2    3    41354           0          1          1          1         4123   \n",
       "3    4    14776           0          1          1          1          500   \n",
       "4    5    97752           0          4          1          1        43300   \n",
       "\n",
       "   Bonus_trans  Flight_miles_12mo  Flight_trans_12  Days_since_enroll  Award?  \\\n",
       "0            1                  0                0               7000       0   \n",
       "1            2                  0                0               6968       0   \n",
       "2            4                  0                0               7034       0   \n",
       "3            1                  0                0               6952       0   \n",
       "4           26               2077                4               6935       1   \n",
       "\n",
       "   cluster  \n",
       "0        3  \n",
       "1        3  \n",
       "2        3  \n",
       "3        3  \n",
       "4        2  "
      ]
     },
     "execution_count": 18,
     "metadata": {},
     "output_type": "execute_result"
    }
   ],
   "source": [
    "airlines_data1['cluster']=cluster_kmean\n",
    "airlines_data1.head()"
   ]
  },
  {
   "cell_type": "code",
   "execution_count": 19,
   "id": "32701ce1",
   "metadata": {
    "ExecuteTime": {
     "end_time": "2022-07-08T09:28:55.899673Z",
     "start_time": "2022-07-08T09:28:55.879423Z"
    }
   },
   "outputs": [
    {
     "data": {
      "text/plain": [
       "array([3, 2, 1, 0])"
      ]
     },
     "execution_count": 19,
     "metadata": {},
     "output_type": "execute_result"
    }
   ],
   "source": [
    "airlines_data1['cluster'].unique()"
   ]
  },
  {
   "cell_type": "code",
   "execution_count": 20,
   "id": "1946642e",
   "metadata": {
    "ExecuteTime": {
     "end_time": "2022-07-08T09:28:56.082067Z",
     "start_time": "2022-07-08T09:28:56.050883Z"
    }
   },
   "outputs": [
    {
     "data": {
      "text/plain": [
       "(       ID#  Balance  Qual_miles  cc1_miles  cc2_miles  cc3_miles  Bonus_miles  \\\n",
       " 1129  1141     1625           0          1          1          1         1375   \n",
       " 1424  1438    22093           0          3          1          1        14857   \n",
       " 1950  1967    15676           0          1          1          1            0   \n",
       " 1951  1968    55064           0          2          1          1         8041   \n",
       " 1952  1969    40675           0          1          1          1         1413   \n",
       " ...    ...      ...         ...        ...        ...        ...          ...   \n",
       " 3994  4017    18476           0          1          1          1         8525   \n",
       " 3995  4018    64385           0          1          1          1          981   \n",
       " 3996  4019    73597           0          3          1          1        25447   \n",
       " 3997  4020    54899           0          1          1          1          500   \n",
       " 3998  4021     3016           0          1          1          1            0   \n",
       " \n",
       "       Bonus_trans  Flight_miles_12mo  Flight_trans_12  Days_since_enroll  \\\n",
       " 1129            4                  0                0               1547   \n",
       " 1424           11                200                1               2587   \n",
       " 1950            0                  0                0               3178   \n",
       " 1951           13                  0                0               3329   \n",
       " 1952            9                  0                0               2895   \n",
       " ...           ...                ...              ...                ...   \n",
       " 3994            4                200                1               1403   \n",
       " 3995            5                  0                0               1395   \n",
       " 3996            8                  0                0               1402   \n",
       " 3997            1                500                1               1401   \n",
       " 3998            0                  0                0               1398   \n",
       " \n",
       "       Award?  cluster  \n",
       " 1129       0        0  \n",
       " 1424       0        0  \n",
       " 1950       0        0  \n",
       " 1951       1        0  \n",
       " 1952       0        0  \n",
       " ...      ...      ...  \n",
       " 3994       1        0  \n",
       " 3995       1        0  \n",
       " 3996       1        0  \n",
       " 3997       0        0  \n",
       " 3998       0        0  \n",
       " \n",
       " [1545 rows x 13 columns],\n",
       " (1545, 13))"
      ]
     },
     "execution_count": 20,
     "metadata": {},
     "output_type": "execute_result"
    }
   ],
   "source": [
    "airlines_data1[airlines_data1['cluster']==0],airlines_data1[airlines_data1['cluster']==0].shape"
   ]
  },
  {
   "cell_type": "code",
   "execution_count": 21,
   "id": "ed8263ac",
   "metadata": {
    "ExecuteTime": {
     "end_time": "2022-07-08T09:28:57.828196Z",
     "start_time": "2022-07-08T09:28:57.795932Z"
    }
   },
   "outputs": [
    {
     "data": {
      "text/plain": [
       "(       ID#  Balance  Qual_miles  cc1_miles  cc2_miles  cc3_miles  Bonus_miles  \\\n",
       " 4        5    97752           0          4          1          1        43300   \n",
       " 6        7    84914           0          3          1          1        27482   \n",
       " 9       10   104860           0          3          1          1        28426   \n",
       " 11      12    96522           0          5          1          1        61105   \n",
       " 15      16    28495           0          4          1          1        49442   \n",
       " ...    ...      ...         ...        ...        ...        ...          ...   \n",
       " 3867  3890    88404           0          4          1          1        37304   \n",
       " 3881  3904    32424           0          4          1          1        39635   \n",
       " 3883  3906   126167           0          5          1          1       190160   \n",
       " 3908  3931    57642           0          4          1          1        52176   \n",
       " 3930  3953    40424           0          4          1          1        44110   \n",
       " \n",
       "       Bonus_trans  Flight_miles_12mo  Flight_trans_12  Days_since_enroll  \\\n",
       " 4              26               2077                4               6935   \n",
       " 6              25                  0                0               6994   \n",
       " 9              28               1150                3               6931   \n",
       " 11             19                  0                0               6924   \n",
       " 15             15                  0                0               6912   \n",
       " ...           ...                ...              ...                ...   \n",
       " 3867           29                500                1               1628   \n",
       " 3881           16                  0                0               1584   \n",
       " 3883           15                  0                0               1612   \n",
       " 3908           15                  0                0               1564   \n",
       " 3930           26                343                3               1523   \n",
       " \n",
       "       Award?  cluster  \n",
       " 4          1        2  \n",
       " 6          0        2  \n",
       " 9          1        2  \n",
       " 11         1        2  \n",
       " 15         1        2  \n",
       " ...      ...      ...  \n",
       " 3867       0        2  \n",
       " 3881       1        2  \n",
       " 3883       1        2  \n",
       " 3908       1        2  \n",
       " 3930       1        2  \n",
       " \n",
       " [997 rows x 13 columns],\n",
       " (997, 13))"
      ]
     },
     "execution_count": 21,
     "metadata": {},
     "output_type": "execute_result"
    }
   ],
   "source": [
    "airlines_data1[airlines_data1['cluster']==2],airlines_data1[airlines_data1['cluster']==2].shape"
   ]
  },
  {
   "cell_type": "code",
   "execution_count": 22,
   "id": "e938cd20",
   "metadata": {
    "ExecuteTime": {
     "end_time": "2022-07-08T09:28:58.011149Z",
     "start_time": "2022-07-08T09:28:57.981925Z"
    }
   },
   "outputs": [
    {
     "data": {
      "text/plain": [
       "(       ID#  Balance  Qual_miles  cc1_miles  cc2_miles  cc3_miles  Bonus_miles  \\\n",
       " 0        1    28143           0          1          1          1          174   \n",
       " 1        2    19244           0          1          1          1          215   \n",
       " 2        3    41354           0          1          1          1         4123   \n",
       " 3        4    14776           0          1          1          1          500   \n",
       " 5        6    16420           0          1          1          1            0   \n",
       " ...    ...      ...         ...        ...        ...        ...          ...   \n",
       " 2168  2185   245045           0          1          1          1        25039   \n",
       " 2176  2193   194875           0          1          1          1         7550   \n",
       " 2184  2201   109268           0          2          1          1         7401   \n",
       " 2194  2211    81251           0          1          1          1        19500   \n",
       " 2202  2219    35445           0          1          1          1         3379   \n",
       " \n",
       "       Bonus_trans  Flight_miles_12mo  Flight_trans_12  Days_since_enroll  \\\n",
       " 0               1                  0                0               7000   \n",
       " 1               2                  0                0               6968   \n",
       " 2               4                  0                0               7034   \n",
       " 3               1                  0                0               6952   \n",
       " 5               0                  0                0               6942   \n",
       " ...           ...                ...              ...                ...   \n",
       " 2168           16                500                1               4173   \n",
       " 2176            6               1050                3               3831   \n",
       " 2184           17                750                1               4034   \n",
       " 2194            6                  0                0               3958   \n",
       " 2202            9                  0                0               4198   \n",
       " \n",
       "       Award?  cluster  \n",
       " 0          0        3  \n",
       " 1          0        3  \n",
       " 2          0        3  \n",
       " 3          0        3  \n",
       " 5          0        3  \n",
       " ...      ...      ...  \n",
       " 2168       0        3  \n",
       " 2176       1        3  \n",
       " 2184       0        3  \n",
       " 2194       1        3  \n",
       " 2202       1        3  \n",
       " \n",
       " [1300 rows x 13 columns],\n",
       " (1300, 13))"
      ]
     },
     "execution_count": 22,
     "metadata": {},
     "output_type": "execute_result"
    }
   ],
   "source": [
    "airlines_data1[airlines_data1['cluster']==3],airlines_data1[airlines_data1['cluster']==3].shape"
   ]
  },
  {
   "cell_type": "code",
   "execution_count": 23,
   "id": "0de3f057",
   "metadata": {
    "ExecuteTime": {
     "end_time": "2022-07-08T09:28:58.396683Z",
     "start_time": "2022-07-08T09:28:58.373524Z"
    }
   },
   "outputs": [
    {
     "data": {
      "text/plain": [
       "(       ID#  Balance  Qual_miles  cc1_miles  cc2_miles  cc3_miles  Bonus_miles  \\\n",
       " 8        9   443003           0          3          2          1         1753   \n",
       " 42      43    60313           0          1          1          1        10000   \n",
       " 65      66    53914           0          3          1          1        33767   \n",
       " 94      97   185549           0          5          1          1       110859   \n",
       " 112    115   124198           0          5          1          1        66330   \n",
       " ...    ...      ...         ...        ...        ...        ...          ...   \n",
       " 3907  3930   126490           0          1          1          1         8808   \n",
       " 3911  3934    55922        2273          1          1          1         8104   \n",
       " 3917  3940   130748           0          4          1          1        65510   \n",
       " 3934  3957    76595           0          1          1          1        10577   \n",
       " 3950  3973    59650           0          1          1          1         5050   \n",
       " \n",
       "       Bonus_trans  Flight_miles_12mo  Flight_trans_12  Days_since_enroll  \\\n",
       " 8              43               3850               12               6948   \n",
       " 42             26               3250                9               7829   \n",
       " 65             45               5550               29               6826   \n",
       " 94             39               2950               16               6778   \n",
       " 112            23               4833               10               7710   \n",
       " ...           ...                ...              ...                ...   \n",
       " 3907           15               5183               12               1566   \n",
       " 3911           19               4104               16               1552   \n",
       " 3917           37               6349                7               1545   \n",
       " 3934            2               9577                1               1515   \n",
       " 3950           16               3950               13               1476   \n",
       " \n",
       "       Award?  cluster  \n",
       " 8          1        1  \n",
       " 42         1        1  \n",
       " 65         1        1  \n",
       " 94         1        1  \n",
       " 112        0        1  \n",
       " ...      ...      ...  \n",
       " 3907       0        1  \n",
       " 3911       0        1  \n",
       " 3917       0        1  \n",
       " 3934       0        1  \n",
       " 3950       0        1  \n",
       " \n",
       " [157 rows x 13 columns],\n",
       " (157, 13))"
      ]
     },
     "execution_count": 23,
     "metadata": {},
     "output_type": "execute_result"
    }
   ],
   "source": [
    "airlines_data1[airlines_data1['cluster']==1],airlines_data1[airlines_data1['cluster']==1].shape"
   ]
  },
  {
   "cell_type": "markdown",
   "id": "c349fa35",
   "metadata": {},
   "source": [
    "# Hierarchical clustering"
   ]
  },
  {
   "cell_type": "code",
   "execution_count": 24,
   "id": "90c51778",
   "metadata": {
    "ExecuteTime": {
     "end_time": "2022-07-08T09:28:59.878663Z",
     "start_time": "2022-07-08T09:28:59.860444Z"
    }
   },
   "outputs": [],
   "source": [
    "x = airlines_data.iloc[:,1:]"
   ]
  },
  {
   "cell_type": "code",
   "execution_count": 25,
   "id": "ebd3b1d8",
   "metadata": {
    "ExecuteTime": {
     "end_time": "2022-07-08T09:29:00.076438Z",
     "start_time": "2022-07-08T09:29:00.051678Z"
    }
   },
   "outputs": [],
   "source": [
    "from sklearn.preprocessing import StandardScaler\n",
    "airline_data_std=StandardScaler().fit_transform(x)"
   ]
  },
  {
   "cell_type": "code",
   "execution_count": 26,
   "id": "34444ae7",
   "metadata": {
    "ExecuteTime": {
     "end_time": "2022-07-08T09:29:00.261985Z",
     "start_time": "2022-07-08T09:29:00.226037Z"
    }
   },
   "outputs": [
    {
     "data": {
      "text/html": [
       "<div>\n",
       "<style scoped>\n",
       "    .dataframe tbody tr th:only-of-type {\n",
       "        vertical-align: middle;\n",
       "    }\n",
       "\n",
       "    .dataframe tbody tr th {\n",
       "        vertical-align: top;\n",
       "    }\n",
       "\n",
       "    .dataframe thead th {\n",
       "        text-align: right;\n",
       "    }\n",
       "</style>\n",
       "<table border=\"1\" class=\"dataframe\">\n",
       "  <thead>\n",
       "    <tr style=\"text-align: right;\">\n",
       "      <th></th>\n",
       "      <th>Balance</th>\n",
       "      <th>Qual_miles</th>\n",
       "      <th>cc1_miles</th>\n",
       "      <th>cc2_miles</th>\n",
       "      <th>cc3_miles</th>\n",
       "      <th>Bonus_miles</th>\n",
       "      <th>Bonus_trans</th>\n",
       "      <th>Flight_miles_12mo</th>\n",
       "      <th>Flight_trans_12</th>\n",
       "      <th>Days_since_enroll</th>\n",
       "      <th>Award?</th>\n",
       "      <th>cluster</th>\n",
       "    </tr>\n",
       "  </thead>\n",
       "  <tbody>\n",
       "    <tr>\n",
       "      <th>0</th>\n",
       "      <td>-0.451141</td>\n",
       "      <td>-0.186299</td>\n",
       "      <td>-0.769578</td>\n",
       "      <td>-0.098242</td>\n",
       "      <td>-0.062767</td>\n",
       "      <td>-0.702786</td>\n",
       "      <td>-1.104065</td>\n",
       "      <td>-0.328603</td>\n",
       "      <td>-0.362168</td>\n",
       "      <td>1.395454</td>\n",
       "      <td>-0.766919</td>\n",
       "      <td>1.149653</td>\n",
       "    </tr>\n",
       "    <tr>\n",
       "      <th>1</th>\n",
       "      <td>-0.539457</td>\n",
       "      <td>-0.186299</td>\n",
       "      <td>-0.769578</td>\n",
       "      <td>-0.098242</td>\n",
       "      <td>-0.062767</td>\n",
       "      <td>-0.701088</td>\n",
       "      <td>-0.999926</td>\n",
       "      <td>-0.328603</td>\n",
       "      <td>-0.362168</td>\n",
       "      <td>1.379957</td>\n",
       "      <td>-0.766919</td>\n",
       "      <td>1.149653</td>\n",
       "    </tr>\n",
       "    <tr>\n",
       "      <th>2</th>\n",
       "      <td>-0.320031</td>\n",
       "      <td>-0.186299</td>\n",
       "      <td>-0.769578</td>\n",
       "      <td>-0.098242</td>\n",
       "      <td>-0.062767</td>\n",
       "      <td>-0.539253</td>\n",
       "      <td>-0.791649</td>\n",
       "      <td>-0.328603</td>\n",
       "      <td>-0.362168</td>\n",
       "      <td>1.411920</td>\n",
       "      <td>-0.766919</td>\n",
       "      <td>1.149653</td>\n",
       "    </tr>\n",
       "    <tr>\n",
       "      <th>3</th>\n",
       "      <td>-0.583799</td>\n",
       "      <td>-0.186299</td>\n",
       "      <td>-0.769578</td>\n",
       "      <td>-0.098242</td>\n",
       "      <td>-0.062767</td>\n",
       "      <td>-0.689286</td>\n",
       "      <td>-1.104065</td>\n",
       "      <td>-0.328603</td>\n",
       "      <td>-0.362168</td>\n",
       "      <td>1.372208</td>\n",
       "      <td>-0.766919</td>\n",
       "      <td>1.149653</td>\n",
       "    </tr>\n",
       "    <tr>\n",
       "      <th>4</th>\n",
       "      <td>0.239678</td>\n",
       "      <td>-0.186299</td>\n",
       "      <td>1.409471</td>\n",
       "      <td>-0.098242</td>\n",
       "      <td>-0.062767</td>\n",
       "      <td>1.083121</td>\n",
       "      <td>1.499394</td>\n",
       "      <td>1.154932</td>\n",
       "      <td>0.692490</td>\n",
       "      <td>1.363975</td>\n",
       "      <td>1.303918</td>\n",
       "      <td>0.376450</td>\n",
       "    </tr>\n",
       "    <tr>\n",
       "      <th>...</th>\n",
       "      <td>...</td>\n",
       "      <td>...</td>\n",
       "      <td>...</td>\n",
       "      <td>...</td>\n",
       "      <td>...</td>\n",
       "      <td>...</td>\n",
       "      <td>...</td>\n",
       "      <td>...</td>\n",
       "      <td>...</td>\n",
       "      <td>...</td>\n",
       "      <td>...</td>\n",
       "      <td>...</td>\n",
       "    </tr>\n",
       "    <tr>\n",
       "      <th>3994</th>\n",
       "      <td>-0.547079</td>\n",
       "      <td>-0.186299</td>\n",
       "      <td>-0.769578</td>\n",
       "      <td>-0.098242</td>\n",
       "      <td>-0.062767</td>\n",
       "      <td>-0.356960</td>\n",
       "      <td>-0.791649</td>\n",
       "      <td>-0.185750</td>\n",
       "      <td>-0.098503</td>\n",
       "      <td>-1.315120</td>\n",
       "      <td>1.303918</td>\n",
       "      <td>-1.169954</td>\n",
       "    </tr>\n",
       "    <tr>\n",
       "      <th>3995</th>\n",
       "      <td>-0.091465</td>\n",
       "      <td>-0.186299</td>\n",
       "      <td>-0.769578</td>\n",
       "      <td>-0.098242</td>\n",
       "      <td>-0.062767</td>\n",
       "      <td>-0.669367</td>\n",
       "      <td>-0.687511</td>\n",
       "      <td>-0.328603</td>\n",
       "      <td>-0.362168</td>\n",
       "      <td>-1.318994</td>\n",
       "      <td>1.303918</td>\n",
       "      <td>-1.169954</td>\n",
       "    </tr>\n",
       "    <tr>\n",
       "      <th>3996</th>\n",
       "      <td>-0.000043</td>\n",
       "      <td>-0.186299</td>\n",
       "      <td>0.683121</td>\n",
       "      <td>-0.098242</td>\n",
       "      <td>-0.062767</td>\n",
       "      <td>0.343804</td>\n",
       "      <td>-0.375096</td>\n",
       "      <td>-0.328603</td>\n",
       "      <td>-0.362168</td>\n",
       "      <td>-1.315604</td>\n",
       "      <td>1.303918</td>\n",
       "      <td>-1.169954</td>\n",
       "    </tr>\n",
       "    <tr>\n",
       "      <th>3997</th>\n",
       "      <td>-0.185607</td>\n",
       "      <td>-0.186299</td>\n",
       "      <td>-0.769578</td>\n",
       "      <td>-0.098242</td>\n",
       "      <td>-0.062767</td>\n",
       "      <td>-0.689286</td>\n",
       "      <td>-1.104065</td>\n",
       "      <td>0.028531</td>\n",
       "      <td>-0.098503</td>\n",
       "      <td>-1.316088</td>\n",
       "      <td>-0.766919</td>\n",
       "      <td>-1.169954</td>\n",
       "    </tr>\n",
       "    <tr>\n",
       "      <th>3998</th>\n",
       "      <td>-0.700508</td>\n",
       "      <td>-0.186299</td>\n",
       "      <td>-0.769578</td>\n",
       "      <td>-0.098242</td>\n",
       "      <td>-0.062767</td>\n",
       "      <td>-0.709992</td>\n",
       "      <td>-1.208203</td>\n",
       "      <td>-0.328603</td>\n",
       "      <td>-0.362168</td>\n",
       "      <td>-1.317541</td>\n",
       "      <td>-0.766919</td>\n",
       "      <td>-1.169954</td>\n",
       "    </tr>\n",
       "  </tbody>\n",
       "</table>\n",
       "<p>3999 rows × 12 columns</p>\n",
       "</div>"
      ],
      "text/plain": [
       "       Balance  Qual_miles  cc1_miles  cc2_miles  cc3_miles  Bonus_miles  \\\n",
       "0    -0.451141   -0.186299  -0.769578  -0.098242  -0.062767    -0.702786   \n",
       "1    -0.539457   -0.186299  -0.769578  -0.098242  -0.062767    -0.701088   \n",
       "2    -0.320031   -0.186299  -0.769578  -0.098242  -0.062767    -0.539253   \n",
       "3    -0.583799   -0.186299  -0.769578  -0.098242  -0.062767    -0.689286   \n",
       "4     0.239678   -0.186299   1.409471  -0.098242  -0.062767     1.083121   \n",
       "...        ...         ...        ...        ...        ...          ...   \n",
       "3994 -0.547079   -0.186299  -0.769578  -0.098242  -0.062767    -0.356960   \n",
       "3995 -0.091465   -0.186299  -0.769578  -0.098242  -0.062767    -0.669367   \n",
       "3996 -0.000043   -0.186299   0.683121  -0.098242  -0.062767     0.343804   \n",
       "3997 -0.185607   -0.186299  -0.769578  -0.098242  -0.062767    -0.689286   \n",
       "3998 -0.700508   -0.186299  -0.769578  -0.098242  -0.062767    -0.709992   \n",
       "\n",
       "      Bonus_trans  Flight_miles_12mo  Flight_trans_12  Days_since_enroll  \\\n",
       "0       -1.104065          -0.328603        -0.362168           1.395454   \n",
       "1       -0.999926          -0.328603        -0.362168           1.379957   \n",
       "2       -0.791649          -0.328603        -0.362168           1.411920   \n",
       "3       -1.104065          -0.328603        -0.362168           1.372208   \n",
       "4        1.499394           1.154932         0.692490           1.363975   \n",
       "...           ...                ...              ...                ...   \n",
       "3994    -0.791649          -0.185750        -0.098503          -1.315120   \n",
       "3995    -0.687511          -0.328603        -0.362168          -1.318994   \n",
       "3996    -0.375096          -0.328603        -0.362168          -1.315604   \n",
       "3997    -1.104065           0.028531        -0.098503          -1.316088   \n",
       "3998    -1.208203          -0.328603        -0.362168          -1.317541   \n",
       "\n",
       "        Award?   cluster  \n",
       "0    -0.766919  1.149653  \n",
       "1    -0.766919  1.149653  \n",
       "2    -0.766919  1.149653  \n",
       "3    -0.766919  1.149653  \n",
       "4     1.303918  0.376450  \n",
       "...        ...       ...  \n",
       "3994  1.303918 -1.169954  \n",
       "3995  1.303918 -1.169954  \n",
       "3996  1.303918 -1.169954  \n",
       "3997 -0.766919 -1.169954  \n",
       "3998 -0.766919 -1.169954  \n",
       "\n",
       "[3999 rows x 12 columns]"
      ]
     },
     "execution_count": 26,
     "metadata": {},
     "output_type": "execute_result"
    }
   ],
   "source": [
    "airline_data_scaled=pd.DataFrame(airline_data_std,columns=x.columns)\n",
    "airline_data_scaled"
   ]
  },
  {
   "cell_type": "code",
   "execution_count": 27,
   "id": "32139991",
   "metadata": {
    "ExecuteTime": {
     "end_time": "2022-07-08T09:29:00.378575Z",
     "start_time": "2022-07-08T09:29:00.373819Z"
    }
   },
   "outputs": [],
   "source": [
    "import scipy.cluster.hierarchy as sch"
   ]
  },
  {
   "cell_type": "code",
   "execution_count": 28,
   "id": "ca550fc8",
   "metadata": {
    "ExecuteTime": {
     "end_time": "2022-07-08T09:29:00.528169Z",
     "start_time": "2022-07-08T09:29:00.524746Z"
    }
   },
   "outputs": [],
   "source": [
    "#dendogram=sch.dendrogram(sch.linkage(airline_data_scaled,method='single', metric='euclidean'))"
   ]
  },
  {
   "cell_type": "code",
   "execution_count": 29,
   "id": "564b6325",
   "metadata": {
    "ExecuteTime": {
     "end_time": "2022-07-08T09:29:00.710131Z",
     "start_time": "2022-07-08T09:29:00.701826Z"
    }
   },
   "outputs": [],
   "source": [
    "from sklearn.cluster import AgglomerativeClustering"
   ]
  },
  {
   "cell_type": "code",
   "execution_count": 30,
   "id": "51b1d7ca",
   "metadata": {
    "ExecuteTime": {
     "end_time": "2022-07-08T09:29:01.278071Z",
     "start_time": "2022-07-08T09:29:00.887368Z"
    }
   },
   "outputs": [
    {
     "data": {
      "text/plain": [
       "array([0, 0, 0, ..., 0, 0, 0], dtype=int64)"
      ]
     },
     "execution_count": 30,
     "metadata": {},
     "output_type": "execute_result"
    }
   ],
   "source": [
    "hc=AgglomerativeClustering(n_clusters=2,linkage='single')\n",
    "y_hc=hc.fit_predict(airline_data_scaled)\n",
    "y_hc"
   ]
  },
  {
   "cell_type": "code",
   "execution_count": 31,
   "id": "309c3d81",
   "metadata": {
    "ExecuteTime": {
     "end_time": "2022-07-08T09:29:01.315660Z",
     "start_time": "2022-07-08T09:29:01.282242Z"
    }
   },
   "outputs": [
    {
     "data": {
      "text/html": [
       "<div>\n",
       "<style scoped>\n",
       "    .dataframe tbody tr th:only-of-type {\n",
       "        vertical-align: middle;\n",
       "    }\n",
       "\n",
       "    .dataframe tbody tr th {\n",
       "        vertical-align: top;\n",
       "    }\n",
       "\n",
       "    .dataframe thead th {\n",
       "        text-align: right;\n",
       "    }\n",
       "</style>\n",
       "<table border=\"1\" class=\"dataframe\">\n",
       "  <thead>\n",
       "    <tr style=\"text-align: right;\">\n",
       "      <th></th>\n",
       "      <th>cluster</th>\n",
       "    </tr>\n",
       "  </thead>\n",
       "  <tbody>\n",
       "    <tr>\n",
       "      <th>0</th>\n",
       "      <td>0</td>\n",
       "    </tr>\n",
       "    <tr>\n",
       "      <th>1</th>\n",
       "      <td>0</td>\n",
       "    </tr>\n",
       "    <tr>\n",
       "      <th>2</th>\n",
       "      <td>0</td>\n",
       "    </tr>\n",
       "    <tr>\n",
       "      <th>3</th>\n",
       "      <td>0</td>\n",
       "    </tr>\n",
       "    <tr>\n",
       "      <th>4</th>\n",
       "      <td>0</td>\n",
       "    </tr>\n",
       "    <tr>\n",
       "      <th>...</th>\n",
       "      <td>...</td>\n",
       "    </tr>\n",
       "    <tr>\n",
       "      <th>3994</th>\n",
       "      <td>0</td>\n",
       "    </tr>\n",
       "    <tr>\n",
       "      <th>3995</th>\n",
       "      <td>0</td>\n",
       "    </tr>\n",
       "    <tr>\n",
       "      <th>3996</th>\n",
       "      <td>0</td>\n",
       "    </tr>\n",
       "    <tr>\n",
       "      <th>3997</th>\n",
       "      <td>0</td>\n",
       "    </tr>\n",
       "    <tr>\n",
       "      <th>3998</th>\n",
       "      <td>0</td>\n",
       "    </tr>\n",
       "  </tbody>\n",
       "</table>\n",
       "<p>3999 rows × 1 columns</p>\n",
       "</div>"
      ],
      "text/plain": [
       "      cluster\n",
       "0           0\n",
       "1           0\n",
       "2           0\n",
       "3           0\n",
       "4           0\n",
       "...       ...\n",
       "3994        0\n",
       "3995        0\n",
       "3996        0\n",
       "3997        0\n",
       "3998        0\n",
       "\n",
       "[3999 rows x 1 columns]"
      ]
     },
     "execution_count": 31,
     "metadata": {},
     "output_type": "execute_result"
    }
   ],
   "source": [
    "cluster_ag=pd.DataFrame({'cluster':y_hc})\n",
    "cluster_ag"
   ]
  },
  {
   "cell_type": "code",
   "execution_count": 32,
   "id": "792b0ed0",
   "metadata": {
    "ExecuteTime": {
     "end_time": "2022-07-08T09:29:02.149877Z",
     "start_time": "2022-07-08T09:29:02.104288Z"
    }
   },
   "outputs": [
    {
     "data": {
      "text/html": [
       "<div>\n",
       "<style scoped>\n",
       "    .dataframe tbody tr th:only-of-type {\n",
       "        vertical-align: middle;\n",
       "    }\n",
       "\n",
       "    .dataframe tbody tr th {\n",
       "        vertical-align: top;\n",
       "    }\n",
       "\n",
       "    .dataframe thead th {\n",
       "        text-align: right;\n",
       "    }\n",
       "</style>\n",
       "<table border=\"1\" class=\"dataframe\">\n",
       "  <thead>\n",
       "    <tr style=\"text-align: right;\">\n",
       "      <th></th>\n",
       "      <th>ID#</th>\n",
       "      <th>Balance</th>\n",
       "      <th>Qual_miles</th>\n",
       "      <th>cc1_miles</th>\n",
       "      <th>cc2_miles</th>\n",
       "      <th>cc3_miles</th>\n",
       "      <th>Bonus_miles</th>\n",
       "      <th>Bonus_trans</th>\n",
       "      <th>Flight_miles_12mo</th>\n",
       "      <th>Flight_trans_12</th>\n",
       "      <th>Days_since_enroll</th>\n",
       "      <th>Award?</th>\n",
       "      <th>cluster</th>\n",
       "    </tr>\n",
       "  </thead>\n",
       "  <tbody>\n",
       "    <tr>\n",
       "      <th>0</th>\n",
       "      <td>1</td>\n",
       "      <td>28143</td>\n",
       "      <td>0</td>\n",
       "      <td>1</td>\n",
       "      <td>1</td>\n",
       "      <td>1</td>\n",
       "      <td>174</td>\n",
       "      <td>1</td>\n",
       "      <td>0</td>\n",
       "      <td>0</td>\n",
       "      <td>7000</td>\n",
       "      <td>0</td>\n",
       "      <td>3</td>\n",
       "    </tr>\n",
       "    <tr>\n",
       "      <th>1</th>\n",
       "      <td>2</td>\n",
       "      <td>19244</td>\n",
       "      <td>0</td>\n",
       "      <td>1</td>\n",
       "      <td>1</td>\n",
       "      <td>1</td>\n",
       "      <td>215</td>\n",
       "      <td>2</td>\n",
       "      <td>0</td>\n",
       "      <td>0</td>\n",
       "      <td>6968</td>\n",
       "      <td>0</td>\n",
       "      <td>3</td>\n",
       "    </tr>\n",
       "    <tr>\n",
       "      <th>2</th>\n",
       "      <td>3</td>\n",
       "      <td>41354</td>\n",
       "      <td>0</td>\n",
       "      <td>1</td>\n",
       "      <td>1</td>\n",
       "      <td>1</td>\n",
       "      <td>4123</td>\n",
       "      <td>4</td>\n",
       "      <td>0</td>\n",
       "      <td>0</td>\n",
       "      <td>7034</td>\n",
       "      <td>0</td>\n",
       "      <td>3</td>\n",
       "    </tr>\n",
       "    <tr>\n",
       "      <th>3</th>\n",
       "      <td>4</td>\n",
       "      <td>14776</td>\n",
       "      <td>0</td>\n",
       "      <td>1</td>\n",
       "      <td>1</td>\n",
       "      <td>1</td>\n",
       "      <td>500</td>\n",
       "      <td>1</td>\n",
       "      <td>0</td>\n",
       "      <td>0</td>\n",
       "      <td>6952</td>\n",
       "      <td>0</td>\n",
       "      <td>3</td>\n",
       "    </tr>\n",
       "    <tr>\n",
       "      <th>4</th>\n",
       "      <td>5</td>\n",
       "      <td>97752</td>\n",
       "      <td>0</td>\n",
       "      <td>4</td>\n",
       "      <td>1</td>\n",
       "      <td>1</td>\n",
       "      <td>43300</td>\n",
       "      <td>26</td>\n",
       "      <td>2077</td>\n",
       "      <td>4</td>\n",
       "      <td>6935</td>\n",
       "      <td>1</td>\n",
       "      <td>2</td>\n",
       "    </tr>\n",
       "    <tr>\n",
       "      <th>...</th>\n",
       "      <td>...</td>\n",
       "      <td>...</td>\n",
       "      <td>...</td>\n",
       "      <td>...</td>\n",
       "      <td>...</td>\n",
       "      <td>...</td>\n",
       "      <td>...</td>\n",
       "      <td>...</td>\n",
       "      <td>...</td>\n",
       "      <td>...</td>\n",
       "      <td>...</td>\n",
       "      <td>...</td>\n",
       "      <td>...</td>\n",
       "    </tr>\n",
       "    <tr>\n",
       "      <th>3994</th>\n",
       "      <td>4017</td>\n",
       "      <td>18476</td>\n",
       "      <td>0</td>\n",
       "      <td>1</td>\n",
       "      <td>1</td>\n",
       "      <td>1</td>\n",
       "      <td>8525</td>\n",
       "      <td>4</td>\n",
       "      <td>200</td>\n",
       "      <td>1</td>\n",
       "      <td>1403</td>\n",
       "      <td>1</td>\n",
       "      <td>0</td>\n",
       "    </tr>\n",
       "    <tr>\n",
       "      <th>3995</th>\n",
       "      <td>4018</td>\n",
       "      <td>64385</td>\n",
       "      <td>0</td>\n",
       "      <td>1</td>\n",
       "      <td>1</td>\n",
       "      <td>1</td>\n",
       "      <td>981</td>\n",
       "      <td>5</td>\n",
       "      <td>0</td>\n",
       "      <td>0</td>\n",
       "      <td>1395</td>\n",
       "      <td>1</td>\n",
       "      <td>0</td>\n",
       "    </tr>\n",
       "    <tr>\n",
       "      <th>3996</th>\n",
       "      <td>4019</td>\n",
       "      <td>73597</td>\n",
       "      <td>0</td>\n",
       "      <td>3</td>\n",
       "      <td>1</td>\n",
       "      <td>1</td>\n",
       "      <td>25447</td>\n",
       "      <td>8</td>\n",
       "      <td>0</td>\n",
       "      <td>0</td>\n",
       "      <td>1402</td>\n",
       "      <td>1</td>\n",
       "      <td>0</td>\n",
       "    </tr>\n",
       "    <tr>\n",
       "      <th>3997</th>\n",
       "      <td>4020</td>\n",
       "      <td>54899</td>\n",
       "      <td>0</td>\n",
       "      <td>1</td>\n",
       "      <td>1</td>\n",
       "      <td>1</td>\n",
       "      <td>500</td>\n",
       "      <td>1</td>\n",
       "      <td>500</td>\n",
       "      <td>1</td>\n",
       "      <td>1401</td>\n",
       "      <td>0</td>\n",
       "      <td>0</td>\n",
       "    </tr>\n",
       "    <tr>\n",
       "      <th>3998</th>\n",
       "      <td>4021</td>\n",
       "      <td>3016</td>\n",
       "      <td>0</td>\n",
       "      <td>1</td>\n",
       "      <td>1</td>\n",
       "      <td>1</td>\n",
       "      <td>0</td>\n",
       "      <td>0</td>\n",
       "      <td>0</td>\n",
       "      <td>0</td>\n",
       "      <td>1398</td>\n",
       "      <td>0</td>\n",
       "      <td>0</td>\n",
       "    </tr>\n",
       "  </tbody>\n",
       "</table>\n",
       "<p>3999 rows × 13 columns</p>\n",
       "</div>"
      ],
      "text/plain": [
       "       ID#  Balance  Qual_miles  cc1_miles  cc2_miles  cc3_miles  Bonus_miles  \\\n",
       "0        1    28143           0          1          1          1          174   \n",
       "1        2    19244           0          1          1          1          215   \n",
       "2        3    41354           0          1          1          1         4123   \n",
       "3        4    14776           0          1          1          1          500   \n",
       "4        5    97752           0          4          1          1        43300   \n",
       "...    ...      ...         ...        ...        ...        ...          ...   \n",
       "3994  4017    18476           0          1          1          1         8525   \n",
       "3995  4018    64385           0          1          1          1          981   \n",
       "3996  4019    73597           0          3          1          1        25447   \n",
       "3997  4020    54899           0          1          1          1          500   \n",
       "3998  4021     3016           0          1          1          1            0   \n",
       "\n",
       "      Bonus_trans  Flight_miles_12mo  Flight_trans_12  Days_since_enroll  \\\n",
       "0               1                  0                0               7000   \n",
       "1               2                  0                0               6968   \n",
       "2               4                  0                0               7034   \n",
       "3               1                  0                0               6952   \n",
       "4              26               2077                4               6935   \n",
       "...           ...                ...              ...                ...   \n",
       "3994            4                200                1               1403   \n",
       "3995            5                  0                0               1395   \n",
       "3996            8                  0                0               1402   \n",
       "3997            1                500                1               1401   \n",
       "3998            0                  0                0               1398   \n",
       "\n",
       "      Award?  cluster  \n",
       "0          0        3  \n",
       "1          0        3  \n",
       "2          0        3  \n",
       "3          0        3  \n",
       "4          1        2  \n",
       "...      ...      ...  \n",
       "3994       1        0  \n",
       "3995       1        0  \n",
       "3996       1        0  \n",
       "3997       0        0  \n",
       "3998       0        0  \n",
       "\n",
       "[3999 rows x 13 columns]"
      ]
     },
     "execution_count": 32,
     "metadata": {},
     "output_type": "execute_result"
    }
   ],
   "source": [
    "airline_data_2 = airlines_data\n",
    "airline_data_2"
   ]
  },
  {
   "cell_type": "code",
   "execution_count": 33,
   "id": "24f0e902",
   "metadata": {
    "ExecuteTime": {
     "end_time": "2022-07-08T09:29:03.476327Z",
     "start_time": "2022-07-08T09:29:03.444863Z"
    }
   },
   "outputs": [
    {
     "data": {
      "text/html": [
       "<div>\n",
       "<style scoped>\n",
       "    .dataframe tbody tr th:only-of-type {\n",
       "        vertical-align: middle;\n",
       "    }\n",
       "\n",
       "    .dataframe tbody tr th {\n",
       "        vertical-align: top;\n",
       "    }\n",
       "\n",
       "    .dataframe thead th {\n",
       "        text-align: right;\n",
       "    }\n",
       "</style>\n",
       "<table border=\"1\" class=\"dataframe\">\n",
       "  <thead>\n",
       "    <tr style=\"text-align: right;\">\n",
       "      <th></th>\n",
       "      <th>ID#</th>\n",
       "      <th>Balance</th>\n",
       "      <th>Qual_miles</th>\n",
       "      <th>cc1_miles</th>\n",
       "      <th>cc2_miles</th>\n",
       "      <th>cc3_miles</th>\n",
       "      <th>Bonus_miles</th>\n",
       "      <th>Bonus_trans</th>\n",
       "      <th>Flight_miles_12mo</th>\n",
       "      <th>Flight_trans_12</th>\n",
       "      <th>Days_since_enroll</th>\n",
       "      <th>Award?</th>\n",
       "      <th>cluster</th>\n",
       "    </tr>\n",
       "  </thead>\n",
       "  <tbody>\n",
       "    <tr>\n",
       "      <th>0</th>\n",
       "      <td>1</td>\n",
       "      <td>28143</td>\n",
       "      <td>0</td>\n",
       "      <td>1</td>\n",
       "      <td>1</td>\n",
       "      <td>1</td>\n",
       "      <td>174</td>\n",
       "      <td>1</td>\n",
       "      <td>0</td>\n",
       "      <td>0</td>\n",
       "      <td>7000</td>\n",
       "      <td>0</td>\n",
       "      <td>0</td>\n",
       "    </tr>\n",
       "    <tr>\n",
       "      <th>1</th>\n",
       "      <td>2</td>\n",
       "      <td>19244</td>\n",
       "      <td>0</td>\n",
       "      <td>1</td>\n",
       "      <td>1</td>\n",
       "      <td>1</td>\n",
       "      <td>215</td>\n",
       "      <td>2</td>\n",
       "      <td>0</td>\n",
       "      <td>0</td>\n",
       "      <td>6968</td>\n",
       "      <td>0</td>\n",
       "      <td>0</td>\n",
       "    </tr>\n",
       "    <tr>\n",
       "      <th>2</th>\n",
       "      <td>3</td>\n",
       "      <td>41354</td>\n",
       "      <td>0</td>\n",
       "      <td>1</td>\n",
       "      <td>1</td>\n",
       "      <td>1</td>\n",
       "      <td>4123</td>\n",
       "      <td>4</td>\n",
       "      <td>0</td>\n",
       "      <td>0</td>\n",
       "      <td>7034</td>\n",
       "      <td>0</td>\n",
       "      <td>0</td>\n",
       "    </tr>\n",
       "    <tr>\n",
       "      <th>3</th>\n",
       "      <td>4</td>\n",
       "      <td>14776</td>\n",
       "      <td>0</td>\n",
       "      <td>1</td>\n",
       "      <td>1</td>\n",
       "      <td>1</td>\n",
       "      <td>500</td>\n",
       "      <td>1</td>\n",
       "      <td>0</td>\n",
       "      <td>0</td>\n",
       "      <td>6952</td>\n",
       "      <td>0</td>\n",
       "      <td>0</td>\n",
       "    </tr>\n",
       "    <tr>\n",
       "      <th>4</th>\n",
       "      <td>5</td>\n",
       "      <td>97752</td>\n",
       "      <td>0</td>\n",
       "      <td>4</td>\n",
       "      <td>1</td>\n",
       "      <td>1</td>\n",
       "      <td>43300</td>\n",
       "      <td>26</td>\n",
       "      <td>2077</td>\n",
       "      <td>4</td>\n",
       "      <td>6935</td>\n",
       "      <td>1</td>\n",
       "      <td>0</td>\n",
       "    </tr>\n",
       "  </tbody>\n",
       "</table>\n",
       "</div>"
      ],
      "text/plain": [
       "   ID#  Balance  Qual_miles  cc1_miles  cc2_miles  cc3_miles  Bonus_miles  \\\n",
       "0    1    28143           0          1          1          1          174   \n",
       "1    2    19244           0          1          1          1          215   \n",
       "2    3    41354           0          1          1          1         4123   \n",
       "3    4    14776           0          1          1          1          500   \n",
       "4    5    97752           0          4          1          1        43300   \n",
       "\n",
       "   Bonus_trans  Flight_miles_12mo  Flight_trans_12  Days_since_enroll  Award?  \\\n",
       "0            1                  0                0               7000       0   \n",
       "1            2                  0                0               6968       0   \n",
       "2            4                  0                0               7034       0   \n",
       "3            1                  0                0               6952       0   \n",
       "4           26               2077                4               6935       1   \n",
       "\n",
       "   cluster  \n",
       "0        0  \n",
       "1        0  \n",
       "2        0  \n",
       "3        0  \n",
       "4        0  "
      ]
     },
     "execution_count": 33,
     "metadata": {},
     "output_type": "execute_result"
    }
   ],
   "source": [
    "airline_data_2['cluster']=cluster_ag\n",
    "airline_data_2.head()"
   ]
  },
  {
   "cell_type": "code",
   "execution_count": 34,
   "id": "7e115c7e",
   "metadata": {
    "ExecuteTime": {
     "end_time": "2022-07-08T09:29:03.642893Z",
     "start_time": "2022-07-08T09:29:03.623331Z"
    }
   },
   "outputs": [
    {
     "data": {
      "text/plain": [
       "array([0, 1], dtype=int64)"
      ]
     },
     "execution_count": 34,
     "metadata": {},
     "output_type": "execute_result"
    }
   ],
   "source": [
    "airline_data_2['cluster'].unique()"
   ]
  },
  {
   "cell_type": "code",
   "execution_count": 35,
   "id": "a2a6e7ba",
   "metadata": {
    "ExecuteTime": {
     "end_time": "2022-07-08T09:29:04.690394Z",
     "start_time": "2022-07-08T09:29:04.662980Z"
    }
   },
   "outputs": [
    {
     "data": {
      "text/html": [
       "<div>\n",
       "<style scoped>\n",
       "    .dataframe tbody tr th:only-of-type {\n",
       "        vertical-align: middle;\n",
       "    }\n",
       "\n",
       "    .dataframe tbody tr th {\n",
       "        vertical-align: top;\n",
       "    }\n",
       "\n",
       "    .dataframe thead th {\n",
       "        text-align: right;\n",
       "    }\n",
       "</style>\n",
       "<table border=\"1\" class=\"dataframe\">\n",
       "  <thead>\n",
       "    <tr style=\"text-align: right;\">\n",
       "      <th></th>\n",
       "      <th>ID#</th>\n",
       "      <th>Balance</th>\n",
       "      <th>Qual_miles</th>\n",
       "      <th>cc1_miles</th>\n",
       "      <th>cc2_miles</th>\n",
       "      <th>cc3_miles</th>\n",
       "      <th>Bonus_miles</th>\n",
       "      <th>Bonus_trans</th>\n",
       "      <th>Flight_miles_12mo</th>\n",
       "      <th>Flight_trans_12</th>\n",
       "      <th>Days_since_enroll</th>\n",
       "      <th>Award?</th>\n",
       "      <th>cluster</th>\n",
       "    </tr>\n",
       "  </thead>\n",
       "  <tbody>\n",
       "    <tr>\n",
       "      <th>0</th>\n",
       "      <td>1</td>\n",
       "      <td>28143</td>\n",
       "      <td>0</td>\n",
       "      <td>1</td>\n",
       "      <td>1</td>\n",
       "      <td>1</td>\n",
       "      <td>174</td>\n",
       "      <td>1</td>\n",
       "      <td>0</td>\n",
       "      <td>0</td>\n",
       "      <td>7000</td>\n",
       "      <td>0</td>\n",
       "      <td>0</td>\n",
       "    </tr>\n",
       "    <tr>\n",
       "      <th>1</th>\n",
       "      <td>2</td>\n",
       "      <td>19244</td>\n",
       "      <td>0</td>\n",
       "      <td>1</td>\n",
       "      <td>1</td>\n",
       "      <td>1</td>\n",
       "      <td>215</td>\n",
       "      <td>2</td>\n",
       "      <td>0</td>\n",
       "      <td>0</td>\n",
       "      <td>6968</td>\n",
       "      <td>0</td>\n",
       "      <td>0</td>\n",
       "    </tr>\n",
       "    <tr>\n",
       "      <th>2</th>\n",
       "      <td>3</td>\n",
       "      <td>41354</td>\n",
       "      <td>0</td>\n",
       "      <td>1</td>\n",
       "      <td>1</td>\n",
       "      <td>1</td>\n",
       "      <td>4123</td>\n",
       "      <td>4</td>\n",
       "      <td>0</td>\n",
       "      <td>0</td>\n",
       "      <td>7034</td>\n",
       "      <td>0</td>\n",
       "      <td>0</td>\n",
       "    </tr>\n",
       "    <tr>\n",
       "      <th>3</th>\n",
       "      <td>4</td>\n",
       "      <td>14776</td>\n",
       "      <td>0</td>\n",
       "      <td>1</td>\n",
       "      <td>1</td>\n",
       "      <td>1</td>\n",
       "      <td>500</td>\n",
       "      <td>1</td>\n",
       "      <td>0</td>\n",
       "      <td>0</td>\n",
       "      <td>6952</td>\n",
       "      <td>0</td>\n",
       "      <td>0</td>\n",
       "    </tr>\n",
       "    <tr>\n",
       "      <th>4</th>\n",
       "      <td>5</td>\n",
       "      <td>97752</td>\n",
       "      <td>0</td>\n",
       "      <td>4</td>\n",
       "      <td>1</td>\n",
       "      <td>1</td>\n",
       "      <td>43300</td>\n",
       "      <td>26</td>\n",
       "      <td>2077</td>\n",
       "      <td>4</td>\n",
       "      <td>6935</td>\n",
       "      <td>1</td>\n",
       "      <td>0</td>\n",
       "    </tr>\n",
       "    <tr>\n",
       "      <th>...</th>\n",
       "      <td>...</td>\n",
       "      <td>...</td>\n",
       "      <td>...</td>\n",
       "      <td>...</td>\n",
       "      <td>...</td>\n",
       "      <td>...</td>\n",
       "      <td>...</td>\n",
       "      <td>...</td>\n",
       "      <td>...</td>\n",
       "      <td>...</td>\n",
       "      <td>...</td>\n",
       "      <td>...</td>\n",
       "      <td>...</td>\n",
       "    </tr>\n",
       "    <tr>\n",
       "      <th>3994</th>\n",
       "      <td>4017</td>\n",
       "      <td>18476</td>\n",
       "      <td>0</td>\n",
       "      <td>1</td>\n",
       "      <td>1</td>\n",
       "      <td>1</td>\n",
       "      <td>8525</td>\n",
       "      <td>4</td>\n",
       "      <td>200</td>\n",
       "      <td>1</td>\n",
       "      <td>1403</td>\n",
       "      <td>1</td>\n",
       "      <td>0</td>\n",
       "    </tr>\n",
       "    <tr>\n",
       "      <th>3995</th>\n",
       "      <td>4018</td>\n",
       "      <td>64385</td>\n",
       "      <td>0</td>\n",
       "      <td>1</td>\n",
       "      <td>1</td>\n",
       "      <td>1</td>\n",
       "      <td>981</td>\n",
       "      <td>5</td>\n",
       "      <td>0</td>\n",
       "      <td>0</td>\n",
       "      <td>1395</td>\n",
       "      <td>1</td>\n",
       "      <td>0</td>\n",
       "    </tr>\n",
       "    <tr>\n",
       "      <th>3996</th>\n",
       "      <td>4019</td>\n",
       "      <td>73597</td>\n",
       "      <td>0</td>\n",
       "      <td>3</td>\n",
       "      <td>1</td>\n",
       "      <td>1</td>\n",
       "      <td>25447</td>\n",
       "      <td>8</td>\n",
       "      <td>0</td>\n",
       "      <td>0</td>\n",
       "      <td>1402</td>\n",
       "      <td>1</td>\n",
       "      <td>0</td>\n",
       "    </tr>\n",
       "    <tr>\n",
       "      <th>3997</th>\n",
       "      <td>4020</td>\n",
       "      <td>54899</td>\n",
       "      <td>0</td>\n",
       "      <td>1</td>\n",
       "      <td>1</td>\n",
       "      <td>1</td>\n",
       "      <td>500</td>\n",
       "      <td>1</td>\n",
       "      <td>500</td>\n",
       "      <td>1</td>\n",
       "      <td>1401</td>\n",
       "      <td>0</td>\n",
       "      <td>0</td>\n",
       "    </tr>\n",
       "    <tr>\n",
       "      <th>3998</th>\n",
       "      <td>4021</td>\n",
       "      <td>3016</td>\n",
       "      <td>0</td>\n",
       "      <td>1</td>\n",
       "      <td>1</td>\n",
       "      <td>1</td>\n",
       "      <td>0</td>\n",
       "      <td>0</td>\n",
       "      <td>0</td>\n",
       "      <td>0</td>\n",
       "      <td>1398</td>\n",
       "      <td>0</td>\n",
       "      <td>0</td>\n",
       "    </tr>\n",
       "  </tbody>\n",
       "</table>\n",
       "<p>3998 rows × 13 columns</p>\n",
       "</div>"
      ],
      "text/plain": [
       "       ID#  Balance  Qual_miles  cc1_miles  cc2_miles  cc3_miles  Bonus_miles  \\\n",
       "0        1    28143           0          1          1          1          174   \n",
       "1        2    19244           0          1          1          1          215   \n",
       "2        3    41354           0          1          1          1         4123   \n",
       "3        4    14776           0          1          1          1          500   \n",
       "4        5    97752           0          4          1          1        43300   \n",
       "...    ...      ...         ...        ...        ...        ...          ...   \n",
       "3994  4017    18476           0          1          1          1         8525   \n",
       "3995  4018    64385           0          1          1          1          981   \n",
       "3996  4019    73597           0          3          1          1        25447   \n",
       "3997  4020    54899           0          1          1          1          500   \n",
       "3998  4021     3016           0          1          1          1            0   \n",
       "\n",
       "      Bonus_trans  Flight_miles_12mo  Flight_trans_12  Days_since_enroll  \\\n",
       "0               1                  0                0               7000   \n",
       "1               2                  0                0               6968   \n",
       "2               4                  0                0               7034   \n",
       "3               1                  0                0               6952   \n",
       "4              26               2077                4               6935   \n",
       "...           ...                ...              ...                ...   \n",
       "3994            4                200                1               1403   \n",
       "3995            5                  0                0               1395   \n",
       "3996            8                  0                0               1402   \n",
       "3997            1                500                1               1401   \n",
       "3998            0                  0                0               1398   \n",
       "\n",
       "      Award?  cluster  \n",
       "0          0        0  \n",
       "1          0        0  \n",
       "2          0        0  \n",
       "3          0        0  \n",
       "4          1        0  \n",
       "...      ...      ...  \n",
       "3994       1        0  \n",
       "3995       1        0  \n",
       "3996       1        0  \n",
       "3997       0        0  \n",
       "3998       0        0  \n",
       "\n",
       "[3998 rows x 13 columns]"
      ]
     },
     "execution_count": 35,
     "metadata": {},
     "output_type": "execute_result"
    }
   ],
   "source": [
    "airline_data_2[airline_data_2['cluster']==0]"
   ]
  },
  {
   "cell_type": "code",
   "execution_count": 36,
   "id": "170c9eae",
   "metadata": {
    "ExecuteTime": {
     "end_time": "2022-07-08T09:29:04.891808Z",
     "start_time": "2022-07-08T09:29:04.872510Z"
    }
   },
   "outputs": [
    {
     "data": {
      "text/html": [
       "<div>\n",
       "<style scoped>\n",
       "    .dataframe tbody tr th:only-of-type {\n",
       "        vertical-align: middle;\n",
       "    }\n",
       "\n",
       "    .dataframe tbody tr th {\n",
       "        vertical-align: top;\n",
       "    }\n",
       "\n",
       "    .dataframe thead th {\n",
       "        text-align: right;\n",
       "    }\n",
       "</style>\n",
       "<table border=\"1\" class=\"dataframe\">\n",
       "  <thead>\n",
       "    <tr style=\"text-align: right;\">\n",
       "      <th></th>\n",
       "      <th>ID#</th>\n",
       "      <th>Balance</th>\n",
       "      <th>Qual_miles</th>\n",
       "      <th>cc1_miles</th>\n",
       "      <th>cc2_miles</th>\n",
       "      <th>cc3_miles</th>\n",
       "      <th>Bonus_miles</th>\n",
       "      <th>Bonus_trans</th>\n",
       "      <th>Flight_miles_12mo</th>\n",
       "      <th>Flight_trans_12</th>\n",
       "      <th>Days_since_enroll</th>\n",
       "      <th>Award?</th>\n",
       "      <th>cluster</th>\n",
       "    </tr>\n",
       "  </thead>\n",
       "  <tbody>\n",
       "    <tr>\n",
       "      <th>3583</th>\n",
       "      <td>3606</td>\n",
       "      <td>160114</td>\n",
       "      <td>500</td>\n",
       "      <td>1</td>\n",
       "      <td>1</td>\n",
       "      <td>1</td>\n",
       "      <td>71954</td>\n",
       "      <td>86</td>\n",
       "      <td>30817</td>\n",
       "      <td>53</td>\n",
       "      <td>1373</td>\n",
       "      <td>1</td>\n",
       "      <td>1</td>\n",
       "    </tr>\n",
       "  </tbody>\n",
       "</table>\n",
       "</div>"
      ],
      "text/plain": [
       "       ID#  Balance  Qual_miles  cc1_miles  cc2_miles  cc3_miles  Bonus_miles  \\\n",
       "3583  3606   160114         500          1          1          1        71954   \n",
       "\n",
       "      Bonus_trans  Flight_miles_12mo  Flight_trans_12  Days_since_enroll  \\\n",
       "3583           86              30817               53               1373   \n",
       "\n",
       "      Award?  cluster  \n",
       "3583       1        1  "
      ]
     },
     "execution_count": 36,
     "metadata": {},
     "output_type": "execute_result"
    }
   ],
   "source": [
    "airline_data_2[airline_data_2['cluster']==1]"
   ]
  },
  {
   "cell_type": "markdown",
   "id": "0c8f5bf4",
   "metadata": {},
   "source": [
    "# DBSCAN"
   ]
  },
  {
   "cell_type": "code",
   "execution_count": 37,
   "id": "efc0bd0e",
   "metadata": {
    "ExecuteTime": {
     "end_time": "2022-07-08T09:29:06.423484Z",
     "start_time": "2022-07-08T09:29:06.416111Z"
    }
   },
   "outputs": [],
   "source": [
    "from sklearn.cluster import DBSCAN"
   ]
  },
  {
   "cell_type": "code",
   "execution_count": 38,
   "id": "2aaaf210",
   "metadata": {
    "ExecuteTime": {
     "end_time": "2022-07-08T09:29:06.622257Z",
     "start_time": "2022-07-08T09:29:06.608370Z"
    }
   },
   "outputs": [],
   "source": [
    "cluster_dbscan=DBSCAN(eps=0.7,min_samples=3)"
   ]
  },
  {
   "cell_type": "code",
   "execution_count": 39,
   "id": "5cf2e2af",
   "metadata": {
    "ExecuteTime": {
     "end_time": "2022-07-08T09:29:07.605299Z",
     "start_time": "2022-07-08T09:29:06.780766Z"
    }
   },
   "outputs": [
    {
     "data": {
      "text/plain": [
       "DBSCAN(eps=0.7, min_samples=3)"
      ]
     },
     "execution_count": 39,
     "metadata": {},
     "output_type": "execute_result"
    }
   ],
   "source": [
    "cluster_dbscan.fit(airline_data_std)"
   ]
  },
  {
   "cell_type": "code",
   "execution_count": 40,
   "id": "08d18b2d",
   "metadata": {
    "ExecuteTime": {
     "end_time": "2022-07-08T09:29:07.620505Z",
     "start_time": "2022-07-08T09:29:07.608637Z"
    }
   },
   "outputs": [],
   "source": [
    "cluster=cluster_dbscan.labels_"
   ]
  },
  {
   "cell_type": "code",
   "execution_count": 41,
   "id": "1abbc466",
   "metadata": {
    "ExecuteTime": {
     "end_time": "2022-07-08T09:29:07.635951Z",
     "start_time": "2022-07-08T09:29:07.623871Z"
    }
   },
   "outputs": [
    {
     "data": {
      "text/plain": [
       "array([ 0,  0,  0, ..., 30, 18, 18], dtype=int64)"
      ]
     },
     "execution_count": 41,
     "metadata": {},
     "output_type": "execute_result"
    }
   ],
   "source": [
    "cluster"
   ]
  },
  {
   "cell_type": "code",
   "execution_count": 42,
   "id": "c2891912",
   "metadata": {
    "ExecuteTime": {
     "end_time": "2022-07-08T09:29:07.651939Z",
     "start_time": "2022-07-08T09:29:07.643354Z"
    }
   },
   "outputs": [],
   "source": [
    "airline_data_3 = airlines_data"
   ]
  },
  {
   "cell_type": "code",
   "execution_count": 43,
   "id": "5b19be1a",
   "metadata": {
    "ExecuteTime": {
     "end_time": "2022-07-08T09:29:07.669797Z",
     "start_time": "2022-07-08T09:29:07.655045Z"
    }
   },
   "outputs": [],
   "source": [
    "airline_data_3['cluster']=cluster"
   ]
  },
  {
   "cell_type": "code",
   "execution_count": 44,
   "id": "9f29a7ae",
   "metadata": {
    "ExecuteTime": {
     "end_time": "2022-07-08T09:29:08.738995Z",
     "start_time": "2022-07-08T09:29:08.728335Z"
    }
   },
   "outputs": [
    {
     "data": {
      "text/plain": [
       "array([ 0, 12, -1,  1,  2,  3,  4,  5,  8,  6,  7,  9, 10, 11, 13, 17, 19,\n",
       "       16, 14, 15, 18, 20, 22, 21, 23, 28, 24, 25, 26, 27, 31, 29, 30, 32,\n",
       "       38, 33, 34, 35, 36, 37], dtype=int64)"
      ]
     },
     "execution_count": 44,
     "metadata": {},
     "output_type": "execute_result"
    }
   ],
   "source": [
    "airline_data_2['cluster'].unique()"
   ]
  },
  {
   "cell_type": "code",
   "execution_count": 45,
   "id": "11fbae27",
   "metadata": {
    "ExecuteTime": {
     "end_time": "2022-07-08T09:29:08.951737Z",
     "start_time": "2022-07-08T09:29:08.902743Z"
    }
   },
   "outputs": [
    {
     "data": {
      "text/html": [
       "<div>\n",
       "<style scoped>\n",
       "    .dataframe tbody tr th:only-of-type {\n",
       "        vertical-align: middle;\n",
       "    }\n",
       "\n",
       "    .dataframe tbody tr th {\n",
       "        vertical-align: top;\n",
       "    }\n",
       "\n",
       "    .dataframe thead th {\n",
       "        text-align: right;\n",
       "    }\n",
       "</style>\n",
       "<table border=\"1\" class=\"dataframe\">\n",
       "  <thead>\n",
       "    <tr style=\"text-align: right;\">\n",
       "      <th></th>\n",
       "      <th>ID#</th>\n",
       "      <th>Balance</th>\n",
       "      <th>Qual_miles</th>\n",
       "      <th>cc1_miles</th>\n",
       "      <th>cc2_miles</th>\n",
       "      <th>cc3_miles</th>\n",
       "      <th>Bonus_miles</th>\n",
       "      <th>Bonus_trans</th>\n",
       "      <th>Flight_miles_12mo</th>\n",
       "      <th>Flight_trans_12</th>\n",
       "      <th>Days_since_enroll</th>\n",
       "      <th>Award?</th>\n",
       "      <th>cluster</th>\n",
       "    </tr>\n",
       "  </thead>\n",
       "  <tbody>\n",
       "    <tr>\n",
       "      <th>ID#</th>\n",
       "      <td>1.000000</td>\n",
       "      <td>-0.243737</td>\n",
       "      <td>-0.019374</td>\n",
       "      <td>-0.224465</td>\n",
       "      <td>0.020291</td>\n",
       "      <td>-0.014707</td>\n",
       "      <td>-0.203012</td>\n",
       "      <td>-0.146915</td>\n",
       "      <td>-0.031013</td>\n",
       "      <td>-0.052096</td>\n",
       "      <td>-0.964988</td>\n",
       "      <td>-0.177901</td>\n",
       "      <td>0.638128</td>\n",
       "    </tr>\n",
       "    <tr>\n",
       "      <th>Balance</th>\n",
       "      <td>-0.243737</td>\n",
       "      <td>1.000000</td>\n",
       "      <td>0.108722</td>\n",
       "      <td>0.338344</td>\n",
       "      <td>-0.008804</td>\n",
       "      <td>0.035243</td>\n",
       "      <td>0.403487</td>\n",
       "      <td>0.324935</td>\n",
       "      <td>0.217551</td>\n",
       "      <td>0.255700</td>\n",
       "      <td>0.263129</td>\n",
       "      <td>0.178494</td>\n",
       "      <td>-0.238980</td>\n",
       "    </tr>\n",
       "    <tr>\n",
       "      <th>Qual_miles</th>\n",
       "      <td>-0.019374</td>\n",
       "      <td>0.108722</td>\n",
       "      <td>1.000000</td>\n",
       "      <td>0.007931</td>\n",
       "      <td>-0.013923</td>\n",
       "      <td>-0.007779</td>\n",
       "      <td>0.031021</td>\n",
       "      <td>0.050725</td>\n",
       "      <td>0.126774</td>\n",
       "      <td>0.144004</td>\n",
       "      <td>0.017312</td>\n",
       "      <td>0.095256</td>\n",
       "      <td>-0.163244</td>\n",
       "    </tr>\n",
       "    <tr>\n",
       "      <th>cc1_miles</th>\n",
       "      <td>-0.224465</td>\n",
       "      <td>0.338344</td>\n",
       "      <td>0.007931</td>\n",
       "      <td>1.000000</td>\n",
       "      <td>-0.068223</td>\n",
       "      <td>0.060555</td>\n",
       "      <td>0.825200</td>\n",
       "      <td>0.608943</td>\n",
       "      <td>0.037370</td>\n",
       "      <td>0.041333</td>\n",
       "      <td>0.230849</td>\n",
       "      <td>0.335457</td>\n",
       "      <td>-0.157118</td>\n",
       "    </tr>\n",
       "    <tr>\n",
       "      <th>cc2_miles</th>\n",
       "      <td>0.020291</td>\n",
       "      <td>-0.008804</td>\n",
       "      <td>-0.013923</td>\n",
       "      <td>-0.068223</td>\n",
       "      <td>1.000000</td>\n",
       "      <td>-0.006166</td>\n",
       "      <td>-0.003969</td>\n",
       "      <td>0.064399</td>\n",
       "      <td>0.010598</td>\n",
       "      <td>0.028284</td>\n",
       "      <td>-0.005807</td>\n",
       "      <td>0.005332</td>\n",
       "      <td>-0.021590</td>\n",
       "    </tr>\n",
       "    <tr>\n",
       "      <th>cc3_miles</th>\n",
       "      <td>-0.014707</td>\n",
       "      <td>0.035243</td>\n",
       "      <td>-0.007779</td>\n",
       "      <td>0.060555</td>\n",
       "      <td>-0.006166</td>\n",
       "      <td>1.000000</td>\n",
       "      <td>0.204134</td>\n",
       "      <td>0.097313</td>\n",
       "      <td>-0.001777</td>\n",
       "      <td>-0.001117</td>\n",
       "      <td>0.010832</td>\n",
       "      <td>0.023484</td>\n",
       "      <td>-0.060949</td>\n",
       "    </tr>\n",
       "    <tr>\n",
       "      <th>Bonus_miles</th>\n",
       "      <td>-0.203012</td>\n",
       "      <td>0.403487</td>\n",
       "      <td>0.031021</td>\n",
       "      <td>0.825200</td>\n",
       "      <td>-0.003969</td>\n",
       "      <td>0.204134</td>\n",
       "      <td>1.000000</td>\n",
       "      <td>0.603180</td>\n",
       "      <td>0.183536</td>\n",
       "      <td>0.185261</td>\n",
       "      <td>0.210397</td>\n",
       "      <td>0.373506</td>\n",
       "      <td>-0.231496</td>\n",
       "    </tr>\n",
       "    <tr>\n",
       "      <th>Bonus_trans</th>\n",
       "      <td>-0.146915</td>\n",
       "      <td>0.324935</td>\n",
       "      <td>0.050725</td>\n",
       "      <td>0.608943</td>\n",
       "      <td>0.064399</td>\n",
       "      <td>0.097313</td>\n",
       "      <td>0.603180</td>\n",
       "      <td>1.000000</td>\n",
       "      <td>0.377216</td>\n",
       "      <td>0.432364</td>\n",
       "      <td>0.161262</td>\n",
       "      <td>0.333893</td>\n",
       "      <td>-0.235799</td>\n",
       "    </tr>\n",
       "    <tr>\n",
       "      <th>Flight_miles_12mo</th>\n",
       "      <td>-0.031013</td>\n",
       "      <td>0.217551</td>\n",
       "      <td>0.126774</td>\n",
       "      <td>0.037370</td>\n",
       "      <td>0.010598</td>\n",
       "      <td>-0.001777</td>\n",
       "      <td>0.183536</td>\n",
       "      <td>0.377216</td>\n",
       "      <td>1.000000</td>\n",
       "      <td>0.869193</td>\n",
       "      <td>0.037271</td>\n",
       "      <td>0.217715</td>\n",
       "      <td>-0.217279</td>\n",
       "    </tr>\n",
       "    <tr>\n",
       "      <th>Flight_trans_12</th>\n",
       "      <td>-0.052096</td>\n",
       "      <td>0.255700</td>\n",
       "      <td>0.144004</td>\n",
       "      <td>0.041333</td>\n",
       "      <td>0.028284</td>\n",
       "      <td>-0.001117</td>\n",
       "      <td>0.185261</td>\n",
       "      <td>0.432364</td>\n",
       "      <td>0.869193</td>\n",
       "      <td>1.000000</td>\n",
       "      <td>0.059260</td>\n",
       "      <td>0.247909</td>\n",
       "      <td>-0.227645</td>\n",
       "    </tr>\n",
       "    <tr>\n",
       "      <th>Days_since_enroll</th>\n",
       "      <td>-0.964988</td>\n",
       "      <td>0.263129</td>\n",
       "      <td>0.017312</td>\n",
       "      <td>0.230849</td>\n",
       "      <td>-0.005807</td>\n",
       "      <td>0.010832</td>\n",
       "      <td>0.210397</td>\n",
       "      <td>0.161262</td>\n",
       "      <td>0.037271</td>\n",
       "      <td>0.059260</td>\n",
       "      <td>1.000000</td>\n",
       "      <td>0.188121</td>\n",
       "      <td>-0.627909</td>\n",
       "    </tr>\n",
       "    <tr>\n",
       "      <th>Award?</th>\n",
       "      <td>-0.177901</td>\n",
       "      <td>0.178494</td>\n",
       "      <td>0.095256</td>\n",
       "      <td>0.335457</td>\n",
       "      <td>0.005332</td>\n",
       "      <td>0.023484</td>\n",
       "      <td>0.373506</td>\n",
       "      <td>0.333893</td>\n",
       "      <td>0.217715</td>\n",
       "      <td>0.247909</td>\n",
       "      <td>0.188121</td>\n",
       "      <td>1.000000</td>\n",
       "      <td>-0.164474</td>\n",
       "    </tr>\n",
       "    <tr>\n",
       "      <th>cluster</th>\n",
       "      <td>0.638128</td>\n",
       "      <td>-0.238980</td>\n",
       "      <td>-0.163244</td>\n",
       "      <td>-0.157118</td>\n",
       "      <td>-0.021590</td>\n",
       "      <td>-0.060949</td>\n",
       "      <td>-0.231496</td>\n",
       "      <td>-0.235799</td>\n",
       "      <td>-0.217279</td>\n",
       "      <td>-0.227645</td>\n",
       "      <td>-0.627909</td>\n",
       "      <td>-0.164474</td>\n",
       "      <td>1.000000</td>\n",
       "    </tr>\n",
       "  </tbody>\n",
       "</table>\n",
       "</div>"
      ],
      "text/plain": [
       "                        ID#   Balance  Qual_miles  cc1_miles  cc2_miles  \\\n",
       "ID#                1.000000 -0.243737   -0.019374  -0.224465   0.020291   \n",
       "Balance           -0.243737  1.000000    0.108722   0.338344  -0.008804   \n",
       "Qual_miles        -0.019374  0.108722    1.000000   0.007931  -0.013923   \n",
       "cc1_miles         -0.224465  0.338344    0.007931   1.000000  -0.068223   \n",
       "cc2_miles          0.020291 -0.008804   -0.013923  -0.068223   1.000000   \n",
       "cc3_miles         -0.014707  0.035243   -0.007779   0.060555  -0.006166   \n",
       "Bonus_miles       -0.203012  0.403487    0.031021   0.825200  -0.003969   \n",
       "Bonus_trans       -0.146915  0.324935    0.050725   0.608943   0.064399   \n",
       "Flight_miles_12mo -0.031013  0.217551    0.126774   0.037370   0.010598   \n",
       "Flight_trans_12   -0.052096  0.255700    0.144004   0.041333   0.028284   \n",
       "Days_since_enroll -0.964988  0.263129    0.017312   0.230849  -0.005807   \n",
       "Award?            -0.177901  0.178494    0.095256   0.335457   0.005332   \n",
       "cluster            0.638128 -0.238980   -0.163244  -0.157118  -0.021590   \n",
       "\n",
       "                   cc3_miles  Bonus_miles  Bonus_trans  Flight_miles_12mo  \\\n",
       "ID#                -0.014707    -0.203012    -0.146915          -0.031013   \n",
       "Balance             0.035243     0.403487     0.324935           0.217551   \n",
       "Qual_miles         -0.007779     0.031021     0.050725           0.126774   \n",
       "cc1_miles           0.060555     0.825200     0.608943           0.037370   \n",
       "cc2_miles          -0.006166    -0.003969     0.064399           0.010598   \n",
       "cc3_miles           1.000000     0.204134     0.097313          -0.001777   \n",
       "Bonus_miles         0.204134     1.000000     0.603180           0.183536   \n",
       "Bonus_trans         0.097313     0.603180     1.000000           0.377216   \n",
       "Flight_miles_12mo  -0.001777     0.183536     0.377216           1.000000   \n",
       "Flight_trans_12    -0.001117     0.185261     0.432364           0.869193   \n",
       "Days_since_enroll   0.010832     0.210397     0.161262           0.037271   \n",
       "Award?              0.023484     0.373506     0.333893           0.217715   \n",
       "cluster            -0.060949    -0.231496    -0.235799          -0.217279   \n",
       "\n",
       "                   Flight_trans_12  Days_since_enroll    Award?   cluster  \n",
       "ID#                      -0.052096          -0.964988 -0.177901  0.638128  \n",
       "Balance                   0.255700           0.263129  0.178494 -0.238980  \n",
       "Qual_miles                0.144004           0.017312  0.095256 -0.163244  \n",
       "cc1_miles                 0.041333           0.230849  0.335457 -0.157118  \n",
       "cc2_miles                 0.028284          -0.005807  0.005332 -0.021590  \n",
       "cc3_miles                -0.001117           0.010832  0.023484 -0.060949  \n",
       "Bonus_miles               0.185261           0.210397  0.373506 -0.231496  \n",
       "Bonus_trans               0.432364           0.161262  0.333893 -0.235799  \n",
       "Flight_miles_12mo         0.869193           0.037271  0.217715 -0.217279  \n",
       "Flight_trans_12           1.000000           0.059260  0.247909 -0.227645  \n",
       "Days_since_enroll         0.059260           1.000000  0.188121 -0.627909  \n",
       "Award?                    0.247909           0.188121  1.000000 -0.164474  \n",
       "cluster                  -0.227645          -0.627909 -0.164474  1.000000  "
      ]
     },
     "execution_count": 45,
     "metadata": {},
     "output_type": "execute_result"
    }
   ],
   "source": [
    "airline_data_3.corr()"
   ]
  },
  {
   "cell_type": "code",
   "execution_count": 46,
   "id": "877cdcd9",
   "metadata": {
    "ExecuteTime": {
     "end_time": "2022-07-08T09:29:09.404638Z",
     "start_time": "2022-07-08T09:29:09.057685Z"
    }
   },
   "outputs": [
    {
     "data": {
      "text/plain": [
       "<matplotlib.collections.PathCollection at 0x20333487c40>"
      ]
     },
     "execution_count": 46,
     "metadata": {},
     "output_type": "execute_result"
    },
    {
     "data": {
      "image/png": "[encoded data removed]",
      "text/plain": [
       "<Figure size 432x288 with 1 Axes>"
      ]
     },
     "metadata": {
      "needs_background": "light"
     },
     "output_type": "display_data"
    }
   ],
   "source": [
    "plt.scatter(airline_data_3['Flight_miles_12mo'],airline_data_3['Flight_trans_12'],c=cluster,cmap=plt.cm.Accent)"
   ]
  }
 ],
 "metadata": {
  "kernelspec": {
   "display_name": "Python 3 (ipykernel)",
   "language": "python",
   "name": "python3"
  },
  "language_info": {
   "codemirror_mode": {
    "name": "ipython",
    "version": 3
   },
   "file_extension": ".py",
   "mimetype": "text/x-python",
   "name": "python",
   "nbconvert_exporter": "python",
   "pygments_lexer": "ipython3",
   "version": "3.9.7"
  },
  "toc": {
   "base_numbering": 1,
   "nav_menu": {},
   "number_sections": true,
   "sideBar": true,
   "skip_h1_title": false,
   "title_cell": "Table of Contents",
   "title_sidebar": "Contents",
   "toc_cell": false,
   "toc_position": {},
   "toc_section_display": true,
   "toc_window_display": false
  }
 },
 "nbformat": 4,
 "nbformat_minor": 5
}
