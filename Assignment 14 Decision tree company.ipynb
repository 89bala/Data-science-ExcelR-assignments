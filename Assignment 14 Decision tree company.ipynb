{
 "cells": [
  {
   "cell_type": "code",
   "execution_count": 1,
   "id": "08ecd646",
   "metadata": {
    "ExecuteTime": {
     "end_time": "2022-07-09T12:32:21.425843Z",
     "start_time": "2022-07-09T12:32:15.510925Z"
    }
   },
   "outputs": [],
   "source": [
    "import pandas as pd\n",
    "import numpy as np\n",
    "import seaborn as sns\n",
    "import matplotlib.pyplot as plt\n",
    "import warnings\n",
    "warnings.filterwarnings('ignore')"
   ]
  },
  {
   "cell_type": "code",
   "execution_count": 3,
   "id": "04eebd1a",
   "metadata": {
    "ExecuteTime": {
     "end_time": "2022-07-09T12:32:36.982305Z",
     "start_time": "2022-07-09T12:32:36.937042Z"
    }
   },
   "outputs": [
    {
     "data": {
      "text/html": [
       "<div>\n",
       "<style scoped>\n",
       "    .dataframe tbody tr th:only-of-type {\n",
       "        vertical-align: middle;\n",
       "    }\n",
       "\n",
       "    .dataframe tbody tr th {\n",
       "        vertical-align: top;\n",
       "    }\n",
       "\n",
       "    .dataframe thead th {\n",
       "        text-align: right;\n",
       "    }\n",
       "</style>\n",
       "<table border=\"1\" class=\"dataframe\">\n",
       "  <thead>\n",
       "    <tr style=\"text-align: right;\">\n",
       "      <th></th>\n",
       "      <th>Sales</th>\n",
       "      <th>CompPrice</th>\n",
       "      <th>Income</th>\n",
       "      <th>Advertising</th>\n",
       "      <th>Population</th>\n",
       "      <th>Price</th>\n",
       "      <th>ShelveLoc</th>\n",
       "      <th>Age</th>\n",
       "      <th>Education</th>\n",
       "      <th>Urban</th>\n",
       "      <th>US</th>\n",
       "    </tr>\n",
       "  </thead>\n",
       "  <tbody>\n",
       "    <tr>\n",
       "      <th>0</th>\n",
       "      <td>9.50</td>\n",
       "      <td>138</td>\n",
       "      <td>73</td>\n",
       "      <td>11</td>\n",
       "      <td>276</td>\n",
       "      <td>120</td>\n",
       "      <td>Bad</td>\n",
       "      <td>42</td>\n",
       "      <td>17</td>\n",
       "      <td>Yes</td>\n",
       "      <td>Yes</td>\n",
       "    </tr>\n",
       "    <tr>\n",
       "      <th>1</th>\n",
       "      <td>11.22</td>\n",
       "      <td>111</td>\n",
       "      <td>48</td>\n",
       "      <td>16</td>\n",
       "      <td>260</td>\n",
       "      <td>83</td>\n",
       "      <td>Good</td>\n",
       "      <td>65</td>\n",
       "      <td>10</td>\n",
       "      <td>Yes</td>\n",
       "      <td>Yes</td>\n",
       "    </tr>\n",
       "    <tr>\n",
       "      <th>2</th>\n",
       "      <td>10.06</td>\n",
       "      <td>113</td>\n",
       "      <td>35</td>\n",
       "      <td>10</td>\n",
       "      <td>269</td>\n",
       "      <td>80</td>\n",
       "      <td>Medium</td>\n",
       "      <td>59</td>\n",
       "      <td>12</td>\n",
       "      <td>Yes</td>\n",
       "      <td>Yes</td>\n",
       "    </tr>\n",
       "    <tr>\n",
       "      <th>3</th>\n",
       "      <td>7.40</td>\n",
       "      <td>117</td>\n",
       "      <td>100</td>\n",
       "      <td>4</td>\n",
       "      <td>466</td>\n",
       "      <td>97</td>\n",
       "      <td>Medium</td>\n",
       "      <td>55</td>\n",
       "      <td>14</td>\n",
       "      <td>Yes</td>\n",
       "      <td>Yes</td>\n",
       "    </tr>\n",
       "    <tr>\n",
       "      <th>4</th>\n",
       "      <td>4.15</td>\n",
       "      <td>141</td>\n",
       "      <td>64</td>\n",
       "      <td>3</td>\n",
       "      <td>340</td>\n",
       "      <td>128</td>\n",
       "      <td>Bad</td>\n",
       "      <td>38</td>\n",
       "      <td>13</td>\n",
       "      <td>Yes</td>\n",
       "      <td>No</td>\n",
       "    </tr>\n",
       "  </tbody>\n",
       "</table>\n",
       "</div>"
      ],
      "text/plain": [
       "   Sales  CompPrice  Income  Advertising  Population  Price ShelveLoc  Age  \\\n",
       "0   9.50        138      73           11         276    120       Bad   42   \n",
       "1  11.22        111      48           16         260     83      Good   65   \n",
       "2  10.06        113      35           10         269     80    Medium   59   \n",
       "3   7.40        117     100            4         466     97    Medium   55   \n",
       "4   4.15        141      64            3         340    128       Bad   38   \n",
       "\n",
       "   Education Urban   US  \n",
       "0         17   Yes  Yes  \n",
       "1         10   Yes  Yes  \n",
       "2         12   Yes  Yes  \n",
       "3         14   Yes  Yes  \n",
       "4         13   Yes   No  "
      ]
     },
     "execution_count": 3,
     "metadata": {},
     "output_type": "execute_result"
    }
   ],
   "source": [
    "sales_data = pd.read_csv(\"Company_Data.csv\")\n",
    "sales_data.head()"
   ]
  },
  {
   "cell_type": "code",
   "execution_count": 4,
   "id": "9888c8a7",
   "metadata": {
    "ExecuteTime": {
     "end_time": "2022-07-09T12:32:40.497242Z",
     "start_time": "2022-07-09T12:32:40.474433Z"
    }
   },
   "outputs": [
    {
     "data": {
      "text/plain": [
       "Sales          float64\n",
       "CompPrice        int64\n",
       "Income           int64\n",
       "Advertising      int64\n",
       "Population       int64\n",
       "Price            int64\n",
       "ShelveLoc       object\n",
       "Age              int64\n",
       "Education        int64\n",
       "Urban           object\n",
       "US              object\n",
       "dtype: object"
      ]
     },
     "execution_count": 4,
     "metadata": {},
     "output_type": "execute_result"
    }
   ],
   "source": [
    "sales_data.dtypes"
   ]
  },
  {
   "cell_type": "code",
   "execution_count": 5,
   "id": "8425e7c1",
   "metadata": {
    "ExecuteTime": {
     "end_time": "2022-07-09T12:32:44.260589Z",
     "start_time": "2022-07-09T12:32:44.241955Z"
    }
   },
   "outputs": [
    {
     "data": {
      "text/plain": [
       "(400, 11)"
      ]
     },
     "execution_count": 5,
     "metadata": {},
     "output_type": "execute_result"
    }
   ],
   "source": [
    "sales_data.shape"
   ]
  },
  {
   "cell_type": "code",
   "execution_count": 6,
   "id": "2dcf1a62",
   "metadata": {
    "ExecuteTime": {
     "end_time": "2022-07-09T12:32:48.090710Z",
     "start_time": "2022-07-09T12:32:48.076399Z"
    }
   },
   "outputs": [
    {
     "data": {
      "text/plain": [
       "Sales          0\n",
       "CompPrice      0\n",
       "Income         0\n",
       "Advertising    0\n",
       "Population     0\n",
       "Price          0\n",
       "ShelveLoc      0\n",
       "Age            0\n",
       "Education      0\n",
       "Urban          0\n",
       "US             0\n",
       "dtype: int64"
      ]
     },
     "execution_count": 6,
     "metadata": {},
     "output_type": "execute_result"
    }
   ],
   "source": [
    "sales_data.isna().sum()"
   ]
  },
  {
   "cell_type": "code",
   "execution_count": 8,
   "id": "aa51d61f",
   "metadata": {
    "ExecuteTime": {
     "end_time": "2022-07-09T12:34:33.245137Z",
     "start_time": "2022-07-09T12:34:32.712567Z"
    }
   },
   "outputs": [],
   "source": [
    "from sklearn.preprocessing import LabelEncoder\n",
    "le = LabelEncoder() #Label encoder assigns numberical values for the categorical values"
   ]
  },
  {
   "cell_type": "code",
   "execution_count": 9,
   "id": "7d3ba56c",
   "metadata": {
    "ExecuteTime": {
     "end_time": "2022-07-09T12:34:34.859652Z",
     "start_time": "2022-07-09T12:34:34.840087Z"
    }
   },
   "outputs": [],
   "source": [
    "sales_data['ShelveLoc']=le.fit_transform(sales_data['ShelveLoc'])\n",
    "sales_data['Urban']=le.fit_transform(sales_data['Urban'])\n",
    "sales_data['US']=le.fit_transform(sales_data['US'])"
   ]
  },
  {
   "cell_type": "code",
   "execution_count": 10,
   "id": "62f87db0",
   "metadata": {
    "ExecuteTime": {
     "end_time": "2022-07-09T12:34:38.240756Z",
     "start_time": "2022-07-09T12:34:38.215841Z"
    }
   },
   "outputs": [
    {
     "data": {
      "text/plain": [
       "Sales          float64\n",
       "CompPrice        int64\n",
       "Income           int64\n",
       "Advertising      int64\n",
       "Population       int64\n",
       "Price            int64\n",
       "ShelveLoc        int32\n",
       "Age              int64\n",
       "Education        int64\n",
       "Urban            int32\n",
       "US               int32\n",
       "dtype: object"
      ]
     },
     "execution_count": 10,
     "metadata": {},
     "output_type": "execute_result"
    }
   ],
   "source": [
    "sales_data.dtypes"
   ]
  },
  {
   "cell_type": "code",
   "execution_count": 11,
   "id": "87fed3e3",
   "metadata": {
    "ExecuteTime": {
     "end_time": "2022-07-09T12:34:40.955352Z",
     "start_time": "2022-07-09T12:34:40.932047Z"
    }
   },
   "outputs": [],
   "source": [
    "sales_data.insert(11,'sales_category','')"
   ]
  },
  {
   "cell_type": "code",
   "execution_count": 12,
   "id": "797f574c",
   "metadata": {
    "ExecuteTime": {
     "end_time": "2022-07-09T12:34:42.186828Z",
     "start_time": "2022-07-09T12:34:42.168065Z"
    }
   },
   "outputs": [
    {
     "data": {
      "text/html": [
       "<div>\n",
       "<style scoped>\n",
       "    .dataframe tbody tr th:only-of-type {\n",
       "        vertical-align: middle;\n",
       "    }\n",
       "\n",
       "    .dataframe tbody tr th {\n",
       "        vertical-align: top;\n",
       "    }\n",
       "\n",
       "    .dataframe thead th {\n",
       "        text-align: right;\n",
       "    }\n",
       "</style>\n",
       "<table border=\"1\" class=\"dataframe\">\n",
       "  <thead>\n",
       "    <tr style=\"text-align: right;\">\n",
       "      <th></th>\n",
       "      <th>Sales</th>\n",
       "      <th>CompPrice</th>\n",
       "      <th>Income</th>\n",
       "      <th>Advertising</th>\n",
       "      <th>Population</th>\n",
       "      <th>Price</th>\n",
       "      <th>ShelveLoc</th>\n",
       "      <th>Age</th>\n",
       "      <th>Education</th>\n",
       "      <th>Urban</th>\n",
       "      <th>US</th>\n",
       "      <th>sales_category</th>\n",
       "    </tr>\n",
       "  </thead>\n",
       "  <tbody>\n",
       "    <tr>\n",
       "      <th>0</th>\n",
       "      <td>9.50</td>\n",
       "      <td>138</td>\n",
       "      <td>73</td>\n",
       "      <td>11</td>\n",
       "      <td>276</td>\n",
       "      <td>120</td>\n",
       "      <td>0</td>\n",
       "      <td>42</td>\n",
       "      <td>17</td>\n",
       "      <td>1</td>\n",
       "      <td>1</td>\n",
       "      <td></td>\n",
       "    </tr>\n",
       "    <tr>\n",
       "      <th>1</th>\n",
       "      <td>11.22</td>\n",
       "      <td>111</td>\n",
       "      <td>48</td>\n",
       "      <td>16</td>\n",
       "      <td>260</td>\n",
       "      <td>83</td>\n",
       "      <td>1</td>\n",
       "      <td>65</td>\n",
       "      <td>10</td>\n",
       "      <td>1</td>\n",
       "      <td>1</td>\n",
       "      <td></td>\n",
       "    </tr>\n",
       "    <tr>\n",
       "      <th>2</th>\n",
       "      <td>10.06</td>\n",
       "      <td>113</td>\n",
       "      <td>35</td>\n",
       "      <td>10</td>\n",
       "      <td>269</td>\n",
       "      <td>80</td>\n",
       "      <td>2</td>\n",
       "      <td>59</td>\n",
       "      <td>12</td>\n",
       "      <td>1</td>\n",
       "      <td>1</td>\n",
       "      <td></td>\n",
       "    </tr>\n",
       "    <tr>\n",
       "      <th>3</th>\n",
       "      <td>7.40</td>\n",
       "      <td>117</td>\n",
       "      <td>100</td>\n",
       "      <td>4</td>\n",
       "      <td>466</td>\n",
       "      <td>97</td>\n",
       "      <td>2</td>\n",
       "      <td>55</td>\n",
       "      <td>14</td>\n",
       "      <td>1</td>\n",
       "      <td>1</td>\n",
       "      <td></td>\n",
       "    </tr>\n",
       "    <tr>\n",
       "      <th>4</th>\n",
       "      <td>4.15</td>\n",
       "      <td>141</td>\n",
       "      <td>64</td>\n",
       "      <td>3</td>\n",
       "      <td>340</td>\n",
       "      <td>128</td>\n",
       "      <td>0</td>\n",
       "      <td>38</td>\n",
       "      <td>13</td>\n",
       "      <td>1</td>\n",
       "      <td>0</td>\n",
       "      <td></td>\n",
       "    </tr>\n",
       "  </tbody>\n",
       "</table>\n",
       "</div>"
      ],
      "text/plain": [
       "   Sales  CompPrice  Income  Advertising  Population  Price  ShelveLoc  Age  \\\n",
       "0   9.50        138      73           11         276    120          0   42   \n",
       "1  11.22        111      48           16         260     83          1   65   \n",
       "2  10.06        113      35           10         269     80          2   59   \n",
       "3   7.40        117     100            4         466     97          2   55   \n",
       "4   4.15        141      64            3         340    128          0   38   \n",
       "\n",
       "   Education  Urban  US sales_category  \n",
       "0         17      1   1                 \n",
       "1         10      1   1                 \n",
       "2         12      1   1                 \n",
       "3         14      1   1                 \n",
       "4         13      1   0                 "
      ]
     },
     "execution_count": 12,
     "metadata": {},
     "output_type": "execute_result"
    }
   ],
   "source": [
    "sales_data.head()"
   ]
  },
  {
   "cell_type": "code",
   "execution_count": 13,
   "id": "6de54e7f",
   "metadata": {
    "ExecuteTime": {
     "end_time": "2022-07-09T12:34:43.320438Z",
     "start_time": "2022-07-09T12:34:43.137298Z"
    }
   },
   "outputs": [],
   "source": [
    "for i in range(0,len(sales_data['Sales']),1):\n",
    "    if sales_data['Sales'][i]>=11.0:\n",
    "        sales_data['sales_category'][i]='high'\n",
    "    elif sales_data['Sales'][i]<=6.0:\n",
    "        sales_data['sales_category'][i]='low'\n",
    "    else:\n",
    "        sales_data['sales_category'][i]='medium'   "
   ]
  },
  {
   "cell_type": "code",
   "execution_count": 14,
   "id": "678138d6",
   "metadata": {
    "ExecuteTime": {
     "end_time": "2022-07-09T12:35:01.072664Z",
     "start_time": "2022-07-09T12:35:01.041628Z"
    }
   },
   "outputs": [
    {
     "data": {
      "text/html": [
       "<div>\n",
       "<style scoped>\n",
       "    .dataframe tbody tr th:only-of-type {\n",
       "        vertical-align: middle;\n",
       "    }\n",
       "\n",
       "    .dataframe tbody tr th {\n",
       "        vertical-align: top;\n",
       "    }\n",
       "\n",
       "    .dataframe thead th {\n",
       "        text-align: right;\n",
       "    }\n",
       "</style>\n",
       "<table border=\"1\" class=\"dataframe\">\n",
       "  <thead>\n",
       "    <tr style=\"text-align: right;\">\n",
       "      <th></th>\n",
       "      <th>Sales</th>\n",
       "      <th>CompPrice</th>\n",
       "      <th>Income</th>\n",
       "      <th>Advertising</th>\n",
       "      <th>Population</th>\n",
       "      <th>Price</th>\n",
       "      <th>ShelveLoc</th>\n",
       "      <th>Age</th>\n",
       "      <th>Education</th>\n",
       "      <th>Urban</th>\n",
       "      <th>US</th>\n",
       "      <th>sales_category</th>\n",
       "    </tr>\n",
       "  </thead>\n",
       "  <tbody>\n",
       "    <tr>\n",
       "      <th>0</th>\n",
       "      <td>9.50</td>\n",
       "      <td>138</td>\n",
       "      <td>73</td>\n",
       "      <td>11</td>\n",
       "      <td>276</td>\n",
       "      <td>120</td>\n",
       "      <td>0</td>\n",
       "      <td>42</td>\n",
       "      <td>17</td>\n",
       "      <td>1</td>\n",
       "      <td>1</td>\n",
       "      <td>medium</td>\n",
       "    </tr>\n",
       "    <tr>\n",
       "      <th>1</th>\n",
       "      <td>11.22</td>\n",
       "      <td>111</td>\n",
       "      <td>48</td>\n",
       "      <td>16</td>\n",
       "      <td>260</td>\n",
       "      <td>83</td>\n",
       "      <td>1</td>\n",
       "      <td>65</td>\n",
       "      <td>10</td>\n",
       "      <td>1</td>\n",
       "      <td>1</td>\n",
       "      <td>high</td>\n",
       "    </tr>\n",
       "    <tr>\n",
       "      <th>2</th>\n",
       "      <td>10.06</td>\n",
       "      <td>113</td>\n",
       "      <td>35</td>\n",
       "      <td>10</td>\n",
       "      <td>269</td>\n",
       "      <td>80</td>\n",
       "      <td>2</td>\n",
       "      <td>59</td>\n",
       "      <td>12</td>\n",
       "      <td>1</td>\n",
       "      <td>1</td>\n",
       "      <td>medium</td>\n",
       "    </tr>\n",
       "    <tr>\n",
       "      <th>3</th>\n",
       "      <td>7.40</td>\n",
       "      <td>117</td>\n",
       "      <td>100</td>\n",
       "      <td>4</td>\n",
       "      <td>466</td>\n",
       "      <td>97</td>\n",
       "      <td>2</td>\n",
       "      <td>55</td>\n",
       "      <td>14</td>\n",
       "      <td>1</td>\n",
       "      <td>1</td>\n",
       "      <td>medium</td>\n",
       "    </tr>\n",
       "    <tr>\n",
       "      <th>4</th>\n",
       "      <td>4.15</td>\n",
       "      <td>141</td>\n",
       "      <td>64</td>\n",
       "      <td>3</td>\n",
       "      <td>340</td>\n",
       "      <td>128</td>\n",
       "      <td>0</td>\n",
       "      <td>38</td>\n",
       "      <td>13</td>\n",
       "      <td>1</td>\n",
       "      <td>0</td>\n",
       "      <td>low</td>\n",
       "    </tr>\n",
       "    <tr>\n",
       "      <th>5</th>\n",
       "      <td>10.81</td>\n",
       "      <td>124</td>\n",
       "      <td>113</td>\n",
       "      <td>13</td>\n",
       "      <td>501</td>\n",
       "      <td>72</td>\n",
       "      <td>0</td>\n",
       "      <td>78</td>\n",
       "      <td>16</td>\n",
       "      <td>0</td>\n",
       "      <td>1</td>\n",
       "      <td>medium</td>\n",
       "    </tr>\n",
       "    <tr>\n",
       "      <th>6</th>\n",
       "      <td>6.63</td>\n",
       "      <td>115</td>\n",
       "      <td>105</td>\n",
       "      <td>0</td>\n",
       "      <td>45</td>\n",
       "      <td>108</td>\n",
       "      <td>2</td>\n",
       "      <td>71</td>\n",
       "      <td>15</td>\n",
       "      <td>1</td>\n",
       "      <td>0</td>\n",
       "      <td>medium</td>\n",
       "    </tr>\n",
       "    <tr>\n",
       "      <th>7</th>\n",
       "      <td>11.85</td>\n",
       "      <td>136</td>\n",
       "      <td>81</td>\n",
       "      <td>15</td>\n",
       "      <td>425</td>\n",
       "      <td>120</td>\n",
       "      <td>1</td>\n",
       "      <td>67</td>\n",
       "      <td>10</td>\n",
       "      <td>1</td>\n",
       "      <td>1</td>\n",
       "      <td>high</td>\n",
       "    </tr>\n",
       "  </tbody>\n",
       "</table>\n",
       "</div>"
      ],
      "text/plain": [
       "   Sales  CompPrice  Income  Advertising  Population  Price  ShelveLoc  Age  \\\n",
       "0   9.50        138      73           11         276    120          0   42   \n",
       "1  11.22        111      48           16         260     83          1   65   \n",
       "2  10.06        113      35           10         269     80          2   59   \n",
       "3   7.40        117     100            4         466     97          2   55   \n",
       "4   4.15        141      64            3         340    128          0   38   \n",
       "5  10.81        124     113           13         501     72          0   78   \n",
       "6   6.63        115     105            0          45    108          2   71   \n",
       "7  11.85        136      81           15         425    120          1   67   \n",
       "\n",
       "   Education  Urban  US sales_category  \n",
       "0         17      1   1         medium  \n",
       "1         10      1   1           high  \n",
       "2         12      1   1         medium  \n",
       "3         14      1   1         medium  \n",
       "4         13      1   0            low  \n",
       "5         16      0   1         medium  \n",
       "6         15      1   0         medium  \n",
       "7         10      1   1           high  "
      ]
     },
     "execution_count": 14,
     "metadata": {},
     "output_type": "execute_result"
    }
   ],
   "source": [
    "sales_data.head(8)"
   ]
  },
  {
   "cell_type": "code",
   "execution_count": 15,
   "id": "2df7747b",
   "metadata": {
    "ExecuteTime": {
     "end_time": "2022-07-09T12:35:04.003339Z",
     "start_time": "2022-07-09T12:35:03.995419Z"
    }
   },
   "outputs": [],
   "source": [
    "x = sales_data.iloc[:,1:11]\n",
    "y = sales_data['sales_category']"
   ]
  },
  {
   "cell_type": "code",
   "execution_count": 16,
   "id": "93349cc1",
   "metadata": {
    "ExecuteTime": {
     "end_time": "2022-07-09T12:35:05.320863Z",
     "start_time": "2022-07-09T12:35:05.128068Z"
    }
   },
   "outputs": [],
   "source": [
    "from sklearn.model_selection import train_test_split\n",
    "x_train,x_test,y_train,y_test  = train_test_split(x,y,test_size=0.2)"
   ]
  },
  {
   "cell_type": "code",
   "execution_count": 17,
   "id": "564ef737",
   "metadata": {
    "ExecuteTime": {
     "end_time": "2022-07-09T12:35:06.286428Z",
     "start_time": "2022-07-09T12:35:05.892315Z"
    }
   },
   "outputs": [],
   "source": [
    "from sklearn.tree import DecisionTreeClassifier"
   ]
  },
  {
   "cell_type": "code",
   "execution_count": 18,
   "id": "8221bf20",
   "metadata": {
    "ExecuteTime": {
     "end_time": "2022-07-09T12:35:07.999813Z",
     "start_time": "2022-07-09T12:35:07.980838Z"
    }
   },
   "outputs": [],
   "source": [
    "dt = DecisionTreeClassifier()"
   ]
  },
  {
   "cell_type": "code",
   "execution_count": 19,
   "id": "ecd54218",
   "metadata": {
    "ExecuteTime": {
     "end_time": "2022-07-09T12:35:08.281305Z",
     "start_time": "2022-07-09T12:35:08.257369Z"
    }
   },
   "outputs": [],
   "source": [
    "dt.fit(x_train,y_train)\n",
    "y_pred = dt.predict(x_test)"
   ]
  },
  {
   "cell_type": "code",
   "execution_count": 22,
   "id": "2860b37f",
   "metadata": {
    "ExecuteTime": {
     "end_time": "2022-07-09T12:35:11.148084Z",
     "start_time": "2022-07-09T12:35:11.130813Z"
    }
   },
   "outputs": [
    {
     "data": {
      "text/plain": [
       "array(['medium', 'low', 'medium', 'medium', 'low', 'high', 'low',\n",
       "       'medium', 'low', 'medium', 'high', 'medium', 'low', 'medium',\n",
       "       'medium', 'low', 'high', 'medium', 'low', 'low', 'medium',\n",
       "       'medium', 'medium', 'low', 'low', 'medium', 'medium', 'medium',\n",
       "       'low', 'low', 'medium', 'medium', 'low', 'low', 'medium', 'medium',\n",
       "       'low', 'low', 'medium', 'low', 'low', 'high', 'medium', 'medium',\n",
       "       'high', 'medium', 'high', 'medium', 'low', 'medium', 'medium',\n",
       "       'medium', 'medium', 'medium', 'low', 'low', 'low', 'medium', 'low',\n",
       "       'medium', 'medium', 'low', 'low', 'medium', 'medium', 'medium',\n",
       "       'medium', 'low', 'medium', 'medium', 'low', 'medium', 'high',\n",
       "       'low', 'medium', 'medium', 'low', 'low', 'low', 'low'],\n",
       "      dtype=object)"
      ]
     },
     "execution_count": 22,
     "metadata": {},
     "output_type": "execute_result"
    }
   ],
   "source": [
    "y_pred"
   ]
  },
  {
   "cell_type": "code",
   "execution_count": 23,
   "id": "154b759d",
   "metadata": {
    "ExecuteTime": {
     "end_time": "2022-07-09T12:35:11.365333Z",
     "start_time": "2022-07-09T12:35:11.359801Z"
    }
   },
   "outputs": [],
   "source": [
    "from sklearn.metrics import classification_report,confusion_matrix,accuracy_score"
   ]
  },
  {
   "cell_type": "code",
   "execution_count": 24,
   "id": "4718fe15",
   "metadata": {
    "ExecuteTime": {
     "end_time": "2022-07-09T12:35:11.612726Z",
     "start_time": "2022-07-09T12:35:11.579446Z"
    }
   },
   "outputs": [
    {
     "name": "stdout",
     "output_type": "stream",
     "text": [
      "              precision    recall  f1-score   support\n",
      "\n",
      "        high       0.29      0.22      0.25         9\n",
      "         low       0.62      0.80      0.70        25\n",
      "      medium       0.73      0.65      0.69        46\n",
      "\n",
      "    accuracy                           0.65        80\n",
      "   macro avg       0.55      0.56      0.55        80\n",
      "weighted avg       0.65      0.65      0.64        80\n",
      "\n"
     ]
    }
   ],
   "source": [
    "print(classification_report(y_test,y_pred))"
   ]
  },
  {
   "cell_type": "code",
   "execution_count": 36,
   "id": "f6d257ba",
   "metadata": {
    "ExecuteTime": {
     "end_time": "2022-07-09T12:37:00.964369Z",
     "start_time": "2022-07-09T12:37:00.951642Z"
    }
   },
   "outputs": [
    {
     "name": "stdout",
     "output_type": "stream",
     "text": [
      "Accuracy score:  65.0 %\n"
     ]
    }
   ],
   "source": [
    "print(\"Accuracy score: \",accuracy_score(y_test,y_pred)*100,\"%\")"
   ]
  },
  {
   "cell_type": "code",
   "execution_count": 37,
   "id": "a9c72686",
   "metadata": {
    "ExecuteTime": {
     "end_time": "2022-07-09T12:37:01.146544Z",
     "start_time": "2022-07-09T12:37:01.129024Z"
    }
   },
   "outputs": [
    {
     "name": "stdout",
     "output_type": "stream",
     "text": [
      "[[ 2  0  7]\n",
      " [ 1 20  4]\n",
      " [ 4 12 30]]\n"
     ]
    }
   ],
   "source": [
    "print(confusion_matrix(y_test,y_pred))"
   ]
  },
  {
   "cell_type": "code",
   "execution_count": 38,
   "id": "8e71d099",
   "metadata": {
    "ExecuteTime": {
     "end_time": "2022-07-09T12:37:02.480040Z",
     "start_time": "2022-07-09T12:37:01.356824Z"
    },
    "scrolled": false
   },
   "outputs": [
    {
     "data": {
      "image/png": "[encoded data removed]",
      "text/plain": [
       "<Figure size 1080x720 with 1 Axes>"
      ]
     },
     "metadata": {
      "needs_background": "light"
     },
     "output_type": "display_data"
    }
   ],
   "source": [
    "from sklearn import tree\n",
    "plt.figure(figsize=(15,10))\n",
    "tree.plot_tree(dt,rounded=True,filled=True,max_depth=2)\n",
    "plt.show()"
   ]
  },
  {
   "cell_type": "code",
   "execution_count": 39,
   "id": "458ba994",
   "metadata": {
    "ExecuteTime": {
     "end_time": "2022-07-09T12:37:07.326949Z",
     "start_time": "2022-07-09T12:37:02.485218Z"
    }
   },
   "outputs": [
    {
     "data": {
      "text/plain": [
       "GridSearchCV(estimator=DecisionTreeClassifier(),\n",
       "             param_grid={'criterion': ['entropy', 'gini'],\n",
       "                         'max_depth': [2, 4, 8, 10],\n",
       "                         'min_samples_leaf': [1, 2, 3, 4],\n",
       "                         'min_samples_split': [2, 4, 6, 8]})"
      ]
     },
     "execution_count": 39,
     "metadata": {},
     "output_type": "execute_result"
    }
   ],
   "source": [
    "from sklearn.model_selection import GridSearchCV\n",
    "gr_model = GridSearchCV(estimator=dt,param_grid={'criterion':['entropy','gini'],\n",
    "                                                       'max_depth':[2,4,8,10],\n",
    "                                                        'min_samples_split':[2,4,6,8],\n",
    "                                                        'min_samples_leaf':[1,2,3,4]})\n",
    "gr_model.fit(x_train,y_train)"
   ]
  },
  {
   "cell_type": "code",
   "execution_count": 40,
   "id": "7a1cabed",
   "metadata": {
    "ExecuteTime": {
     "end_time": "2022-07-09T12:37:07.342228Z",
     "start_time": "2022-07-09T12:37:07.329152Z"
    }
   },
   "outputs": [
    {
     "name": "stdout",
     "output_type": "stream",
     "text": [
      "{'criterion': 'entropy', 'max_depth': 8, 'min_samples_leaf': 1, 'min_samples_split': 2}\n",
      "0.69375\n"
     ]
    }
   ],
   "source": [
    "print(gr_model.best_params_)\n",
    "print(gr_model.best_score_)"
   ]
  },
  {
   "cell_type": "code",
   "execution_count": 41,
   "id": "176798b3",
   "metadata": {
    "ExecuteTime": {
     "end_time": "2022-07-09T12:37:07.374014Z",
     "start_time": "2022-07-09T12:37:07.344453Z"
    }
   },
   "outputs": [
    {
     "name": "stdout",
     "output_type": "stream",
     "text": [
      "0.6875\n"
     ]
    }
   ],
   "source": [
    "dt_newmodel = DecisionTreeClassifier(criterion= 'entropy',max_depth=10, min_samples_leaf=1, min_samples_split= 2)\n",
    "dt_newmodel.fit(x_train,y_train)\n",
    "y_predn = dt_newmodel.predict(x_test)\n",
    "print(accuracy_score(y_test,y_predn))"
   ]
  },
  {
   "cell_type": "code",
   "execution_count": 42,
   "id": "0c3d55ce",
   "metadata": {
    "ExecuteTime": {
     "end_time": "2022-07-09T12:37:07.389701Z",
     "start_time": "2022-07-09T12:37:07.376708Z"
    }
   },
   "outputs": [
    {
     "data": {
      "text/plain": [
       "10"
      ]
     },
     "execution_count": 42,
     "metadata": {},
     "output_type": "execute_result"
    }
   ],
   "source": [
    "feature_dt = x_train.columns\n",
    "len(feature_dt)"
   ]
  },
  {
   "cell_type": "code",
   "execution_count": 43,
   "id": "96a79c32",
   "metadata": {
    "ExecuteTime": {
     "end_time": "2022-07-09T12:37:07.405188Z",
     "start_time": "2022-07-09T12:37:07.393272Z"
    }
   },
   "outputs": [
    {
     "data": {
      "text/plain": [
       "10"
      ]
     },
     "execution_count": 43,
     "metadata": {},
     "output_type": "execute_result"
    }
   ],
   "source": [
    "imp_feature_dt = dt.feature_importances_\n",
    "len(imp_feature_dt)"
   ]
  },
  {
   "cell_type": "code",
   "execution_count": 44,
   "id": "dfac6130",
   "metadata": {
    "ExecuteTime": {
     "end_time": "2022-07-09T12:37:07.421162Z",
     "start_time": "2022-07-09T12:37:07.410277Z"
    }
   },
   "outputs": [],
   "source": [
    "data_dt=pd.DataFrame({'feature':feature_dt,'imp_feature':imp_feature_dt})\n",
    "data_dt=data_dt.sort_values('imp_feature')"
   ]
  },
  {
   "cell_type": "code",
   "execution_count": 45,
   "id": "bbe73b24",
   "metadata": {
    "ExecuteTime": {
     "end_time": "2022-07-09T12:37:07.826517Z",
     "start_time": "2022-07-09T12:37:07.423157Z"
    }
   },
   "outputs": [
    {
     "data": {
      "image/png": "[encoded data removed]",
      "text/plain": [
       "<Figure size 1080x432 with 1 Axes>"
      ]
     },
     "metadata": {
      "needs_background": "light"
     },
     "output_type": "display_data"
    }
   ],
   "source": [
    "import matplotlib.pyplot as plt\n",
    "import seaborn as sns\n",
    "plt.figure(figsize=(15,6))\n",
    "plt.title('Feature Importance')\n",
    "sns.barplot(y='feature', x='imp_feature', data=data_dt)\n",
    "plt.show()"
   ]
  },
  {
   "cell_type": "code",
   "execution_count": 46,
   "id": "b8f939c8",
   "metadata": {
    "ExecuteTime": {
     "end_time": "2022-07-09T12:37:07.891729Z",
     "start_time": "2022-07-09T12:37:07.829790Z"
    }
   },
   "outputs": [],
   "source": [
    "from sklearn.feature_selection import SelectFromModel"
   ]
  },
  {
   "cell_type": "code",
   "execution_count": 47,
   "id": "8094da5e",
   "metadata": {
    "ExecuteTime": {
     "end_time": "2022-07-09T12:37:07.922575Z",
     "start_time": "2022-07-09T12:37:07.899863Z"
    }
   },
   "outputs": [
    {
     "data": {
      "text/plain": [
       "SelectFromModel(estimator=DecisionTreeClassifier())"
      ]
     },
     "execution_count": 47,
     "metadata": {},
     "output_type": "execute_result"
    }
   ],
   "source": [
    "selctr=SelectFromModel(estimator=DecisionTreeClassifier())\n",
    "selctr.fit(x_train,y_train)"
   ]
  },
  {
   "cell_type": "code",
   "execution_count": 48,
   "id": "edd8d8df",
   "metadata": {
    "ExecuteTime": {
     "end_time": "2022-07-09T12:37:07.937931Z",
     "start_time": "2022-07-09T12:37:07.925637Z"
    }
   },
   "outputs": [
    {
     "data": {
      "text/plain": [
       "array([ True,  True, False, False,  True,  True,  True, False, False,\n",
       "       False])"
      ]
     },
     "execution_count": 48,
     "metadata": {},
     "output_type": "execute_result"
    }
   ],
   "source": [
    "selctr.get_support()"
   ]
  },
  {
   "cell_type": "code",
   "execution_count": 49,
   "id": "e465b041",
   "metadata": {
    "ExecuteTime": {
     "end_time": "2022-07-09T12:37:07.971788Z",
     "start_time": "2022-07-09T12:37:07.942788Z"
    }
   },
   "outputs": [
    {
     "data": {
      "text/plain": [
       "10"
      ]
     },
     "execution_count": 49,
     "metadata": {},
     "output_type": "execute_result"
    }
   ],
   "source": [
    "len(x_train.columns)"
   ]
  },
  {
   "cell_type": "code",
   "execution_count": 50,
   "id": "8c696f17",
   "metadata": {
    "ExecuteTime": {
     "end_time": "2022-07-09T12:37:07.987050Z",
     "start_time": "2022-07-09T12:37:07.975104Z"
    }
   },
   "outputs": [],
   "source": [
    "feature = x_train.columns[selctr.get_support()]"
   ]
  },
  {
   "cell_type": "code",
   "execution_count": 51,
   "id": "b480ca24",
   "metadata": {
    "ExecuteTime": {
     "end_time": "2022-07-09T12:37:08.002551Z",
     "start_time": "2022-07-09T12:37:07.989984Z"
    }
   },
   "outputs": [
    {
     "data": {
      "text/plain": [
       "5"
      ]
     },
     "execution_count": 51,
     "metadata": {},
     "output_type": "execute_result"
    }
   ],
   "source": [
    "len(feature)"
   ]
  },
  {
   "cell_type": "code",
   "execution_count": 52,
   "id": "ed7ea705",
   "metadata": {
    "ExecuteTime": {
     "end_time": "2022-07-09T12:37:08.034397Z",
     "start_time": "2022-07-09T12:37:08.007698Z"
    }
   },
   "outputs": [],
   "source": [
    "x_train_dt=selctr.transform(x_train)\n",
    "x_test_dt=selctr.transform(x_test)"
   ]
  },
  {
   "cell_type": "code",
   "execution_count": 53,
   "id": "950eb8ea",
   "metadata": {
    "ExecuteTime": {
     "end_time": "2022-07-09T12:37:08.049611Z",
     "start_time": "2022-07-09T12:37:08.037499Z"
    }
   },
   "outputs": [],
   "source": [
    "dt_model_imp=DecisionTreeClassifier().fit(x_train_dt,y_train)\n",
    "y_pred_imp=dt_model_imp.predict(x_test_dt)"
   ]
  },
  {
   "cell_type": "code",
   "execution_count": 54,
   "id": "90bc677d",
   "metadata": {
    "ExecuteTime": {
     "end_time": "2022-07-09T12:37:08.065023Z",
     "start_time": "2022-07-09T12:37:08.052713Z"
    }
   },
   "outputs": [
    {
     "name": "stdout",
     "output_type": "stream",
     "text": [
      "0.675\n"
     ]
    }
   ],
   "source": [
    "print(accuracy_score(y_test,y_pred_imp))"
   ]
  },
  {
   "cell_type": "code",
   "execution_count": 55,
   "id": "9d6bc5e4",
   "metadata": {
    "ExecuteTime": {
     "end_time": "2022-07-09T12:37:08.080357Z",
     "start_time": "2022-07-09T12:37:08.068993Z"
    }
   },
   "outputs": [
    {
     "name": "stdout",
     "output_type": "stream",
     "text": [
      "[[ 4  0  5]\n",
      " [ 1 19  5]\n",
      " [ 5 10 31]]\n"
     ]
    }
   ],
   "source": [
    "print(confusion_matrix(y_test,y_pred_imp))"
   ]
  },
  {
   "cell_type": "code",
   "execution_count": 56,
   "id": "a7f7ed3e",
   "metadata": {
    "ExecuteTime": {
     "end_time": "2022-07-09T12:37:08.112860Z",
     "start_time": "2022-07-09T12:37:08.085614Z"
    }
   },
   "outputs": [
    {
     "name": "stdout",
     "output_type": "stream",
     "text": [
      "              precision    recall  f1-score   support\n",
      "\n",
      "        high       0.40      0.44      0.42         9\n",
      "         low       0.66      0.76      0.70        25\n",
      "      medium       0.76      0.67      0.71        46\n",
      "\n",
      "    accuracy                           0.68        80\n",
      "   macro avg       0.60      0.63      0.61        80\n",
      "weighted avg       0.68      0.68      0.68        80\n",
      "\n"
     ]
    }
   ],
   "source": [
    "print(classification_report(y_test,y_pred_imp))"
   ]
  },
  {
   "cell_type": "code",
   "execution_count": 57,
   "id": "76b313b8",
   "metadata": {
    "ExecuteTime": {
     "end_time": "2022-07-09T12:37:08.128474Z",
     "start_time": "2022-07-09T12:37:08.116323Z"
    }
   },
   "outputs": [
    {
     "data": {
      "text/plain": [
       "array([0.18681222, 0.19575846, 0.24621734, 0.14168405, 0.22952793])"
      ]
     },
     "execution_count": 57,
     "metadata": {},
     "output_type": "execute_result"
    }
   ],
   "source": [
    "imp_feature=dt_model_imp.feature_importances_\n",
    "imp_feature"
   ]
  },
  {
   "cell_type": "code",
   "execution_count": 58,
   "id": "3505a7d7",
   "metadata": {
    "ExecuteTime": {
     "end_time": "2022-07-09T12:37:08.143929Z",
     "start_time": "2022-07-09T12:37:08.132289Z"
    }
   },
   "outputs": [],
   "source": [
    "data_imp=pd.DataFrame({'feature':feature,'imp_feature':imp_feature})\n",
    "data_imp=data_imp.sort_values('imp_feature')"
   ]
  },
  {
   "cell_type": "code",
   "execution_count": 75,
   "id": "a4d491a2",
   "metadata": {
    "ExecuteTime": {
     "end_time": "2022-07-09T12:37:30.741782Z",
     "start_time": "2022-07-09T12:37:30.538338Z"
    }
   },
   "outputs": [
    {
     "data": {
      "image/png": "[encoded data removed]",
      "text/plain": [
       "<Figure size 1080x432 with 1 Axes>"
      ]
     },
     "metadata": {
      "needs_background": "light"
     },
     "output_type": "display_data"
    }
   ],
   "source": [
    "import matplotlib.pyplot as plt\n",
    "import seaborn as sns\n",
    "plt.figure(figsize=(15,6))\n",
    "plt.title('Feature Importance')\n",
    "sns.barplot(y='feature', x='imp_feature', data=data_imp)\n",
    "plt.show()"
   ]
  },
  {
   "cell_type": "code",
   "execution_count": 60,
   "id": "b5b51a5c",
   "metadata": {
    "ExecuteTime": {
     "end_time": "2022-07-09T12:37:08.414117Z",
     "start_time": "2022-07-09T12:37:08.401892Z"
    }
   },
   "outputs": [],
   "source": [
    "from sklearn.feature_selection import RFE"
   ]
  },
  {
   "cell_type": "code",
   "execution_count": 61,
   "id": "4008b347",
   "metadata": {
    "ExecuteTime": {
     "end_time": "2022-07-09T12:37:08.460964Z",
     "start_time": "2022-07-09T12:37:08.417756Z"
    }
   },
   "outputs": [
    {
     "data": {
      "text/plain": [
       "RFE(estimator=DecisionTreeClassifier())"
      ]
     },
     "execution_count": 61,
     "metadata": {},
     "output_type": "execute_result"
    }
   ],
   "source": [
    "selector_rfe=RFE(DecisionTreeClassifier())\n",
    "selector_rfe.fit(x_train,y_train)"
   ]
  },
  {
   "cell_type": "code",
   "execution_count": 62,
   "id": "859cd3ae",
   "metadata": {
    "ExecuteTime": {
     "end_time": "2022-07-09T12:37:08.492984Z",
     "start_time": "2022-07-09T12:37:08.466240Z"
    }
   },
   "outputs": [
    {
     "data": {
      "text/plain": [
       "array([ True,  True, False, False,  True,  True,  True, False, False,\n",
       "       False])"
      ]
     },
     "execution_count": 62,
     "metadata": {},
     "output_type": "execute_result"
    }
   ],
   "source": [
    "selector_rfe.get_support()"
   ]
  },
  {
   "cell_type": "code",
   "execution_count": 63,
   "id": "8ec48a63",
   "metadata": {
    "ExecuteTime": {
     "end_time": "2022-07-09T12:37:08.509247Z",
     "start_time": "2022-07-09T12:37:08.497858Z"
    }
   },
   "outputs": [
    {
     "data": {
      "text/plain": [
       "Index(['CompPrice', 'Income', 'Price', 'ShelveLoc', 'Age'], dtype='object')"
      ]
     },
     "execution_count": 63,
     "metadata": {},
     "output_type": "execute_result"
    }
   ],
   "source": [
    "feature_rfe=x_train.columns[selector_rfe.get_support()]\n",
    "feature_rfe"
   ]
  },
  {
   "cell_type": "code",
   "execution_count": 64,
   "id": "24c5314a",
   "metadata": {
    "ExecuteTime": {
     "end_time": "2022-07-09T12:37:08.524761Z",
     "start_time": "2022-07-09T12:37:08.512241Z"
    }
   },
   "outputs": [
    {
     "data": {
      "text/plain": [
       "5"
      ]
     },
     "execution_count": 64,
     "metadata": {},
     "output_type": "execute_result"
    }
   ],
   "source": [
    "len(x_train.columns[selector_rfe.get_support()])"
   ]
  },
  {
   "cell_type": "code",
   "execution_count": 65,
   "id": "3e7424e5",
   "metadata": {
    "ExecuteTime": {
     "end_time": "2022-07-09T12:37:08.558651Z",
     "start_time": "2022-07-09T12:37:08.535824Z"
    }
   },
   "outputs": [],
   "source": [
    "x_train_rfe=selector_rfe.transform(x_train)\n",
    "x_test_rfe=selector_rfe.transform(x_test)"
   ]
  },
  {
   "cell_type": "code",
   "execution_count": 66,
   "id": "439f10e0",
   "metadata": {
    "ExecuteTime": {
     "end_time": "2022-07-09T12:37:08.573782Z",
     "start_time": "2022-07-09T12:37:08.562518Z"
    }
   },
   "outputs": [],
   "source": [
    "dt_model_rfe=DecisionTreeClassifier().fit(x_train_rfe,y_train)"
   ]
  },
  {
   "cell_type": "code",
   "execution_count": 67,
   "id": "0d05060b",
   "metadata": {
    "ExecuteTime": {
     "end_time": "2022-07-09T12:37:08.589048Z",
     "start_time": "2022-07-09T12:37:08.577942Z"
    }
   },
   "outputs": [],
   "source": [
    "y_pred_rfe=dt_model_rfe.predict(x_test_rfe)"
   ]
  },
  {
   "cell_type": "code",
   "execution_count": 68,
   "id": "ae472065",
   "metadata": {
    "ExecuteTime": {
     "end_time": "2022-07-09T12:37:08.604728Z",
     "start_time": "2022-07-09T12:37:08.592749Z"
    }
   },
   "outputs": [
    {
     "name": "stdout",
     "output_type": "stream",
     "text": [
      "0.65\n"
     ]
    }
   ],
   "source": [
    "print(accuracy_score(y_test,y_pred_rfe))"
   ]
  },
  {
   "cell_type": "code",
   "execution_count": 69,
   "id": "951008d4",
   "metadata": {
    "ExecuteTime": {
     "end_time": "2022-07-09T12:37:08.620376Z",
     "start_time": "2022-07-09T12:37:08.608243Z"
    }
   },
   "outputs": [
    {
     "name": "stdout",
     "output_type": "stream",
     "text": [
      "[[ 4  0  5]\n",
      " [ 0 19  6]\n",
      " [ 7 10 29]]\n"
     ]
    }
   ],
   "source": [
    "print(confusion_matrix(y_test,y_pred_rfe))"
   ]
  },
  {
   "cell_type": "code",
   "execution_count": 70,
   "id": "54ffff30",
   "metadata": {
    "ExecuteTime": {
     "end_time": "2022-07-09T12:37:08.659171Z",
     "start_time": "2022-07-09T12:37:08.625778Z"
    }
   },
   "outputs": [
    {
     "name": "stdout",
     "output_type": "stream",
     "text": [
      "              precision    recall  f1-score   support\n",
      "\n",
      "        high       0.36      0.44      0.40         9\n",
      "         low       0.66      0.76      0.70        25\n",
      "      medium       0.72      0.63      0.67        46\n",
      "\n",
      "    accuracy                           0.65        80\n",
      "   macro avg       0.58      0.61      0.59        80\n",
      "weighted avg       0.66      0.65      0.65        80\n",
      "\n"
     ]
    }
   ],
   "source": [
    "print(classification_report(y_test,y_pred_rfe))"
   ]
  },
  {
   "cell_type": "code",
   "execution_count": 71,
   "id": "ff2f49b6",
   "metadata": {
    "ExecuteTime": {
     "end_time": "2022-07-09T12:37:08.675912Z",
     "start_time": "2022-07-09T12:37:08.663720Z"
    }
   },
   "outputs": [],
   "source": [
    "imp_feature_rfe=dt_model_rfe.feature_importances_"
   ]
  },
  {
   "cell_type": "code",
   "execution_count": 72,
   "id": "c5c7427f",
   "metadata": {
    "ExecuteTime": {
     "end_time": "2022-07-09T12:37:08.691578Z",
     "start_time": "2022-07-09T12:37:08.678750Z"
    }
   },
   "outputs": [],
   "source": [
    "data_rfe=pd.DataFrame({'feature':feature_rfe,'imp_feature':imp_feature_rfe})\n",
    "data_rfe=data_rfe.sort_values('imp_feature')"
   ]
  },
  {
   "cell_type": "code",
   "execution_count": 74,
   "id": "bcb17531",
   "metadata": {
    "ExecuteTime": {
     "end_time": "2022-07-09T12:37:20.118544Z",
     "start_time": "2022-07-09T12:37:19.895869Z"
    }
   },
   "outputs": [
    {
     "data": {
      "image/png": "[encoded data removed]",
      "text/plain": [
       "<Figure size 1080x432 with 1 Axes>"
      ]
     },
     "metadata": {
      "needs_background": "light"
     },
     "output_type": "display_data"
    }
   ],
   "source": [
    "plt.figure(figsize=(15,6))\n",
    "plt.title('Feature Importance')\n",
    "sns.barplot(y='feature', x='imp_feature', data=data_rfe)\n",
    "plt.show()"
   ]
  }
 ],
 "metadata": {
  "kernelspec": {
   "display_name": "Python 3 (ipykernel)",
   "language": "python",
   "name": "python3"
  },
  "language_info": {
   "codemirror_mode": {
    "name": "ipython",
    "version": 3
   },
   "file_extension": ".py",
   "mimetype": "text/x-python",
   "name": "python",
   "nbconvert_exporter": "python",
   "pygments_lexer": "ipython3",
   "version": "3.9.7"
  },
  "toc": {
   "base_numbering": 1,
   "nav_menu": {},
   "number_sections": true,
   "sideBar": true,
   "skip_h1_title": false,
   "title_cell": "Table of Contents",
   "title_sidebar": "Contents",
   "toc_cell": false,
   "toc_position": {},
   "toc_section_display": true,
   "toc_window_display": false
  }
 },
 "nbformat": 4,
 "nbformat_minor": 5
}
