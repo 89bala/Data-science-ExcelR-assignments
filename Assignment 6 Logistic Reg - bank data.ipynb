{
 "cells": [
  {
   "cell_type": "code",
   "execution_count": 1,
   "id": "d6631495",
   "metadata": {
    "ExecuteTime": {
     "end_time": "2022-07-09T15:26:00.082798Z",
     "start_time": "2022-07-09T15:25:58.023760Z"
    }
   },
   "outputs": [],
   "source": [
    "import pandas as pd\n",
    "from sklearn.linear_model import LogisticRegression\n",
    "import seaborn as sns\n",
    "import warnings\n",
    "warnings.filterwarnings('ignore')\n",
    "import matplotlib.pyplot as plt"
   ]
  },
  {
   "cell_type": "code",
   "execution_count": 2,
   "id": "5e7bdfd4",
   "metadata": {
    "ExecuteTime": {
     "end_time": "2022-07-09T15:26:00.198118Z",
     "start_time": "2022-07-09T15:26:00.082798Z"
    }
   },
   "outputs": [
    {
     "data": {
      "text/html": [
       "<div>\n",
       "<style scoped>\n",
       "    .dataframe tbody tr th:only-of-type {\n",
       "        vertical-align: middle;\n",
       "    }\n",
       "\n",
       "    .dataframe tbody tr th {\n",
       "        vertical-align: top;\n",
       "    }\n",
       "\n",
       "    .dataframe thead th {\n",
       "        text-align: right;\n",
       "    }\n",
       "</style>\n",
       "<table border=\"1\" class=\"dataframe\">\n",
       "  <thead>\n",
       "    <tr style=\"text-align: right;\">\n",
       "      <th></th>\n",
       "      <th>age;\"job\";\"marital\";\"education\";\"default\";\"balance\";\"housing\";\"loan\";\"contact\";\"day\";\"month\";\"duration\";\"campaign\";\"pdays\";\"previous\";\"poutcome\";\"y\"</th>\n",
       "    </tr>\n",
       "  </thead>\n",
       "  <tbody>\n",
       "    <tr>\n",
       "      <th>0</th>\n",
       "      <td>58;\"management\";\"married\";\"tertiary\";\"no\";2143...</td>\n",
       "    </tr>\n",
       "    <tr>\n",
       "      <th>1</th>\n",
       "      <td>44;\"technician\";\"single\";\"secondary\";\"no\";29;\"...</td>\n",
       "    </tr>\n",
       "    <tr>\n",
       "      <th>2</th>\n",
       "      <td>33;\"entrepreneur\";\"married\";\"secondary\";\"no\";2...</td>\n",
       "    </tr>\n",
       "    <tr>\n",
       "      <th>3</th>\n",
       "      <td>47;\"blue-collar\";\"married\";\"unknown\";\"no\";1506...</td>\n",
       "    </tr>\n",
       "    <tr>\n",
       "      <th>4</th>\n",
       "      <td>33;\"unknown\";\"single\";\"unknown\";\"no\";1;\"no\";\"n...</td>\n",
       "    </tr>\n",
       "  </tbody>\n",
       "</table>\n",
       "</div>"
      ],
      "text/plain": [
       "  age;\"job\";\"marital\";\"education\";\"default\";\"balance\";\"housing\";\"loan\";\"contact\";\"day\";\"month\";\"duration\";\"campaign\";\"pdays\";\"previous\";\"poutcome\";\"y\"\n",
       "0  58;\"management\";\"married\";\"tertiary\";\"no\";2143...                                                                                                  \n",
       "1  44;\"technician\";\"single\";\"secondary\";\"no\";29;\"...                                                                                                  \n",
       "2  33;\"entrepreneur\";\"married\";\"secondary\";\"no\";2...                                                                                                  \n",
       "3  47;\"blue-collar\";\"married\";\"unknown\";\"no\";1506...                                                                                                  \n",
       "4  33;\"unknown\";\"single\";\"unknown\";\"no\";1;\"no\";\"n...                                                                                                  "
      ]
     },
     "execution_count": 2,
     "metadata": {},
     "output_type": "execute_result"
    }
   ],
   "source": [
    "bank = pd.read_csv(\"bank-full.csv\")\n",
    "bank.head()"
   ]
  },
  {
   "cell_type": "code",
   "execution_count": 3,
   "id": "09886ed4",
   "metadata": {
    "ExecuteTime": {
     "end_time": "2022-07-09T15:26:00.229359Z",
     "start_time": "2022-07-09T15:26:00.198118Z"
    }
   },
   "outputs": [
    {
     "data": {
      "text/plain": [
       "age;\"job\";\"marital\";\"education\";\"default\";\"balance\";\"housing\";\"loan\";\"contact\";\"day\";\"month\";\"duration\";\"campaign\";\"pdays\";\"previous\";\"poutcome\";\"y\"    0\n",
       "dtype: int64"
      ]
     },
     "execution_count": 3,
     "metadata": {},
     "output_type": "execute_result"
    }
   ],
   "source": [
    "bank.isna().sum()"
   ]
  },
  {
   "cell_type": "code",
   "execution_count": 4,
   "id": "57b3fe0f",
   "metadata": {
    "ExecuteTime": {
     "end_time": "2022-07-09T15:26:00.245016Z",
     "start_time": "2022-07-09T15:26:00.229359Z"
    }
   },
   "outputs": [
    {
     "data": {
      "text/plain": [
       "(45211, 1)"
      ]
     },
     "execution_count": 4,
     "metadata": {},
     "output_type": "execute_result"
    }
   ],
   "source": [
    "bank.shape"
   ]
  },
  {
   "cell_type": "code",
   "execution_count": 5,
   "id": "7740cf21",
   "metadata": {
    "ExecuteTime": {
     "end_time": "2022-07-09T15:26:00.267182Z",
     "start_time": "2022-07-09T15:26:00.245016Z"
    }
   },
   "outputs": [
    {
     "data": {
      "text/plain": [
       "age;\"job\";\"marital\";\"education\";\"default\";\"balance\";\"housing\";\"loan\";\"contact\";\"day\";\"month\";\"duration\";\"campaign\";\"pdays\";\"previous\";\"poutcome\";\"y\"    object\n",
       "dtype: object"
      ]
     },
     "execution_count": 5,
     "metadata": {},
     "output_type": "execute_result"
    }
   ],
   "source": [
    "bank.dtypes"
   ]
  },
  {
   "cell_type": "code",
   "execution_count": 6,
   "id": "aa17cfd2",
   "metadata": {
    "ExecuteTime": {
     "end_time": "2022-07-09T15:26:01.145121Z",
     "start_time": "2022-07-09T15:26:00.267182Z"
    }
   },
   "outputs": [
    {
     "ename": "KeyError",
     "evalue": "'job'",
     "output_type": "error",
     "traceback": [
      "\u001b[1;31m---------------------------------------------------------------------------\u001b[0m",
      "\u001b[1;31mKeyError\u001b[0m                                  Traceback (most recent call last)",
      "\u001b[1;32m~\\anaconda3.9\\lib\\site-packages\\pandas\\core\\indexes\\base.py\u001b[0m in \u001b[0;36mget_loc\u001b[1;34m(self, key, method, tolerance)\u001b[0m\n\u001b[0;32m   3360\u001b[0m             \u001b[1;32mtry\u001b[0m\u001b[1;33m:\u001b[0m\u001b[1;33m\u001b[0m\u001b[1;33m\u001b[0m\u001b[0m\n\u001b[1;32m-> 3361\u001b[1;33m                 \u001b[1;32mreturn\u001b[0m \u001b[0mself\u001b[0m\u001b[1;33m.\u001b[0m\u001b[0m_engine\u001b[0m\u001b[1;33m.\u001b[0m\u001b[0mget_loc\u001b[0m\u001b[1;33m(\u001b[0m\u001b[0mcasted_key\u001b[0m\u001b[1;33m)\u001b[0m\u001b[1;33m\u001b[0m\u001b[1;33m\u001b[0m\u001b[0m\n\u001b[0m\u001b[0;32m   3362\u001b[0m             \u001b[1;32mexcept\u001b[0m \u001b[0mKeyError\u001b[0m \u001b[1;32mas\u001b[0m \u001b[0merr\u001b[0m\u001b[1;33m:\u001b[0m\u001b[1;33m\u001b[0m\u001b[1;33m\u001b[0m\u001b[0m\n",
      "\u001b[1;32m~\\anaconda3.9\\lib\\site-packages\\pandas\\_libs\\index.pyx\u001b[0m in \u001b[0;36mpandas._libs.index.IndexEngine.get_loc\u001b[1;34m()\u001b[0m\n",
      "\u001b[1;32m~\\anaconda3.9\\lib\\site-packages\\pandas\\_libs\\index.pyx\u001b[0m in \u001b[0;36mpandas._libs.index.IndexEngine.get_loc\u001b[1;34m()\u001b[0m\n",
      "\u001b[1;32mpandas\\_libs\\hashtable_class_helper.pxi\u001b[0m in \u001b[0;36mpandas._libs.hashtable.PyObjectHashTable.get_item\u001b[1;34m()\u001b[0m\n",
      "\u001b[1;32mpandas\\_libs\\hashtable_class_helper.pxi\u001b[0m in \u001b[0;36mpandas._libs.hashtable.PyObjectHashTable.get_item\u001b[1;34m()\u001b[0m\n",
      "\u001b[1;31mKeyError\u001b[0m: 'job'",
      "\nThe above exception was the direct cause of the following exception:\n",
      "\u001b[1;31mKeyError\u001b[0m                                  Traceback (most recent call last)",
      "\u001b[1;32m~\\AppData\\Local\\Temp/ipykernel_13744/4015760989.py\u001b[0m in \u001b[0;36m<module>\u001b[1;34m\u001b[0m\n\u001b[1;32m----> 1\u001b[1;33m \u001b[0mbank\u001b[0m\u001b[1;33m[\u001b[0m\u001b[1;34m'job'\u001b[0m\u001b[1;33m]\u001b[0m\u001b[1;33m.\u001b[0m\u001b[0mvalue_counts\u001b[0m\u001b[1;33m(\u001b[0m\u001b[1;33m)\u001b[0m\u001b[1;33m\u001b[0m\u001b[1;33m\u001b[0m\u001b[0m\n\u001b[0m",
      "\u001b[1;32m~\\anaconda3.9\\lib\\site-packages\\pandas\\core\\frame.py\u001b[0m in \u001b[0;36m__getitem__\u001b[1;34m(self, key)\u001b[0m\n\u001b[0;32m   3456\u001b[0m             \u001b[1;32mif\u001b[0m \u001b[0mself\u001b[0m\u001b[1;33m.\u001b[0m\u001b[0mcolumns\u001b[0m\u001b[1;33m.\u001b[0m\u001b[0mnlevels\u001b[0m \u001b[1;33m>\u001b[0m \u001b[1;36m1\u001b[0m\u001b[1;33m:\u001b[0m\u001b[1;33m\u001b[0m\u001b[1;33m\u001b[0m\u001b[0m\n\u001b[0;32m   3457\u001b[0m                 \u001b[1;32mreturn\u001b[0m \u001b[0mself\u001b[0m\u001b[1;33m.\u001b[0m\u001b[0m_getitem_multilevel\u001b[0m\u001b[1;33m(\u001b[0m\u001b[0mkey\u001b[0m\u001b[1;33m)\u001b[0m\u001b[1;33m\u001b[0m\u001b[1;33m\u001b[0m\u001b[0m\n\u001b[1;32m-> 3458\u001b[1;33m             \u001b[0mindexer\u001b[0m \u001b[1;33m=\u001b[0m \u001b[0mself\u001b[0m\u001b[1;33m.\u001b[0m\u001b[0mcolumns\u001b[0m\u001b[1;33m.\u001b[0m\u001b[0mget_loc\u001b[0m\u001b[1;33m(\u001b[0m\u001b[0mkey\u001b[0m\u001b[1;33m)\u001b[0m\u001b[1;33m\u001b[0m\u001b[1;33m\u001b[0m\u001b[0m\n\u001b[0m\u001b[0;32m   3459\u001b[0m             \u001b[1;32mif\u001b[0m \u001b[0mis_integer\u001b[0m\u001b[1;33m(\u001b[0m\u001b[0mindexer\u001b[0m\u001b[1;33m)\u001b[0m\u001b[1;33m:\u001b[0m\u001b[1;33m\u001b[0m\u001b[1;33m\u001b[0m\u001b[0m\n\u001b[0;32m   3460\u001b[0m                 \u001b[0mindexer\u001b[0m \u001b[1;33m=\u001b[0m \u001b[1;33m[\u001b[0m\u001b[0mindexer\u001b[0m\u001b[1;33m]\u001b[0m\u001b[1;33m\u001b[0m\u001b[1;33m\u001b[0m\u001b[0m\n",
      "\u001b[1;32m~\\anaconda3.9\\lib\\site-packages\\pandas\\core\\indexes\\base.py\u001b[0m in \u001b[0;36mget_loc\u001b[1;34m(self, key, method, tolerance)\u001b[0m\n\u001b[0;32m   3361\u001b[0m                 \u001b[1;32mreturn\u001b[0m \u001b[0mself\u001b[0m\u001b[1;33m.\u001b[0m\u001b[0m_engine\u001b[0m\u001b[1;33m.\u001b[0m\u001b[0mget_loc\u001b[0m\u001b[1;33m(\u001b[0m\u001b[0mcasted_key\u001b[0m\u001b[1;33m)\u001b[0m\u001b[1;33m\u001b[0m\u001b[1;33m\u001b[0m\u001b[0m\n\u001b[0;32m   3362\u001b[0m             \u001b[1;32mexcept\u001b[0m \u001b[0mKeyError\u001b[0m \u001b[1;32mas\u001b[0m \u001b[0merr\u001b[0m\u001b[1;33m:\u001b[0m\u001b[1;33m\u001b[0m\u001b[1;33m\u001b[0m\u001b[0m\n\u001b[1;32m-> 3363\u001b[1;33m                 \u001b[1;32mraise\u001b[0m \u001b[0mKeyError\u001b[0m\u001b[1;33m(\u001b[0m\u001b[0mkey\u001b[0m\u001b[1;33m)\u001b[0m \u001b[1;32mfrom\u001b[0m \u001b[0merr\u001b[0m\u001b[1;33m\u001b[0m\u001b[1;33m\u001b[0m\u001b[0m\n\u001b[0m\u001b[0;32m   3364\u001b[0m \u001b[1;33m\u001b[0m\u001b[0m\n\u001b[0;32m   3365\u001b[0m         \u001b[1;32mif\u001b[0m \u001b[0mis_scalar\u001b[0m\u001b[1;33m(\u001b[0m\u001b[0mkey\u001b[0m\u001b[1;33m)\u001b[0m \u001b[1;32mand\u001b[0m \u001b[0misna\u001b[0m\u001b[1;33m(\u001b[0m\u001b[0mkey\u001b[0m\u001b[1;33m)\u001b[0m \u001b[1;32mand\u001b[0m \u001b[1;32mnot\u001b[0m \u001b[0mself\u001b[0m\u001b[1;33m.\u001b[0m\u001b[0mhasnans\u001b[0m\u001b[1;33m:\u001b[0m\u001b[1;33m\u001b[0m\u001b[1;33m\u001b[0m\u001b[0m\n",
      "\u001b[1;31mKeyError\u001b[0m: 'job'"
     ]
    }
   ],
   "source": [
    "bank['job'].value_counts()"
   ]
  },
  {
   "cell_type": "code",
   "execution_count": null,
   "id": "f5d748c1",
   "metadata": {
    "ExecuteTime": {
     "end_time": "2022-07-09T15:26:01.145121Z",
     "start_time": "2022-07-09T15:26:01.145121Z"
    }
   },
   "outputs": [],
   "source": [
    "bank['marital'].value_counts()"
   ]
  },
  {
   "cell_type": "code",
   "execution_count": null,
   "id": "30769dd3",
   "metadata": {
    "ExecuteTime": {
     "end_time": "2022-07-09T15:26:01.145121Z",
     "start_time": "2022-07-09T15:26:01.145121Z"
    }
   },
   "outputs": [],
   "source": [
    "bank['education'].value_counts()"
   ]
  },
  {
   "cell_type": "code",
   "execution_count": null,
   "id": "bc021629",
   "metadata": {
    "ExecuteTime": {
     "end_time": "2022-07-09T15:26:01.145121Z",
     "start_time": "2022-07-09T15:26:01.145121Z"
    }
   },
   "outputs": [],
   "source": [
    "bank['default'].unique()"
   ]
  },
  {
   "cell_type": "code",
   "execution_count": null,
   "id": "a8407820",
   "metadata": {
    "ExecuteTime": {
     "end_time": "2022-07-09T15:26:01.160750Z",
     "start_time": "2022-07-09T15:26:01.160750Z"
    }
   },
   "outputs": [],
   "source": [
    "bank['contact'].unique()"
   ]
  },
  {
   "cell_type": "code",
   "execution_count": null,
   "id": "35f9b647",
   "metadata": {
    "ExecuteTime": {
     "end_time": "2022-07-09T15:26:01.160750Z",
     "start_time": "2022-07-09T15:26:01.160750Z"
    }
   },
   "outputs": [],
   "source": [
    "from sklearn.preprocessing import LabelEncoder\n",
    "le = LabelEncoder()"
   ]
  },
  {
   "cell_type": "code",
   "execution_count": null,
   "id": "31931e13",
   "metadata": {
    "ExecuteTime": {
     "end_time": "2022-07-09T15:26:01.160750Z",
     "start_time": "2022-07-09T15:26:01.160750Z"
    }
   },
   "outputs": [],
   "source": [
    "bank[['job']]=le.fit_transform(bank['job'])"
   ]
  },
  {
   "cell_type": "code",
   "execution_count": null,
   "id": "aeeab33a",
   "metadata": {
    "ExecuteTime": {
     "end_time": "2022-07-09T15:26:01.160750Z",
     "start_time": "2022-07-09T15:26:01.160750Z"
    }
   },
   "outputs": [],
   "source": [
    "bank.head()"
   ]
  },
  {
   "cell_type": "code",
   "execution_count": null,
   "id": "dc826fd0",
   "metadata": {
    "ExecuteTime": {
     "end_time": "2022-07-09T15:26:01.176371Z",
     "start_time": "2022-07-09T15:26:01.176371Z"
    }
   },
   "outputs": [],
   "source": [
    "bank[['marital']]=le.fit_transform(bank['marital'])\n",
    "bank[['education']]=le.fit_transform(bank['education'])\n",
    "bank[['default']]=le.fit_transform(bank['default'])\n",
    "bank[['housing']]=le.fit_transform(bank['housing'])\n",
    "bank[['loan']]=le.fit_transform(bank['loan'])\n",
    "bank[['contact']]=le.fit_transform(bank['contact'])\n",
    "bank[['month']]=le.fit_transform(bank['month'])\n",
    "bank[['y']]=le.fit_transform(bank['y'])\n",
    "bank[['poutcome']]=le.fit_transform(bank['poutcome'])"
   ]
  },
  {
   "cell_type": "code",
   "execution_count": null,
   "id": "45acd9db",
   "metadata": {
    "ExecuteTime": {
     "end_time": "2022-07-09T15:26:01.176371Z",
     "start_time": "2022-07-09T15:26:01.176371Z"
    }
   },
   "outputs": [],
   "source": [
    "bank.head()"
   ]
  },
  {
   "cell_type": "code",
   "execution_count": null,
   "id": "90c21ed8",
   "metadata": {
    "ExecuteTime": {
     "end_time": "2022-07-09T15:26:01.176371Z",
     "start_time": "2022-07-09T15:26:01.176371Z"
    }
   },
   "outputs": [],
   "source": [
    "bank.dtypes"
   ]
  },
  {
   "cell_type": "code",
   "execution_count": null,
   "id": "fcaf0979",
   "metadata": {
    "ExecuteTime": {
     "end_time": "2022-07-09T15:26:01.176371Z",
     "start_time": "2022-07-09T15:26:01.176371Z"
    }
   },
   "outputs": [],
   "source": [
    "x = bank.drop(labels='y',axis=1)\n",
    "y = bank['y']"
   ]
  },
  {
   "cell_type": "code",
   "execution_count": null,
   "id": "1f3954a5",
   "metadata": {
    "ExecuteTime": {
     "end_time": "2022-07-09T15:26:01.176371Z",
     "start_time": "2022-07-09T15:26:01.176371Z"
    }
   },
   "outputs": [],
   "source": [
    "from sklearn.model_selection import train_test_split\n",
    "x_train,x_test,y_train,y_test = train_test_split(x,y,test_size=0.2)"
   ]
  },
  {
   "cell_type": "code",
   "execution_count": null,
   "id": "519f9162",
   "metadata": {
    "ExecuteTime": {
     "end_time": "2022-07-09T15:26:01.191992Z",
     "start_time": "2022-07-09T15:26:01.191992Z"
    }
   },
   "outputs": [],
   "source": [
    "x_train.shape,y_train.shape"
   ]
  },
  {
   "cell_type": "code",
   "execution_count": null,
   "id": "678d2624",
   "metadata": {
    "ExecuteTime": {
     "end_time": "2022-07-09T15:26:01.191992Z",
     "start_time": "2022-07-09T15:26:01.191992Z"
    }
   },
   "outputs": [],
   "source": [
    "x_test.shape,y_test.shape"
   ]
  },
  {
   "cell_type": "code",
   "execution_count": null,
   "id": "18497ebc",
   "metadata": {
    "ExecuteTime": {
     "end_time": "2022-07-09T15:26:01.191992Z",
     "start_time": "2022-07-09T15:26:01.191992Z"
    }
   },
   "outputs": [],
   "source": [
    "from sklearn.linear_model import LogisticRegression\n",
    "logr_model = LogisticRegression()"
   ]
  },
  {
   "cell_type": "code",
   "execution_count": null,
   "id": "360532e3",
   "metadata": {
    "ExecuteTime": {
     "end_time": "2022-07-09T15:26:01.191992Z",
     "start_time": "2022-07-09T15:26:01.191992Z"
    }
   },
   "outputs": [],
   "source": [
    "logr_model.fit(x_train,y_train)"
   ]
  },
  {
   "cell_type": "code",
   "execution_count": null,
   "id": "265fae9a",
   "metadata": {
    "ExecuteTime": {
     "end_time": "2022-07-09T15:26:01.191992Z",
     "start_time": "2022-07-09T15:26:01.191992Z"
    }
   },
   "outputs": [],
   "source": [
    "y_pred_train = logr_model.predict(x_train)\n",
    "y_pred_test = logr_model.predict(x_test)"
   ]
  },
  {
   "cell_type": "code",
   "execution_count": null,
   "id": "2e44a405",
   "metadata": {
    "ExecuteTime": {
     "end_time": "2022-07-09T15:26:01.191992Z",
     "start_time": "2022-07-09T15:26:01.191992Z"
    }
   },
   "outputs": [],
   "source": [
    "from sklearn.metrics import classification_report,confusion_matrix,roc_auc_score,auc"
   ]
  },
  {
   "cell_type": "code",
   "execution_count": null,
   "id": "0050d86b",
   "metadata": {
    "ExecuteTime": {
     "end_time": "2022-07-09T15:26:01.207613Z",
     "start_time": "2022-07-09T15:26:01.207613Z"
    }
   },
   "outputs": [],
   "source": [
    "print(classification_report(y_train,y_pred_train))"
   ]
  },
  {
   "cell_type": "code",
   "execution_count": null,
   "id": "d04d98d6",
   "metadata": {
    "ExecuteTime": {
     "end_time": "2022-07-09T15:26:01.207613Z",
     "start_time": "2022-07-09T15:26:01.207613Z"
    }
   },
   "outputs": [],
   "source": [
    "print(confusion_matrix(y_train,y_pred_train))"
   ]
  },
  {
   "cell_type": "code",
   "execution_count": null,
   "id": "448cf7ef",
   "metadata": {
    "ExecuteTime": {
     "end_time": "2022-07-09T15:26:01.207613Z",
     "start_time": "2022-07-09T15:26:01.207613Z"
    }
   },
   "outputs": [],
   "source": [
    "from sklearn.metrics import roc_curve\n",
    "from sklearn.metrics import roc_auc_score\n",
    "fpr,tpr,threshold = roc_curve(y,logr_model.predict_proba(x)[:,1])\n",
    "auc = roc_auc_score(y_test,y_pred_test)\n",
    "auc"
   ]
  },
  {
   "cell_type": "code",
   "execution_count": null,
   "id": "729b0386",
   "metadata": {
    "ExecuteTime": {
     "end_time": "2022-07-09T15:26:01.207613Z",
     "start_time": "2022-07-09T15:26:01.207613Z"
    }
   },
   "outputs": [],
   "source": [
    "import matplotlib.pyplot as plt\n",
    "plt.plot(fpr,tpr,color = 'red',label='logit model ( area  = %0.2f)'%auc)\n",
    "plt.plot([0,1],[0,1],'k--')\n",
    "plt.xlabel('false positive rate')\n",
    "plt.ylabel('true positive rate')"
   ]
  },
  {
   "cell_type": "code",
   "execution_count": null,
   "id": "877c34a1",
   "metadata": {
    "ExecuteTime": {
     "end_time": "2022-07-09T15:26:01.207613Z",
     "start_time": "2022-07-09T15:26:01.207613Z"
    }
   },
   "outputs": [],
   "source": [
    "y.value_counts()"
   ]
  },
  {
   "cell_type": "code",
   "execution_count": null,
   "id": "87c7388f",
   "metadata": {
    "ExecuteTime": {
     "end_time": "2022-07-09T15:26:01.223235Z",
     "start_time": "2022-07-09T15:26:01.223235Z"
    }
   },
   "outputs": [],
   "source": [
    "sns.countplot(bank['y'])"
   ]
  },
  {
   "cell_type": "markdown",
   "id": "deb94161",
   "metadata": {},
   "source": [
    "# Sampling"
   ]
  },
  {
   "cell_type": "code",
   "execution_count": null,
   "id": "dc0450c3",
   "metadata": {
    "ExecuteTime": {
     "end_time": "2022-07-09T15:26:01.223235Z",
     "start_time": "2022-07-09T15:26:01.223235Z"
    }
   },
   "outputs": [],
   "source": [
    "p_0 = bank[bank['y']==0]\n",
    "p_1 = bank[bank['y']==1]"
   ]
  },
  {
   "cell_type": "code",
   "execution_count": null,
   "id": "b510e901",
   "metadata": {
    "ExecuteTime": {
     "end_time": "2022-07-09T15:26:01.223235Z",
     "start_time": "2022-07-09T15:26:01.223235Z"
    }
   },
   "outputs": [],
   "source": [
    "p_0.shape"
   ]
  },
  {
   "cell_type": "code",
   "execution_count": null,
   "id": "b08f3872",
   "metadata": {
    "ExecuteTime": {
     "end_time": "2022-07-09T15:26:01.223235Z",
     "start_time": "2022-07-09T15:26:01.223235Z"
    }
   },
   "outputs": [],
   "source": [
    "p_1.shape"
   ]
  },
  {
   "cell_type": "code",
   "execution_count": null,
   "id": "fad36a46",
   "metadata": {
    "ExecuteTime": {
     "end_time": "2022-07-09T15:26:01.223235Z",
     "start_time": "2022-07-09T15:26:01.223235Z"
    }
   },
   "outputs": [],
   "source": [
    "s_0 = p_0.sample(5289)"
   ]
  },
  {
   "cell_type": "code",
   "execution_count": null,
   "id": "14557307",
   "metadata": {
    "ExecuteTime": {
     "end_time": "2022-07-09T15:26:01.223235Z",
     "start_time": "2022-07-09T15:26:01.223235Z"
    }
   },
   "outputs": [],
   "source": [
    "s_0.shape,p_1.shape"
   ]
  },
  {
   "cell_type": "code",
   "execution_count": null,
   "id": "9e82dffd",
   "metadata": {
    "ExecuteTime": {
     "end_time": "2022-07-09T15:26:01.223235Z",
     "start_time": "2022-07-09T15:26:01.223235Z"
    }
   },
   "outputs": [],
   "source": [
    "un_sample = pd.concat([s_0,p_1],axis=0)\n",
    "un_sample"
   ]
  },
  {
   "cell_type": "code",
   "execution_count": null,
   "id": "2036ad97",
   "metadata": {
    "ExecuteTime": {
     "end_time": "2022-07-09T15:26:01.238854Z",
     "start_time": "2022-07-09T15:26:01.238854Z"
    }
   },
   "outputs": [],
   "source": [
    "x_s = un_sample.iloc[:,:16]\n",
    "y_s = un_sample['y']"
   ]
  },
  {
   "cell_type": "code",
   "execution_count": null,
   "id": "9204a01b",
   "metadata": {
    "ExecuteTime": {
     "end_time": "2022-07-09T15:26:01.238854Z",
     "start_time": "2022-07-09T15:26:01.238854Z"
    }
   },
   "outputs": [],
   "source": [
    "x_strain,x_stest,y_strain,y_stest = train_test_split(x_s,y_s,test_size=0.2)"
   ]
  },
  {
   "cell_type": "code",
   "execution_count": null,
   "id": "b26b7cc0",
   "metadata": {
    "ExecuteTime": {
     "end_time": "2022-07-09T15:26:01.245363Z",
     "start_time": "2022-07-09T15:26:01.245363Z"
    }
   },
   "outputs": [],
   "source": [
    "un_model = LogisticRegression().fit(x_strain,y_strain)"
   ]
  },
  {
   "cell_type": "code",
   "execution_count": null,
   "id": "dab48a47",
   "metadata": {
    "ExecuteTime": {
     "end_time": "2022-07-09T15:26:01.245363Z",
     "start_time": "2022-07-09T15:26:01.245363Z"
    }
   },
   "outputs": [],
   "source": [
    "y_pred_train = un_model.predict(x_strain)\n",
    "y_pred_test = un_model.predict(x_stest)"
   ]
  },
  {
   "cell_type": "code",
   "execution_count": null,
   "id": "eb517def",
   "metadata": {
    "ExecuteTime": {
     "end_time": "2022-07-09T15:26:01.245363Z",
     "start_time": "2022-07-09T15:26:01.245363Z"
    }
   },
   "outputs": [],
   "source": [
    "print(confusion_matrix(y_strain,y_pred_train))"
   ]
  },
  {
   "cell_type": "code",
   "execution_count": null,
   "id": "1cdd5aff",
   "metadata": {
    "ExecuteTime": {
     "end_time": "2022-07-09T15:26:01.245363Z",
     "start_time": "2022-07-09T15:26:01.245363Z"
    }
   },
   "outputs": [],
   "source": [
    "print(confusion_matrix(y_stest,y_pred_test))"
   ]
  },
  {
   "cell_type": "code",
   "execution_count": null,
   "id": "2d90e0a0",
   "metadata": {
    "ExecuteTime": {
     "end_time": "2022-07-09T15:26:01.245363Z",
     "start_time": "2022-07-09T15:26:01.245363Z"
    }
   },
   "outputs": [],
   "source": [
    "print(classification_report(y_strain,y_pred_train))"
   ]
  },
  {
   "cell_type": "code",
   "execution_count": null,
   "id": "c971e36b",
   "metadata": {
    "ExecuteTime": {
     "end_time": "2022-07-09T15:26:01.245363Z",
     "start_time": "2022-07-09T15:26:01.245363Z"
    }
   },
   "outputs": [],
   "source": [
    "fpr,tpr,threshold = roc_curve(y,un_model.predict_proba(x)[:,1])\n",
    "auc = roc_auc_score(y_stest,y_pred_test)\n",
    "auc"
   ]
  },
  {
   "cell_type": "code",
   "execution_count": null,
   "id": "d70b56a8",
   "metadata": {
    "ExecuteTime": {
     "end_time": "2022-07-09T15:26:01.245363Z",
     "start_time": "2022-07-09T15:26:01.245363Z"
    }
   },
   "outputs": [],
   "source": [
    "plt.plot(fpr,tpr,color = 'red',label='logit model ( area  = %0.2f)'%auc)\n",
    "plt.plot([0,1],[0,1],'k--')\n",
    "plt.xlabel('false positive rate')\n",
    "plt.ylabel('true positive rate')"
   ]
  }
 ],
 "metadata": {
  "kernelspec": {
   "display_name": "Python 3 (ipykernel)",
   "language": "python",
   "name": "python3"
  },
  "language_info": {
   "codemirror_mode": {
    "name": "ipython",
    "version": 3
   },
   "file_extension": ".py",
   "mimetype": "text/x-python",
   "name": "python",
   "nbconvert_exporter": "python",
   "pygments_lexer": "ipython3",
   "version": "3.9.7"
  },
  "toc": {
   "base_numbering": 1,
   "nav_menu": {},
   "number_sections": true,
   "sideBar": true,
   "skip_h1_title": false,
   "title_cell": "Table of Contents",
   "title_sidebar": "Contents",
   "toc_cell": false,
   "toc_position": {},
   "toc_section_display": true,
   "toc_window_display": false
  }
 },
 "nbformat": 4,
 "nbformat_minor": 5
}
