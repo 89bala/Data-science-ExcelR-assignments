{
 "cells": [
  {
   "cell_type": "code",
   "execution_count": 73,
   "id": "e1a25f12",
   "metadata": {
    "ExecuteTime": {
     "end_time": "2022-07-08T06:13:51.885965Z",
     "start_time": "2022-07-08T06:13:51.792232Z"
    }
   },
   "outputs": [],
   "source": [
    "import pandas as pd\n",
    "import matplotlib.pyplot as plt\n",
    "import seaborn as sns\n",
    "import statsmodels.formula.api as smf\n",
    "from sklearn.linear_model import LinearRegression\n",
    "import numpy as np"
   ]
  },
  {
   "cell_type": "code",
   "execution_count": 44,
   "id": "dddf6b9d",
   "metadata": {
    "ExecuteTime": {
     "end_time": "2022-07-07T06:27:41.576951Z",
     "start_time": "2022-07-07T06:27:41.207185Z"
    }
   },
   "outputs": [
    {
     "data": {
      "text/html": [
       "<div>\n",
       "<style scoped>\n",
       "    .dataframe tbody tr th:only-of-type {\n",
       "        vertical-align: middle;\n",
       "    }\n",
       "\n",
       "    .dataframe tbody tr th {\n",
       "        vertical-align: top;\n",
       "    }\n",
       "\n",
       "    .dataframe thead th {\n",
       "        text-align: right;\n",
       "    }\n",
       "</style>\n",
       "<table border=\"1\" class=\"dataframe\">\n",
       "  <thead>\n",
       "    <tr style=\"text-align: right;\">\n",
       "      <th></th>\n",
       "      <th>YearsExperience</th>\n",
       "      <th>Salary</th>\n",
       "    </tr>\n",
       "  </thead>\n",
       "  <tbody>\n",
       "    <tr>\n",
       "      <th>0</th>\n",
       "      <td>1.1</td>\n",
       "      <td>39343.0</td>\n",
       "    </tr>\n",
       "    <tr>\n",
       "      <th>1</th>\n",
       "      <td>1.3</td>\n",
       "      <td>46205.0</td>\n",
       "    </tr>\n",
       "    <tr>\n",
       "      <th>2</th>\n",
       "      <td>1.5</td>\n",
       "      <td>37731.0</td>\n",
       "    </tr>\n",
       "    <tr>\n",
       "      <th>3</th>\n",
       "      <td>2.0</td>\n",
       "      <td>43525.0</td>\n",
       "    </tr>\n",
       "    <tr>\n",
       "      <th>4</th>\n",
       "      <td>2.2</td>\n",
       "      <td>39891.0</td>\n",
       "    </tr>\n",
       "    <tr>\n",
       "      <th>5</th>\n",
       "      <td>2.9</td>\n",
       "      <td>56642.0</td>\n",
       "    </tr>\n",
       "    <tr>\n",
       "      <th>6</th>\n",
       "      <td>3.0</td>\n",
       "      <td>60150.0</td>\n",
       "    </tr>\n",
       "    <tr>\n",
       "      <th>7</th>\n",
       "      <td>3.2</td>\n",
       "      <td>54445.0</td>\n",
       "    </tr>\n",
       "    <tr>\n",
       "      <th>8</th>\n",
       "      <td>3.2</td>\n",
       "      <td>64445.0</td>\n",
       "    </tr>\n",
       "    <tr>\n",
       "      <th>9</th>\n",
       "      <td>3.7</td>\n",
       "      <td>57189.0</td>\n",
       "    </tr>\n",
       "    <tr>\n",
       "      <th>10</th>\n",
       "      <td>3.9</td>\n",
       "      <td>63218.0</td>\n",
       "    </tr>\n",
       "    <tr>\n",
       "      <th>11</th>\n",
       "      <td>4.0</td>\n",
       "      <td>55794.0</td>\n",
       "    </tr>\n",
       "    <tr>\n",
       "      <th>12</th>\n",
       "      <td>4.0</td>\n",
       "      <td>56957.0</td>\n",
       "    </tr>\n",
       "    <tr>\n",
       "      <th>13</th>\n",
       "      <td>4.1</td>\n",
       "      <td>57081.0</td>\n",
       "    </tr>\n",
       "    <tr>\n",
       "      <th>14</th>\n",
       "      <td>4.5</td>\n",
       "      <td>61111.0</td>\n",
       "    </tr>\n",
       "    <tr>\n",
       "      <th>15</th>\n",
       "      <td>4.9</td>\n",
       "      <td>67938.0</td>\n",
       "    </tr>\n",
       "    <tr>\n",
       "      <th>16</th>\n",
       "      <td>5.1</td>\n",
       "      <td>66029.0</td>\n",
       "    </tr>\n",
       "    <tr>\n",
       "      <th>17</th>\n",
       "      <td>5.3</td>\n",
       "      <td>83088.0</td>\n",
       "    </tr>\n",
       "    <tr>\n",
       "      <th>18</th>\n",
       "      <td>5.9</td>\n",
       "      <td>81363.0</td>\n",
       "    </tr>\n",
       "    <tr>\n",
       "      <th>19</th>\n",
       "      <td>6.0</td>\n",
       "      <td>93940.0</td>\n",
       "    </tr>\n",
       "    <tr>\n",
       "      <th>20</th>\n",
       "      <td>6.8</td>\n",
       "      <td>91738.0</td>\n",
       "    </tr>\n",
       "    <tr>\n",
       "      <th>21</th>\n",
       "      <td>7.1</td>\n",
       "      <td>98273.0</td>\n",
       "    </tr>\n",
       "    <tr>\n",
       "      <th>22</th>\n",
       "      <td>7.9</td>\n",
       "      <td>101302.0</td>\n",
       "    </tr>\n",
       "    <tr>\n",
       "      <th>23</th>\n",
       "      <td>8.2</td>\n",
       "      <td>113812.0</td>\n",
       "    </tr>\n",
       "    <tr>\n",
       "      <th>24</th>\n",
       "      <td>8.7</td>\n",
       "      <td>109431.0</td>\n",
       "    </tr>\n",
       "    <tr>\n",
       "      <th>25</th>\n",
       "      <td>9.0</td>\n",
       "      <td>105582.0</td>\n",
       "    </tr>\n",
       "    <tr>\n",
       "      <th>26</th>\n",
       "      <td>9.5</td>\n",
       "      <td>116969.0</td>\n",
       "    </tr>\n",
       "    <tr>\n",
       "      <th>27</th>\n",
       "      <td>9.6</td>\n",
       "      <td>112635.0</td>\n",
       "    </tr>\n",
       "    <tr>\n",
       "      <th>28</th>\n",
       "      <td>10.3</td>\n",
       "      <td>122391.0</td>\n",
       "    </tr>\n",
       "    <tr>\n",
       "      <th>29</th>\n",
       "      <td>10.5</td>\n",
       "      <td>121872.0</td>\n",
       "    </tr>\n",
       "  </tbody>\n",
       "</table>\n",
       "</div>"
      ],
      "text/plain": [
       "    YearsExperience    Salary\n",
       "0               1.1   39343.0\n",
       "1               1.3   46205.0\n",
       "2               1.5   37731.0\n",
       "3               2.0   43525.0\n",
       "4               2.2   39891.0\n",
       "5               2.9   56642.0\n",
       "6               3.0   60150.0\n",
       "7               3.2   54445.0\n",
       "8               3.2   64445.0\n",
       "9               3.7   57189.0\n",
       "10              3.9   63218.0\n",
       "11              4.0   55794.0\n",
       "12              4.0   56957.0\n",
       "13              4.1   57081.0\n",
       "14              4.5   61111.0\n",
       "15              4.9   67938.0\n",
       "16              5.1   66029.0\n",
       "17              5.3   83088.0\n",
       "18              5.9   81363.0\n",
       "19              6.0   93940.0\n",
       "20              6.8   91738.0\n",
       "21              7.1   98273.0\n",
       "22              7.9  101302.0\n",
       "23              8.2  113812.0\n",
       "24              8.7  109431.0\n",
       "25              9.0  105582.0\n",
       "26              9.5  116969.0\n",
       "27              9.6  112635.0\n",
       "28             10.3  122391.0\n",
       "29             10.5  121872.0"
      ]
     },
     "execution_count": 44,
     "metadata": {},
     "output_type": "execute_result"
    }
   ],
   "source": [
    "salarydata = pd.read_csv(\"Salary_Data.csv\")\n",
    "salarydata"
   ]
  },
  {
   "cell_type": "code",
   "execution_count": 45,
   "id": "06e75ea5",
   "metadata": {
    "ExecuteTime": {
     "end_time": "2022-07-07T06:27:41.661574Z",
     "start_time": "2022-07-07T06:27:41.624379Z"
    }
   },
   "outputs": [
    {
     "data": {
      "text/plain": [
       "YearsExperience    float64\n",
       "Salary             float64\n",
       "dtype: object"
      ]
     },
     "execution_count": 45,
     "metadata": {},
     "output_type": "execute_result"
    }
   ],
   "source": [
    "salarydata.dtypes"
   ]
  },
  {
   "cell_type": "code",
   "execution_count": 46,
   "id": "903331f6",
   "metadata": {
    "ExecuteTime": {
     "end_time": "2022-07-07T06:27:42.480227Z",
     "start_time": "2022-07-07T06:27:42.442471Z"
    }
   },
   "outputs": [
    {
     "data": {
      "text/plain": [
       "YearsExperience    0\n",
       "Salary             0\n",
       "dtype: int64"
      ]
     },
     "execution_count": 46,
     "metadata": {},
     "output_type": "execute_result"
    }
   ],
   "source": [
    "salarydata.isna().sum() #sum of total NaN in the data set"
   ]
  },
  {
   "cell_type": "code",
   "execution_count": 47,
   "id": "8ee39534",
   "metadata": {
    "ExecuteTime": {
     "end_time": "2022-07-07T06:27:43.166884Z",
     "start_time": "2022-07-07T06:27:42.627747Z"
    }
   },
   "outputs": [
    {
     "data": {
      "text/plain": [
       "<matplotlib.collections.PathCollection at 0x1f148f0b8e0>"
      ]
     },
     "execution_count": 47,
     "metadata": {},
     "output_type": "execute_result"
    },
    {
     "data": {
      "image/png": "[encoded data removed]",
      "text/plain": [
       "<Figure size 432x288 with 1 Axes>"
      ]
     },
     "metadata": {
      "needs_background": "light"
     },
     "output_type": "display_data"
    }
   ],
   "source": [
    "plt.scatter(x='YearsExperience',y='Salary',data = salarydata)"
   ]
  },
  {
   "cell_type": "code",
   "execution_count": 50,
   "id": "980b8c65",
   "metadata": {
    "ExecuteTime": {
     "end_time": "2022-07-07T06:27:49.301697Z",
     "start_time": "2022-07-07T06:27:48.900679Z"
    }
   },
   "outputs": [
    {
     "data": {
      "text/plain": [
       "<seaborn.axisgrid.FacetGrid at 0x1f146b55100>"
      ]
     },
     "execution_count": 50,
     "metadata": {},
     "output_type": "execute_result"
    },
    {
     "data": {
      "image/png": "[encoded data removed]",
      "text/plain": [
       "<Figure size 360x360 with 1 Axes>"
      ]
     },
     "metadata": {
      "needs_background": "light"
     },
     "output_type": "display_data"
    }
   ],
   "source": [
    "sns.lmplot(x='YearsExperience',y='Salary',data = salarydata)"
   ]
  },
  {
   "cell_type": "code",
   "execution_count": 51,
   "id": "5f1debbd",
   "metadata": {
    "ExecuteTime": {
     "end_time": "2022-07-07T06:27:49.749256Z",
     "start_time": "2022-07-07T06:27:49.733695Z"
    }
   },
   "outputs": [],
   "source": [
    "linear_models= LinearRegression"
   ]
  },
  {
   "cell_type": "code",
   "execution_count": 52,
   "id": "0d89c082",
   "metadata": {
    "ExecuteTime": {
     "end_time": "2022-07-07T06:27:50.869849Z",
     "start_time": "2022-07-07T06:27:50.753931Z"
    }
   },
   "outputs": [],
   "source": [
    "linear_model = smf.ols(formula='Salary~YearsExperience',data=salarydata)\n",
    "#OLS = Ordinary least squares function of SMF (Stats Model Formula)\n",
    "#OLS used to minimize the error between the predicted and real values"
   ]
  },
  {
   "cell_type": "code",
   "execution_count": 53,
   "id": "2a4157a7",
   "metadata": {
    "ExecuteTime": {
     "end_time": "2022-07-07T06:27:52.115169Z",
     "start_time": "2022-07-07T06:27:52.083920Z"
    }
   },
   "outputs": [],
   "source": [
    "linear_model = linear_model.fit()"
   ]
  },
  {
   "cell_type": "code",
   "execution_count": 54,
   "id": "51dc4c3f",
   "metadata": {
    "ExecuteTime": {
     "end_time": "2022-07-07T06:27:52.779475Z",
     "start_time": "2022-07-07T06:27:52.763853Z"
    }
   },
   "outputs": [
    {
     "data": {
      "text/plain": [
       "Intercept          25792.200199\n",
       "YearsExperience     9449.962321\n",
       "dtype: float64"
      ]
     },
     "execution_count": 54,
     "metadata": {},
     "output_type": "execute_result"
    }
   ],
   "source": [
    "linear_model.params"
   ]
  },
  {
   "cell_type": "code",
   "execution_count": 55,
   "id": "2e4eb763",
   "metadata": {
    "ExecuteTime": {
     "end_time": "2022-07-07T06:27:54.388113Z",
     "start_time": "2022-07-07T06:27:54.357380Z"
    }
   },
   "outputs": [
    {
     "data": {
      "text/plain": [
       "0      36187.158752\n",
       "1      38077.151217\n",
       "2      39967.143681\n",
       "3      44692.124842\n",
       "4      46582.117306\n",
       "5      53197.090931\n",
       "6      54142.087163\n",
       "7      56032.079627\n",
       "8      56032.079627\n",
       "9      60757.060788\n",
       "10     62647.053252\n",
       "11     63592.049484\n",
       "12     63592.049484\n",
       "13     64537.045717\n",
       "14     68317.030645\n",
       "15     72097.015574\n",
       "16     73987.008038\n",
       "17     75877.000502\n",
       "18     81546.977895\n",
       "19     82491.974127\n",
       "20     90051.943985\n",
       "21     92886.932681\n",
       "22    100446.902538\n",
       "23    103281.891235\n",
       "24    108006.872395\n",
       "25    110841.861092\n",
       "26    115566.842252\n",
       "27    116511.838485\n",
       "28    123126.812110\n",
       "29    125016.804574\n",
       "dtype: float64"
      ]
     },
     "execution_count": 55,
     "metadata": {},
     "output_type": "execute_result"
    }
   ],
   "source": [
    "predicted = linear_model.predict(salarydata)\n",
    "predicted"
   ]
  },
  {
   "cell_type": "code",
   "execution_count": 56,
   "id": "81ff51aa",
   "metadata": {
    "ExecuteTime": {
     "end_time": "2022-07-07T06:27:56.888968Z",
     "start_time": "2022-07-07T06:27:56.873345Z"
    }
   },
   "outputs": [],
   "source": [
    "salarydata['predicted'] = predicted"
   ]
  },
  {
   "cell_type": "code",
   "execution_count": 57,
   "id": "6ac45e19",
   "metadata": {
    "ExecuteTime": {
     "end_time": "2022-07-07T06:28:07.253915Z",
     "start_time": "2022-07-07T06:28:07.222661Z"
    },
    "scrolled": true
   },
   "outputs": [
    {
     "data": {
      "text/html": [
       "<div>\n",
       "<style scoped>\n",
       "    .dataframe tbody tr th:only-of-type {\n",
       "        vertical-align: middle;\n",
       "    }\n",
       "\n",
       "    .dataframe tbody tr th {\n",
       "        vertical-align: top;\n",
       "    }\n",
       "\n",
       "    .dataframe thead th {\n",
       "        text-align: right;\n",
       "    }\n",
       "</style>\n",
       "<table border=\"1\" class=\"dataframe\">\n",
       "  <thead>\n",
       "    <tr style=\"text-align: right;\">\n",
       "      <th></th>\n",
       "      <th>YearsExperience</th>\n",
       "      <th>Salary</th>\n",
       "      <th>predicted</th>\n",
       "    </tr>\n",
       "  </thead>\n",
       "  <tbody>\n",
       "    <tr>\n",
       "      <th>0</th>\n",
       "      <td>1.1</td>\n",
       "      <td>39343.0</td>\n",
       "      <td>36187.158752</td>\n",
       "    </tr>\n",
       "    <tr>\n",
       "      <th>1</th>\n",
       "      <td>1.3</td>\n",
       "      <td>46205.0</td>\n",
       "      <td>38077.151217</td>\n",
       "    </tr>\n",
       "    <tr>\n",
       "      <th>2</th>\n",
       "      <td>1.5</td>\n",
       "      <td>37731.0</td>\n",
       "      <td>39967.143681</td>\n",
       "    </tr>\n",
       "    <tr>\n",
       "      <th>3</th>\n",
       "      <td>2.0</td>\n",
       "      <td>43525.0</td>\n",
       "      <td>44692.124842</td>\n",
       "    </tr>\n",
       "    <tr>\n",
       "      <th>4</th>\n",
       "      <td>2.2</td>\n",
       "      <td>39891.0</td>\n",
       "      <td>46582.117306</td>\n",
       "    </tr>\n",
       "    <tr>\n",
       "      <th>5</th>\n",
       "      <td>2.9</td>\n",
       "      <td>56642.0</td>\n",
       "      <td>53197.090931</td>\n",
       "    </tr>\n",
       "    <tr>\n",
       "      <th>6</th>\n",
       "      <td>3.0</td>\n",
       "      <td>60150.0</td>\n",
       "      <td>54142.087163</td>\n",
       "    </tr>\n",
       "    <tr>\n",
       "      <th>7</th>\n",
       "      <td>3.2</td>\n",
       "      <td>54445.0</td>\n",
       "      <td>56032.079627</td>\n",
       "    </tr>\n",
       "    <tr>\n",
       "      <th>8</th>\n",
       "      <td>3.2</td>\n",
       "      <td>64445.0</td>\n",
       "      <td>56032.079627</td>\n",
       "    </tr>\n",
       "    <tr>\n",
       "      <th>9</th>\n",
       "      <td>3.7</td>\n",
       "      <td>57189.0</td>\n",
       "      <td>60757.060788</td>\n",
       "    </tr>\n",
       "    <tr>\n",
       "      <th>10</th>\n",
       "      <td>3.9</td>\n",
       "      <td>63218.0</td>\n",
       "      <td>62647.053252</td>\n",
       "    </tr>\n",
       "    <tr>\n",
       "      <th>11</th>\n",
       "      <td>4.0</td>\n",
       "      <td>55794.0</td>\n",
       "      <td>63592.049484</td>\n",
       "    </tr>\n",
       "    <tr>\n",
       "      <th>12</th>\n",
       "      <td>4.0</td>\n",
       "      <td>56957.0</td>\n",
       "      <td>63592.049484</td>\n",
       "    </tr>\n",
       "    <tr>\n",
       "      <th>13</th>\n",
       "      <td>4.1</td>\n",
       "      <td>57081.0</td>\n",
       "      <td>64537.045717</td>\n",
       "    </tr>\n",
       "    <tr>\n",
       "      <th>14</th>\n",
       "      <td>4.5</td>\n",
       "      <td>61111.0</td>\n",
       "      <td>68317.030645</td>\n",
       "    </tr>\n",
       "    <tr>\n",
       "      <th>15</th>\n",
       "      <td>4.9</td>\n",
       "      <td>67938.0</td>\n",
       "      <td>72097.015574</td>\n",
       "    </tr>\n",
       "    <tr>\n",
       "      <th>16</th>\n",
       "      <td>5.1</td>\n",
       "      <td>66029.0</td>\n",
       "      <td>73987.008038</td>\n",
       "    </tr>\n",
       "    <tr>\n",
       "      <th>17</th>\n",
       "      <td>5.3</td>\n",
       "      <td>83088.0</td>\n",
       "      <td>75877.000502</td>\n",
       "    </tr>\n",
       "    <tr>\n",
       "      <th>18</th>\n",
       "      <td>5.9</td>\n",
       "      <td>81363.0</td>\n",
       "      <td>81546.977895</td>\n",
       "    </tr>\n",
       "    <tr>\n",
       "      <th>19</th>\n",
       "      <td>6.0</td>\n",
       "      <td>93940.0</td>\n",
       "      <td>82491.974127</td>\n",
       "    </tr>\n",
       "    <tr>\n",
       "      <th>20</th>\n",
       "      <td>6.8</td>\n",
       "      <td>91738.0</td>\n",
       "      <td>90051.943985</td>\n",
       "    </tr>\n",
       "    <tr>\n",
       "      <th>21</th>\n",
       "      <td>7.1</td>\n",
       "      <td>98273.0</td>\n",
       "      <td>92886.932681</td>\n",
       "    </tr>\n",
       "    <tr>\n",
       "      <th>22</th>\n",
       "      <td>7.9</td>\n",
       "      <td>101302.0</td>\n",
       "      <td>100446.902538</td>\n",
       "    </tr>\n",
       "    <tr>\n",
       "      <th>23</th>\n",
       "      <td>8.2</td>\n",
       "      <td>113812.0</td>\n",
       "      <td>103281.891235</td>\n",
       "    </tr>\n",
       "    <tr>\n",
       "      <th>24</th>\n",
       "      <td>8.7</td>\n",
       "      <td>109431.0</td>\n",
       "      <td>108006.872395</td>\n",
       "    </tr>\n",
       "    <tr>\n",
       "      <th>25</th>\n",
       "      <td>9.0</td>\n",
       "      <td>105582.0</td>\n",
       "      <td>110841.861092</td>\n",
       "    </tr>\n",
       "    <tr>\n",
       "      <th>26</th>\n",
       "      <td>9.5</td>\n",
       "      <td>116969.0</td>\n",
       "      <td>115566.842252</td>\n",
       "    </tr>\n",
       "    <tr>\n",
       "      <th>27</th>\n",
       "      <td>9.6</td>\n",
       "      <td>112635.0</td>\n",
       "      <td>116511.838485</td>\n",
       "    </tr>\n",
       "    <tr>\n",
       "      <th>28</th>\n",
       "      <td>10.3</td>\n",
       "      <td>122391.0</td>\n",
       "      <td>123126.812110</td>\n",
       "    </tr>\n",
       "    <tr>\n",
       "      <th>29</th>\n",
       "      <td>10.5</td>\n",
       "      <td>121872.0</td>\n",
       "      <td>125016.804574</td>\n",
       "    </tr>\n",
       "  </tbody>\n",
       "</table>\n",
       "</div>"
      ],
      "text/plain": [
       "    YearsExperience    Salary      predicted\n",
       "0               1.1   39343.0   36187.158752\n",
       "1               1.3   46205.0   38077.151217\n",
       "2               1.5   37731.0   39967.143681\n",
       "3               2.0   43525.0   44692.124842\n",
       "4               2.2   39891.0   46582.117306\n",
       "5               2.9   56642.0   53197.090931\n",
       "6               3.0   60150.0   54142.087163\n",
       "7               3.2   54445.0   56032.079627\n",
       "8               3.2   64445.0   56032.079627\n",
       "9               3.7   57189.0   60757.060788\n",
       "10              3.9   63218.0   62647.053252\n",
       "11              4.0   55794.0   63592.049484\n",
       "12              4.0   56957.0   63592.049484\n",
       "13              4.1   57081.0   64537.045717\n",
       "14              4.5   61111.0   68317.030645\n",
       "15              4.9   67938.0   72097.015574\n",
       "16              5.1   66029.0   73987.008038\n",
       "17              5.3   83088.0   75877.000502\n",
       "18              5.9   81363.0   81546.977895\n",
       "19              6.0   93940.0   82491.974127\n",
       "20              6.8   91738.0   90051.943985\n",
       "21              7.1   98273.0   92886.932681\n",
       "22              7.9  101302.0  100446.902538\n",
       "23              8.2  113812.0  103281.891235\n",
       "24              8.7  109431.0  108006.872395\n",
       "25              9.0  105582.0  110841.861092\n",
       "26              9.5  116969.0  115566.842252\n",
       "27              9.6  112635.0  116511.838485\n",
       "28             10.3  122391.0  123126.812110\n",
       "29             10.5  121872.0  125016.804574"
      ]
     },
     "execution_count": 57,
     "metadata": {},
     "output_type": "execute_result"
    }
   ],
   "source": [
    "salarydata"
   ]
  },
  {
   "cell_type": "code",
   "execution_count": 58,
   "id": "559b6ed6",
   "metadata": {
    "ExecuteTime": {
     "end_time": "2022-07-07T06:28:10.134528Z",
     "start_time": "2022-07-07T06:28:10.103625Z"
    }
   },
   "outputs": [],
   "source": [
    "y = salarydata['Salary']"
   ]
  },
  {
   "cell_type": "code",
   "execution_count": 72,
   "id": "8fb69629",
   "metadata": {
    "ExecuteTime": {
     "end_time": "2022-07-07T07:08:36.391357Z",
     "start_time": "2022-07-07T07:08:36.371917Z"
    }
   },
   "outputs": [
    {
     "name": "stdout",
     "output_type": "stream",
     "text": [
      "Mean square error is: 31270951.72\n",
      "R2 score is: 95.70 %\n"
     ]
    }
   ],
   "source": [
    "from sklearn.metrics import mean_squared_error,r2_score\n",
    "print('Mean square error is: %.2f'% mean_squared_error(y,predicted))\n",
    "print(\"R2 score is: %.2f\"% (r2_score(y,predicted)*100),'%')"
   ]
  },
  {
   "cell_type": "markdown",
   "id": "3ec1eaad",
   "metadata": {},
   "source": [
    "## Logarithm transformation\n",
    "### Log transformation used to reduce the skewness of the data"
   ]
  },
  {
   "cell_type": "code",
   "execution_count": 74,
   "id": "b053b358",
   "metadata": {
    "ExecuteTime": {
     "end_time": "2022-07-08T07:06:25.270679Z",
     "start_time": "2022-07-08T07:06:25.189378Z"
    }
   },
   "outputs": [],
   "source": [
    "log_x = np.log(salarydata['YearsExperience'].values.reshape(-1,1))\n",
    "log_y = np.log(salarydata['Salary'].values.reshape(-1,1))"
   ]
  },
  {
   "cell_type": "code",
   "execution_count": 75,
   "id": "88827499",
   "metadata": {
    "ExecuteTime": {
     "end_time": "2022-07-08T07:06:26.485850Z",
     "start_time": "2022-07-08T07:06:26.460334Z"
    }
   },
   "outputs": [],
   "source": [
    "from sklearn.model_selection import train_test_split"
   ]
  },
  {
   "cell_type": "code",
   "execution_count": 76,
   "id": "113aba4a",
   "metadata": {
    "ExecuteTime": {
     "end_time": "2022-07-08T07:06:27.702632Z",
     "start_time": "2022-07-08T07:06:27.629928Z"
    }
   },
   "outputs": [],
   "source": [
    "X_train_log, X_test_1og, Y_train_log, Y_test_log = train_test_split(log_x, log_y, test_size=0.2, random_state= 12)"
   ]
  },
  {
   "cell_type": "code",
   "execution_count": 78,
   "id": "9d8047d0",
   "metadata": {
    "ExecuteTime": {
     "end_time": "2022-07-08T07:06:37.493275Z",
     "start_time": "2022-07-08T07:06:37.476280Z"
    }
   },
   "outputs": [
    {
     "data": {
      "text/plain": [
       "LinearRegression()"
      ]
     },
     "execution_count": 78,
     "metadata": {},
     "output_type": "execute_result"
    }
   ],
   "source": [
    "y_pred_log= LinearRegression()\n",
    "y_pred_log.fit(X_train_log,Y_train_log)"
   ]
  },
  {
   "cell_type": "code",
   "execution_count": 81,
   "id": "d2eceed0",
   "metadata": {
    "ExecuteTime": {
     "end_time": "2022-07-08T07:07:05.506285Z",
     "start_time": "2022-07-08T07:07:05.500053Z"
    }
   },
   "outputs": [
    {
     "data": {
      "text/plain": [
       "array([10.2795247])"
      ]
     },
     "execution_count": 81,
     "metadata": {},
     "output_type": "execute_result"
    }
   ],
   "source": [
    "y_pred_log.intercept_"
   ]
  },
  {
   "cell_type": "code",
   "execution_count": 82,
   "id": "af773fcf",
   "metadata": {
    "ExecuteTime": {
     "end_time": "2022-07-08T07:07:06.054128Z",
     "start_time": "2022-07-08T07:07:06.034497Z"
    }
   },
   "outputs": [
    {
     "data": {
      "text/plain": [
       "array([[0.59081935]])"
      ]
     },
     "execution_count": 82,
     "metadata": {},
     "output_type": "execute_result"
    }
   ],
   "source": [
    "y_pred_log.coef_"
   ]
  },
  {
   "cell_type": "code",
   "execution_count": 83,
   "id": "7e8ea5ee",
   "metadata": {
    "ExecuteTime": {
     "end_time": "2022-07-08T07:07:07.304073Z",
     "start_time": "2022-07-08T07:07:07.285696Z"
    }
   },
   "outputs": [
    {
     "data": {
      "text/plain": [
       "array([[10.96673671],\n",
       "       [11.50066722],\n",
       "       [11.3282009 ],\n",
       "       [11.16816273],\n",
       "       [10.43453458],\n",
       "       [11.43758663]])"
      ]
     },
     "execution_count": 83,
     "metadata": {},
     "output_type": "execute_result"
    }
   ],
   "source": [
    "l_model= y_pred_log.predict(X_test_1og)\n",
    "l_model"
   ]
  },
  {
   "cell_type": "code",
   "execution_count": 84,
   "id": "91730fcb",
   "metadata": {
    "ExecuteTime": {
     "end_time": "2022-07-08T07:07:07.801552Z",
     "start_time": "2022-07-08T07:07:07.683111Z"
    }
   },
   "outputs": [
    {
     "data": {
      "text/html": [
       "<div>\n",
       "<style scoped>\n",
       "    .dataframe tbody tr th:only-of-type {\n",
       "        vertical-align: middle;\n",
       "    }\n",
       "\n",
       "    .dataframe tbody tr th {\n",
       "        vertical-align: top;\n",
       "    }\n",
       "\n",
       "    .dataframe thead th {\n",
       "        text-align: right;\n",
       "    }\n",
       "</style>\n",
       "<table border=\"1\" class=\"dataframe\">\n",
       "  <thead>\n",
       "    <tr style=\"text-align: right;\">\n",
       "      <th></th>\n",
       "      <th>Actual</th>\n",
       "      <th>Predict</th>\n",
       "    </tr>\n",
       "  </thead>\n",
       "  <tbody>\n",
       "    <tr>\n",
       "      <th>0</th>\n",
       "      <td>10.904946</td>\n",
       "      <td>10.966737</td>\n",
       "    </tr>\n",
       "    <tr>\n",
       "      <th>1</th>\n",
       "      <td>11.525861</td>\n",
       "      <td>11.500667</td>\n",
       "    </tr>\n",
       "    <tr>\n",
       "      <th>2</th>\n",
       "      <td>11.306676</td>\n",
       "      <td>11.328201</td>\n",
       "    </tr>\n",
       "    <tr>\n",
       "      <th>3</th>\n",
       "      <td>11.020447</td>\n",
       "      <td>11.168163</td>\n",
       "    </tr>\n",
       "    <tr>\n",
       "      <th>4</th>\n",
       "      <td>10.740843</td>\n",
       "      <td>10.434535</td>\n",
       "    </tr>\n",
       "    <tr>\n",
       "      <th>5</th>\n",
       "      <td>11.495505</td>\n",
       "      <td>11.437587</td>\n",
       "    </tr>\n",
       "  </tbody>\n",
       "</table>\n",
       "</div>"
      ],
      "text/plain": [
       "      Actual    Predict\n",
       "0  10.904946  10.966737\n",
       "1  11.525861  11.500667\n",
       "2  11.306676  11.328201\n",
       "3  11.020447  11.168163\n",
       "4  10.740843  10.434535\n",
       "5  11.495505  11.437587"
      ]
     },
     "execution_count": 84,
     "metadata": {},
     "output_type": "execute_result"
    }
   ],
   "source": [
    "pf = pd.DataFrame({'Actual':Y_test_log.flatten(), 'Predict': l_model.flatten()})\n",
    "pf"
   ]
  },
  {
   "cell_type": "code",
   "execution_count": 85,
   "id": "3b08760b",
   "metadata": {
    "ExecuteTime": {
     "end_time": "2022-07-08T07:07:10.151915Z",
     "start_time": "2022-07-08T07:07:09.547704Z"
    }
   },
   "outputs": [
    {
     "data": {
      "image/png": "[encoded data removed]",
      "text/plain": [
       "<Figure size 432x288 with 1 Axes>"
      ]
     },
     "metadata": {
      "needs_background": "light"
     },
     "output_type": "display_data"
    }
   ],
   "source": [
    "plt.scatter(X_test_1og, Y_test_log,  color='gray')\n",
    "plt.plot(X_test_1og, l_model, color='red', linewidth=2)\n",
    "plt.show()"
   ]
  },
  {
   "cell_type": "code",
   "execution_count": 86,
   "id": "73a6c14e",
   "metadata": {
    "ExecuteTime": {
     "end_time": "2022-07-08T07:07:10.203110Z",
     "start_time": "2022-07-08T07:07:10.161097Z"
    }
   },
   "outputs": [
    {
     "name": "stdout",
     "output_type": "stream",
     "text": [
      "Mean square error is:  0.020652589472808288\n",
      "R2 score is:  0.7652917621367057\n"
     ]
    }
   ],
   "source": [
    "from sklearn.metrics import mean_squared_error,r2_score\n",
    "print('Mean square error is: ',mean_squared_error(Y_test_log, l_model))\n",
    "print('R2 score is: ',r2_score(Y_test_log, l_model))"
   ]
  },
  {
   "cell_type": "markdown",
   "id": "533032ec",
   "metadata": {},
   "source": [
    "## SQRT transformation"
   ]
  },
  {
   "cell_type": "code",
   "execution_count": 87,
   "id": "ddddde42",
   "metadata": {
    "ExecuteTime": {
     "end_time": "2022-07-08T07:07:13.464954Z",
     "start_time": "2022-07-08T07:07:13.442773Z"
    }
   },
   "outputs": [],
   "source": [
    "sqrt_x = (salarydata['YearsExperience']**(1/2)).values.reshape(-1,1)\n",
    "sqrt_y = (salarydata['Salary']**(1/2)).values.reshape(-1,1)"
   ]
  },
  {
   "cell_type": "code",
   "execution_count": 88,
   "id": "ca728bb3",
   "metadata": {
    "ExecuteTime": {
     "end_time": "2022-07-08T07:07:13.648959Z",
     "start_time": "2022-07-08T07:07:13.639870Z"
    }
   },
   "outputs": [],
   "source": [
    "X_train_sqrt, X_test_sqrt, Y_train_sqrt, Y_test_sqrt = train_test_split(sqrt_x, sqrt_y, test_size=0.2, random_state= 22)"
   ]
  },
  {
   "cell_type": "code",
   "execution_count": 89,
   "id": "1dc43851",
   "metadata": {
    "ExecuteTime": {
     "end_time": "2022-07-08T07:07:14.897972Z",
     "start_time": "2022-07-08T07:07:14.877501Z"
    }
   },
   "outputs": [
    {
     "data": {
      "text/plain": [
       "LinearRegression()"
      ]
     },
     "execution_count": 89,
     "metadata": {},
     "output_type": "execute_result"
    }
   ],
   "source": [
    "y_pred_sqrt= LinearRegression()\n",
    "y_pred_sqrt.fit(X_train_sqrt,Y_train_sqrt)"
   ]
  },
  {
   "cell_type": "code",
   "execution_count": 90,
   "id": "a1882c5e",
   "metadata": {
    "ExecuteTime": {
     "end_time": "2022-07-08T07:07:15.096458Z",
     "start_time": "2022-07-08T07:07:15.086884Z"
    }
   },
   "outputs": [
    {
     "data": {
      "text/plain": [
       "array([100.79623522])"
      ]
     },
     "execution_count": 90,
     "metadata": {},
     "output_type": "execute_result"
    }
   ],
   "source": [
    "y_pred_sqrt.intercept_"
   ]
  },
  {
   "cell_type": "code",
   "execution_count": 91,
   "id": "5370ce8c",
   "metadata": {
    "ExecuteTime": {
     "end_time": "2022-07-08T07:07:15.279967Z",
     "start_time": "2022-07-08T07:07:15.259701Z"
    }
   },
   "outputs": [
    {
     "data": {
      "text/plain": [
       "array([[75.61169641]])"
      ]
     },
     "execution_count": 91,
     "metadata": {},
     "output_type": "execute_result"
    }
   ],
   "source": [
    "y_pred_sqrt.coef_"
   ]
  },
  {
   "cell_type": "code",
   "execution_count": 92,
   "id": "d7a0ca33",
   "metadata": {
    "ExecuteTime": {
     "end_time": "2022-07-08T07:07:15.463833Z",
     "start_time": "2022-07-08T07:07:15.457506Z"
    }
   },
   "outputs": [],
   "source": [
    "s_model = y_pred_sqrt.predict(X_test_sqrt)"
   ]
  },
  {
   "cell_type": "code",
   "execution_count": 93,
   "id": "49d7dba4",
   "metadata": {
    "ExecuteTime": {
     "end_time": "2022-07-08T07:07:15.681705Z",
     "start_time": "2022-07-08T07:07:15.662945Z"
    }
   },
   "outputs": [
    {
     "data": {
      "text/html": [
       "<div>\n",
       "<style scoped>\n",
       "    .dataframe tbody tr th:only-of-type {\n",
       "        vertical-align: middle;\n",
       "    }\n",
       "\n",
       "    .dataframe tbody tr th {\n",
       "        vertical-align: top;\n",
       "    }\n",
       "\n",
       "    .dataframe thead th {\n",
       "        text-align: right;\n",
       "    }\n",
       "</style>\n",
       "<table border=\"1\" class=\"dataframe\">\n",
       "  <thead>\n",
       "    <tr style=\"text-align: right;\">\n",
       "      <th></th>\n",
       "      <th>Actual</th>\n",
       "      <th>Predict</th>\n",
       "    </tr>\n",
       "  </thead>\n",
       "  <tbody>\n",
       "    <tr>\n",
       "      <th>0</th>\n",
       "      <td>342.007310</td>\n",
       "      <td>333.847135</td>\n",
       "    </tr>\n",
       "    <tr>\n",
       "      <th>1</th>\n",
       "      <td>330.803567</td>\n",
       "      <td>323.818698</td>\n",
       "    </tr>\n",
       "    <tr>\n",
       "      <th>2</th>\n",
       "      <td>335.611382</td>\n",
       "      <td>335.070508</td>\n",
       "    </tr>\n",
       "    <tr>\n",
       "      <th>3</th>\n",
       "      <td>214.953483</td>\n",
       "      <td>187.006833</td>\n",
       "    </tr>\n",
       "    <tr>\n",
       "      <th>4</th>\n",
       "      <td>337.360341</td>\n",
       "      <td>317.315183</td>\n",
       "    </tr>\n",
       "    <tr>\n",
       "      <th>5</th>\n",
       "      <td>306.496330</td>\n",
       "      <td>286.006310</td>\n",
       "    </tr>\n",
       "  </tbody>\n",
       "</table>\n",
       "</div>"
      ],
      "text/plain": [
       "       Actual     Predict\n",
       "0  342.007310  333.847135\n",
       "1  330.803567  323.818698\n",
       "2  335.611382  335.070508\n",
       "3  214.953483  187.006833\n",
       "4  337.360341  317.315183\n",
       "5  306.496330  286.006310"
      ]
     },
     "execution_count": 93,
     "metadata": {},
     "output_type": "execute_result"
    }
   ],
   "source": [
    "df = pd.DataFrame({'Actual':Y_test_sqrt.flatten(), 'Predict': s_model.flatten()})\n",
    "df"
   ]
  },
  {
   "cell_type": "code",
   "execution_count": 94,
   "id": "52c38bcb",
   "metadata": {
    "ExecuteTime": {
     "end_time": "2022-07-08T07:07:16.149532Z",
     "start_time": "2022-07-08T07:07:15.845693Z"
    }
   },
   "outputs": [
    {
     "data": {
      "image/png": "[encoded data removed]",
      "text/plain": [
       "<Figure size 432x288 with 1 Axes>"
      ]
     },
     "metadata": {
      "needs_background": "light"
     },
     "output_type": "display_data"
    }
   ],
   "source": [
    "plt.scatter(X_test_sqrt, Y_test_sqrt,  color='gray')\n",
    "plt.plot(X_test_sqrt, s_model, color='red', linewidth=2)\n",
    "plt.show()"
   ]
  },
  {
   "cell_type": "code",
   "execution_count": 95,
   "id": "ab2ff3aa",
   "metadata": {
    "ExecuteTime": {
     "end_time": "2022-07-08T07:07:16.167369Z",
     "start_time": "2022-07-08T07:07:16.155359Z"
    },
    "scrolled": true
   },
   "outputs": [
    {
     "name": "stdout",
     "output_type": "stream",
     "text": [
      "Mean square error is:  286.38898420983577\n",
      "R2 score is:  0.8555923094143273\n"
     ]
    }
   ],
   "source": [
    "print('Mean square error is: ',mean_squared_error(Y_test_sqrt, s_model))\n",
    "print('R2 score is: ',r2_score(Y_test_sqrt, s_model))"
   ]
  },
  {
   "cell_type": "markdown",
   "id": "1da4efd5",
   "metadata": {},
   "source": [
    "## Reciprocal Transformation "
   ]
  },
  {
   "cell_type": "code",
   "execution_count": 96,
   "id": "c4152e5a",
   "metadata": {
    "ExecuteTime": {
     "end_time": "2022-07-08T07:07:20.495131Z",
     "start_time": "2022-07-08T07:07:20.477596Z"
    }
   },
   "outputs": [],
   "source": [
    "rcp_x = (1/salarydata['YearsExperience']).values.reshape(-1,1)\n",
    "rcp_y = (1/salarydata['Salary']).values.reshape(-1,1)"
   ]
  },
  {
   "cell_type": "code",
   "execution_count": 97,
   "id": "7519ba56",
   "metadata": {
    "ExecuteTime": {
     "end_time": "2022-07-08T07:07:23.709319Z",
     "start_time": "2022-07-08T07:07:23.692723Z"
    }
   },
   "outputs": [],
   "source": [
    "X_train_rcp, X_test_rcp, Y_train_rcp, Y_test_rcp = train_test_split(rcp_x, rcp_y, test_size=0.2, random_state= 32)"
   ]
  },
  {
   "cell_type": "code",
   "execution_count": 98,
   "id": "fd751c09",
   "metadata": {
    "ExecuteTime": {
     "end_time": "2022-07-08T07:07:23.925886Z",
     "start_time": "2022-07-08T07:07:23.905852Z"
    }
   },
   "outputs": [
    {
     "data": {
      "text/plain": [
       "LinearRegression()"
      ]
     },
     "execution_count": 98,
     "metadata": {},
     "output_type": "execute_result"
    }
   ],
   "source": [
    "y_pred_rcp= LinearRegression()\n",
    "y_pred_rcp.fit(X_train_rcp,Y_train_rcp)"
   ]
  },
  {
   "cell_type": "code",
   "execution_count": 99,
   "id": "a8663b01",
   "metadata": {
    "ExecuteTime": {
     "end_time": "2022-07-08T07:07:24.106342Z",
     "start_time": "2022-07-08T07:07:24.089415Z"
    }
   },
   "outputs": [
    {
     "name": "stdout",
     "output_type": "stream",
     "text": [
      "intercept- [7.41436467e-06]\n",
      "coeff- [[2.77648029e-05]]\n"
     ]
    }
   ],
   "source": [
    "print('intercept-',y_pred_rcp.intercept_)\n",
    "print('coeff-',y_pred_rcp.coef_)"
   ]
  },
  {
   "cell_type": "code",
   "execution_count": 100,
   "id": "bc526662",
   "metadata": {
    "ExecuteTime": {
     "end_time": "2022-07-08T07:07:24.275626Z",
     "start_time": "2022-07-08T07:07:24.259035Z"
    }
   },
   "outputs": [],
   "source": [
    "r_model = y_pred_rcp.predict(X_test_rcp)"
   ]
  },
  {
   "cell_type": "code",
   "execution_count": 101,
   "id": "a5587d7b",
   "metadata": {
    "ExecuteTime": {
     "end_time": "2022-07-08T07:07:24.458882Z",
     "start_time": "2022-07-08T07:07:24.433151Z"
    }
   },
   "outputs": [
    {
     "data": {
      "text/html": [
       "<div>\n",
       "<style scoped>\n",
       "    .dataframe tbody tr th:only-of-type {\n",
       "        vertical-align: middle;\n",
       "    }\n",
       "\n",
       "    .dataframe tbody tr th {\n",
       "        vertical-align: top;\n",
       "    }\n",
       "\n",
       "    .dataframe thead th {\n",
       "        text-align: right;\n",
       "    }\n",
       "</style>\n",
       "<table border=\"1\" class=\"dataframe\">\n",
       "  <thead>\n",
       "    <tr style=\"text-align: right;\">\n",
       "      <th></th>\n",
       "      <th>Actual</th>\n",
       "      <th>Predict</th>\n",
       "    </tr>\n",
       "  </thead>\n",
       "  <tbody>\n",
       "    <tr>\n",
       "      <th>0</th>\n",
       "      <td>0.000025</td>\n",
       "      <td>0.000033</td>\n",
       "    </tr>\n",
       "    <tr>\n",
       "      <th>1</th>\n",
       "      <td>0.000018</td>\n",
       "      <td>0.000014</td>\n",
       "    </tr>\n",
       "    <tr>\n",
       "      <th>2</th>\n",
       "      <td>0.000017</td>\n",
       "      <td>0.000017</td>\n",
       "    </tr>\n",
       "    <tr>\n",
       "      <th>3</th>\n",
       "      <td>0.000018</td>\n",
       "      <td>0.000014</td>\n",
       "    </tr>\n",
       "    <tr>\n",
       "      <th>4</th>\n",
       "      <td>0.000010</td>\n",
       "      <td>0.000011</td>\n",
       "    </tr>\n",
       "    <tr>\n",
       "      <th>5</th>\n",
       "      <td>0.000015</td>\n",
       "      <td>0.000013</td>\n",
       "    </tr>\n",
       "  </tbody>\n",
       "</table>\n",
       "</div>"
      ],
      "text/plain": [
       "     Actual   Predict\n",
       "0  0.000025  0.000033\n",
       "1  0.000018  0.000014\n",
       "2  0.000017  0.000017\n",
       "3  0.000018  0.000014\n",
       "4  0.000010  0.000011\n",
       "5  0.000015  0.000013"
      ]
     },
     "execution_count": 101,
     "metadata": {},
     "output_type": "execute_result"
    }
   ],
   "source": [
    "mf = pd.DataFrame({'Actual':Y_test_rcp.flatten(), 'Predict': r_model.flatten()})\n",
    "mf"
   ]
  },
  {
   "cell_type": "code",
   "execution_count": 102,
   "id": "c7e3b07f",
   "metadata": {
    "ExecuteTime": {
     "end_time": "2022-07-08T07:07:24.892770Z",
     "start_time": "2022-07-08T07:07:24.594412Z"
    }
   },
   "outputs": [
    {
     "data": {
      "image/png": "[encoded data removed]",
      "text/plain": [
       "<Figure size 432x288 with 1 Axes>"
      ]
     },
     "metadata": {
      "needs_background": "light"
     },
     "output_type": "display_data"
    }
   ],
   "source": [
    "plt.scatter(X_test_rcp, Y_test_rcp,  color='gray')\n",
    "plt.plot(X_test_rcp, r_model, color='red', linewidth=2)\n",
    "plt.show()"
   ]
  },
  {
   "cell_type": "code",
   "execution_count": 103,
   "id": "78eb534d",
   "metadata": {
    "ExecuteTime": {
     "end_time": "2022-07-08T07:07:24.912766Z",
     "start_time": "2022-07-08T07:07:24.899521Z"
    }
   },
   "outputs": [
    {
     "name": "stdout",
     "output_type": "stream",
     "text": [
      "Mean square error is:  1.2957911064881658e-11\n",
      "R2 score is:  0.3696818335987154\n"
     ]
    }
   ],
   "source": [
    "print('Mean square error is: ',mean_squared_error(Y_test_rcp, r_model))\n",
    "print('R2 score is: ',r2_score(Y_test_rcp, r_model))"
   ]
  }
 ],
 "metadata": {
  "kernelspec": {
   "display_name": "Python 3 (ipykernel)",
   "language": "python",
   "name": "python3"
  },
  "language_info": {
   "codemirror_mode": {
    "name": "ipython",
    "version": 3
   },
   "file_extension": ".py",
   "mimetype": "text/x-python",
   "name": "python",
   "nbconvert_exporter": "python",
   "pygments_lexer": "ipython3",
   "version": "3.9.7"
  },
  "toc": {
   "base_numbering": 1,
   "nav_menu": {},
   "number_sections": true,
   "sideBar": true,
   "skip_h1_title": false,
   "title_cell": "Table of Contents",
   "title_sidebar": "Contents",
   "toc_cell": false,
   "toc_position": {},
   "toc_section_display": true,
   "toc_window_display": false
  }
 },
 "nbformat": 4,
 "nbformat_minor": 5
}
