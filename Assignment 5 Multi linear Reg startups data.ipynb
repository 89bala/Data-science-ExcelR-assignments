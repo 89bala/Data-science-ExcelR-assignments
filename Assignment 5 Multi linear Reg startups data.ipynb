{
 "cells": [
  {
   "cell_type": "code",
   "execution_count": 1,
   "id": "4f8fa6cf",
   "metadata": {
    "ExecuteTime": {
     "end_time": "2022-07-08T08:54:55.657432Z",
     "start_time": "2022-07-08T08:54:53.169454Z"
    }
   },
   "outputs": [],
   "source": [
    "import pandas as pd\n",
    "import seaborn as sns\n",
    "import statsmodels.formula.api as smf\n",
    "import matplotlib.pyplot as plt\n",
    "import numpy as np"
   ]
  },
  {
   "cell_type": "code",
   "execution_count": 3,
   "id": "9c8355f7",
   "metadata": {
    "ExecuteTime": {
     "end_time": "2022-07-08T08:55:25.200898Z",
     "start_time": "2022-07-08T08:55:25.147304Z"
    }
   },
   "outputs": [
    {
     "data": {
      "text/html": [
       "<div>\n",
       "<style scoped>\n",
       "    .dataframe tbody tr th:only-of-type {\n",
       "        vertical-align: middle;\n",
       "    }\n",
       "\n",
       "    .dataframe tbody tr th {\n",
       "        vertical-align: top;\n",
       "    }\n",
       "\n",
       "    .dataframe thead th {\n",
       "        text-align: right;\n",
       "    }\n",
       "</style>\n",
       "<table border=\"1\" class=\"dataframe\">\n",
       "  <thead>\n",
       "    <tr style=\"text-align: right;\">\n",
       "      <th></th>\n",
       "      <th>R&amp;D Spend</th>\n",
       "      <th>Administration</th>\n",
       "      <th>Marketing Spend</th>\n",
       "      <th>State</th>\n",
       "      <th>Profit</th>\n",
       "    </tr>\n",
       "  </thead>\n",
       "  <tbody>\n",
       "    <tr>\n",
       "      <th>0</th>\n",
       "      <td>165349.20</td>\n",
       "      <td>136897.80</td>\n",
       "      <td>471784.10</td>\n",
       "      <td>New York</td>\n",
       "      <td>192261.83</td>\n",
       "    </tr>\n",
       "    <tr>\n",
       "      <th>1</th>\n",
       "      <td>162597.70</td>\n",
       "      <td>151377.59</td>\n",
       "      <td>443898.53</td>\n",
       "      <td>California</td>\n",
       "      <td>191792.06</td>\n",
       "    </tr>\n",
       "    <tr>\n",
       "      <th>2</th>\n",
       "      <td>153441.51</td>\n",
       "      <td>101145.55</td>\n",
       "      <td>407934.54</td>\n",
       "      <td>Florida</td>\n",
       "      <td>191050.39</td>\n",
       "    </tr>\n",
       "    <tr>\n",
       "      <th>3</th>\n",
       "      <td>144372.41</td>\n",
       "      <td>118671.85</td>\n",
       "      <td>383199.62</td>\n",
       "      <td>New York</td>\n",
       "      <td>182901.99</td>\n",
       "    </tr>\n",
       "    <tr>\n",
       "      <th>4</th>\n",
       "      <td>142107.34</td>\n",
       "      <td>91391.77</td>\n",
       "      <td>366168.42</td>\n",
       "      <td>Florida</td>\n",
       "      <td>166187.94</td>\n",
       "    </tr>\n",
       "  </tbody>\n",
       "</table>\n",
       "</div>"
      ],
      "text/plain": [
       "   R&D Spend  Administration  Marketing Spend       State     Profit\n",
       "0  165349.20       136897.80        471784.10    New York  192261.83\n",
       "1  162597.70       151377.59        443898.53  California  191792.06\n",
       "2  153441.51       101145.55        407934.54     Florida  191050.39\n",
       "3  144372.41       118671.85        383199.62    New York  182901.99\n",
       "4  142107.34        91391.77        366168.42     Florida  166187.94"
      ]
     },
     "execution_count": 3,
     "metadata": {},
     "output_type": "execute_result"
    }
   ],
   "source": [
    "startups = pd.read_csv(\"50_Startups.csv\")\n",
    "startups.head()"
   ]
  },
  {
   "cell_type": "code",
   "execution_count": 4,
   "id": "9a2e60df",
   "metadata": {
    "ExecuteTime": {
     "end_time": "2022-07-08T08:55:25.385914Z",
     "start_time": "2022-07-08T08:55:25.371142Z"
    }
   },
   "outputs": [
    {
     "data": {
      "text/plain": [
       "R&D Spend          float64\n",
       "Administration     float64\n",
       "Marketing Spend    float64\n",
       "State               object\n",
       "Profit             float64\n",
       "dtype: object"
      ]
     },
     "execution_count": 4,
     "metadata": {},
     "output_type": "execute_result"
    }
   ],
   "source": [
    "startups.dtypes"
   ]
  },
  {
   "cell_type": "code",
   "execution_count": 5,
   "id": "e19bc514",
   "metadata": {
    "ExecuteTime": {
     "end_time": "2022-07-08T08:55:28.655410Z",
     "start_time": "2022-07-08T08:55:28.631989Z"
    }
   },
   "outputs": [
    {
     "data": {
      "text/plain": [
       "R&D Spend          0\n",
       "Administration     0\n",
       "Marketing Spend    0\n",
       "State              0\n",
       "Profit             0\n",
       "dtype: int64"
      ]
     },
     "execution_count": 5,
     "metadata": {},
     "output_type": "execute_result"
    }
   ],
   "source": [
    "startups.isna().sum()"
   ]
  },
  {
   "cell_type": "markdown",
   "id": "072950f8",
   "metadata": {},
   "source": [
    "data preprocessing"
   ]
  },
  {
   "cell_type": "code",
   "execution_count": 6,
   "id": "e2438c0e",
   "metadata": {
    "ExecuteTime": {
     "end_time": "2022-07-08T08:55:31.162203Z",
     "start_time": "2022-07-08T08:55:31.156398Z"
    },
    "scrolled": true
   },
   "outputs": [],
   "source": [
    "startups.drop(labels='State',axis=1,inplace=True)"
   ]
  },
  {
   "cell_type": "code",
   "execution_count": 7,
   "id": "084190ed",
   "metadata": {
    "ExecuteTime": {
     "end_time": "2022-07-08T08:55:31.596136Z",
     "start_time": "2022-07-08T08:55:31.559550Z"
    }
   },
   "outputs": [
    {
     "data": {
      "text/html": [
       "<div>\n",
       "<style scoped>\n",
       "    .dataframe tbody tr th:only-of-type {\n",
       "        vertical-align: middle;\n",
       "    }\n",
       "\n",
       "    .dataframe tbody tr th {\n",
       "        vertical-align: top;\n",
       "    }\n",
       "\n",
       "    .dataframe thead th {\n",
       "        text-align: right;\n",
       "    }\n",
       "</style>\n",
       "<table border=\"1\" class=\"dataframe\">\n",
       "  <thead>\n",
       "    <tr style=\"text-align: right;\">\n",
       "      <th></th>\n",
       "      <th>R_D_Spend</th>\n",
       "      <th>Administration</th>\n",
       "      <th>Marketing_Spend</th>\n",
       "      <th>Profit</th>\n",
       "    </tr>\n",
       "  </thead>\n",
       "  <tbody>\n",
       "    <tr>\n",
       "      <th>0</th>\n",
       "      <td>165349.20</td>\n",
       "      <td>136897.80</td>\n",
       "      <td>471784.10</td>\n",
       "      <td>192261.83</td>\n",
       "    </tr>\n",
       "    <tr>\n",
       "      <th>1</th>\n",
       "      <td>162597.70</td>\n",
       "      <td>151377.59</td>\n",
       "      <td>443898.53</td>\n",
       "      <td>191792.06</td>\n",
       "    </tr>\n",
       "    <tr>\n",
       "      <th>2</th>\n",
       "      <td>153441.51</td>\n",
       "      <td>101145.55</td>\n",
       "      <td>407934.54</td>\n",
       "      <td>191050.39</td>\n",
       "    </tr>\n",
       "    <tr>\n",
       "      <th>3</th>\n",
       "      <td>144372.41</td>\n",
       "      <td>118671.85</td>\n",
       "      <td>383199.62</td>\n",
       "      <td>182901.99</td>\n",
       "    </tr>\n",
       "    <tr>\n",
       "      <th>4</th>\n",
       "      <td>142107.34</td>\n",
       "      <td>91391.77</td>\n",
       "      <td>366168.42</td>\n",
       "      <td>166187.94</td>\n",
       "    </tr>\n",
       "  </tbody>\n",
       "</table>\n",
       "</div>"
      ],
      "text/plain": [
       "   R_D_Spend  Administration  Marketing_Spend     Profit\n",
       "0  165349.20       136897.80        471784.10  192261.83\n",
       "1  162597.70       151377.59        443898.53  191792.06\n",
       "2  153441.51       101145.55        407934.54  191050.39\n",
       "3  144372.41       118671.85        383199.62  182901.99\n",
       "4  142107.34        91391.77        366168.42  166187.94"
      ]
     },
     "execution_count": 7,
     "metadata": {},
     "output_type": "execute_result"
    }
   ],
   "source": [
    "startups.rename({'R&D Spend':'R_D_Spend','Marketing Spend':'Marketing_Spend'},axis=1,inplace=True)\n",
    "startups.head()"
   ]
  },
  {
   "cell_type": "markdown",
   "id": "d7ca0a6e",
   "metadata": {},
   "source": [
    "here data already in standard form"
   ]
  },
  {
   "cell_type": "code",
   "execution_count": 8,
   "id": "9baa7344",
   "metadata": {
    "ExecuteTime": {
     "end_time": "2022-07-08T08:55:32.444050Z",
     "start_time": "2022-07-08T08:55:31.907473Z"
    }
   },
   "outputs": [
    {
     "data": {
      "text/plain": [
       "<seaborn.axisgrid.FacetGrid at 0x20a89ce64f0>"
      ]
     },
     "execution_count": 8,
     "metadata": {},
     "output_type": "execute_result"
    },
    {
     "data": {
      "image/png": "[encoded data removed]",
      "text/plain": [
       "<Figure size 360x360 with 1 Axes>"
      ]
     },
     "metadata": {
      "needs_background": "light"
     },
     "output_type": "display_data"
    }
   ],
   "source": [
    "sns.lmplot(x='R_D_Spend',y='Profit',data=startups)"
   ]
  },
  {
   "cell_type": "code",
   "execution_count": 9,
   "id": "c3a343e2",
   "metadata": {
    "ExecuteTime": {
     "end_time": "2022-07-08T08:55:33.776661Z",
     "start_time": "2022-07-08T08:55:33.264111Z"
    }
   },
   "outputs": [
    {
     "data": {
      "text/plain": [
       "<seaborn.axisgrid.FacetGrid at 0x20a8a497d30>"
      ]
     },
     "execution_count": 9,
     "metadata": {},
     "output_type": "execute_result"
    },
    {
     "data": {
      "image/png": "[encoded data removed]",
      "text/plain": [
       "<Figure size 360x360 with 1 Axes>"
      ]
     },
     "metadata": {
      "needs_background": "light"
     },
     "output_type": "display_data"
    }
   ],
   "source": [
    "sns.lmplot(x='Administration',y='Profit',data=startups)"
   ]
  },
  {
   "cell_type": "code",
   "execution_count": 10,
   "id": "6c92197c",
   "metadata": {
    "ExecuteTime": {
     "end_time": "2022-07-08T08:55:34.327473Z",
     "start_time": "2022-07-08T08:55:33.781229Z"
    }
   },
   "outputs": [
    {
     "data": {
      "text/plain": [
       "<seaborn.axisgrid.FacetGrid at 0x20a8a54de80>"
      ]
     },
     "execution_count": 10,
     "metadata": {},
     "output_type": "execute_result"
    },
    {
     "data": {
      "image/png": "[encoded data removed]",
      "text/plain": [
       "<Figure size 360x360 with 1 Axes>"
      ]
     },
     "metadata": {
      "needs_background": "light"
     },
     "output_type": "display_data"
    }
   ],
   "source": [
    "sns.lmplot(x='Marketing_Spend',y='Profit',data=startups)"
   ]
  },
  {
   "cell_type": "markdown",
   "id": "ef236de1",
   "metadata": {},
   "source": [
    "Model building"
   ]
  },
  {
   "cell_type": "code",
   "execution_count": 11,
   "id": "7515c726",
   "metadata": {
    "ExecuteTime": {
     "end_time": "2022-07-08T08:55:35.791427Z",
     "start_time": "2022-07-08T08:55:35.779721Z"
    }
   },
   "outputs": [],
   "source": [
    "x=startups.drop(labels='Profit',axis=1)\n",
    "y=startups['Profit']"
   ]
  },
  {
   "cell_type": "code",
   "execution_count": 12,
   "id": "5107ce08",
   "metadata": {
    "ExecuteTime": {
     "end_time": "2022-07-08T08:55:36.192668Z",
     "start_time": "2022-07-08T08:55:35.970831Z"
    }
   },
   "outputs": [],
   "source": [
    "from sklearn.model_selection import train_test_split\n",
    "x_train,x_test,y_train,y_test=train_test_split(x,y,test_size=0.2)"
   ]
  },
  {
   "cell_type": "code",
   "execution_count": 13,
   "id": "17346c63",
   "metadata": {
    "ExecuteTime": {
     "end_time": "2022-07-08T08:55:36.208074Z",
     "start_time": "2022-07-08T08:55:36.197771Z"
    }
   },
   "outputs": [
    {
     "data": {
      "text/plain": [
       "(40, 3)"
      ]
     },
     "execution_count": 13,
     "metadata": {},
     "output_type": "execute_result"
    }
   ],
   "source": [
    "x_train.shape"
   ]
  },
  {
   "cell_type": "code",
   "execution_count": 14,
   "id": "9cd96fe2",
   "metadata": {
    "ExecuteTime": {
     "end_time": "2022-07-08T08:55:36.309286Z",
     "start_time": "2022-07-08T08:55:36.288468Z"
    }
   },
   "outputs": [
    {
     "data": {
      "text/plain": [
       "(10, 3)"
      ]
     },
     "execution_count": 14,
     "metadata": {},
     "output_type": "execute_result"
    }
   ],
   "source": [
    "x_test.shape"
   ]
  },
  {
   "cell_type": "code",
   "execution_count": 15,
   "id": "845761d6",
   "metadata": {
    "ExecuteTime": {
     "end_time": "2022-07-08T08:55:36.475087Z",
     "start_time": "2022-07-08T08:55:36.456321Z"
    }
   },
   "outputs": [
    {
     "data": {
      "text/plain": [
       "(40,)"
      ]
     },
     "execution_count": 15,
     "metadata": {},
     "output_type": "execute_result"
    }
   ],
   "source": [
    "y_train.shape"
   ]
  },
  {
   "cell_type": "code",
   "execution_count": 16,
   "id": "581a66df",
   "metadata": {
    "ExecuteTime": {
     "end_time": "2022-07-08T08:55:36.656007Z",
     "start_time": "2022-07-08T08:55:36.635603Z"
    }
   },
   "outputs": [
    {
     "data": {
      "text/plain": [
       "(10,)"
      ]
     },
     "execution_count": 16,
     "metadata": {},
     "output_type": "execute_result"
    }
   ],
   "source": [
    "y_test.shape"
   ]
  },
  {
   "cell_type": "markdown",
   "id": "4a972268",
   "metadata": {},
   "source": [
    "Assumptions check"
   ]
  },
  {
   "cell_type": "code",
   "execution_count": 17,
   "id": "9a93e59a",
   "metadata": {
    "ExecuteTime": {
     "end_time": "2022-07-08T08:55:40.738461Z",
     "start_time": "2022-07-08T08:55:37.412721Z"
    },
    "scrolled": true
   },
   "outputs": [
    {
     "data": {
      "text/plain": [
       "<seaborn.axisgrid.PairGrid at 0x20a8a5b2be0>"
      ]
     },
     "execution_count": 17,
     "metadata": {},
     "output_type": "execute_result"
    },
    {
     "data": {
      "image/png": "[encoded data removed]",
      "text/plain": [
       "<Figure size 720x720 with 20 Axes>"
      ]
     },
     "metadata": {
      "needs_background": "light"
     },
     "output_type": "display_data"
    }
   ],
   "source": [
    "sns.pairplot(startups)"
   ]
  },
  {
   "cell_type": "code",
   "execution_count": 18,
   "id": "c9f1e1ff",
   "metadata": {
    "ExecuteTime": {
     "end_time": "2022-07-08T08:55:45.334708Z",
     "start_time": "2022-07-08T08:55:45.311308Z"
    }
   },
   "outputs": [
    {
     "data": {
      "text/html": [
       "<div>\n",
       "<style scoped>\n",
       "    .dataframe tbody tr th:only-of-type {\n",
       "        vertical-align: middle;\n",
       "    }\n",
       "\n",
       "    .dataframe tbody tr th {\n",
       "        vertical-align: top;\n",
       "    }\n",
       "\n",
       "    .dataframe thead th {\n",
       "        text-align: right;\n",
       "    }\n",
       "</style>\n",
       "<table border=\"1\" class=\"dataframe\">\n",
       "  <thead>\n",
       "    <tr style=\"text-align: right;\">\n",
       "      <th></th>\n",
       "      <th>R_D_Spend</th>\n",
       "      <th>Administration</th>\n",
       "      <th>Marketing_Spend</th>\n",
       "      <th>Profit</th>\n",
       "    </tr>\n",
       "  </thead>\n",
       "  <tbody>\n",
       "    <tr>\n",
       "      <th>R_D_Spend</th>\n",
       "      <td>1.000000</td>\n",
       "      <td>0.241955</td>\n",
       "      <td>0.724248</td>\n",
       "      <td>0.972900</td>\n",
       "    </tr>\n",
       "    <tr>\n",
       "      <th>Administration</th>\n",
       "      <td>0.241955</td>\n",
       "      <td>1.000000</td>\n",
       "      <td>-0.032154</td>\n",
       "      <td>0.200717</td>\n",
       "    </tr>\n",
       "    <tr>\n",
       "      <th>Marketing_Spend</th>\n",
       "      <td>0.724248</td>\n",
       "      <td>-0.032154</td>\n",
       "      <td>1.000000</td>\n",
       "      <td>0.747766</td>\n",
       "    </tr>\n",
       "    <tr>\n",
       "      <th>Profit</th>\n",
       "      <td>0.972900</td>\n",
       "      <td>0.200717</td>\n",
       "      <td>0.747766</td>\n",
       "      <td>1.000000</td>\n",
       "    </tr>\n",
       "  </tbody>\n",
       "</table>\n",
       "</div>"
      ],
      "text/plain": [
       "                 R_D_Spend  Administration  Marketing_Spend    Profit\n",
       "R_D_Spend         1.000000        0.241955         0.724248  0.972900\n",
       "Administration    0.241955        1.000000        -0.032154  0.200717\n",
       "Marketing_Spend   0.724248       -0.032154         1.000000  0.747766\n",
       "Profit            0.972900        0.200717         0.747766  1.000000"
      ]
     },
     "execution_count": 18,
     "metadata": {},
     "output_type": "execute_result"
    }
   ],
   "source": [
    "startups.corr()"
   ]
  },
  {
   "cell_type": "code",
   "execution_count": 19,
   "id": "b9e1cf6e",
   "metadata": {
    "ExecuteTime": {
     "end_time": "2022-07-08T08:55:45.585460Z",
     "start_time": "2022-07-08T08:55:45.563802Z"
    }
   },
   "outputs": [],
   "source": [
    "import warnings\n",
    "warnings.filterwarnings('ignore')"
   ]
  },
  {
   "cell_type": "code",
   "execution_count": 20,
   "id": "d9dd5831",
   "metadata": {
    "ExecuteTime": {
     "end_time": "2022-07-08T08:55:46.067455Z",
     "start_time": "2022-07-08T08:55:45.737221Z"
    }
   },
   "outputs": [
    {
     "data": {
      "text/plain": [
       "(<AxesSubplot:xlabel='Administration', ylabel='Density'>,\n",
       " <AxesSubplot:xlabel='Administration', ylabel='Density'>)"
      ]
     },
     "execution_count": 20,
     "metadata": {},
     "output_type": "execute_result"
    },
    {
     "data": {
      "image/png": "[encoded data removed]",
      "text/plain": [
       "<Figure size 432x288 with 1 Axes>"
      ]
     },
     "metadata": {
      "needs_background": "light"
     },
     "output_type": "display_data"
    }
   ],
   "source": [
    "sns.distplot(startups['R_D_Spend']),sns.distplot(startups['Administration'])"
   ]
  },
  {
   "cell_type": "code",
   "execution_count": 21,
   "id": "7b659d97",
   "metadata": {
    "ExecuteTime": {
     "end_time": "2022-07-08T08:55:47.400843Z",
     "start_time": "2022-07-08T08:55:47.117490Z"
    }
   },
   "outputs": [
    {
     "data": {
      "text/plain": [
       "<AxesSubplot:xlabel='Marketing_Spend', ylabel='Density'>"
      ]
     },
     "execution_count": 21,
     "metadata": {},
     "output_type": "execute_result"
    },
    {
     "data": {
      "image/png": "[encoded data removed]",
      "text/plain": [
       "<Figure size 432x288 with 1 Axes>"
      ]
     },
     "metadata": {
      "needs_background": "light"
     },
     "output_type": "display_data"
    }
   ],
   "source": [
    "sns.distplot(startups['Marketing_Spend'])"
   ]
  },
  {
   "cell_type": "markdown",
   "id": "b68f1eb3",
   "metadata": {},
   "source": [
    "Model training"
   ]
  },
  {
   "cell_type": "code",
   "execution_count": 22,
   "id": "f3a4cd46",
   "metadata": {
    "ExecuteTime": {
     "end_time": "2022-07-08T08:55:47.614377Z",
     "start_time": "2022-07-08T08:55:47.442044Z"
    }
   },
   "outputs": [],
   "source": [
    "from sklearn.linear_model import LinearRegression\n",
    "linear_model = LinearRegression()"
   ]
  },
  {
   "cell_type": "code",
   "execution_count": 23,
   "id": "2d8a2e5d",
   "metadata": {
    "ExecuteTime": {
     "end_time": "2022-07-08T08:55:47.645368Z",
     "start_time": "2022-07-08T08:55:47.619656Z"
    }
   },
   "outputs": [
    {
     "data": {
      "text/plain": [
       "LinearRegression()"
      ]
     },
     "execution_count": 23,
     "metadata": {},
     "output_type": "execute_result"
    }
   ],
   "source": [
    "linear_model.fit(x,y)"
   ]
  },
  {
   "cell_type": "markdown",
   "id": "713e2657",
   "metadata": {},
   "source": [
    "Model testing"
   ]
  },
  {
   "cell_type": "code",
   "execution_count": 24,
   "id": "dbb5276c",
   "metadata": {
    "ExecuteTime": {
     "end_time": "2022-07-08T08:55:49.147975Z",
     "start_time": "2022-07-08T08:55:49.136563Z"
    }
   },
   "outputs": [],
   "source": [
    "y_pred_train=linear_model.predict(x_train)\n"
   ]
  },
  {
   "cell_type": "code",
   "execution_count": 25,
   "id": "72520db9",
   "metadata": {
    "ExecuteTime": {
     "end_time": "2022-07-08T08:55:49.317595Z",
     "start_time": "2022-07-08T08:55:49.303133Z"
    }
   },
   "outputs": [],
   "source": [
    "y_pred_test=linear_model.predict(x_test)"
   ]
  },
  {
   "cell_type": "markdown",
   "id": "aaae0ba4",
   "metadata": {},
   "source": [
    "Model evaluation"
   ]
  },
  {
   "cell_type": "code",
   "execution_count": 26,
   "id": "10cb75ed",
   "metadata": {
    "ExecuteTime": {
     "end_time": "2022-07-08T08:55:50.098359Z",
     "start_time": "2022-07-08T08:55:50.090445Z"
    }
   },
   "outputs": [],
   "source": [
    "from sklearn.metrics import r2_score"
   ]
  },
  {
   "cell_type": "code",
   "execution_count": 27,
   "id": "39684829",
   "metadata": {
    "ExecuteTime": {
     "end_time": "2022-07-08T08:55:50.662978Z",
     "start_time": "2022-07-08T08:55:50.647781Z"
    }
   },
   "outputs": [
    {
     "data": {
      "text/plain": [
       "0.9423227564710069"
      ]
     },
     "execution_count": 27,
     "metadata": {},
     "output_type": "execute_result"
    }
   ],
   "source": [
    "r2_score(y_train,y_pred_train)"
   ]
  },
  {
   "cell_type": "code",
   "execution_count": 28,
   "id": "1db931f6",
   "metadata": {
    "ExecuteTime": {
     "end_time": "2022-07-08T08:55:50.847025Z",
     "start_time": "2022-07-08T08:55:50.836034Z"
    }
   },
   "outputs": [
    {
     "data": {
      "text/plain": [
       "0.976073531811207"
      ]
     },
     "execution_count": 28,
     "metadata": {},
     "output_type": "execute_result"
    }
   ],
   "source": [
    "r2_score(y_test,y_pred_test)"
   ]
  },
  {
   "cell_type": "markdown",
   "id": "f130437a",
   "metadata": {},
   "source": [
    "Model optimization"
   ]
  },
  {
   "cell_type": "code",
   "execution_count": 29,
   "id": "60a1f16f",
   "metadata": {
    "ExecuteTime": {
     "end_time": "2022-07-08T08:55:51.594225Z",
     "start_time": "2022-07-08T08:55:51.564389Z"
    }
   },
   "outputs": [],
   "source": [
    "model1=smf.ols('Profit~R_D_Spend+Administration+Marketing_Spend',data=startups).fit()"
   ]
  },
  {
   "cell_type": "code",
   "execution_count": 30,
   "id": "9344dd3a",
   "metadata": {
    "ExecuteTime": {
     "end_time": "2022-07-08T08:55:52.139459Z",
     "start_time": "2022-07-08T08:55:52.110087Z"
    }
   },
   "outputs": [
    {
     "name": "stdout",
     "output_type": "stream",
     "text": [
      "Intercept          50122.192990\n",
      "R_D_Spend              0.805715\n",
      "Administration        -0.026816\n",
      "Marketing_Spend        0.027228\n",
      "dtype: float64\n",
      "pvalue is:\n",
      "Intercept          1.057379e-09\n",
      "R_D_Spend          2.634968e-22\n",
      "Administration     6.017551e-01\n",
      "Marketing_Spend    1.047168e-01\n",
      "dtype: float64\n",
      "aic value: 1058.7714985998055\n",
      "rsquared value: 0.9507459940683246\n"
     ]
    }
   ],
   "source": [
    "print(model1.params)\n",
    "print('pvalue is:')\n",
    "print(model1.pvalues)\n",
    "print('aic value:',model1.aic)\n",
    "print('rsquared value:',model1.rsquared)"
   ]
  },
  {
   "cell_type": "code",
   "execution_count": 31,
   "id": "d2292003",
   "metadata": {
    "ExecuteTime": {
     "end_time": "2022-07-08T08:55:52.514511Z",
     "start_time": "2022-07-08T08:55:52.494507Z"
    }
   },
   "outputs": [],
   "source": [
    "model2=smf.ols('Profit~R_D_Spend+Marketing_Spend',data=startups).fit()"
   ]
  },
  {
   "cell_type": "code",
   "execution_count": 32,
   "id": "25ec1bdb",
   "metadata": {
    "ExecuteTime": {
     "end_time": "2022-07-08T08:55:54.325273Z",
     "start_time": "2022-07-08T08:55:54.302397Z"
    }
   },
   "outputs": [
    {
     "name": "stdout",
     "output_type": "stream",
     "text": [
      "Intercept          46975.864221\n",
      "R_D_Spend              0.796584\n",
      "Marketing_Spend        0.029908\n",
      "dtype: float64\n",
      "pvalue is:\n",
      "Intercept          3.504062e-22\n",
      "R_D_Spend          6.040433e-24\n",
      "Marketing_Spend    6.003040e-02\n",
      "dtype: float64\n",
      "aic value: 1057.070772191826\n",
      "rsquared value: 0.9504503015559763\n"
     ]
    }
   ],
   "source": [
    "print(model2.params)\n",
    "print('pvalue is:')\n",
    "print(model2.pvalues)\n",
    "print('aic value:',model2.aic)\n",
    "print('rsquared value:',model2.rsquared)"
   ]
  },
  {
   "cell_type": "code",
   "execution_count": 33,
   "id": "e84cf43b",
   "metadata": {
    "ExecuteTime": {
     "end_time": "2022-07-08T08:55:55.276676Z",
     "start_time": "2022-07-08T08:55:55.261767Z"
    }
   },
   "outputs": [],
   "source": [
    "model3=smf.ols('Profit~Administration+Marketing_Spend',data=startups).fit()"
   ]
  },
  {
   "cell_type": "code",
   "execution_count": 34,
   "id": "af9f7550",
   "metadata": {
    "ExecuteTime": {
     "end_time": "2022-07-08T08:55:55.461388Z",
     "start_time": "2022-07-08T08:55:55.441320Z"
    }
   },
   "outputs": [
    {
     "name": "stdout",
     "output_type": "stream",
     "text": [
      "Intercept          20224.429059\n",
      "Administration         0.323673\n",
      "Marketing_Spend        0.248844\n",
      "dtype: float64\n",
      "pvalue is:\n",
      "Intercept          2.589341e-01\n",
      "Administration     1.729198e-02\n",
      "Marketing_Spend    9.727245e-11\n",
      "dtype: float64\n",
      "aic value: 1160.2648038638672\n",
      "rsquared value: 0.6097229746770663\n"
     ]
    }
   ],
   "source": [
    "print(model3.params)\n",
    "print('pvalue is:')\n",
    "print(model3.pvalues)\n",
    "print('aic value:',model3.aic)\n",
    "print('rsquared value:',model3.rsquared)"
   ]
  },
  {
   "cell_type": "code",
   "execution_count": 35,
   "id": "aa5e5c0e",
   "metadata": {
    "ExecuteTime": {
     "end_time": "2022-07-08T08:55:55.628904Z",
     "start_time": "2022-07-08T08:55:55.605860Z"
    }
   },
   "outputs": [],
   "source": [
    "model4=smf.ols('Profit~R_D_Spend+Administration',data=startups).fit()"
   ]
  },
  {
   "cell_type": "code",
   "execution_count": 36,
   "id": "5b580202",
   "metadata": {
    "ExecuteTime": {
     "end_time": "2022-07-08T08:55:55.929966Z",
     "start_time": "2022-07-08T08:55:55.915123Z"
    }
   },
   "outputs": [
    {
     "name": "stdout",
     "output_type": "stream",
     "text": [
      "Intercept         54886.620628\n",
      "R_D_Spend             0.862118\n",
      "Administration       -0.052995\n",
      "dtype: float64\n",
      "pvalue is:\n",
      "Intercept         5.695336e-12\n",
      "R_D_Spend         2.278348e-31\n",
      "Administration    2.888932e-01\n",
      "dtype: float64\n",
      "aic value: 1059.6636934567293\n",
      "rsquared value: 0.9478129385009173\n"
     ]
    }
   ],
   "source": [
    "print(model4.params)\n",
    "print('pvalue is:')\n",
    "print(model4.pvalues)\n",
    "print('aic value:',model4.aic)\n",
    "print('rsquared value:',model4.rsquared)"
   ]
  },
  {
   "cell_type": "markdown",
   "id": "5f5e9ce5",
   "metadata": {},
   "source": [
    "the model with least aic value and higher rsquare value gives a good model,in our model when using three coloumn gives better result"
   ]
  },
  {
   "cell_type": "markdown",
   "id": "e27598b2",
   "metadata": {},
   "source": [
    "calculate VIF"
   ]
  },
  {
   "cell_type": "code",
   "execution_count": 37,
   "id": "5c89650a",
   "metadata": {
    "ExecuteTime": {
     "end_time": "2022-07-08T08:55:56.481306Z",
     "start_time": "2022-07-08T08:55:56.450223Z"
    }
   },
   "outputs": [],
   "source": [
    "rsd_ad = smf.ols('Administration~R_D_Spend+Marketing_Spend',data=startups).fit().rsquared\n",
    "vif_ad = 1/(1-rsd_ad)"
   ]
  },
  {
   "cell_type": "code",
   "execution_count": 38,
   "id": "e82895c4",
   "metadata": {
    "ExecuteTime": {
     "end_time": "2022-07-08T08:55:58.558569Z",
     "start_time": "2022-07-08T08:55:58.530843Z"
    }
   },
   "outputs": [],
   "source": [
    "rsd_rd = smf.ols('R_D_Spend~Administration+Marketing_Spend',data=startups).fit().rsquared\n",
    "vif_rd = 1/(1-rsd_rd)"
   ]
  },
  {
   "cell_type": "code",
   "execution_count": 39,
   "id": "fcba90a0",
   "metadata": {
    "ExecuteTime": {
     "end_time": "2022-07-08T08:55:58.758603Z",
     "start_time": "2022-07-08T08:55:58.742309Z"
    }
   },
   "outputs": [],
   "source": [
    "rsd_ms = smf.ols('Marketing_Spend~R_D_Spend+Administration',data=startups).fit().rsquared\n",
    "vif_ms = 1/(1-rsd_ms)"
   ]
  },
  {
   "cell_type": "code",
   "execution_count": 40,
   "id": "a5f15abf",
   "metadata": {
    "ExecuteTime": {
     "end_time": "2022-07-08T08:55:58.924243Z",
     "start_time": "2022-07-08T08:55:58.914678Z"
    }
   },
   "outputs": [],
   "source": [
    "vif_table = pd.DataFrame({'feature':['Administration','R_D_Spend','Marketing_Spend'],'VIF':[vif_ad,vif_rd,vif_ms]})"
   ]
  },
  {
   "cell_type": "code",
   "execution_count": 41,
   "id": "aa1fd8d5",
   "metadata": {
    "ExecuteTime": {
     "end_time": "2022-07-08T08:55:59.091123Z",
     "start_time": "2022-07-08T08:55:59.068415Z"
    }
   },
   "outputs": [
    {
     "data": {
      "text/html": [
       "<div>\n",
       "<style scoped>\n",
       "    .dataframe tbody tr th:only-of-type {\n",
       "        vertical-align: middle;\n",
       "    }\n",
       "\n",
       "    .dataframe tbody tr th {\n",
       "        vertical-align: top;\n",
       "    }\n",
       "\n",
       "    .dataframe thead th {\n",
       "        text-align: right;\n",
       "    }\n",
       "</style>\n",
       "<table border=\"1\" class=\"dataframe\">\n",
       "  <thead>\n",
       "    <tr style=\"text-align: right;\">\n",
       "      <th></th>\n",
       "      <th>feature</th>\n",
       "      <th>VIF</th>\n",
       "    </tr>\n",
       "  </thead>\n",
       "  <tbody>\n",
       "    <tr>\n",
       "      <th>0</th>\n",
       "      <td>Administration</td>\n",
       "      <td>1.175091</td>\n",
       "    </tr>\n",
       "    <tr>\n",
       "      <th>1</th>\n",
       "      <td>R_D_Spend</td>\n",
       "      <td>2.468903</td>\n",
       "    </tr>\n",
       "    <tr>\n",
       "      <th>2</th>\n",
       "      <td>Marketing_Spend</td>\n",
       "      <td>2.326773</td>\n",
       "    </tr>\n",
       "  </tbody>\n",
       "</table>\n",
       "</div>"
      ],
      "text/plain": [
       "           feature       VIF\n",
       "0   Administration  1.175091\n",
       "1        R_D_Spend  2.468903\n",
       "2  Marketing_Spend  2.326773"
      ]
     },
     "execution_count": 41,
     "metadata": {},
     "output_type": "execute_result"
    }
   ],
   "source": [
    "vif_table"
   ]
  },
  {
   "cell_type": "markdown",
   "id": "78ad29ef",
   "metadata": {},
   "source": [
    "vif value lies between 1-3 so it's moderately correlated"
   ]
  },
  {
   "cell_type": "markdown",
   "id": "57c8eba7",
   "metadata": {},
   "source": [
    "Residual analysis"
   ]
  },
  {
   "cell_type": "markdown",
   "id": "9a6ccb6d",
   "metadata": {},
   "source": [
    "Test for normality of residual(Q-Q plot)"
   ]
  },
  {
   "cell_type": "code",
   "execution_count": 42,
   "id": "62270d2f",
   "metadata": {
    "ExecuteTime": {
     "end_time": "2022-07-08T08:56:02.389415Z",
     "start_time": "2022-07-08T08:56:00.669870Z"
    }
   },
   "outputs": [],
   "source": [
    "import statsmodels.api as sm"
   ]
  },
  {
   "cell_type": "code",
   "execution_count": 43,
   "id": "10f37923",
   "metadata": {
    "ExecuteTime": {
     "end_time": "2022-07-08T08:56:02.722353Z",
     "start_time": "2022-07-08T08:56:02.392433Z"
    }
   },
   "outputs": [
    {
     "data": {
      "image/png": "[encoded data removed]",
      "text/plain": [
       "<Figure size 432x288 with 1 Axes>"
      ]
     },
     "metadata": {
      "needs_background": "light"
     },
     "output_type": "display_data"
    }
   ],
   "source": [
    "qqplot = sm.qqplot(model1.resid,line='q')"
   ]
  },
  {
   "cell_type": "markdown",
   "id": "b2218a26",
   "metadata": {},
   "source": [
    "Residualplot for homoscedacity"
   ]
  },
  {
   "cell_type": "code",
   "execution_count": 44,
   "id": "67650390",
   "metadata": {
    "ExecuteTime": {
     "end_time": "2022-07-08T08:56:03.055325Z",
     "start_time": "2022-07-08T08:56:02.727362Z"
    }
   },
   "outputs": [
    {
     "data": {
      "text/plain": [
       "Text(0, 0.5, 'residual values')"
      ]
     },
     "execution_count": 44,
     "metadata": {},
     "output_type": "execute_result"
    },
    {
     "data": {
      "image/png": "[encoded data removed]",
      "text/plain": [
       "<Figure size 432x288 with 1 Axes>"
      ]
     },
     "metadata": {
      "needs_background": "light"
     },
     "output_type": "display_data"
    }
   ],
   "source": [
    "plt.scatter(model1.fittedvalues,model1.resid)\n",
    "plt.title('Residual plot')\n",
    "plt.xlabel('fitted values')\n",
    "plt.ylabel('residual values')"
   ]
  },
  {
   "cell_type": "markdown",
   "id": "28a425ab",
   "metadata": {},
   "source": [
    "Detecting influences/outliers"
   ]
  },
  {
   "cell_type": "code",
   "execution_count": 45,
   "id": "4e581bae",
   "metadata": {
    "ExecuteTime": {
     "end_time": "2022-07-08T08:56:03.086365Z",
     "start_time": "2022-07-08T08:56:03.063182Z"
    }
   },
   "outputs": [],
   "source": [
    "model_influence = model1.get_influence()\n",
    "c,_ = model_influence.cooks_distance"
   ]
  },
  {
   "cell_type": "code",
   "execution_count": 46,
   "id": "2872e7ae",
   "metadata": {
    "ExecuteTime": {
     "end_time": "2022-07-08T08:56:03.485449Z",
     "start_time": "2022-07-08T08:56:03.090395Z"
    }
   },
   "outputs": [
    {
     "data": {
      "text/plain": [
       "<StemContainer object of 3 artists>"
      ]
     },
     "execution_count": 46,
     "metadata": {},
     "output_type": "execute_result"
    },
    {
     "data": {
      "image/png": "[encoded data removed]",
      "text/plain": [
       "<Figure size 1800x720 with 1 Axes>"
      ]
     },
     "metadata": {
      "needs_background": "light"
     },
     "output_type": "display_data"
    }
   ],
   "source": [
    "fig_cook= plt.figure(figsize=(25,10))\n",
    "plt.stem(np.arange(len(startups)),np.round(c,3))"
   ]
  },
  {
   "cell_type": "code",
   "execution_count": 47,
   "id": "7ebed0bd",
   "metadata": {
    "ExecuteTime": {
     "end_time": "2022-07-08T08:56:03.517541Z",
     "start_time": "2022-07-08T08:56:03.490457Z"
    }
   },
   "outputs": [
    {
     "data": {
      "text/plain": [
       "(49, 0.28808229275432634)"
      ]
     },
     "execution_count": 47,
     "metadata": {},
     "output_type": "execute_result"
    }
   ],
   "source": [
    "np.argmax(c),np.max(c)"
   ]
  },
  {
   "cell_type": "code",
   "execution_count": 48,
   "id": "c368c96f",
   "metadata": {
    "ExecuteTime": {
     "end_time": "2022-07-08T08:56:03.547702Z",
     "start_time": "2022-07-08T08:56:03.528797Z"
    }
   },
   "outputs": [],
   "source": [
    "from statsmodels.graphics.regressionplots import influence_plot"
   ]
  },
  {
   "cell_type": "code",
   "execution_count": 49,
   "id": "0b7d784c",
   "metadata": {
    "ExecuteTime": {
     "end_time": "2022-07-08T08:56:03.988144Z",
     "start_time": "2022-07-08T08:56:03.555640Z"
    }
   },
   "outputs": [
    {
     "data": {
      "image/png": "[encoded data removed]",
      "text/plain": [
       "<Figure size 432x288 with 1 Axes>"
      ]
     },
     "metadata": {
      "needs_background": "light"
     },
     "output_type": "display_data"
    }
   ],
   "source": [
    "influence_plot(model1)\n",
    "plt.show()"
   ]
  },
  {
   "cell_type": "markdown",
   "id": "f5d0775a",
   "metadata": {},
   "source": [
    "Model optimization"
   ]
  },
  {
   "cell_type": "code",
   "execution_count": 50,
   "id": "19046442",
   "metadata": {
    "ExecuteTime": {
     "end_time": "2022-07-08T08:56:04.003721Z",
     "start_time": "2022-07-08T08:56:03.993162Z"
    }
   },
   "outputs": [],
   "source": [
    "startups_new=startups"
   ]
  },
  {
   "cell_type": "code",
   "execution_count": 51,
   "id": "0592df81",
   "metadata": {
    "ExecuteTime": {
     "end_time": "2022-07-08T08:56:04.037221Z",
     "start_time": "2022-07-08T08:56:04.009170Z"
    }
   },
   "outputs": [],
   "source": [
    "startups_new=startups_new.drop(startups_new.index[49])\n",
    "startups_new=startups_new.drop(startups_new.index[48])\n",
    "startups_new=startups_new.drop(startups_new.index[46])"
   ]
  },
  {
   "cell_type": "code",
   "execution_count": 52,
   "id": "77aa7eda",
   "metadata": {
    "ExecuteTime": {
     "end_time": "2022-07-08T08:56:04.087425Z",
     "start_time": "2022-07-08T08:56:04.049240Z"
    }
   },
   "outputs": [
    {
     "data": {
      "text/html": [
       "<div>\n",
       "<style scoped>\n",
       "    .dataframe tbody tr th:only-of-type {\n",
       "        vertical-align: middle;\n",
       "    }\n",
       "\n",
       "    .dataframe tbody tr th {\n",
       "        vertical-align: top;\n",
       "    }\n",
       "\n",
       "    .dataframe thead th {\n",
       "        text-align: right;\n",
       "    }\n",
       "</style>\n",
       "<table border=\"1\" class=\"dataframe\">\n",
       "  <thead>\n",
       "    <tr style=\"text-align: right;\">\n",
       "      <th></th>\n",
       "      <th>R_D_Spend</th>\n",
       "      <th>Administration</th>\n",
       "      <th>Marketing_Spend</th>\n",
       "      <th>Profit</th>\n",
       "    </tr>\n",
       "  </thead>\n",
       "  <tbody>\n",
       "    <tr>\n",
       "      <th>0</th>\n",
       "      <td>165349.20</td>\n",
       "      <td>136897.80</td>\n",
       "      <td>471784.10</td>\n",
       "      <td>192261.83</td>\n",
       "    </tr>\n",
       "    <tr>\n",
       "      <th>1</th>\n",
       "      <td>162597.70</td>\n",
       "      <td>151377.59</td>\n",
       "      <td>443898.53</td>\n",
       "      <td>191792.06</td>\n",
       "    </tr>\n",
       "    <tr>\n",
       "      <th>2</th>\n",
       "      <td>153441.51</td>\n",
       "      <td>101145.55</td>\n",
       "      <td>407934.54</td>\n",
       "      <td>191050.39</td>\n",
       "    </tr>\n",
       "    <tr>\n",
       "      <th>3</th>\n",
       "      <td>144372.41</td>\n",
       "      <td>118671.85</td>\n",
       "      <td>383199.62</td>\n",
       "      <td>182901.99</td>\n",
       "    </tr>\n",
       "    <tr>\n",
       "      <th>4</th>\n",
       "      <td>142107.34</td>\n",
       "      <td>91391.77</td>\n",
       "      <td>366168.42</td>\n",
       "      <td>166187.94</td>\n",
       "    </tr>\n",
       "    <tr>\n",
       "      <th>5</th>\n",
       "      <td>131876.90</td>\n",
       "      <td>99814.71</td>\n",
       "      <td>362861.36</td>\n",
       "      <td>156991.12</td>\n",
       "    </tr>\n",
       "    <tr>\n",
       "      <th>6</th>\n",
       "      <td>134615.46</td>\n",
       "      <td>147198.87</td>\n",
       "      <td>127716.82</td>\n",
       "      <td>156122.51</td>\n",
       "    </tr>\n",
       "    <tr>\n",
       "      <th>7</th>\n",
       "      <td>130298.13</td>\n",
       "      <td>145530.06</td>\n",
       "      <td>323876.68</td>\n",
       "      <td>155752.60</td>\n",
       "    </tr>\n",
       "    <tr>\n",
       "      <th>8</th>\n",
       "      <td>120542.52</td>\n",
       "      <td>148718.95</td>\n",
       "      <td>311613.29</td>\n",
       "      <td>152211.77</td>\n",
       "    </tr>\n",
       "    <tr>\n",
       "      <th>9</th>\n",
       "      <td>123334.88</td>\n",
       "      <td>108679.17</td>\n",
       "      <td>304981.62</td>\n",
       "      <td>149759.96</td>\n",
       "    </tr>\n",
       "    <tr>\n",
       "      <th>10</th>\n",
       "      <td>101913.08</td>\n",
       "      <td>110594.11</td>\n",
       "      <td>229160.95</td>\n",
       "      <td>146121.95</td>\n",
       "    </tr>\n",
       "    <tr>\n",
       "      <th>11</th>\n",
       "      <td>100671.96</td>\n",
       "      <td>91790.61</td>\n",
       "      <td>249744.55</td>\n",
       "      <td>144259.40</td>\n",
       "    </tr>\n",
       "    <tr>\n",
       "      <th>12</th>\n",
       "      <td>93863.75</td>\n",
       "      <td>127320.38</td>\n",
       "      <td>249839.44</td>\n",
       "      <td>141585.52</td>\n",
       "    </tr>\n",
       "    <tr>\n",
       "      <th>13</th>\n",
       "      <td>91992.39</td>\n",
       "      <td>135495.07</td>\n",
       "      <td>252664.93</td>\n",
       "      <td>134307.35</td>\n",
       "    </tr>\n",
       "    <tr>\n",
       "      <th>14</th>\n",
       "      <td>119943.24</td>\n",
       "      <td>156547.42</td>\n",
       "      <td>256512.92</td>\n",
       "      <td>132602.65</td>\n",
       "    </tr>\n",
       "    <tr>\n",
       "      <th>15</th>\n",
       "      <td>114523.61</td>\n",
       "      <td>122616.84</td>\n",
       "      <td>261776.23</td>\n",
       "      <td>129917.04</td>\n",
       "    </tr>\n",
       "    <tr>\n",
       "      <th>16</th>\n",
       "      <td>78013.11</td>\n",
       "      <td>121597.55</td>\n",
       "      <td>264346.06</td>\n",
       "      <td>126992.93</td>\n",
       "    </tr>\n",
       "    <tr>\n",
       "      <th>17</th>\n",
       "      <td>94657.16</td>\n",
       "      <td>145077.58</td>\n",
       "      <td>282574.31</td>\n",
       "      <td>125370.37</td>\n",
       "    </tr>\n",
       "    <tr>\n",
       "      <th>18</th>\n",
       "      <td>91749.16</td>\n",
       "      <td>114175.79</td>\n",
       "      <td>294919.57</td>\n",
       "      <td>124266.90</td>\n",
       "    </tr>\n",
       "    <tr>\n",
       "      <th>19</th>\n",
       "      <td>86419.70</td>\n",
       "      <td>153514.11</td>\n",
       "      <td>0.00</td>\n",
       "      <td>122776.86</td>\n",
       "    </tr>\n",
       "    <tr>\n",
       "      <th>20</th>\n",
       "      <td>76253.86</td>\n",
       "      <td>113867.30</td>\n",
       "      <td>298664.47</td>\n",
       "      <td>118474.03</td>\n",
       "    </tr>\n",
       "    <tr>\n",
       "      <th>21</th>\n",
       "      <td>78389.47</td>\n",
       "      <td>153773.43</td>\n",
       "      <td>299737.29</td>\n",
       "      <td>111313.02</td>\n",
       "    </tr>\n",
       "    <tr>\n",
       "      <th>22</th>\n",
       "      <td>73994.56</td>\n",
       "      <td>122782.75</td>\n",
       "      <td>303319.26</td>\n",
       "      <td>110352.25</td>\n",
       "    </tr>\n",
       "    <tr>\n",
       "      <th>23</th>\n",
       "      <td>67532.53</td>\n",
       "      <td>105751.03</td>\n",
       "      <td>304768.73</td>\n",
       "      <td>108733.99</td>\n",
       "    </tr>\n",
       "    <tr>\n",
       "      <th>24</th>\n",
       "      <td>77044.01</td>\n",
       "      <td>99281.34</td>\n",
       "      <td>140574.81</td>\n",
       "      <td>108552.04</td>\n",
       "    </tr>\n",
       "    <tr>\n",
       "      <th>25</th>\n",
       "      <td>64664.71</td>\n",
       "      <td>139553.16</td>\n",
       "      <td>137962.62</td>\n",
       "      <td>107404.34</td>\n",
       "    </tr>\n",
       "    <tr>\n",
       "      <th>26</th>\n",
       "      <td>75328.87</td>\n",
       "      <td>144135.98</td>\n",
       "      <td>134050.07</td>\n",
       "      <td>105733.54</td>\n",
       "    </tr>\n",
       "    <tr>\n",
       "      <th>27</th>\n",
       "      <td>72107.60</td>\n",
       "      <td>127864.55</td>\n",
       "      <td>353183.81</td>\n",
       "      <td>105008.31</td>\n",
       "    </tr>\n",
       "    <tr>\n",
       "      <th>28</th>\n",
       "      <td>66051.52</td>\n",
       "      <td>182645.56</td>\n",
       "      <td>118148.20</td>\n",
       "      <td>103282.38</td>\n",
       "    </tr>\n",
       "    <tr>\n",
       "      <th>29</th>\n",
       "      <td>65605.48</td>\n",
       "      <td>153032.06</td>\n",
       "      <td>107138.38</td>\n",
       "      <td>101004.64</td>\n",
       "    </tr>\n",
       "    <tr>\n",
       "      <th>30</th>\n",
       "      <td>61994.48</td>\n",
       "      <td>115641.28</td>\n",
       "      <td>91131.24</td>\n",
       "      <td>99937.59</td>\n",
       "    </tr>\n",
       "    <tr>\n",
       "      <th>31</th>\n",
       "      <td>61136.38</td>\n",
       "      <td>152701.92</td>\n",
       "      <td>88218.23</td>\n",
       "      <td>97483.56</td>\n",
       "    </tr>\n",
       "    <tr>\n",
       "      <th>32</th>\n",
       "      <td>63408.86</td>\n",
       "      <td>129219.61</td>\n",
       "      <td>46085.25</td>\n",
       "      <td>97427.84</td>\n",
       "    </tr>\n",
       "    <tr>\n",
       "      <th>33</th>\n",
       "      <td>55493.95</td>\n",
       "      <td>103057.49</td>\n",
       "      <td>214634.81</td>\n",
       "      <td>96778.92</td>\n",
       "    </tr>\n",
       "    <tr>\n",
       "      <th>34</th>\n",
       "      <td>46426.07</td>\n",
       "      <td>157693.92</td>\n",
       "      <td>210797.67</td>\n",
       "      <td>96712.80</td>\n",
       "    </tr>\n",
       "    <tr>\n",
       "      <th>35</th>\n",
       "      <td>46014.02</td>\n",
       "      <td>85047.44</td>\n",
       "      <td>205517.64</td>\n",
       "      <td>96479.51</td>\n",
       "    </tr>\n",
       "    <tr>\n",
       "      <th>36</th>\n",
       "      <td>28663.76</td>\n",
       "      <td>127056.21</td>\n",
       "      <td>201126.82</td>\n",
       "      <td>90708.19</td>\n",
       "    </tr>\n",
       "    <tr>\n",
       "      <th>37</th>\n",
       "      <td>44069.95</td>\n",
       "      <td>51283.14</td>\n",
       "      <td>197029.42</td>\n",
       "      <td>89949.14</td>\n",
       "    </tr>\n",
       "    <tr>\n",
       "      <th>38</th>\n",
       "      <td>20229.59</td>\n",
       "      <td>65947.93</td>\n",
       "      <td>185265.10</td>\n",
       "      <td>81229.06</td>\n",
       "    </tr>\n",
       "    <tr>\n",
       "      <th>39</th>\n",
       "      <td>38558.51</td>\n",
       "      <td>82982.09</td>\n",
       "      <td>174999.30</td>\n",
       "      <td>81005.76</td>\n",
       "    </tr>\n",
       "    <tr>\n",
       "      <th>40</th>\n",
       "      <td>28754.33</td>\n",
       "      <td>118546.05</td>\n",
       "      <td>172795.67</td>\n",
       "      <td>78239.91</td>\n",
       "    </tr>\n",
       "    <tr>\n",
       "      <th>41</th>\n",
       "      <td>27892.92</td>\n",
       "      <td>84710.77</td>\n",
       "      <td>164470.71</td>\n",
       "      <td>77798.83</td>\n",
       "    </tr>\n",
       "    <tr>\n",
       "      <th>42</th>\n",
       "      <td>23640.93</td>\n",
       "      <td>96189.63</td>\n",
       "      <td>148001.11</td>\n",
       "      <td>71498.49</td>\n",
       "    </tr>\n",
       "    <tr>\n",
       "      <th>43</th>\n",
       "      <td>15505.73</td>\n",
       "      <td>127382.30</td>\n",
       "      <td>35534.17</td>\n",
       "      <td>69758.98</td>\n",
       "    </tr>\n",
       "    <tr>\n",
       "      <th>44</th>\n",
       "      <td>22177.74</td>\n",
       "      <td>154806.14</td>\n",
       "      <td>28334.72</td>\n",
       "      <td>65200.33</td>\n",
       "    </tr>\n",
       "    <tr>\n",
       "      <th>45</th>\n",
       "      <td>1000.23</td>\n",
       "      <td>124153.04</td>\n",
       "      <td>1903.93</td>\n",
       "      <td>64926.08</td>\n",
       "    </tr>\n",
       "    <tr>\n",
       "      <th>46</th>\n",
       "      <td>0.00</td>\n",
       "      <td>135426.92</td>\n",
       "      <td>0.00</td>\n",
       "      <td>42559.73</td>\n",
       "    </tr>\n",
       "  </tbody>\n",
       "</table>\n",
       "</div>"
      ],
      "text/plain": [
       "    R_D_Spend  Administration  Marketing_Spend     Profit\n",
       "0   165349.20       136897.80        471784.10  192261.83\n",
       "1   162597.70       151377.59        443898.53  191792.06\n",
       "2   153441.51       101145.55        407934.54  191050.39\n",
       "3   144372.41       118671.85        383199.62  182901.99\n",
       "4   142107.34        91391.77        366168.42  166187.94\n",
       "5   131876.90        99814.71        362861.36  156991.12\n",
       "6   134615.46       147198.87        127716.82  156122.51\n",
       "7   130298.13       145530.06        323876.68  155752.60\n",
       "8   120542.52       148718.95        311613.29  152211.77\n",
       "9   123334.88       108679.17        304981.62  149759.96\n",
       "10  101913.08       110594.11        229160.95  146121.95\n",
       "11  100671.96        91790.61        249744.55  144259.40\n",
       "12   93863.75       127320.38        249839.44  141585.52\n",
       "13   91992.39       135495.07        252664.93  134307.35\n",
       "14  119943.24       156547.42        256512.92  132602.65\n",
       "15  114523.61       122616.84        261776.23  129917.04\n",
       "16   78013.11       121597.55        264346.06  126992.93\n",
       "17   94657.16       145077.58        282574.31  125370.37\n",
       "18   91749.16       114175.79        294919.57  124266.90\n",
       "19   86419.70       153514.11             0.00  122776.86\n",
       "20   76253.86       113867.30        298664.47  118474.03\n",
       "21   78389.47       153773.43        299737.29  111313.02\n",
       "22   73994.56       122782.75        303319.26  110352.25\n",
       "23   67532.53       105751.03        304768.73  108733.99\n",
       "24   77044.01        99281.34        140574.81  108552.04\n",
       "25   64664.71       139553.16        137962.62  107404.34\n",
       "26   75328.87       144135.98        134050.07  105733.54\n",
       "27   72107.60       127864.55        353183.81  105008.31\n",
       "28   66051.52       182645.56        118148.20  103282.38\n",
       "29   65605.48       153032.06        107138.38  101004.64\n",
       "30   61994.48       115641.28         91131.24   99937.59\n",
       "31   61136.38       152701.92         88218.23   97483.56\n",
       "32   63408.86       129219.61         46085.25   97427.84\n",
       "33   55493.95       103057.49        214634.81   96778.92\n",
       "34   46426.07       157693.92        210797.67   96712.80\n",
       "35   46014.02        85047.44        205517.64   96479.51\n",
       "36   28663.76       127056.21        201126.82   90708.19\n",
       "37   44069.95        51283.14        197029.42   89949.14\n",
       "38   20229.59        65947.93        185265.10   81229.06\n",
       "39   38558.51        82982.09        174999.30   81005.76\n",
       "40   28754.33       118546.05        172795.67   78239.91\n",
       "41   27892.92        84710.77        164470.71   77798.83\n",
       "42   23640.93        96189.63        148001.11   71498.49\n",
       "43   15505.73       127382.30         35534.17   69758.98\n",
       "44   22177.74       154806.14         28334.72   65200.33\n",
       "45    1000.23       124153.04          1903.93   64926.08\n",
       "46       0.00       135426.92             0.00   42559.73"
      ]
     },
     "execution_count": 52,
     "metadata": {},
     "output_type": "execute_result"
    }
   ],
   "source": [
    "startups_new.reset_index().drop(['index'],axis=1)"
   ]
  },
  {
   "cell_type": "code",
   "execution_count": 53,
   "id": "79f08733",
   "metadata": {
    "ExecuteTime": {
     "end_time": "2022-07-08T08:56:04.604145Z",
     "start_time": "2022-07-08T08:56:04.591195Z"
    }
   },
   "outputs": [
    {
     "data": {
      "text/plain": [
       "(47, 4)"
      ]
     },
     "execution_count": 53,
     "metadata": {},
     "output_type": "execute_result"
    }
   ],
   "source": [
    "startups_new.shape"
   ]
  },
  {
   "cell_type": "code",
   "execution_count": 54,
   "id": "a6429c60",
   "metadata": {
    "ExecuteTime": {
     "end_time": "2022-07-08T08:56:04.819489Z",
     "start_time": "2022-07-08T08:56:04.784981Z"
    }
   },
   "outputs": [],
   "source": [
    "model_final=smf.ols('Profit~R_D_Spend+Administration+Marketing_Spend',data=startups_new).fit()"
   ]
  },
  {
   "cell_type": "code",
   "execution_count": 55,
   "id": "8db8916e",
   "metadata": {
    "ExecuteTime": {
     "end_time": "2022-07-08T08:56:04.952276Z",
     "start_time": "2022-07-08T08:56:04.938156Z"
    }
   },
   "outputs": [
    {
     "name": "stdout",
     "output_type": "stream",
     "text": [
      "rsquared: 0.9614129113440602\n",
      "aic: 973.2489443962857\n"
     ]
    }
   ],
   "source": [
    "print('rsquared:',model_final.rsquared)\n",
    "print('aic:',model_final.aic)"
   ]
  },
  {
   "cell_type": "code",
   "execution_count": 56,
   "id": "0a13aec2",
   "metadata": {
    "ExecuteTime": {
     "end_time": "2022-07-08T08:56:05.302292Z",
     "start_time": "2022-07-08T08:56:05.280068Z"
    }
   },
   "outputs": [],
   "source": [
    "predicted=model_final.predict()"
   ]
  },
  {
   "cell_type": "code",
   "execution_count": 57,
   "id": "b03c891d",
   "metadata": {
    "ExecuteTime": {
     "end_time": "2022-07-08T08:56:05.469652Z",
     "start_time": "2022-07-08T08:56:05.449433Z"
    }
   },
   "outputs": [],
   "source": [
    "startups_new['predicted']=predicted"
   ]
  },
  {
   "cell_type": "code",
   "execution_count": 58,
   "id": "e6756599",
   "metadata": {
    "ExecuteTime": {
     "end_time": "2022-07-08T08:56:05.686808Z",
     "start_time": "2022-07-08T08:56:05.628328Z"
    }
   },
   "outputs": [
    {
     "data": {
      "text/html": [
       "<div>\n",
       "<style scoped>\n",
       "    .dataframe tbody tr th:only-of-type {\n",
       "        vertical-align: middle;\n",
       "    }\n",
       "\n",
       "    .dataframe tbody tr th {\n",
       "        vertical-align: top;\n",
       "    }\n",
       "\n",
       "    .dataframe thead th {\n",
       "        text-align: right;\n",
       "    }\n",
       "</style>\n",
       "<table border=\"1\" class=\"dataframe\">\n",
       "  <thead>\n",
       "    <tr style=\"text-align: right;\">\n",
       "      <th></th>\n",
       "      <th>R_D_Spend</th>\n",
       "      <th>Administration</th>\n",
       "      <th>Marketing_Spend</th>\n",
       "      <th>Profit</th>\n",
       "      <th>predicted</th>\n",
       "    </tr>\n",
       "  </thead>\n",
       "  <tbody>\n",
       "    <tr>\n",
       "      <th>0</th>\n",
       "      <td>165349.20</td>\n",
       "      <td>136897.80</td>\n",
       "      <td>471784.10</td>\n",
       "      <td>192261.83</td>\n",
       "      <td>189144.021141</td>\n",
       "    </tr>\n",
       "    <tr>\n",
       "      <th>1</th>\n",
       "      <td>162597.70</td>\n",
       "      <td>151377.59</td>\n",
       "      <td>443898.53</td>\n",
       "      <td>191792.06</td>\n",
       "      <td>185571.505316</td>\n",
       "    </tr>\n",
       "    <tr>\n",
       "      <th>2</th>\n",
       "      <td>153441.51</td>\n",
       "      <td>101145.55</td>\n",
       "      <td>407934.54</td>\n",
       "      <td>191050.39</td>\n",
       "      <td>180343.992254</td>\n",
       "    </tr>\n",
       "    <tr>\n",
       "      <th>3</th>\n",
       "      <td>144372.41</td>\n",
       "      <td>118671.85</td>\n",
       "      <td>383199.62</td>\n",
       "      <td>182901.99</td>\n",
       "      <td>171860.489927</td>\n",
       "    </tr>\n",
       "    <tr>\n",
       "      <th>4</th>\n",
       "      <td>142107.34</td>\n",
       "      <td>91391.77</td>\n",
       "      <td>366168.42</td>\n",
       "      <td>166187.94</td>\n",
       "      <td>171153.336127</td>\n",
       "    </tr>\n",
       "    <tr>\n",
       "      <th>5</th>\n",
       "      <td>131876.90</td>\n",
       "      <td>99814.71</td>\n",
       "      <td>362861.36</td>\n",
       "      <td>156991.12</td>\n",
       "      <td>162804.123770</td>\n",
       "    </tr>\n",
       "    <tr>\n",
       "      <th>6</th>\n",
       "      <td>134615.46</td>\n",
       "      <td>147198.87</td>\n",
       "      <td>127716.82</td>\n",
       "      <td>156122.51</td>\n",
       "      <td>156477.343357</td>\n",
       "    </tr>\n",
       "    <tr>\n",
       "      <th>7</th>\n",
       "      <td>130298.13</td>\n",
       "      <td>145530.06</td>\n",
       "      <td>323876.68</td>\n",
       "      <td>155752.60</td>\n",
       "      <td>158187.870039</td>\n",
       "    </tr>\n",
       "    <tr>\n",
       "      <th>8</th>\n",
       "      <td>120542.52</td>\n",
       "      <td>148718.95</td>\n",
       "      <td>311613.29</td>\n",
       "      <td>152211.77</td>\n",
       "      <td>150255.251593</td>\n",
       "    </tr>\n",
       "    <tr>\n",
       "      <th>9</th>\n",
       "      <td>123334.88</td>\n",
       "      <td>108679.17</td>\n",
       "      <td>304981.62</td>\n",
       "      <td>149759.96</td>\n",
       "      <td>154352.656745</td>\n",
       "    </tr>\n",
       "    <tr>\n",
       "      <th>10</th>\n",
       "      <td>101913.08</td>\n",
       "      <td>110594.11</td>\n",
       "      <td>229160.95</td>\n",
       "      <td>146121.95</td>\n",
       "      <td>135977.904080</td>\n",
       "    </tr>\n",
       "    <tr>\n",
       "      <th>11</th>\n",
       "      <td>100671.96</td>\n",
       "      <td>91790.61</td>\n",
       "      <td>249744.55</td>\n",
       "      <td>144259.40</td>\n",
       "      <td>136546.022058</td>\n",
       "    </tr>\n",
       "    <tr>\n",
       "      <th>12</th>\n",
       "      <td>93863.75</td>\n",
       "      <td>127320.38</td>\n",
       "      <td>249839.44</td>\n",
       "      <td>141585.52</td>\n",
       "      <td>129455.572750</td>\n",
       "    </tr>\n",
       "    <tr>\n",
       "      <th>13</th>\n",
       "      <td>91992.39</td>\n",
       "      <td>135495.07</td>\n",
       "      <td>252664.93</td>\n",
       "      <td>134307.35</td>\n",
       "      <td>127661.509729</td>\n",
       "    </tr>\n",
       "    <tr>\n",
       "      <th>14</th>\n",
       "      <td>119943.24</td>\n",
       "      <td>156547.42</td>\n",
       "      <td>256512.92</td>\n",
       "      <td>132602.65</td>\n",
       "      <td>147998.542616</td>\n",
       "    </tr>\n",
       "    <tr>\n",
       "      <th>15</th>\n",
       "      <td>114523.61</td>\n",
       "      <td>122616.84</td>\n",
       "      <td>261776.23</td>\n",
       "      <td>129917.04</td>\n",
       "      <td>145793.706944</td>\n",
       "    </tr>\n",
       "    <tr>\n",
       "      <th>16</th>\n",
       "      <td>78013.11</td>\n",
       "      <td>121597.55</td>\n",
       "      <td>264346.06</td>\n",
       "      <td>126992.93</td>\n",
       "      <td>118010.693099</td>\n",
       "    </tr>\n",
       "    <tr>\n",
       "      <th>17</th>\n",
       "      <td>94657.16</td>\n",
       "      <td>145077.58</td>\n",
       "      <td>282574.31</td>\n",
       "      <td>125370.37</td>\n",
       "      <td>129938.578129</td>\n",
       "    </tr>\n",
       "    <tr>\n",
       "      <th>18</th>\n",
       "      <td>91749.16</td>\n",
       "      <td>114175.79</td>\n",
       "      <td>294919.57</td>\n",
       "      <td>124266.90</td>\n",
       "      <td>129669.713023</td>\n",
       "    </tr>\n",
       "    <tr>\n",
       "      <th>19</th>\n",
       "      <td>86419.70</td>\n",
       "      <td>153514.11</td>\n",
       "      <td>0.00</td>\n",
       "      <td>122776.86</td>\n",
       "      <td>116105.658621</td>\n",
       "    </tr>\n",
       "    <tr>\n",
       "      <th>20</th>\n",
       "      <td>76253.86</td>\n",
       "      <td>113867.30</td>\n",
       "      <td>298664.47</td>\n",
       "      <td>118474.03</td>\n",
       "      <td>117938.402714</td>\n",
       "    </tr>\n",
       "    <tr>\n",
       "      <th>21</th>\n",
       "      <td>78389.47</td>\n",
       "      <td>153773.43</td>\n",
       "      <td>299737.29</td>\n",
       "      <td>111313.02</td>\n",
       "      <td>117474.656407</td>\n",
       "    </tr>\n",
       "    <tr>\n",
       "      <th>22</th>\n",
       "      <td>73994.56</td>\n",
       "      <td>122782.75</td>\n",
       "      <td>303319.26</td>\n",
       "      <td>110352.25</td>\n",
       "      <td>115854.360943</td>\n",
       "    </tr>\n",
       "    <tr>\n",
       "      <th>23</th>\n",
       "      <td>67532.53</td>\n",
       "      <td>105751.03</td>\n",
       "      <td>304768.73</td>\n",
       "      <td>108733.99</td>\n",
       "      <td>111858.337361</td>\n",
       "    </tr>\n",
       "    <tr>\n",
       "      <th>24</th>\n",
       "      <td>77044.01</td>\n",
       "      <td>99281.34</td>\n",
       "      <td>140574.81</td>\n",
       "      <td>108552.04</td>\n",
       "      <td>115352.079636</td>\n",
       "    </tr>\n",
       "    <tr>\n",
       "      <th>25</th>\n",
       "      <td>64664.71</td>\n",
       "      <td>139553.16</td>\n",
       "      <td>137962.62</td>\n",
       "      <td>107404.34</td>\n",
       "      <td>103683.989930</td>\n",
       "    </tr>\n",
       "    <tr>\n",
       "      <th>26</th>\n",
       "      <td>75328.87</td>\n",
       "      <td>144135.98</td>\n",
       "      <td>134050.07</td>\n",
       "      <td>105733.54</td>\n",
       "      <td>111491.723852</td>\n",
       "    </tr>\n",
       "    <tr>\n",
       "      <th>27</th>\n",
       "      <td>72107.60</td>\n",
       "      <td>127864.55</td>\n",
       "      <td>353183.81</td>\n",
       "      <td>105008.31</td>\n",
       "      <td>115392.974943</td>\n",
       "    </tr>\n",
       "    <tr>\n",
       "      <th>28</th>\n",
       "      <td>66051.52</td>\n",
       "      <td>182645.56</td>\n",
       "      <td>118148.20</td>\n",
       "      <td>103282.38</td>\n",
       "      <td>101954.513645</td>\n",
       "    </tr>\n",
       "    <tr>\n",
       "      <th>29</th>\n",
       "      <td>65605.48</td>\n",
       "      <td>153032.06</td>\n",
       "      <td>107138.38</td>\n",
       "      <td>101004.64</td>\n",
       "      <td>102912.662101</td>\n",
       "    </tr>\n",
       "    <tr>\n",
       "      <th>30</th>\n",
       "      <td>61994.48</td>\n",
       "      <td>115641.28</td>\n",
       "      <td>91131.24</td>\n",
       "      <td>99937.59</td>\n",
       "      <td>101740.441122</td>\n",
       "    </tr>\n",
       "    <tr>\n",
       "      <th>31</th>\n",
       "      <td>61136.38</td>\n",
       "      <td>152701.92</td>\n",
       "      <td>88218.23</td>\n",
       "      <td>97483.56</td>\n",
       "      <td>99040.236547</td>\n",
       "    </tr>\n",
       "    <tr>\n",
       "      <th>32</th>\n",
       "      <td>63408.86</td>\n",
       "      <td>129219.61</td>\n",
       "      <td>46085.25</td>\n",
       "      <td>97427.84</td>\n",
       "      <td>100968.977775</td>\n",
       "    </tr>\n",
       "    <tr>\n",
       "      <th>33</th>\n",
       "      <td>55493.95</td>\n",
       "      <td>103057.49</td>\n",
       "      <td>214634.81</td>\n",
       "      <td>96778.92</td>\n",
       "      <td>100540.396562</td>\n",
       "    </tr>\n",
       "    <tr>\n",
       "      <th>34</th>\n",
       "      <td>46426.07</td>\n",
       "      <td>157693.92</td>\n",
       "      <td>210797.67</td>\n",
       "      <td>96712.80</td>\n",
       "      <td>90608.105042</td>\n",
       "    </tr>\n",
       "    <tr>\n",
       "      <th>35</th>\n",
       "      <td>46014.02</td>\n",
       "      <td>85047.44</td>\n",
       "      <td>205517.64</td>\n",
       "      <td>96479.51</td>\n",
       "      <td>94025.014882</td>\n",
       "    </tr>\n",
       "    <tr>\n",
       "      <th>36</th>\n",
       "      <td>28663.76</td>\n",
       "      <td>127056.21</td>\n",
       "      <td>201126.82</td>\n",
       "      <td>90708.19</td>\n",
       "      <td>78421.052027</td>\n",
       "    </tr>\n",
       "    <tr>\n",
       "      <th>37</th>\n",
       "      <td>44069.95</td>\n",
       "      <td>51283.14</td>\n",
       "      <td>197029.42</td>\n",
       "      <td>89949.14</td>\n",
       "      <td>94122.405580</td>\n",
       "    </tr>\n",
       "    <tr>\n",
       "      <th>38</th>\n",
       "      <td>20229.59</td>\n",
       "      <td>65947.93</td>\n",
       "      <td>185265.10</td>\n",
       "      <td>81229.06</td>\n",
       "      <td>74828.161109</td>\n",
       "    </tr>\n",
       "    <tr>\n",
       "      <th>39</th>\n",
       "      <td>38558.51</td>\n",
       "      <td>82982.09</td>\n",
       "      <td>174999.30</td>\n",
       "      <td>81005.76</td>\n",
       "      <td>87671.677996</td>\n",
       "    </tr>\n",
       "    <tr>\n",
       "      <th>40</th>\n",
       "      <td>28754.33</td>\n",
       "      <td>118546.05</td>\n",
       "      <td>172795.67</td>\n",
       "      <td>78239.91</td>\n",
       "      <td>78232.195211</td>\n",
       "    </tr>\n",
       "    <tr>\n",
       "      <th>41</th>\n",
       "      <td>27892.92</td>\n",
       "      <td>84710.77</td>\n",
       "      <td>164470.71</td>\n",
       "      <td>77798.83</td>\n",
       "      <td>79164.837264</td>\n",
       "    </tr>\n",
       "    <tr>\n",
       "      <th>42</th>\n",
       "      <td>23640.93</td>\n",
       "      <td>96189.63</td>\n",
       "      <td>148001.11</td>\n",
       "      <td>71498.49</td>\n",
       "      <td>74891.654066</td>\n",
       "    </tr>\n",
       "    <tr>\n",
       "      <th>43</th>\n",
       "      <td>15505.73</td>\n",
       "      <td>127382.30</td>\n",
       "      <td>35534.17</td>\n",
       "      <td>69758.98</td>\n",
       "      <td>64193.943484</td>\n",
       "    </tr>\n",
       "    <tr>\n",
       "      <th>44</th>\n",
       "      <td>22177.74</td>\n",
       "      <td>154806.14</td>\n",
       "      <td>28334.72</td>\n",
       "      <td>65200.33</td>\n",
       "      <td>67653.399768</td>\n",
       "    </tr>\n",
       "    <tr>\n",
       "      <th>45</th>\n",
       "      <td>1000.23</td>\n",
       "      <td>124153.04</td>\n",
       "      <td>1903.93</td>\n",
       "      <td>64926.08</td>\n",
       "      <td>52436.773768</td>\n",
       "    </tr>\n",
       "    <tr>\n",
       "      <th>47</th>\n",
       "      <td>0.00</td>\n",
       "      <td>135426.92</td>\n",
       "      <td>0.00</td>\n",
       "      <td>42559.73</td>\n",
       "      <td>51024.934949</td>\n",
       "    </tr>\n",
       "  </tbody>\n",
       "</table>\n",
       "</div>"
      ],
      "text/plain": [
       "    R_D_Spend  Administration  Marketing_Spend     Profit      predicted\n",
       "0   165349.20       136897.80        471784.10  192261.83  189144.021141\n",
       "1   162597.70       151377.59        443898.53  191792.06  185571.505316\n",
       "2   153441.51       101145.55        407934.54  191050.39  180343.992254\n",
       "3   144372.41       118671.85        383199.62  182901.99  171860.489927\n",
       "4   142107.34        91391.77        366168.42  166187.94  171153.336127\n",
       "5   131876.90        99814.71        362861.36  156991.12  162804.123770\n",
       "6   134615.46       147198.87        127716.82  156122.51  156477.343357\n",
       "7   130298.13       145530.06        323876.68  155752.60  158187.870039\n",
       "8   120542.52       148718.95        311613.29  152211.77  150255.251593\n",
       "9   123334.88       108679.17        304981.62  149759.96  154352.656745\n",
       "10  101913.08       110594.11        229160.95  146121.95  135977.904080\n",
       "11  100671.96        91790.61        249744.55  144259.40  136546.022058\n",
       "12   93863.75       127320.38        249839.44  141585.52  129455.572750\n",
       "13   91992.39       135495.07        252664.93  134307.35  127661.509729\n",
       "14  119943.24       156547.42        256512.92  132602.65  147998.542616\n",
       "15  114523.61       122616.84        261776.23  129917.04  145793.706944\n",
       "16   78013.11       121597.55        264346.06  126992.93  118010.693099\n",
       "17   94657.16       145077.58        282574.31  125370.37  129938.578129\n",
       "18   91749.16       114175.79        294919.57  124266.90  129669.713023\n",
       "19   86419.70       153514.11             0.00  122776.86  116105.658621\n",
       "20   76253.86       113867.30        298664.47  118474.03  117938.402714\n",
       "21   78389.47       153773.43        299737.29  111313.02  117474.656407\n",
       "22   73994.56       122782.75        303319.26  110352.25  115854.360943\n",
       "23   67532.53       105751.03        304768.73  108733.99  111858.337361\n",
       "24   77044.01        99281.34        140574.81  108552.04  115352.079636\n",
       "25   64664.71       139553.16        137962.62  107404.34  103683.989930\n",
       "26   75328.87       144135.98        134050.07  105733.54  111491.723852\n",
       "27   72107.60       127864.55        353183.81  105008.31  115392.974943\n",
       "28   66051.52       182645.56        118148.20  103282.38  101954.513645\n",
       "29   65605.48       153032.06        107138.38  101004.64  102912.662101\n",
       "30   61994.48       115641.28         91131.24   99937.59  101740.441122\n",
       "31   61136.38       152701.92         88218.23   97483.56   99040.236547\n",
       "32   63408.86       129219.61         46085.25   97427.84  100968.977775\n",
       "33   55493.95       103057.49        214634.81   96778.92  100540.396562\n",
       "34   46426.07       157693.92        210797.67   96712.80   90608.105042\n",
       "35   46014.02        85047.44        205517.64   96479.51   94025.014882\n",
       "36   28663.76       127056.21        201126.82   90708.19   78421.052027\n",
       "37   44069.95        51283.14        197029.42   89949.14   94122.405580\n",
       "38   20229.59        65947.93        185265.10   81229.06   74828.161109\n",
       "39   38558.51        82982.09        174999.30   81005.76   87671.677996\n",
       "40   28754.33       118546.05        172795.67   78239.91   78232.195211\n",
       "41   27892.92        84710.77        164470.71   77798.83   79164.837264\n",
       "42   23640.93        96189.63        148001.11   71498.49   74891.654066\n",
       "43   15505.73       127382.30         35534.17   69758.98   64193.943484\n",
       "44   22177.74       154806.14         28334.72   65200.33   67653.399768\n",
       "45    1000.23       124153.04          1903.93   64926.08   52436.773768\n",
       "47       0.00       135426.92             0.00   42559.73   51024.934949"
      ]
     },
     "execution_count": 58,
     "metadata": {},
     "output_type": "execute_result"
    }
   ],
   "source": [
    "startups_new"
   ]
  }
 ],
 "metadata": {
  "kernelspec": {
   "display_name": "Python 3 (ipykernel)",
   "language": "python",
   "name": "python3"
  },
  "language_info": {
   "codemirror_mode": {
    "name": "ipython",
    "version": 3
   },
   "file_extension": ".py",
   "mimetype": "text/x-python",
   "name": "python",
   "nbconvert_exporter": "python",
   "pygments_lexer": "ipython3",
   "version": "3.9.7"
  },
  "toc": {
   "base_numbering": 1,
   "nav_menu": {},
   "number_sections": true,
   "sideBar": true,
   "skip_h1_title": false,
   "title_cell": "Table of Contents",
   "title_sidebar": "Contents",
   "toc_cell": false,
   "toc_position": {},
   "toc_section_display": true,
   "toc_window_display": false
  }
 },
 "nbformat": 4,
 "nbformat_minor": 5
}
