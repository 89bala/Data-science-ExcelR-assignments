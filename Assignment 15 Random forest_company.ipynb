{
 "cells": [
  {
   "cell_type": "code",
   "execution_count": 35,
   "id": "10a06f7b",
   "metadata": {
    "ExecuteTime": {
     "end_time": "2022-07-09T15:42:26.050411Z",
     "start_time": "2022-07-09T15:42:26.032376Z"
    }
   },
   "outputs": [],
   "source": [
    "import pandas as pd\n",
    "import seaborn as sns\n",
    "import matplotlib.pyplot as plt\n",
    "import warnings\n",
    "warnings.filterwarnings('ignore')"
   ]
  },
  {
   "cell_type": "code",
   "execution_count": 37,
   "id": "aea19406",
   "metadata": {
    "ExecuteTime": {
     "end_time": "2022-07-09T15:42:26.144147Z",
     "start_time": "2022-07-09T15:42:26.097283Z"
    }
   },
   "outputs": [
    {
     "data": {
      "text/html": [
       "<div>\n",
       "<style scoped>\n",
       "    .dataframe tbody tr th:only-of-type {\n",
       "        vertical-align: middle;\n",
       "    }\n",
       "\n",
       "    .dataframe tbody tr th {\n",
       "        vertical-align: top;\n",
       "    }\n",
       "\n",
       "    .dataframe thead th {\n",
       "        text-align: right;\n",
       "    }\n",
       "</style>\n",
       "<table border=\"1\" class=\"dataframe\">\n",
       "  <thead>\n",
       "    <tr style=\"text-align: right;\">\n",
       "      <th></th>\n",
       "      <th>Sales</th>\n",
       "      <th>CompPrice</th>\n",
       "      <th>Income</th>\n",
       "      <th>Advertising</th>\n",
       "      <th>Population</th>\n",
       "      <th>Price</th>\n",
       "      <th>ShelveLoc</th>\n",
       "      <th>Age</th>\n",
       "      <th>Education</th>\n",
       "      <th>Urban</th>\n",
       "      <th>US</th>\n",
       "    </tr>\n",
       "  </thead>\n",
       "  <tbody>\n",
       "    <tr>\n",
       "      <th>0</th>\n",
       "      <td>9.50</td>\n",
       "      <td>138</td>\n",
       "      <td>73</td>\n",
       "      <td>11</td>\n",
       "      <td>276</td>\n",
       "      <td>120</td>\n",
       "      <td>Bad</td>\n",
       "      <td>42</td>\n",
       "      <td>17</td>\n",
       "      <td>Yes</td>\n",
       "      <td>Yes</td>\n",
       "    </tr>\n",
       "    <tr>\n",
       "      <th>1</th>\n",
       "      <td>11.22</td>\n",
       "      <td>111</td>\n",
       "      <td>48</td>\n",
       "      <td>16</td>\n",
       "      <td>260</td>\n",
       "      <td>83</td>\n",
       "      <td>Good</td>\n",
       "      <td>65</td>\n",
       "      <td>10</td>\n",
       "      <td>Yes</td>\n",
       "      <td>Yes</td>\n",
       "    </tr>\n",
       "    <tr>\n",
       "      <th>2</th>\n",
       "      <td>10.06</td>\n",
       "      <td>113</td>\n",
       "      <td>35</td>\n",
       "      <td>10</td>\n",
       "      <td>269</td>\n",
       "      <td>80</td>\n",
       "      <td>Medium</td>\n",
       "      <td>59</td>\n",
       "      <td>12</td>\n",
       "      <td>Yes</td>\n",
       "      <td>Yes</td>\n",
       "    </tr>\n",
       "    <tr>\n",
       "      <th>3</th>\n",
       "      <td>7.40</td>\n",
       "      <td>117</td>\n",
       "      <td>100</td>\n",
       "      <td>4</td>\n",
       "      <td>466</td>\n",
       "      <td>97</td>\n",
       "      <td>Medium</td>\n",
       "      <td>55</td>\n",
       "      <td>14</td>\n",
       "      <td>Yes</td>\n",
       "      <td>Yes</td>\n",
       "    </tr>\n",
       "    <tr>\n",
       "      <th>4</th>\n",
       "      <td>4.15</td>\n",
       "      <td>141</td>\n",
       "      <td>64</td>\n",
       "      <td>3</td>\n",
       "      <td>340</td>\n",
       "      <td>128</td>\n",
       "      <td>Bad</td>\n",
       "      <td>38</td>\n",
       "      <td>13</td>\n",
       "      <td>Yes</td>\n",
       "      <td>No</td>\n",
       "    </tr>\n",
       "    <tr>\n",
       "      <th>...</th>\n",
       "      <td>...</td>\n",
       "      <td>...</td>\n",
       "      <td>...</td>\n",
       "      <td>...</td>\n",
       "      <td>...</td>\n",
       "      <td>...</td>\n",
       "      <td>...</td>\n",
       "      <td>...</td>\n",
       "      <td>...</td>\n",
       "      <td>...</td>\n",
       "      <td>...</td>\n",
       "    </tr>\n",
       "    <tr>\n",
       "      <th>395</th>\n",
       "      <td>12.57</td>\n",
       "      <td>138</td>\n",
       "      <td>108</td>\n",
       "      <td>17</td>\n",
       "      <td>203</td>\n",
       "      <td>128</td>\n",
       "      <td>Good</td>\n",
       "      <td>33</td>\n",
       "      <td>14</td>\n",
       "      <td>Yes</td>\n",
       "      <td>Yes</td>\n",
       "    </tr>\n",
       "    <tr>\n",
       "      <th>396</th>\n",
       "      <td>6.14</td>\n",
       "      <td>139</td>\n",
       "      <td>23</td>\n",
       "      <td>3</td>\n",
       "      <td>37</td>\n",
       "      <td>120</td>\n",
       "      <td>Medium</td>\n",
       "      <td>55</td>\n",
       "      <td>11</td>\n",
       "      <td>No</td>\n",
       "      <td>Yes</td>\n",
       "    </tr>\n",
       "    <tr>\n",
       "      <th>397</th>\n",
       "      <td>7.41</td>\n",
       "      <td>162</td>\n",
       "      <td>26</td>\n",
       "      <td>12</td>\n",
       "      <td>368</td>\n",
       "      <td>159</td>\n",
       "      <td>Medium</td>\n",
       "      <td>40</td>\n",
       "      <td>18</td>\n",
       "      <td>Yes</td>\n",
       "      <td>Yes</td>\n",
       "    </tr>\n",
       "    <tr>\n",
       "      <th>398</th>\n",
       "      <td>5.94</td>\n",
       "      <td>100</td>\n",
       "      <td>79</td>\n",
       "      <td>7</td>\n",
       "      <td>284</td>\n",
       "      <td>95</td>\n",
       "      <td>Bad</td>\n",
       "      <td>50</td>\n",
       "      <td>12</td>\n",
       "      <td>Yes</td>\n",
       "      <td>Yes</td>\n",
       "    </tr>\n",
       "    <tr>\n",
       "      <th>399</th>\n",
       "      <td>9.71</td>\n",
       "      <td>134</td>\n",
       "      <td>37</td>\n",
       "      <td>0</td>\n",
       "      <td>27</td>\n",
       "      <td>120</td>\n",
       "      <td>Good</td>\n",
       "      <td>49</td>\n",
       "      <td>16</td>\n",
       "      <td>Yes</td>\n",
       "      <td>Yes</td>\n",
       "    </tr>\n",
       "  </tbody>\n",
       "</table>\n",
       "<p>400 rows × 11 columns</p>\n",
       "</div>"
      ],
      "text/plain": [
       "     Sales  CompPrice  Income  Advertising  Population  Price ShelveLoc  Age  \\\n",
       "0     9.50        138      73           11         276    120       Bad   42   \n",
       "1    11.22        111      48           16         260     83      Good   65   \n",
       "2    10.06        113      35           10         269     80    Medium   59   \n",
       "3     7.40        117     100            4         466     97    Medium   55   \n",
       "4     4.15        141      64            3         340    128       Bad   38   \n",
       "..     ...        ...     ...          ...         ...    ...       ...  ...   \n",
       "395  12.57        138     108           17         203    128      Good   33   \n",
       "396   6.14        139      23            3          37    120    Medium   55   \n",
       "397   7.41        162      26           12         368    159    Medium   40   \n",
       "398   5.94        100      79            7         284     95       Bad   50   \n",
       "399   9.71        134      37            0          27    120      Good   49   \n",
       "\n",
       "     Education Urban   US  \n",
       "0           17   Yes  Yes  \n",
       "1           10   Yes  Yes  \n",
       "2           12   Yes  Yes  \n",
       "3           14   Yes  Yes  \n",
       "4           13   Yes   No  \n",
       "..         ...   ...  ...  \n",
       "395         14   Yes  Yes  \n",
       "396         11    No  Yes  \n",
       "397         18   Yes  Yes  \n",
       "398         12   Yes  Yes  \n",
       "399         16   Yes  Yes  \n",
       "\n",
       "[400 rows x 11 columns]"
      ]
     },
     "execution_count": 37,
     "metadata": {},
     "output_type": "execute_result"
    }
   ],
   "source": [
    "sales = pd.read_csv(\"Company_Data(1).csv\")\n",
    "sales"
   ]
  },
  {
   "cell_type": "code",
   "execution_count": 39,
   "id": "3ba9147e",
   "metadata": {
    "ExecuteTime": {
     "end_time": "2022-07-09T15:42:26.181906Z",
     "start_time": "2022-07-09T15:42:26.166288Z"
    }
   },
   "outputs": [
    {
     "data": {
      "text/plain": [
       "(400, 11)"
      ]
     },
     "execution_count": 39,
     "metadata": {},
     "output_type": "execute_result"
    }
   ],
   "source": [
    "sales.shape"
   ]
  },
  {
   "cell_type": "code",
   "execution_count": 41,
   "id": "8e727bf3",
   "metadata": {
    "ExecuteTime": {
     "end_time": "2022-07-09T15:42:26.562031Z",
     "start_time": "2022-07-09T15:42:26.544007Z"
    }
   },
   "outputs": [
    {
     "data": {
      "text/plain": [
       "Sales          float64\n",
       "CompPrice        int64\n",
       "Income           int64\n",
       "Advertising      int64\n",
       "Population       int64\n",
       "Price            int64\n",
       "ShelveLoc       object\n",
       "Age              int64\n",
       "Education        int64\n",
       "Urban           object\n",
       "US              object\n",
       "dtype: object"
      ]
     },
     "execution_count": 41,
     "metadata": {},
     "output_type": "execute_result"
    }
   ],
   "source": [
    "sales.dtypes"
   ]
  },
  {
   "cell_type": "code",
   "execution_count": 43,
   "id": "90e1b526",
   "metadata": {
    "ExecuteTime": {
     "end_time": "2022-07-09T15:42:26.624525Z",
     "start_time": "2022-07-09T15:42:26.593282Z"
    }
   },
   "outputs": [
    {
     "data": {
      "text/plain": [
       "Sales          0\n",
       "CompPrice      0\n",
       "Income         0\n",
       "Advertising    0\n",
       "Population     0\n",
       "Price          0\n",
       "ShelveLoc      0\n",
       "Age            0\n",
       "Education      0\n",
       "Urban          0\n",
       "US             0\n",
       "dtype: int64"
      ]
     },
     "execution_count": 43,
     "metadata": {},
     "output_type": "execute_result"
    }
   ],
   "source": [
    "sales.isna().sum()"
   ]
  },
  {
   "cell_type": "code",
   "execution_count": 45,
   "id": "3d7a3ca2",
   "metadata": {
    "ExecuteTime": {
     "end_time": "2022-07-09T15:42:26.693527Z",
     "start_time": "2022-07-09T15:42:26.677903Z"
    }
   },
   "outputs": [],
   "source": [
    "from sklearn.preprocessing import LabelEncoder\n",
    "le = LabelEncoder()"
   ]
  },
  {
   "cell_type": "code",
   "execution_count": 47,
   "id": "4824344d",
   "metadata": {
    "ExecuteTime": {
     "end_time": "2022-07-09T15:42:26.724767Z",
     "start_time": "2022-07-09T15:42:26.709148Z"
    }
   },
   "outputs": [],
   "source": [
    "sales['ShelveLoc']=le.fit_transform(sales['ShelveLoc'])\n",
    "sales['Urban']=le.fit_transform(sales['Urban'])\n",
    "sales['US']=le.fit_transform(sales['US'])"
   ]
  },
  {
   "cell_type": "code",
   "execution_count": 49,
   "id": "32fb2c94",
   "metadata": {
    "ExecuteTime": {
     "end_time": "2022-07-09T15:42:26.978641Z",
     "start_time": "2022-07-09T15:42:26.956501Z"
    }
   },
   "outputs": [],
   "source": [
    "sales.insert(11,'sales_category','')"
   ]
  },
  {
   "cell_type": "code",
   "execution_count": 51,
   "id": "57eb0dd0",
   "metadata": {
    "ExecuteTime": {
     "end_time": "2022-07-09T15:42:27.025505Z",
     "start_time": "2022-07-09T15:42:26.994261Z"
    }
   },
   "outputs": [
    {
     "data": {
      "text/html": [
       "<div>\n",
       "<style scoped>\n",
       "    .dataframe tbody tr th:only-of-type {\n",
       "        vertical-align: middle;\n",
       "    }\n",
       "\n",
       "    .dataframe tbody tr th {\n",
       "        vertical-align: top;\n",
       "    }\n",
       "\n",
       "    .dataframe thead th {\n",
       "        text-align: right;\n",
       "    }\n",
       "</style>\n",
       "<table border=\"1\" class=\"dataframe\">\n",
       "  <thead>\n",
       "    <tr style=\"text-align: right;\">\n",
       "      <th></th>\n",
       "      <th>Sales</th>\n",
       "      <th>CompPrice</th>\n",
       "      <th>Income</th>\n",
       "      <th>Advertising</th>\n",
       "      <th>Population</th>\n",
       "      <th>Price</th>\n",
       "      <th>ShelveLoc</th>\n",
       "      <th>Age</th>\n",
       "      <th>Education</th>\n",
       "      <th>Urban</th>\n",
       "      <th>US</th>\n",
       "      <th>sales_category</th>\n",
       "    </tr>\n",
       "  </thead>\n",
       "  <tbody>\n",
       "    <tr>\n",
       "      <th>0</th>\n",
       "      <td>9.50</td>\n",
       "      <td>138</td>\n",
       "      <td>73</td>\n",
       "      <td>11</td>\n",
       "      <td>276</td>\n",
       "      <td>120</td>\n",
       "      <td>0</td>\n",
       "      <td>42</td>\n",
       "      <td>17</td>\n",
       "      <td>1</td>\n",
       "      <td>1</td>\n",
       "      <td></td>\n",
       "    </tr>\n",
       "    <tr>\n",
       "      <th>1</th>\n",
       "      <td>11.22</td>\n",
       "      <td>111</td>\n",
       "      <td>48</td>\n",
       "      <td>16</td>\n",
       "      <td>260</td>\n",
       "      <td>83</td>\n",
       "      <td>1</td>\n",
       "      <td>65</td>\n",
       "      <td>10</td>\n",
       "      <td>1</td>\n",
       "      <td>1</td>\n",
       "      <td></td>\n",
       "    </tr>\n",
       "    <tr>\n",
       "      <th>2</th>\n",
       "      <td>10.06</td>\n",
       "      <td>113</td>\n",
       "      <td>35</td>\n",
       "      <td>10</td>\n",
       "      <td>269</td>\n",
       "      <td>80</td>\n",
       "      <td>2</td>\n",
       "      <td>59</td>\n",
       "      <td>12</td>\n",
       "      <td>1</td>\n",
       "      <td>1</td>\n",
       "      <td></td>\n",
       "    </tr>\n",
       "    <tr>\n",
       "      <th>3</th>\n",
       "      <td>7.40</td>\n",
       "      <td>117</td>\n",
       "      <td>100</td>\n",
       "      <td>4</td>\n",
       "      <td>466</td>\n",
       "      <td>97</td>\n",
       "      <td>2</td>\n",
       "      <td>55</td>\n",
       "      <td>14</td>\n",
       "      <td>1</td>\n",
       "      <td>1</td>\n",
       "      <td></td>\n",
       "    </tr>\n",
       "    <tr>\n",
       "      <th>4</th>\n",
       "      <td>4.15</td>\n",
       "      <td>141</td>\n",
       "      <td>64</td>\n",
       "      <td>3</td>\n",
       "      <td>340</td>\n",
       "      <td>128</td>\n",
       "      <td>0</td>\n",
       "      <td>38</td>\n",
       "      <td>13</td>\n",
       "      <td>1</td>\n",
       "      <td>0</td>\n",
       "      <td></td>\n",
       "    </tr>\n",
       "  </tbody>\n",
       "</table>\n",
       "</div>"
      ],
      "text/plain": [
       "   Sales  CompPrice  Income  Advertising  Population  Price  ShelveLoc  Age  \\\n",
       "0   9.50        138      73           11         276    120          0   42   \n",
       "1  11.22        111      48           16         260     83          1   65   \n",
       "2  10.06        113      35           10         269     80          2   59   \n",
       "3   7.40        117     100            4         466     97          2   55   \n",
       "4   4.15        141      64            3         340    128          0   38   \n",
       "\n",
       "   Education  Urban  US sales_category  \n",
       "0         17      1   1                 \n",
       "1         10      1   1                 \n",
       "2         12      1   1                 \n",
       "3         14      1   1                 \n",
       "4         13      1   0                 "
      ]
     },
     "execution_count": 51,
     "metadata": {},
     "output_type": "execute_result"
    }
   ],
   "source": [
    "sales.head()"
   ]
  },
  {
   "cell_type": "code",
   "execution_count": 53,
   "id": "860de69b",
   "metadata": {
    "ExecuteTime": {
     "end_time": "2022-07-09T15:42:28.543561Z",
     "start_time": "2022-07-09T15:42:28.370817Z"
    }
   },
   "outputs": [],
   "source": [
    "for i in range(0,len(sales['Sales']),1):\n",
    "    if sales['Sales'][i]>=11.0:\n",
    "        sales[\"sales_category\"][i]='high'\n",
    "    elif sales['Sales'][i]<=6.0:\n",
    "        sales['sales_category'][i]='Low'\n",
    "    else:\n",
    "        sales['sales_category'][i]='Medium'"
   ]
  },
  {
   "cell_type": "code",
   "execution_count": 55,
   "id": "f65aca65",
   "metadata": {
    "ExecuteTime": {
     "end_time": "2022-07-09T15:42:28.596945Z",
     "start_time": "2022-07-09T15:42:28.559199Z"
    }
   },
   "outputs": [
    {
     "data": {
      "text/html": [
       "<div>\n",
       "<style scoped>\n",
       "    .dataframe tbody tr th:only-of-type {\n",
       "        vertical-align: middle;\n",
       "    }\n",
       "\n",
       "    .dataframe tbody tr th {\n",
       "        vertical-align: top;\n",
       "    }\n",
       "\n",
       "    .dataframe thead th {\n",
       "        text-align: right;\n",
       "    }\n",
       "</style>\n",
       "<table border=\"1\" class=\"dataframe\">\n",
       "  <thead>\n",
       "    <tr style=\"text-align: right;\">\n",
       "      <th></th>\n",
       "      <th>Sales</th>\n",
       "      <th>CompPrice</th>\n",
       "      <th>Income</th>\n",
       "      <th>Advertising</th>\n",
       "      <th>Population</th>\n",
       "      <th>Price</th>\n",
       "      <th>ShelveLoc</th>\n",
       "      <th>Age</th>\n",
       "      <th>Education</th>\n",
       "      <th>Urban</th>\n",
       "      <th>US</th>\n",
       "      <th>sales_category</th>\n",
       "    </tr>\n",
       "  </thead>\n",
       "  <tbody>\n",
       "    <tr>\n",
       "      <th>0</th>\n",
       "      <td>9.50</td>\n",
       "      <td>138</td>\n",
       "      <td>73</td>\n",
       "      <td>11</td>\n",
       "      <td>276</td>\n",
       "      <td>120</td>\n",
       "      <td>0</td>\n",
       "      <td>42</td>\n",
       "      <td>17</td>\n",
       "      <td>1</td>\n",
       "      <td>1</td>\n",
       "      <td>Medium</td>\n",
       "    </tr>\n",
       "    <tr>\n",
       "      <th>1</th>\n",
       "      <td>11.22</td>\n",
       "      <td>111</td>\n",
       "      <td>48</td>\n",
       "      <td>16</td>\n",
       "      <td>260</td>\n",
       "      <td>83</td>\n",
       "      <td>1</td>\n",
       "      <td>65</td>\n",
       "      <td>10</td>\n",
       "      <td>1</td>\n",
       "      <td>1</td>\n",
       "      <td>high</td>\n",
       "    </tr>\n",
       "    <tr>\n",
       "      <th>2</th>\n",
       "      <td>10.06</td>\n",
       "      <td>113</td>\n",
       "      <td>35</td>\n",
       "      <td>10</td>\n",
       "      <td>269</td>\n",
       "      <td>80</td>\n",
       "      <td>2</td>\n",
       "      <td>59</td>\n",
       "      <td>12</td>\n",
       "      <td>1</td>\n",
       "      <td>1</td>\n",
       "      <td>Medium</td>\n",
       "    </tr>\n",
       "    <tr>\n",
       "      <th>3</th>\n",
       "      <td>7.40</td>\n",
       "      <td>117</td>\n",
       "      <td>100</td>\n",
       "      <td>4</td>\n",
       "      <td>466</td>\n",
       "      <td>97</td>\n",
       "      <td>2</td>\n",
       "      <td>55</td>\n",
       "      <td>14</td>\n",
       "      <td>1</td>\n",
       "      <td>1</td>\n",
       "      <td>Medium</td>\n",
       "    </tr>\n",
       "    <tr>\n",
       "      <th>4</th>\n",
       "      <td>4.15</td>\n",
       "      <td>141</td>\n",
       "      <td>64</td>\n",
       "      <td>3</td>\n",
       "      <td>340</td>\n",
       "      <td>128</td>\n",
       "      <td>0</td>\n",
       "      <td>38</td>\n",
       "      <td>13</td>\n",
       "      <td>1</td>\n",
       "      <td>0</td>\n",
       "      <td>Low</td>\n",
       "    </tr>\n",
       "  </tbody>\n",
       "</table>\n",
       "</div>"
      ],
      "text/plain": [
       "   Sales  CompPrice  Income  Advertising  Population  Price  ShelveLoc  Age  \\\n",
       "0   9.50        138      73           11         276    120          0   42   \n",
       "1  11.22        111      48           16         260     83          1   65   \n",
       "2  10.06        113      35           10         269     80          2   59   \n",
       "3   7.40        117     100            4         466     97          2   55   \n",
       "4   4.15        141      64            3         340    128          0   38   \n",
       "\n",
       "   Education  Urban  US sales_category  \n",
       "0         17      1   1         Medium  \n",
       "1         10      1   1           high  \n",
       "2         12      1   1         Medium  \n",
       "3         14      1   1         Medium  \n",
       "4         13      1   0            Low  "
      ]
     },
     "execution_count": 55,
     "metadata": {},
     "output_type": "execute_result"
    }
   ],
   "source": [
    "sales.head()"
   ]
  },
  {
   "cell_type": "code",
   "execution_count": 57,
   "id": "c7f4e2cf",
   "metadata": {
    "ExecuteTime": {
     "end_time": "2022-07-09T15:42:28.628192Z",
     "start_time": "2022-07-09T15:42:28.612568Z"
    }
   },
   "outputs": [],
   "source": [
    "x=sales.iloc[:,1:11]\n",
    "y=sales['sales_category']"
   ]
  },
  {
   "cell_type": "code",
   "execution_count": 59,
   "id": "96d86fd6",
   "metadata": {
    "ExecuteTime": {
     "end_time": "2022-07-09T15:42:28.659430Z",
     "start_time": "2022-07-09T15:42:28.643809Z"
    }
   },
   "outputs": [],
   "source": [
    "from sklearn.model_selection import train_test_split\n",
    "x_train,x_test,y_train,y_test = train_test_split(x,y,test_size=0.2)"
   ]
  },
  {
   "cell_type": "code",
   "execution_count": 61,
   "id": "cf4064a9",
   "metadata": {
    "ExecuteTime": {
     "end_time": "2022-07-09T15:42:28.697191Z",
     "start_time": "2022-07-09T15:42:28.675052Z"
    }
   },
   "outputs": [],
   "source": [
    "from sklearn.ensemble import RandomForestClassifier\n",
    "rf_model =RandomForestClassifier()"
   ]
  },
  {
   "cell_type": "code",
   "execution_count": 63,
   "id": "1fd9d683",
   "metadata": {
    "ExecuteTime": {
     "end_time": "2022-07-09T15:42:29.198428Z",
     "start_time": "2022-07-09T15:42:28.960172Z"
    }
   },
   "outputs": [
    {
     "data": {
      "text/plain": [
       "RandomForestClassifier()"
      ]
     },
     "execution_count": 63,
     "metadata": {},
     "output_type": "execute_result"
    }
   ],
   "source": [
    "rf_model.fit(x_train,y_train)"
   ]
  },
  {
   "cell_type": "code",
   "execution_count": 65,
   "id": "6a223da4",
   "metadata": {
    "ExecuteTime": {
     "end_time": "2022-07-09T15:42:29.245292Z",
     "start_time": "2022-07-09T15:42:29.214049Z"
    }
   },
   "outputs": [],
   "source": [
    "y_pred = rf_model.predict(x_test)"
   ]
  },
  {
   "cell_type": "code",
   "execution_count": 67,
   "id": "4376fab4",
   "metadata": {
    "ExecuteTime": {
     "end_time": "2022-07-09T15:42:29.276537Z",
     "start_time": "2022-07-09T15:42:29.260913Z"
    }
   },
   "outputs": [],
   "source": [
    "from sklearn.metrics import classification_report,accuracy_score,confusion_matrix"
   ]
  },
  {
   "cell_type": "code",
   "execution_count": 69,
   "id": "922ca6e7",
   "metadata": {
    "ExecuteTime": {
     "end_time": "2022-07-09T15:42:29.329916Z",
     "start_time": "2022-07-09T15:42:29.298674Z"
    }
   },
   "outputs": [
    {
     "name": "stdout",
     "output_type": "stream",
     "text": [
      "              precision    recall  f1-score   support\n",
      "\n",
      "         Low       0.84      0.53      0.65        30\n",
      "      Medium       0.52      0.88      0.65        34\n",
      "        high       0.67      0.12      0.21        16\n",
      "\n",
      "    accuracy                           0.60        80\n",
      "   macro avg       0.68      0.51      0.51        80\n",
      "weighted avg       0.67      0.60      0.56        80\n",
      "\n"
     ]
    }
   ],
   "source": [
    "print(classification_report(y_test,y_pred))"
   ]
  },
  {
   "cell_type": "code",
   "execution_count": 71,
   "id": "1b9bb840",
   "metadata": {
    "ExecuteTime": {
     "end_time": "2022-07-09T15:42:29.376785Z",
     "start_time": "2022-07-09T15:42:29.361161Z"
    }
   },
   "outputs": [
    {
     "name": "stdout",
     "output_type": "stream",
     "text": [
      "[[16 14  0]\n",
      " [ 3 30  1]\n",
      " [ 0 14  2]]\n"
     ]
    }
   ],
   "source": [
    "print(confusion_matrix(y_test,y_pred))"
   ]
  },
  {
   "cell_type": "code",
   "execution_count": 73,
   "id": "d4765830",
   "metadata": {
    "ExecuteTime": {
     "end_time": "2022-07-09T15:42:29.414550Z",
     "start_time": "2022-07-09T15:42:29.398928Z"
    }
   },
   "outputs": [
    {
     "name": "stdout",
     "output_type": "stream",
     "text": [
      "0.6\n"
     ]
    }
   ],
   "source": [
    "print(accuracy_score(y_test,y_pred))"
   ]
  },
  {
   "cell_type": "code",
   "execution_count": 75,
   "id": "99d582a5",
   "metadata": {
    "ExecuteTime": {
     "end_time": "2022-07-09T15:48:30.668650Z",
     "start_time": "2022-07-09T15:42:29.677533Z"
    }
   },
   "outputs": [
    {
     "name": "stdout",
     "output_type": "stream",
     "text": [
      "{'criterion': 'entropy', 'max_depth': 8, 'min_samples_leaf': 4, 'min_samples_split': 2, 'n_estimators': 150}\n",
      "0.721875\n"
     ]
    }
   ],
   "source": [
    "from sklearn.model_selection import GridSearchCV\n",
    "grid_model=GridSearchCV(estimator = rf_model,param_grid={'criterion':['entropy','gini'],\n",
    "                                                       'max_depth':[2,4,8,10],\n",
    "                                                        'min_samples_split':[2,4,6,8],\n",
    "                                                        'min_samples_leaf':[1,2,3,4],\n",
    "                                                        'n_estimators':[20,30,20,100,150]})\n",
    "grid_model.fit(x_train,y_train)\n",
    "print(grid_model.best_params_)\n",
    "print(grid_model.best_score_)"
   ]
  },
  {
   "cell_type": "code",
   "execution_count": 76,
   "id": "71a36bfe",
   "metadata": {
    "ExecuteTime": {
     "end_time": "2022-07-09T15:48:30.931665Z",
     "start_time": "2022-07-09T15:48:30.668650Z"
    }
   },
   "outputs": [
    {
     "name": "stdout",
     "output_type": "stream",
     "text": [
      "0.6125\n"
     ]
    }
   ],
   "source": [
    "rf_model_cv=RandomForestClassifier(max_depth=8,min_samples_leaf=1,min_samples_split= 8,criterion='entropy',n_estimators=100)\n",
    "rf_model_cv.fit(x_train,y_train)\n",
    "y_pred_cv=rf_model_cv.predict(x_test)\n",
    "print(accuracy_score(y_test,y_pred_cv))"
   ]
  },
  {
   "cell_type": "markdown",
   "id": "adb9af8c",
   "metadata": {},
   "source": [
    "## Feature importance plot"
   ]
  },
  {
   "cell_type": "code",
   "execution_count": 77,
   "id": "9163aac4",
   "metadata": {
    "ExecuteTime": {
     "end_time": "2022-07-09T15:48:30.947286Z",
     "start_time": "2022-07-09T15:48:30.931665Z"
    }
   },
   "outputs": [
    {
     "data": {
      "text/plain": [
       "10"
      ]
     },
     "execution_count": 77,
     "metadata": {},
     "output_type": "execute_result"
    }
   ],
   "source": [
    "feature_rf = x_train.columns\n",
    "len(feature_rf)"
   ]
  },
  {
   "cell_type": "code",
   "execution_count": 78,
   "id": "3afa6559",
   "metadata": {
    "ExecuteTime": {
     "end_time": "2022-07-09T15:48:30.985052Z",
     "start_time": "2022-07-09T15:48:30.947286Z"
    }
   },
   "outputs": [
    {
     "data": {
      "text/plain": [
       "10"
      ]
     },
     "execution_count": 78,
     "metadata": {},
     "output_type": "execute_result"
    }
   ],
   "source": [
    "imp_feature_rf = rf_model.feature_importances_\n",
    "len(imp_feature_rf)"
   ]
  },
  {
   "cell_type": "code",
   "execution_count": 79,
   "id": "e54ee548",
   "metadata": {
    "ExecuteTime": {
     "end_time": "2022-07-09T15:48:31.000664Z",
     "start_time": "2022-07-09T15:48:30.985052Z"
    }
   },
   "outputs": [],
   "source": [
    "rf_data = pd.DataFrame({'feature':feature_rf,'imp_feature':imp_feature_rf})\n",
    "rf_data = rf_data.sort_values('imp_feature')"
   ]
  },
  {
   "cell_type": "code",
   "execution_count": 80,
   "id": "75f6c2f3",
   "metadata": {
    "ExecuteTime": {
     "end_time": "2022-07-09T15:48:31.270161Z",
     "start_time": "2022-07-09T15:48:31.000664Z"
    }
   },
   "outputs": [
    {
     "data": {
      "image/png": "[encoded data removed]",
      "text/plain": [
       "<Figure size 864x432 with 1 Axes>"
      ]
     },
     "metadata": {
      "needs_background": "light"
     },
     "output_type": "display_data"
    }
   ],
   "source": [
    "plt.figure(figsize=(12,6))\n",
    "plt.title('Feature_importance')\n",
    "sns.barplot(x='imp_feature',y='feature',data=rf_data)\n",
    "plt.show()"
   ]
  },
  {
   "cell_type": "markdown",
   "id": "687c87d8",
   "metadata": {},
   "source": [
    "## Feature selection"
   ]
  },
  {
   "cell_type": "code",
   "execution_count": 81,
   "id": "96e15584",
   "metadata": {
    "ExecuteTime": {
     "end_time": "2022-07-09T15:48:31.285784Z",
     "start_time": "2022-07-09T15:48:31.270161Z"
    }
   },
   "outputs": [],
   "source": [
    "from sklearn.feature_selection import SelectFromModel"
   ]
  },
  {
   "cell_type": "code",
   "execution_count": 82,
   "id": "36551045",
   "metadata": {
    "ExecuteTime": {
     "end_time": "2022-07-09T15:48:31.501939Z",
     "start_time": "2022-07-09T15:48:31.285784Z"
    }
   },
   "outputs": [
    {
     "data": {
      "text/plain": [
       "SelectFromModel(estimator=RandomForestClassifier())"
      ]
     },
     "execution_count": 82,
     "metadata": {},
     "output_type": "execute_result"
    }
   ],
   "source": [
    "slctr = SelectFromModel(estimator=RandomForestClassifier())\n",
    "slctr.fit(x_train,y_train)"
   ]
  },
  {
   "cell_type": "code",
   "execution_count": 83,
   "id": "63e6af05",
   "metadata": {
    "ExecuteTime": {
     "end_time": "2022-07-09T15:48:31.548800Z",
     "start_time": "2022-07-09T15:48:31.501939Z"
    }
   },
   "outputs": [
    {
     "data": {
      "text/plain": [
       "array([ True,  True, False,  True,  True,  True,  True, False, False,\n",
       "       False])"
      ]
     },
     "execution_count": 83,
     "metadata": {},
     "output_type": "execute_result"
    }
   ],
   "source": [
    "slctr.get_support()"
   ]
  },
  {
   "cell_type": "code",
   "execution_count": 84,
   "id": "c7cb0cb6",
   "metadata": {
    "ExecuteTime": {
     "end_time": "2022-07-09T15:48:31.570963Z",
     "start_time": "2022-07-09T15:48:31.555335Z"
    }
   },
   "outputs": [
    {
     "data": {
      "text/plain": [
       "10"
      ]
     },
     "execution_count": 84,
     "metadata": {},
     "output_type": "execute_result"
    }
   ],
   "source": [
    "len(x_train.columns)"
   ]
  },
  {
   "cell_type": "code",
   "execution_count": 85,
   "id": "debec7f6",
   "metadata": {
    "ExecuteTime": {
     "end_time": "2022-07-09T15:48:31.633449Z",
     "start_time": "2022-07-09T15:48:31.570963Z"
    }
   },
   "outputs": [],
   "source": [
    "feature = x_train.columns[slctr.get_support()]"
   ]
  },
  {
   "cell_type": "code",
   "execution_count": 86,
   "id": "0edb7b74",
   "metadata": {
    "ExecuteTime": {
     "end_time": "2022-07-09T15:48:31.649069Z",
     "start_time": "2022-07-09T15:48:31.633449Z"
    }
   },
   "outputs": [
    {
     "data": {
      "text/plain": [
       "6"
      ]
     },
     "execution_count": 86,
     "metadata": {},
     "output_type": "execute_result"
    }
   ],
   "source": [
    "len(feature)"
   ]
  },
  {
   "cell_type": "code",
   "execution_count": 87,
   "id": "5d9e1b3c",
   "metadata": {
    "ExecuteTime": {
     "end_time": "2022-07-09T15:48:31.949831Z",
     "start_time": "2022-07-09T15:48:31.649069Z"
    }
   },
   "outputs": [],
   "source": [
    "x_train_rf = slctr.transform(x_train)\n",
    "x_test_rf = slctr.transform(x_test)\n",
    "rf_model_imp=RandomForestClassifier().fit(x_train_rf,y_train)\n",
    "y_pred_imp=rf_model_imp.predict(x_test_rf)"
   ]
  },
  {
   "cell_type": "code",
   "execution_count": 88,
   "id": "8ca43e1f",
   "metadata": {
    "ExecuteTime": {
     "end_time": "2022-07-09T15:48:31.971973Z",
     "start_time": "2022-07-09T15:48:31.949831Z"
    }
   },
   "outputs": [
    {
     "name": "stdout",
     "output_type": "stream",
     "text": [
      "accuracy_score: 0.5875\n",
      "----------------------------------\n",
      "classification_report:               precision    recall  f1-score   support\n",
      "\n",
      "         Low       0.83      0.50      0.62        30\n",
      "      Medium       0.51      0.88      0.65        34\n",
      "        high       0.67      0.12      0.21        16\n",
      "\n",
      "    accuracy                           0.59        80\n",
      "   macro avg       0.67      0.50      0.49        80\n",
      "weighted avg       0.66      0.59      0.55        80\n",
      "\n",
      "----------------------------------\n",
      "confusion_matrix: [[15 15  0]\n",
      " [ 3 30  1]\n",
      " [ 0 14  2]]\n"
     ]
    }
   ],
   "source": [
    "print('accuracy_score:',accuracy_score(y_test,y_pred_imp))\n",
    "print('----------------------------------')\n",
    "print('classification_report:',classification_report(y_test,y_pred_imp))\n",
    "print('----------------------------------')\n",
    "print('confusion_matrix:',confusion_matrix(y_test,y_pred_imp))"
   ]
  },
  {
   "cell_type": "code",
   "execution_count": 89,
   "id": "27bf3a63",
   "metadata": {
    "ExecuteTime": {
     "end_time": "2022-07-09T15:48:32.018845Z",
     "start_time": "2022-07-09T15:48:31.971973Z"
    }
   },
   "outputs": [
    {
     "data": {
      "text/plain": [
       "array([0.16110915, 0.14424389, 0.15138332, 0.2505008 , 0.13046409,\n",
       "       0.16229875])"
      ]
     },
     "execution_count": 89,
     "metadata": {},
     "output_type": "execute_result"
    }
   ],
   "source": [
    "imp_feature = rf_model_imp.feature_importances_\n",
    "imp_feature"
   ]
  },
  {
   "cell_type": "code",
   "execution_count": 90,
   "id": "f43378e6",
   "metadata": {
    "ExecuteTime": {
     "end_time": "2022-07-09T15:48:32.034460Z",
     "start_time": "2022-07-09T15:48:32.018845Z"
    }
   },
   "outputs": [],
   "source": [
    "data_imp=pd.DataFrame({'feature':feature,'imp_feature':imp_feature})\n",
    "data_imp=data_imp.sort_values('imp_feature')"
   ]
  },
  {
   "cell_type": "code",
   "execution_count": 91,
   "id": "f48d9b47",
   "metadata": {
    "ExecuteTime": {
     "end_time": "2022-07-09T15:48:32.250581Z",
     "start_time": "2022-07-09T15:48:32.034460Z"
    },
    "scrolled": true
   },
   "outputs": [
    {
     "data": {
      "image/png": "[encoded data removed]",
      "text/plain": [
       "<Figure size 720x432 with 1 Axes>"
      ]
     },
     "metadata": {
      "needs_background": "light"
     },
     "output_type": "display_data"
    }
   ],
   "source": [
    "import matplotlib.pyplot as plt\n",
    "import seaborn as sns\n",
    "plt.figure(figsize=(10,6))\n",
    "plt.title('Feature Importance')\n",
    "sns.barplot(y='feature', x='imp_feature', data=data_imp)\n",
    "plt.show()"
   ]
  },
  {
   "cell_type": "markdown",
   "id": "e29b8623",
   "metadata": {},
   "source": [
    "## Recursive feature elimination"
   ]
  },
  {
   "cell_type": "code",
   "execution_count": 92,
   "id": "d0662d02",
   "metadata": {
    "ExecuteTime": {
     "end_time": "2022-07-09T15:48:32.272717Z",
     "start_time": "2022-07-09T15:48:32.250581Z"
    }
   },
   "outputs": [],
   "source": [
    "from sklearn.feature_selection import RFE"
   ]
  },
  {
   "cell_type": "code",
   "execution_count": 93,
   "id": "929fc800",
   "metadata": {
    "ExecuteTime": {
     "end_time": "2022-07-09T15:48:33.484900Z",
     "start_time": "2022-07-09T15:48:32.272717Z"
    }
   },
   "outputs": [
    {
     "data": {
      "text/plain": [
       "RFE(estimator=RandomForestClassifier())"
      ]
     },
     "execution_count": 93,
     "metadata": {},
     "output_type": "execute_result"
    }
   ],
   "source": [
    "selector_rfe=RFE(RandomForestClassifier())\n",
    "selector_rfe.fit(x_train,y_train)"
   ]
  },
  {
   "cell_type": "code",
   "execution_count": 94,
   "id": "6c091898",
   "metadata": {
    "ExecuteTime": {
     "end_time": "2022-07-09T15:48:33.500510Z",
     "start_time": "2022-07-09T15:48:33.484900Z"
    }
   },
   "outputs": [
    {
     "data": {
      "text/plain": [
       "array([ True,  True, False,  True,  True, False,  True, False, False,\n",
       "       False])"
      ]
     },
     "execution_count": 94,
     "metadata": {},
     "output_type": "execute_result"
    }
   ],
   "source": [
    "selector_rfe.get_support()"
   ]
  },
  {
   "cell_type": "code",
   "execution_count": 95,
   "id": "c7cab5ac",
   "metadata": {
    "ExecuteTime": {
     "end_time": "2022-07-09T15:48:33.516125Z",
     "start_time": "2022-07-09T15:48:33.500510Z"
    }
   },
   "outputs": [
    {
     "data": {
      "text/plain": [
       "Index(['CompPrice', 'Income', 'Population', 'Price', 'Age'], dtype='object')"
      ]
     },
     "execution_count": 95,
     "metadata": {},
     "output_type": "execute_result"
    }
   ],
   "source": [
    "feature_rfe=x_train.columns[selector_rfe.get_support()]\n",
    "feature_rfe"
   ]
  },
  {
   "cell_type": "code",
   "execution_count": 96,
   "id": "61d36dc7",
   "metadata": {
    "ExecuteTime": {
     "end_time": "2022-07-09T15:48:33.531747Z",
     "start_time": "2022-07-09T15:48:33.516125Z"
    }
   },
   "outputs": [
    {
     "data": {
      "text/plain": [
       "5"
      ]
     },
     "execution_count": 96,
     "metadata": {},
     "output_type": "execute_result"
    }
   ],
   "source": [
    "len(x_train.columns[selector_rfe.get_support()])"
   ]
  },
  {
   "cell_type": "code",
   "execution_count": 97,
   "id": "e62b9e9b",
   "metadata": {
    "ExecuteTime": {
     "end_time": "2022-07-09T15:48:33.547367Z",
     "start_time": "2022-07-09T15:48:33.531747Z"
    }
   },
   "outputs": [],
   "source": [
    "x_train_rfe=selector_rfe.transform(x_train)\n",
    "x_test_rfe=selector_rfe.transform(x_test)"
   ]
  },
  {
   "cell_type": "code",
   "execution_count": 98,
   "id": "b4526509",
   "metadata": {
    "ExecuteTime": {
     "end_time": "2022-07-09T15:48:33.832487Z",
     "start_time": "2022-07-09T15:48:33.547367Z"
    }
   },
   "outputs": [],
   "source": [
    "rf_model_rfe=RandomForestClassifier().fit(x_train_rfe,y_train)\n",
    "y_pred_rfe=rf_model_rfe.predict(x_test_rfe)"
   ]
  },
  {
   "cell_type": "code",
   "execution_count": 99,
   "id": "2219e83e",
   "metadata": {
    "ExecuteTime": {
     "end_time": "2022-07-09T15:48:33.848103Z",
     "start_time": "2022-07-09T15:48:33.832487Z"
    }
   },
   "outputs": [
    {
     "name": "stdout",
     "output_type": "stream",
     "text": [
      "[[10 20  0]\n",
      " [ 7 27  0]\n",
      " [ 0 15  1]]\n"
     ]
    }
   ],
   "source": [
    "print(confusion_matrix(y_test,y_pred_rfe))"
   ]
  },
  {
   "cell_type": "code",
   "execution_count": 100,
   "id": "65c40035",
   "metadata": {
    "ExecuteTime": {
     "end_time": "2022-07-09T15:48:33.870240Z",
     "start_time": "2022-07-09T15:48:33.848103Z"
    }
   },
   "outputs": [
    {
     "name": "stdout",
     "output_type": "stream",
     "text": [
      "              precision    recall  f1-score   support\n",
      "\n",
      "         Low       0.59      0.33      0.43        30\n",
      "      Medium       0.44      0.79      0.56        34\n",
      "        high       1.00      0.06      0.12        16\n",
      "\n",
      "    accuracy                           0.48        80\n",
      "   macro avg       0.67      0.40      0.37        80\n",
      "weighted avg       0.61      0.47      0.42        80\n",
      "\n"
     ]
    }
   ],
   "source": [
    "print(classification_report(y_test,y_pred_rfe))"
   ]
  },
  {
   "cell_type": "code",
   "execution_count": 101,
   "id": "898d97c1",
   "metadata": {
    "ExecuteTime": {
     "end_time": "2022-07-09T15:48:33.885862Z",
     "start_time": "2022-07-09T15:48:33.870240Z"
    }
   },
   "outputs": [
    {
     "name": "stdout",
     "output_type": "stream",
     "text": [
      "0.475\n"
     ]
    }
   ],
   "source": [
    "print(accuracy_score(y_test,y_pred_rfe))"
   ]
  },
  {
   "cell_type": "code",
   "execution_count": 102,
   "id": "ea87ea17",
   "metadata": {
    "ExecuteTime": {
     "end_time": "2022-07-09T15:48:33.917106Z",
     "start_time": "2022-07-09T15:48:33.885862Z"
    }
   },
   "outputs": [],
   "source": [
    "imp_feature_rfe=rf_model_rfe.feature_importances_"
   ]
  },
  {
   "cell_type": "code",
   "execution_count": 103,
   "id": "f95a47b4",
   "metadata": {
    "ExecuteTime": {
     "end_time": "2022-07-09T15:48:33.932729Z",
     "start_time": "2022-07-09T15:48:33.917106Z"
    }
   },
   "outputs": [],
   "source": [
    "data_rfe=pd.DataFrame({'feature':feature_rfe,'imp_feature':imp_feature_rfe})\n",
    "data_rfe=data_rfe.sort_values('imp_feature')"
   ]
  },
  {
   "cell_type": "code",
   "execution_count": 104,
   "id": "3fd11d8e",
   "metadata": {
    "ExecuteTime": {
     "end_time": "2022-07-09T15:48:34.170992Z",
     "start_time": "2022-07-09T15:48:33.932729Z"
    }
   },
   "outputs": [
    {
     "data": {
      "image/png": "[encoded data removed]",
      "text/plain": [
       "<Figure size 720x432 with 1 Axes>"
      ]
     },
     "metadata": {
      "needs_background": "light"
     },
     "output_type": "display_data"
    }
   ],
   "source": [
    "plt.figure(figsize=(10,6))\n",
    "plt.title('Feature Importance')\n",
    "sns.barplot(y='feature', x='imp_feature', data=data_rfe)\n",
    "plt.show()"
   ]
  },
  {
   "cell_type": "code",
   "execution_count": null,
   "id": "96e55d76",
   "metadata": {},
   "outputs": [],
   "source": []
  }
 ],
 "metadata": {
  "kernelspec": {
   "display_name": "Python 3 (ipykernel)",
   "language": "python",
   "name": "python3"
  },
  "language_info": {
   "codemirror_mode": {
    "name": "ipython",
    "version": 3
   },
   "file_extension": ".py",
   "mimetype": "text/x-python",
   "name": "python",
   "nbconvert_exporter": "python",
   "pygments_lexer": "ipython3",
   "version": "3.9.7"
  },
  "toc": {
   "base_numbering": 1,
   "nav_menu": {},
   "number_sections": true,
   "sideBar": true,
   "skip_h1_title": false,
   "title_cell": "Table of Contents",
   "title_sidebar": "Contents",
   "toc_cell": false,
   "toc_position": {},
   "toc_section_display": true,
   "toc_window_display": false
  }
 },
 "nbformat": 4,
 "nbformat_minor": 5
}
